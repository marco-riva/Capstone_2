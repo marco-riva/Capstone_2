{
 "cells": [
  {
   "cell_type": "code",
   "execution_count": 1,
   "id": "b257b8ec",
   "metadata": {},
   "outputs": [],
   "source": [
    "import pandas as pd\n",
    "import numpy as np\n",
    "from sklearn.model_selection import train_test_split\n",
    "import pickle"
   ]
  },
  {
   "cell_type": "code",
   "execution_count": 2,
   "id": "1bc562fd",
   "metadata": {},
   "outputs": [],
   "source": [
    "df = pd.read_csv('../data/interim/train_clean.csv')"
   ]
  },
  {
   "cell_type": "code",
   "execution_count": 3,
   "id": "000cea4d",
   "metadata": {},
   "outputs": [
    {
     "data": {
      "text/html": [
       "<div>\n",
       "<style scoped>\n",
       "    .dataframe tbody tr th:only-of-type {\n",
       "        vertical-align: middle;\n",
       "    }\n",
       "\n",
       "    .dataframe tbody tr th {\n",
       "        vertical-align: top;\n",
       "    }\n",
       "\n",
       "    .dataframe thead th {\n",
       "        text-align: right;\n",
       "    }\n",
       "</style>\n",
       "<table border=\"1\" class=\"dataframe\">\n",
       "  <thead>\n",
       "    <tr style=\"text-align: right;\">\n",
       "      <th></th>\n",
       "      <th>ProductName</th>\n",
       "      <th>RtpStateBitfield</th>\n",
       "      <th>IsSxsPassiveMode</th>\n",
       "      <th>AVProductsInstalled</th>\n",
       "      <th>AVProductsEnabled</th>\n",
       "      <th>HasTpm</th>\n",
       "      <th>Platform</th>\n",
       "      <th>Processor</th>\n",
       "      <th>OsVer</th>\n",
       "      <th>OsSuite</th>\n",
       "      <th>...</th>\n",
       "      <th>AppVersion_encoded</th>\n",
       "      <th>Census_OSUILocaleIdentifier_encoded</th>\n",
       "      <th>EngineVersion_encoded</th>\n",
       "      <th>Census_OSInstallLanguageIdentifier_encoded</th>\n",
       "      <th>OrganizationIdentifier_encoded</th>\n",
       "      <th>Census_OSBranch_release_extracted_encoded</th>\n",
       "      <th>OsBuild_encoded</th>\n",
       "      <th>Census_ChassisTypeName_encoded</th>\n",
       "      <th>Census_OSEdition_encoded</th>\n",
       "      <th>Census_OSSkuName_encoded</th>\n",
       "    </tr>\n",
       "  </thead>\n",
       "  <tbody>\n",
       "    <tr>\n",
       "      <th>0</th>\n",
       "      <td>win8defender</td>\n",
       "      <td>7.0</td>\n",
       "      <td>0</td>\n",
       "      <td>1.0</td>\n",
       "      <td>1.0</td>\n",
       "      <td>1</td>\n",
       "      <td>windows10</td>\n",
       "      <td>x64</td>\n",
       "      <td>10.0.0.0</td>\n",
       "      <td>256</td>\n",
       "      <td>...</td>\n",
       "      <td>0</td>\n",
       "      <td>0</td>\n",
       "      <td>0</td>\n",
       "      <td>0</td>\n",
       "      <td>1</td>\n",
       "      <td>0</td>\n",
       "      <td>0</td>\n",
       "      <td>2</td>\n",
       "      <td>1</td>\n",
       "      <td>1</td>\n",
       "    </tr>\n",
       "    <tr>\n",
       "      <th>1</th>\n",
       "      <td>win8defender</td>\n",
       "      <td>7.0</td>\n",
       "      <td>0</td>\n",
       "      <td>2.0</td>\n",
       "      <td>1.0</td>\n",
       "      <td>1</td>\n",
       "      <td>windows10</td>\n",
       "      <td>x64</td>\n",
       "      <td>10.0.0.0</td>\n",
       "      <td>768</td>\n",
       "      <td>...</td>\n",
       "      <td>1</td>\n",
       "      <td>0</td>\n",
       "      <td>1</td>\n",
       "      <td>0</td>\n",
       "      <td>1</td>\n",
       "      <td>0</td>\n",
       "      <td>0</td>\n",
       "      <td>1</td>\n",
       "      <td>0</td>\n",
       "      <td>0</td>\n",
       "    </tr>\n",
       "    <tr>\n",
       "      <th>2</th>\n",
       "      <td>win8defender</td>\n",
       "      <td>7.0</td>\n",
       "      <td>0</td>\n",
       "      <td>2.0</td>\n",
       "      <td>1.0</td>\n",
       "      <td>1</td>\n",
       "      <td>windows10</td>\n",
       "      <td>x64</td>\n",
       "      <td>10.0.0.0</td>\n",
       "      <td>256</td>\n",
       "      <td>...</td>\n",
       "      <td>0</td>\n",
       "      <td>4</td>\n",
       "      <td>0</td>\n",
       "      <td>4</td>\n",
       "      <td>1</td>\n",
       "      <td>0</td>\n",
       "      <td>0</td>\n",
       "      <td>1</td>\n",
       "      <td>1</td>\n",
       "      <td>1</td>\n",
       "    </tr>\n",
       "    <tr>\n",
       "      <th>3</th>\n",
       "      <td>win8defender</td>\n",
       "      <td>7.0</td>\n",
       "      <td>0</td>\n",
       "      <td>2.0</td>\n",
       "      <td>1.0</td>\n",
       "      <td>1</td>\n",
       "      <td>windows10</td>\n",
       "      <td>x64</td>\n",
       "      <td>10.0.0.0</td>\n",
       "      <td>768</td>\n",
       "      <td>...</td>\n",
       "      <td>11</td>\n",
       "      <td>1</td>\n",
       "      <td>1</td>\n",
       "      <td>20</td>\n",
       "      <td>0</td>\n",
       "      <td>8</td>\n",
       "      <td>4</td>\n",
       "      <td>0</td>\n",
       "      <td>2</td>\n",
       "      <td>2</td>\n",
       "    </tr>\n",
       "    <tr>\n",
       "      <th>4</th>\n",
       "      <td>win8defender</td>\n",
       "      <td>7.0</td>\n",
       "      <td>0</td>\n",
       "      <td>1.0</td>\n",
       "      <td>1.0</td>\n",
       "      <td>1</td>\n",
       "      <td>windows10</td>\n",
       "      <td>x64</td>\n",
       "      <td>10.0.0.0</td>\n",
       "      <td>256</td>\n",
       "      <td>...</td>\n",
       "      <td>0</td>\n",
       "      <td>19</td>\n",
       "      <td>1</td>\n",
       "      <td>19</td>\n",
       "      <td>0</td>\n",
       "      <td>0</td>\n",
       "      <td>0</td>\n",
       "      <td>0</td>\n",
       "      <td>7</td>\n",
       "      <td>6</td>\n",
       "    </tr>\n",
       "  </tbody>\n",
       "</table>\n",
       "<p>5 rows × 66 columns</p>\n",
       "</div>"
      ],
      "text/plain": [
       "    ProductName  RtpStateBitfield  IsSxsPassiveMode  AVProductsInstalled  \\\n",
       "0  win8defender               7.0                 0                  1.0   \n",
       "1  win8defender               7.0                 0                  2.0   \n",
       "2  win8defender               7.0                 0                  2.0   \n",
       "3  win8defender               7.0                 0                  2.0   \n",
       "4  win8defender               7.0                 0                  1.0   \n",
       "\n",
       "   AVProductsEnabled  HasTpm   Platform Processor     OsVer  OsSuite  ...  \\\n",
       "0                1.0       1  windows10       x64  10.0.0.0      256  ...   \n",
       "1                1.0       1  windows10       x64  10.0.0.0      768  ...   \n",
       "2                1.0       1  windows10       x64  10.0.0.0      256  ...   \n",
       "3                1.0       1  windows10       x64  10.0.0.0      768  ...   \n",
       "4                1.0       1  windows10       x64  10.0.0.0      256  ...   \n",
       "\n",
       "  AppVersion_encoded Census_OSUILocaleIdentifier_encoded  \\\n",
       "0                  0                                   0   \n",
       "1                  1                                   0   \n",
       "2                  0                                   4   \n",
       "3                 11                                   1   \n",
       "4                  0                                  19   \n",
       "\n",
       "   EngineVersion_encoded Census_OSInstallLanguageIdentifier_encoded  \\\n",
       "0                      0                                          0   \n",
       "1                      1                                          0   \n",
       "2                      0                                          4   \n",
       "3                      1                                         20   \n",
       "4                      1                                         19   \n",
       "\n",
       "   OrganizationIdentifier_encoded Census_OSBranch_release_extracted_encoded  \\\n",
       "0                               1                                         0   \n",
       "1                               1                                         0   \n",
       "2                               1                                         0   \n",
       "3                               0                                         8   \n",
       "4                               0                                         0   \n",
       "\n",
       "  OsBuild_encoded  Census_ChassisTypeName_encoded  Census_OSEdition_encoded  \\\n",
       "0               0                               2                         1   \n",
       "1               0                               1                         0   \n",
       "2               0                               1                         1   \n",
       "3               4                               0                         2   \n",
       "4               0                               0                         7   \n",
       "\n",
       "   Census_OSSkuName_encoded  \n",
       "0                         1  \n",
       "1                         0  \n",
       "2                         1  \n",
       "3                         2  \n",
       "4                         6  \n",
       "\n",
       "[5 rows x 66 columns]"
      ]
     },
     "execution_count": 3,
     "metadata": {},
     "output_type": "execute_result"
    }
   ],
   "source": [
    "df.head()"
   ]
  },
  {
   "cell_type": "code",
   "execution_count": 4,
   "id": "a4cef912",
   "metadata": {},
   "outputs": [
    {
     "data": {
      "text/plain": [
       "(89214, 66)"
      ]
     },
     "execution_count": 4,
     "metadata": {},
     "output_type": "execute_result"
    }
   ],
   "source": [
    "df.shape"
   ]
  },
  {
   "cell_type": "code",
   "execution_count": 5,
   "id": "051d30fc",
   "metadata": {},
   "outputs": [
    {
     "name": "stdout",
     "output_type": "stream",
     "text": [
      "<class 'pandas.core.frame.DataFrame'>\n",
      "RangeIndex: 89214 entries, 0 to 89213\n",
      "Data columns (total 66 columns):\n",
      " #   Column                                             Non-Null Count  Dtype  \n",
      "---  ------                                             --------------  -----  \n",
      " 0   ProductName                                        89213 non-null  object \n",
      " 1   RtpStateBitfield                                   88878 non-null  float64\n",
      " 2   IsSxsPassiveMode                                   89214 non-null  int64  \n",
      " 3   AVProductsInstalled                                88849 non-null  float64\n",
      " 4   AVProductsEnabled                                  88849 non-null  float64\n",
      " 5   HasTpm                                             89214 non-null  int64  \n",
      " 6   Platform                                           89214 non-null  object \n",
      " 7   Processor                                          89209 non-null  object \n",
      " 8   OsVer                                              89214 non-null  object \n",
      " 9   OsSuite                                            89214 non-null  int64  \n",
      " 10  OsPlatformSubRelease                               89214 non-null  object \n",
      " 11  SkuEdition                                         89214 non-null  object \n",
      " 12  IsProtected                                        89214 non-null  int64  \n",
      " 13  SmartScreen                                        57210 non-null  object \n",
      " 14  Firewall                                           88291 non-null  float64\n",
      " 15  Census_MDC2FormFactor                              89214 non-null  object \n",
      " 16  Census_DeviceFamily                                89213 non-null  object \n",
      " 17  Census_ProcessorCoreCount                          88793 non-null  float64\n",
      " 18  Census_ProcessorManufacturerIdentifier             88793 non-null  float64\n",
      " 19  Census_PrimaryDiskTotalCapacity                    88679 non-null  float64\n",
      " 20  Census_PrimaryDiskTypeName                         89073 non-null  object \n",
      " 21  Census_SystemVolumeTotalCapacity                   88632 non-null  float64\n",
      " 22  Census_HasOpticalDiskDrive                         89214 non-null  int64  \n",
      " 23  Census_TotalPhysicalRAM                            88390 non-null  float64\n",
      " 24  Census_InternalPrimaryDiagonalDisplaySizeInInches  88728 non-null  float64\n",
      " 25  Census_InternalPrimaryDisplayResolutionHorizontal  88731 non-null  float64\n",
      " 26  Census_InternalPrimaryDisplayResolutionVertical    88731 non-null  float64\n",
      " 27  Census_PowerPlatformRoleName                       89214 non-null  object \n",
      " 28  Census_InternalBatteryNumberOfCharges              86508 non-null  float64\n",
      " 29  Census_OSArchitecture                              89209 non-null  object \n",
      " 30  Census_OSInstallTypeName                           89214 non-null  object \n",
      " 31  Census_OSWUAutoUpdateOptionsName                   89214 non-null  object \n",
      " 32  Census_GenuineStateName                            89214 non-null  object \n",
      " 33  Census_ActivationChannel                           89214 non-null  object \n",
      " 34  Census_FlightRing                                  89214 non-null  object \n",
      " 35  Census_IsSecureBootEnabled                         89214 non-null  int64  \n",
      " 36  Census_IsTouchEnabled                              89214 non-null  int64  \n",
      " 37  Census_IsPenCapable                                89214 non-null  int64  \n",
      " 38  Census_IsAlwaysOnAlwaysConnectedCapable            88506 non-null  float64\n",
      " 39  Wdft_IsGamer                                       86274 non-null  float64\n",
      " 40  Wdft_RegionIdentifier                              86274 non-null  float64\n",
      " 41  HasDetections                                      89214 non-null  int64  \n",
      " 42  Census_OEMModelIdentifier_encoded                  89214 non-null  int64  \n",
      " 43  CityIdentifier_encoded                             89214 non-null  int64  \n",
      " 44  Census_FirmwareVersionIdentifier_encoded           89214 non-null  int64  \n",
      " 45  AvSigVersion_encoded                               89214 non-null  int64  \n",
      " 46  AVProductStatesIdentifier_encoded                  89214 non-null  int64  \n",
      " 47  Census_ProcessorModelIdentifier_encoded            89214 non-null  int64  \n",
      " 48  Census_OEMNameIdentifier_encoded                   89214 non-null  int64  \n",
      " 49  Census_OSVersion_encoded                           89214 non-null  int64  \n",
      " 50  GeoNameIdentifier_encoded                          89214 non-null  int64  \n",
      " 51  CountryIdentifier_encoded                          89214 non-null  int64  \n",
      " 52  Census_OSBuildRevision_encoded                     89214 non-null  int64  \n",
      " 53  LocaleEnglishNameIdentifier_encoded                89214 non-null  int64  \n",
      " 54  Census_FirmwareManufacturerIdentifier_encoded      89214 non-null  int64  \n",
      " 55  IeVerIdentifier_encoded                            89214 non-null  int64  \n",
      " 56  AppVersion_encoded                                 89214 non-null  int64  \n",
      " 57  Census_OSUILocaleIdentifier_encoded                89214 non-null  int64  \n",
      " 58  EngineVersion_encoded                              89214 non-null  int64  \n",
      " 59  Census_OSInstallLanguageIdentifier_encoded         89214 non-null  int64  \n",
      " 60  OrganizationIdentifier_encoded                     89214 non-null  int64  \n",
      " 61  Census_OSBranch_release_extracted_encoded          89214 non-null  int64  \n",
      " 62  OsBuild_encoded                                    89214 non-null  int64  \n",
      " 63  Census_ChassisTypeName_encoded                     89214 non-null  int64  \n",
      " 64  Census_OSEdition_encoded                           89214 non-null  int64  \n",
      " 65  Census_OSSkuName_encoded                           89214 non-null  int64  \n",
      "dtypes: float64(16), int64(33), object(17)\n",
      "memory usage: 44.9+ MB\n"
     ]
    }
   ],
   "source": [
    "df.info()"
   ]
  },
  {
   "cell_type": "code",
   "execution_count": 6,
   "id": "3148d089",
   "metadata": {},
   "outputs": [
    {
     "data": {
      "text/plain": [
       "SmartScreen                                          0.358733\n",
       "Wdft_RegionIdentifier                                0.032954\n",
       "Wdft_IsGamer                                         0.032954\n",
       "Census_InternalBatteryNumberOfCharges                0.030332\n",
       "Firewall                                             0.010346\n",
       "Census_TotalPhysicalRAM                              0.009236\n",
       "Census_IsAlwaysOnAlwaysConnectedCapable              0.007936\n",
       "Census_SystemVolumeTotalCapacity                     0.006524\n",
       "Census_PrimaryDiskTotalCapacity                      0.005997\n",
       "Census_InternalPrimaryDiagonalDisplaySizeInInches    0.005448\n",
       "dtype: float64"
      ]
     },
     "execution_count": 6,
     "metadata": {},
     "output_type": "execute_result"
    }
   ],
   "source": [
    "col_nan = df.isnull().mean()\n",
    "col_nan.sort_values(ascending=False)[:10]"
   ]
  },
  {
   "cell_type": "code",
   "execution_count": 7,
   "id": "d093db0a",
   "metadata": {},
   "outputs": [
    {
     "data": {
      "text/plain": [
       "66"
      ]
     },
     "execution_count": 7,
     "metadata": {},
     "output_type": "execute_result"
    }
   ],
   "source": [
    "numerical_columns = ['Census_ProcessorCoreCount',\n",
    "                 'Census_PrimaryDiskTotalCapacity',\n",
    "                 'Census_SystemVolumeTotalCapacity',\n",
    "                 'Census_TotalPhysicalRAM',\n",
    "                 'Census_InternalPrimaryDiagonalDisplaySizeInInches',\n",
    "                 'Census_InternalPrimaryDisplayResolutionHorizontal',\n",
    "                 'Census_InternalPrimaryDisplayResolutionVertical',\n",
    "                 'Census_InternalBatteryNumberOfCharges']\n",
    "rank_columns = [col for col in df.columns if 'encoded' in col]\n",
    "numerical_columns = numerical_columns + rank_columns\n",
    "\n",
    "binary_columns = [col for col in df.columns.tolist() if df[col].nunique() <= 2 if df[col].dtypes != 'O']\n",
    "\n",
    "categorical_columns = df.select_dtypes('object').columns.tolist()\n",
    "cat_num_columns = [col for col in df.columns.tolist() if col not in numerical_columns\n",
    "              if col not in binary_columns if col not in categorical_columns]\n",
    "tot_columns = numerical_columns + binary_columns + categorical_columns + cat_num_columns\n",
    "len(tot_columns)"
   ]
  },
  {
   "cell_type": "code",
   "execution_count": 8,
   "id": "20cfe17d",
   "metadata": {},
   "outputs": [
    {
     "data": {
      "text/plain": [
       "(32, 10, 17, 7, 66)"
      ]
     },
     "execution_count": 8,
     "metadata": {},
     "output_type": "execute_result"
    }
   ],
   "source": [
    "len(numerical_columns), len(binary_columns), len(categorical_columns), len(cat_num_columns), len(numerical_columns)+ len(binary_columns) + len(categorical_columns) + len(cat_num_columns)"
   ]
  },
  {
   "cell_type": "code",
   "execution_count": 9,
   "id": "d6c06d2d",
   "metadata": {},
   "outputs": [
    {
     "data": {
      "text/plain": [
       "Census_MDC2FormFactor               11\n",
       "OsPlatformSubRelease                 9\n",
       "Census_PowerPlatformRoleName         9\n",
       "Census_OSInstallTypeName             9\n",
       "SkuEdition                           8\n",
       "SmartScreen                          8\n",
       "Census_FlightRing                    7\n",
       "Census_OSWUAutoUpdateOptionsName     6\n",
       "Census_ActivationChannel             6\n",
       "Platform                             4\n",
       "Census_GenuineStateName              4\n",
       "OsVer                                3\n",
       "Census_PrimaryDiskTypeName           3\n",
       "ProductName                          2\n",
       "Census_OSArchitecture                2\n",
       "Processor                            2\n",
       "Census_DeviceFamily                  2\n",
       "dtype: int64"
      ]
     },
     "execution_count": 9,
     "metadata": {},
     "output_type": "execute_result"
    }
   ],
   "source": [
    "col_n_uniq = df[categorical_columns].nunique()\n",
    "col_n_uniq.sort_values(ascending=False)"
   ]
  },
  {
   "cell_type": "code",
   "execution_count": 10,
   "id": "38613b9a",
   "metadata": {},
   "outputs": [
    {
     "data": {
      "text/plain": [
       "True"
      ]
     },
     "execution_count": 10,
     "metadata": {},
     "output_type": "execute_result"
    }
   ],
   "source": [
    "'HasDetections' in tot_columns"
   ]
  },
  {
   "cell_type": "code",
   "execution_count": 11,
   "id": "b9ace626",
   "metadata": {},
   "outputs": [],
   "source": [
    "target_index = tot_columns.index('HasDetections')\n",
    "target_name = tot_columns.pop(target_index)"
   ]
  },
  {
   "cell_type": "code",
   "execution_count": 12,
   "id": "a2ecc85e",
   "metadata": {},
   "outputs": [
    {
     "data": {
      "text/plain": [
       "False"
      ]
     },
     "execution_count": 12,
     "metadata": {},
     "output_type": "execute_result"
    }
   ],
   "source": [
    "'HasDetections' in tot_columns"
   ]
  },
  {
   "cell_type": "code",
   "execution_count": 13,
   "id": "0e5a87e5",
   "metadata": {},
   "outputs": [
    {
     "data": {
      "text/plain": [
       "True"
      ]
     },
     "execution_count": 13,
     "metadata": {},
     "output_type": "execute_result"
    }
   ],
   "source": [
    "'HasDetections' in binary_columns"
   ]
  },
  {
   "cell_type": "code",
   "execution_count": 14,
   "id": "20c50d22",
   "metadata": {},
   "outputs": [
    {
     "data": {
      "text/plain": [
       "'HasDetections'"
      ]
     },
     "execution_count": 14,
     "metadata": {},
     "output_type": "execute_result"
    }
   ],
   "source": [
    "idx = binary_columns.index('HasDetections')\n",
    "binary_columns.pop(idx)"
   ]
  },
  {
   "cell_type": "code",
   "execution_count": 15,
   "id": "58484c23",
   "metadata": {},
   "outputs": [
    {
     "data": {
      "text/plain": [
       "False"
      ]
     },
     "execution_count": 15,
     "metadata": {},
     "output_type": "execute_result"
    }
   ],
   "source": [
    "'HasDetections' in binary_columns"
   ]
  },
  {
   "cell_type": "code",
   "execution_count": 16,
   "id": "e357a3fa",
   "metadata": {},
   "outputs": [],
   "source": [
    "X = df[tot_columns]\n",
    "y = df[target_name]"
   ]
  },
  {
   "cell_type": "code",
   "execution_count": 17,
   "id": "1209119e",
   "metadata": {},
   "outputs": [
    {
     "name": "stdout",
     "output_type": "stream",
     "text": [
      "(71371, 65)\n",
      "(17843, 65)\n",
      "(71371,)\n",
      "(17843,)\n"
     ]
    }
   ],
   "source": [
    "#Seperate train and test data\n",
    "X_train, X_test, y_train, y_test = train_test_split(X,\n",
    "                                                   y,\n",
    "                                                   test_size = 0.2,\n",
    "                                                   random_state = 10)\n",
    "print(X_train.shape)\n",
    "print(X_test.shape)\n",
    "print(y_train.shape)\n",
    "print(y_test.shape)"
   ]
  },
  {
   "cell_type": "code",
   "execution_count": 18,
   "id": "b53b03bd",
   "metadata": {},
   "outputs": [
    {
     "data": {
      "text/plain": [
       "(0.5005114121982318, 0.5026621083898447)"
      ]
     },
     "execution_count": 18,
     "metadata": {},
     "output_type": "execute_result"
    }
   ],
   "source": [
    "y_train.mean(), y_test.mean()"
   ]
  },
  {
   "cell_type": "code",
   "execution_count": 19,
   "id": "c0be12a6",
   "metadata": {},
   "outputs": [],
   "source": [
    "with open('../data/processed/X_train', 'wb') as handle:\n",
    "    pickle.dump(X_train,handle)\n",
    "with open('../data/processed/X_test', 'wb') as handle:\n",
    "    pickle.dump(X_test, handle)\n",
    "with open('../data/processed/y_train', 'wb') as handle:\n",
    "    pickle.dump(y_train, handle)\n",
    "with open('../data/processed/y_test', 'wb') as handle:\n",
    "    pickle.dump(y_test, handle)"
   ]
  },
  {
   "cell_type": "code",
   "execution_count": null,
   "id": "edc9b1f5",
   "metadata": {},
   "outputs": [],
   "source": []
  }
 ],
 "metadata": {
  "kernelspec": {
   "display_name": "Python 3",
   "language": "python",
   "name": "python3"
  },
  "language_info": {
   "codemirror_mode": {
    "name": "ipython",
    "version": 3
   },
   "file_extension": ".py",
   "mimetype": "text/x-python",
   "name": "python",
   "nbconvert_exporter": "python",
   "pygments_lexer": "ipython3",
   "version": "3.9.2"
  }
 },
 "nbformat": 4,
 "nbformat_minor": 5
}
