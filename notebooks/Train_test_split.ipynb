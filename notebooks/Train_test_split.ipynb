{
 "cells": [
  {
   "cell_type": "code",
   "execution_count": 1,
   "id": "be68b61f",
   "metadata": {},
   "outputs": [],
   "source": [
    "import pandas as pd\n",
    "import numpy as np\n",
    "from sklearn.model_selection import train_test_split\n",
    "import pickle"
   ]
  },
  {
   "cell_type": "code",
   "execution_count": 2,
   "id": "13a7d70e",
   "metadata": {},
   "outputs": [],
   "source": [
    "df = pd.read_csv('../data/interim/train_clean_roll_up.csv')"
   ]
  },
  {
   "cell_type": "code",
   "execution_count": 3,
   "id": "383ca3c9",
   "metadata": {},
   "outputs": [
    {
     "data": {
      "text/html": [
       "<div>\n",
       "<style scoped>\n",
       "    .dataframe tbody tr th:only-of-type {\n",
       "        vertical-align: middle;\n",
       "    }\n",
       "\n",
       "    .dataframe tbody tr th {\n",
       "        vertical-align: top;\n",
       "    }\n",
       "\n",
       "    .dataframe thead th {\n",
       "        text-align: right;\n",
       "    }\n",
       "</style>\n",
       "<table border=\"1\" class=\"dataframe\">\n",
       "  <thead>\n",
       "    <tr style=\"text-align: right;\">\n",
       "      <th></th>\n",
       "      <th>ProductName</th>\n",
       "      <th>RtpStateBitfield</th>\n",
       "      <th>IsSxsPassiveMode</th>\n",
       "      <th>AVProductStatesIdentifier</th>\n",
       "      <th>AVProductsInstalled</th>\n",
       "      <th>AVProductsEnabled</th>\n",
       "      <th>HasTpm</th>\n",
       "      <th>CountryIdentifier</th>\n",
       "      <th>CityIdentifier</th>\n",
       "      <th>OrganizationIdentifier</th>\n",
       "      <th>...</th>\n",
       "      <th>Census_IsAlwaysOnAlwaysConnectedCapable</th>\n",
       "      <th>Wdft_IsGamer</th>\n",
       "      <th>Wdft_RegionIdentifier</th>\n",
       "      <th>HasDetections</th>\n",
       "      <th>Census_OSBranch_release_extracted</th>\n",
       "      <th>EngineVersion_encoded</th>\n",
       "      <th>AppVersion_encoded</th>\n",
       "      <th>AvSigVersion_encoded</th>\n",
       "      <th>OsVer_encoded</th>\n",
       "      <th>Census_OSVersion_encoded</th>\n",
       "    </tr>\n",
       "  </thead>\n",
       "  <tbody>\n",
       "    <tr>\n",
       "      <th>0</th>\n",
       "      <td>win8defender</td>\n",
       "      <td>7.0</td>\n",
       "      <td>0</td>\n",
       "      <td>53447.0</td>\n",
       "      <td>1.0</td>\n",
       "      <td>1.0</td>\n",
       "      <td>1</td>\n",
       "      <td>94</td>\n",
       "      <td>65823.0</td>\n",
       "      <td>NaN</td>\n",
       "      <td>...</td>\n",
       "      <td>0.0</td>\n",
       "      <td>0.0</td>\n",
       "      <td>11.0</td>\n",
       "      <td>0</td>\n",
       "      <td>rs4_release</td>\n",
       "      <td>15200</td>\n",
       "      <td>18</td>\n",
       "      <td>275</td>\n",
       "      <td>1</td>\n",
       "      <td>17134</td>\n",
       "    </tr>\n",
       "    <tr>\n",
       "      <th>1</th>\n",
       "      <td>win8defender</td>\n",
       "      <td>7.0</td>\n",
       "      <td>0</td>\n",
       "      <td>23657.0</td>\n",
       "      <td>2.0</td>\n",
       "      <td>1.0</td>\n",
       "      <td>1</td>\n",
       "      <td>139</td>\n",
       "      <td>87570.0</td>\n",
       "      <td>NaN</td>\n",
       "      <td>...</td>\n",
       "      <td>0.0</td>\n",
       "      <td>1.0</td>\n",
       "      <td>1.0</td>\n",
       "      <td>0</td>\n",
       "      <td>rs4_release</td>\n",
       "      <td>15100</td>\n",
       "      <td>18</td>\n",
       "      <td>273</td>\n",
       "      <td>1</td>\n",
       "      <td>17134</td>\n",
       "    </tr>\n",
       "    <tr>\n",
       "      <th>2</th>\n",
       "      <td>win8defender</td>\n",
       "      <td>7.0</td>\n",
       "      <td>0</td>\n",
       "      <td>23962.0</td>\n",
       "      <td>2.0</td>\n",
       "      <td>1.0</td>\n",
       "      <td>1</td>\n",
       "      <td>123</td>\n",
       "      <td>94381.0</td>\n",
       "      <td>NaN</td>\n",
       "      <td>...</td>\n",
       "      <td>0.0</td>\n",
       "      <td>0.0</td>\n",
       "      <td>5.0</td>\n",
       "      <td>0</td>\n",
       "      <td>rs4_release</td>\n",
       "      <td>15200</td>\n",
       "      <td>18</td>\n",
       "      <td>275</td>\n",
       "      <td>1</td>\n",
       "      <td>17134</td>\n",
       "    </tr>\n",
       "    <tr>\n",
       "      <th>3</th>\n",
       "      <td>win8defender</td>\n",
       "      <td>7.0</td>\n",
       "      <td>0</td>\n",
       "      <td>46669.0</td>\n",
       "      <td>2.0</td>\n",
       "      <td>1.0</td>\n",
       "      <td>1</td>\n",
       "      <td>85</td>\n",
       "      <td>NaN</td>\n",
       "      <td>27.0</td>\n",
       "      <td>...</td>\n",
       "      <td>0.0</td>\n",
       "      <td>0.0</td>\n",
       "      <td>10.0</td>\n",
       "      <td>1</td>\n",
       "      <td>th</td>\n",
       "      <td>15100</td>\n",
       "      <td>Other</td>\n",
       "      <td>273</td>\n",
       "      <td>1</td>\n",
       "      <td>10586</td>\n",
       "    </tr>\n",
       "    <tr>\n",
       "      <th>4</th>\n",
       "      <td>win8defender</td>\n",
       "      <td>7.0</td>\n",
       "      <td>0</td>\n",
       "      <td>53447.0</td>\n",
       "      <td>1.0</td>\n",
       "      <td>1.0</td>\n",
       "      <td>1</td>\n",
       "      <td>50</td>\n",
       "      <td>105713.0</td>\n",
       "      <td>27.0</td>\n",
       "      <td>...</td>\n",
       "      <td>0.0</td>\n",
       "      <td>0.0</td>\n",
       "      <td>3.0</td>\n",
       "      <td>1</td>\n",
       "      <td>rs4_release</td>\n",
       "      <td>15100</td>\n",
       "      <td>18</td>\n",
       "      <td>273</td>\n",
       "      <td>1</td>\n",
       "      <td>17134</td>\n",
       "    </tr>\n",
       "  </tbody>\n",
       "</table>\n",
       "<p>5 rows × 66 columns</p>\n",
       "</div>"
      ],
      "text/plain": [
       "    ProductName  RtpStateBitfield  IsSxsPassiveMode  \\\n",
       "0  win8defender               7.0                 0   \n",
       "1  win8defender               7.0                 0   \n",
       "2  win8defender               7.0                 0   \n",
       "3  win8defender               7.0                 0   \n",
       "4  win8defender               7.0                 0   \n",
       "\n",
       "   AVProductStatesIdentifier  AVProductsInstalled  AVProductsEnabled  HasTpm  \\\n",
       "0                    53447.0                  1.0                1.0       1   \n",
       "1                    23657.0                  2.0                1.0       1   \n",
       "2                    23962.0                  2.0                1.0       1   \n",
       "3                    46669.0                  2.0                1.0       1   \n",
       "4                    53447.0                  1.0                1.0       1   \n",
       "\n",
       "   CountryIdentifier  CityIdentifier  OrganizationIdentifier  ...  \\\n",
       "0                 94         65823.0                     NaN  ...   \n",
       "1                139         87570.0                     NaN  ...   \n",
       "2                123         94381.0                     NaN  ...   \n",
       "3                 85             NaN                    27.0  ...   \n",
       "4                 50        105713.0                    27.0  ...   \n",
       "\n",
       "   Census_IsAlwaysOnAlwaysConnectedCapable  Wdft_IsGamer  \\\n",
       "0                                      0.0           0.0   \n",
       "1                                      0.0           1.0   \n",
       "2                                      0.0           0.0   \n",
       "3                                      0.0           0.0   \n",
       "4                                      0.0           0.0   \n",
       "\n",
       "  Wdft_RegionIdentifier HasDetections  Census_OSBranch_release_extracted  \\\n",
       "0                  11.0             0                        rs4_release   \n",
       "1                   1.0             0                        rs4_release   \n",
       "2                   5.0             0                        rs4_release   \n",
       "3                  10.0             1                                 th   \n",
       "4                   3.0             1                        rs4_release   \n",
       "\n",
       "   EngineVersion_encoded AppVersion_encoded AvSigVersion_encoded  \\\n",
       "0                  15200                 18                  275   \n",
       "1                  15100                 18                  273   \n",
       "2                  15200                 18                  275   \n",
       "3                  15100              Other                  273   \n",
       "4                  15100                 18                  273   \n",
       "\n",
       "   OsVer_encoded  Census_OSVersion_encoded  \n",
       "0              1                     17134  \n",
       "1              1                     17134  \n",
       "2              1                     17134  \n",
       "3              1                     10586  \n",
       "4              1                     17134  \n",
       "\n",
       "[5 rows x 66 columns]"
      ]
     },
     "execution_count": 3,
     "metadata": {},
     "output_type": "execute_result"
    }
   ],
   "source": [
    "df.head()"
   ]
  },
  {
   "cell_type": "code",
   "execution_count": 4,
   "id": "77a5968a",
   "metadata": {},
   "outputs": [
    {
     "data": {
      "text/plain": [
       "(89212, 66)"
      ]
     },
     "execution_count": 4,
     "metadata": {},
     "output_type": "execute_result"
    }
   ],
   "source": [
    "df.shape"
   ]
  },
  {
   "cell_type": "code",
   "execution_count": 5,
   "id": "d8bee5c7",
   "metadata": {},
   "outputs": [
    {
     "name": "stdout",
     "output_type": "stream",
     "text": [
      "<class 'pandas.core.frame.DataFrame'>\n",
      "RangeIndex: 89212 entries, 0 to 89211\n",
      "Data columns (total 66 columns):\n",
      " #   Column                                             Non-Null Count  Dtype  \n",
      "---  ------                                             --------------  -----  \n",
      " 0   ProductName                                        89211 non-null  object \n",
      " 1   RtpStateBitfield                                   88876 non-null  float64\n",
      " 2   IsSxsPassiveMode                                   89212 non-null  int64  \n",
      " 3   AVProductStatesIdentifier                          88847 non-null  float64\n",
      " 4   AVProductsInstalled                                88847 non-null  float64\n",
      " 5   AVProductsEnabled                                  88847 non-null  float64\n",
      " 6   HasTpm                                             89212 non-null  int64  \n",
      " 7   CountryIdentifier                                  89212 non-null  int64  \n",
      " 8   CityIdentifier                                     85949 non-null  float64\n",
      " 9   OrganizationIdentifier                             61881 non-null  float64\n",
      " 10  GeoNameIdentifier                                  89207 non-null  float64\n",
      " 11  LocaleEnglishNameIdentifier                        89212 non-null  int64  \n",
      " 12  Platform                                           89212 non-null  object \n",
      " 13  Processor                                          89207 non-null  object \n",
      " 14  OsBuild                                            89212 non-null  int64  \n",
      " 15  OsSuite                                            89212 non-null  int64  \n",
      " 16  OsPlatformSubRelease                               89212 non-null  object \n",
      " 17  SkuEdition                                         89212 non-null  object \n",
      " 18  IsProtected                                        89212 non-null  int64  \n",
      " 19  IeVerIdentifier                                    88610 non-null  float64\n",
      " 20  SmartScreen                                        57209 non-null  object \n",
      " 21  Firewall                                           88289 non-null  float64\n",
      " 22  Census_MDC2FormFactor                              89212 non-null  object \n",
      " 23  Census_DeviceFamily                                89212 non-null  object \n",
      " 24  Census_OEMNameIdentifier                           88198 non-null  float64\n",
      " 25  Census_OEMModelIdentifier                          88118 non-null  float64\n",
      " 26  Census_ProcessorCoreCount                          88791 non-null  float64\n",
      " 27  Census_ProcessorManufacturerIdentifier             88791 non-null  float64\n",
      " 28  Census_ProcessorModelIdentifier                    88791 non-null  float64\n",
      " 29  Census_PrimaryDiskTotalCapacity                    88677 non-null  float64\n",
      " 30  Census_PrimaryDiskTypeName                         89071 non-null  object \n",
      " 31  Census_SystemVolumeTotalCapacity                   88630 non-null  float64\n",
      " 32  Census_HasOpticalDiskDrive                         89212 non-null  int64  \n",
      " 33  Census_TotalPhysicalRAM                            88388 non-null  float64\n",
      " 34  Census_ChassisTypeName                             89212 non-null  object \n",
      " 35  Census_InternalPrimaryDiagonalDisplaySizeInInches  88726 non-null  float64\n",
      " 36  Census_InternalPrimaryDisplayResolutionHorizontal  88729 non-null  float64\n",
      " 37  Census_InternalPrimaryDisplayResolutionVertical    88729 non-null  float64\n",
      " 38  Census_PowerPlatformRoleName                       89212 non-null  object \n",
      " 39  Census_InternalBatteryNumberOfCharges              86506 non-null  float64\n",
      " 40  Census_OSArchitecture                              89207 non-null  object \n",
      " 41  Census_OSBuildRevision                             89212 non-null  int64  \n",
      " 42  Census_OSEdition                                   89212 non-null  object \n",
      " 43  Census_OSSkuName                                   89212 non-null  object \n",
      " 44  Census_OSInstallTypeName                           89212 non-null  object \n",
      " 45  Census_OSInstallLanguageIdentifier                 88627 non-null  float64\n",
      " 46  Census_OSUILocaleIdentifier                        89212 non-null  int64  \n",
      " 47  Census_OSWUAutoUpdateOptionsName                   89212 non-null  object \n",
      " 48  Census_GenuineStateName                            89212 non-null  object \n",
      " 49  Census_ActivationChannel                           89212 non-null  object \n",
      " 50  Census_FlightRing                                  89212 non-null  object \n",
      " 51  Census_FirmwareManufacturerIdentifier              87313 non-null  float64\n",
      " 52  Census_FirmwareVersionIdentifier                   87553 non-null  float64\n",
      " 53  Census_IsSecureBootEnabled                         89212 non-null  int64  \n",
      " 54  Census_IsTouchEnabled                              89212 non-null  int64  \n",
      " 55  Census_IsPenCapable                                89212 non-null  int64  \n",
      " 56  Census_IsAlwaysOnAlwaysConnectedCapable            88504 non-null  float64\n",
      " 57  Wdft_IsGamer                                       86273 non-null  float64\n",
      " 58  Wdft_RegionIdentifier                              86273 non-null  float64\n",
      " 59  HasDetections                                      89212 non-null  int64  \n",
      " 60  Census_OSBranch_release_extracted                  89212 non-null  object \n",
      " 61  EngineVersion_encoded                              89212 non-null  object \n",
      " 62  AppVersion_encoded                                 89212 non-null  object \n",
      " 63  AvSigVersion_encoded                               89212 non-null  object \n",
      " 64  OsVer_encoded                                      89212 non-null  int64  \n",
      " 65  Census_OSVersion_encoded                           89212 non-null  object \n",
      "dtypes: float64(27), int64(15), object(24)\n",
      "memory usage: 44.9+ MB\n"
     ]
    }
   ],
   "source": [
    "df.info()"
   ]
  },
  {
   "cell_type": "code",
   "execution_count": 6,
   "id": "97259bc5",
   "metadata": {},
   "outputs": [
    {
     "data": {
      "text/plain": [
       "SmartScreen                              0.358730\n",
       "OrganizationIdentifier                   0.306360\n",
       "CityIdentifier                           0.036576\n",
       "Wdft_RegionIdentifier                    0.032944\n",
       "Wdft_IsGamer                             0.032944\n",
       "Census_InternalBatteryNumberOfCharges    0.030332\n",
       "Census_FirmwareManufacturerIdentifier    0.021286\n",
       "Census_FirmwareVersionIdentifier         0.018596\n",
       "Census_OEMModelIdentifier                0.012263\n",
       "Census_OEMNameIdentifier                 0.011366\n",
       "dtype: float64"
      ]
     },
     "execution_count": 6,
     "metadata": {},
     "output_type": "execute_result"
    }
   ],
   "source": [
    "col_nan = df.isnull().mean()\n",
    "col_nan.sort_values(ascending=False)[:10]"
   ]
  },
  {
   "cell_type": "code",
   "execution_count": 7,
   "id": "d5c1854a",
   "metadata": {},
   "outputs": [
    {
     "data": {
      "text/plain": [
       "(24, 11, 8, 23, 66)"
      ]
     },
     "execution_count": 7,
     "metadata": {},
     "output_type": "execute_result"
    }
   ],
   "source": [
    "categorical_columns = df.select_dtypes('object').columns.tolist()\n",
    "binary_columns = [col for col in df.columns.tolist() \n",
    "                  if df[col].nunique() <= 2 \n",
    "                  if df[col].dtypes != 'O']\n",
    "true_numerical_columns = ['Census_ProcessorCoreCount',\n",
    "                          'Census_PrimaryDiskTotalCapacity',\n",
    "                          'Census_SystemVolumeTotalCapacity',\n",
    "                          'Census_TotalPhysicalRAM',\n",
    "                          'Census_InternalPrimaryDiagonalDisplaySizeInInches',\n",
    "                          'Census_InternalPrimaryDisplayResolutionHorizontal',\n",
    "                          'Census_InternalPrimaryDisplayResolutionVertical',\n",
    "                          'Census_InternalBatteryNumberOfCharges']\n",
    "numerical_columns = true_numerical_columns\n",
    "cat_num_columns = [col for col in df.columns.tolist() \n",
    "                   if col not in numerical_columns \n",
    "                   if col not in binary_columns \n",
    "                   if col not in categorical_columns]\n",
    "tot_columns = numerical_columns + binary_columns + categorical_columns + cat_num_columns\n",
    "len(categorical_columns), len(binary_columns), len(numerical_columns), len(cat_num_columns), len(tot_columns)"
   ]
  },
  {
   "cell_type": "code",
   "execution_count": 8,
   "id": "a2c7cd0e",
   "metadata": {},
   "outputs": [
    {
     "data": {
      "text/plain": [
       "Census_MDC2FormFactor                11\n",
       "OsPlatformSubRelease                  9\n",
       "Census_PowerPlatformRoleName          9\n",
       "Census_OSInstallTypeName              9\n",
       "SkuEdition                            8\n",
       "SmartScreen                           8\n",
       "Census_OSVersion_encoded              7\n",
       "Census_FlightRing                     7\n",
       "Census_OSBranch_release_extracted     6\n",
       "Census_ActivationChannel              6\n",
       "Census_OSWUAutoUpdateOptionsName      6\n",
       "Census_OSSkuName                      4\n",
       "Census_GenuineStateName               4\n",
       "Census_OSEdition                      4\n",
       "Platform                              4\n",
       "Census_ChassisTypeName                4\n",
       "Census_PrimaryDiskTypeName            3\n",
       "EngineVersion_encoded                 3\n",
       "AvSigVersion_encoded                  3\n",
       "Census_OSArchitecture                 2\n",
       "Census_DeviceFamily                   2\n",
       "Processor                             2\n",
       "AppVersion_encoded                    2\n",
       "ProductName                           2\n",
       "dtype: int64"
      ]
     },
     "execution_count": 8,
     "metadata": {},
     "output_type": "execute_result"
    }
   ],
   "source": [
    "col_n_uniq = df[categorical_columns].nunique()\n",
    "col_n_uniq.sort_values(ascending=False)"
   ]
  },
  {
   "cell_type": "code",
   "execution_count": 9,
   "id": "6831d11d",
   "metadata": {},
   "outputs": [
    {
     "data": {
      "text/plain": [
       "True"
      ]
     },
     "execution_count": 9,
     "metadata": {},
     "output_type": "execute_result"
    }
   ],
   "source": [
    "'HasDetections' in tot_columns"
   ]
  },
  {
   "cell_type": "code",
   "execution_count": 10,
   "id": "472e29b3",
   "metadata": {},
   "outputs": [],
   "source": [
    "target_index = tot_columns.index('HasDetections')\n",
    "target_name = tot_columns.pop(target_index)"
   ]
  },
  {
   "cell_type": "code",
   "execution_count": 11,
   "id": "32a67c27",
   "metadata": {},
   "outputs": [
    {
     "data": {
      "text/plain": [
       "False"
      ]
     },
     "execution_count": 11,
     "metadata": {},
     "output_type": "execute_result"
    }
   ],
   "source": [
    "'HasDetections' in tot_columns"
   ]
  },
  {
   "cell_type": "code",
   "execution_count": 12,
   "id": "5a4a219f",
   "metadata": {},
   "outputs": [
    {
     "data": {
      "text/plain": [
       "True"
      ]
     },
     "execution_count": 12,
     "metadata": {},
     "output_type": "execute_result"
    }
   ],
   "source": [
    "'HasDetections' in binary_columns"
   ]
  },
  {
   "cell_type": "code",
   "execution_count": 13,
   "id": "3144c286",
   "metadata": {},
   "outputs": [
    {
     "data": {
      "text/plain": [
       "'HasDetections'"
      ]
     },
     "execution_count": 13,
     "metadata": {},
     "output_type": "execute_result"
    }
   ],
   "source": [
    "idx = binary_columns.index('HasDetections')\n",
    "binary_columns.pop(idx)"
   ]
  },
  {
   "cell_type": "code",
   "execution_count": 14,
   "id": "006d3675",
   "metadata": {},
   "outputs": [
    {
     "data": {
      "text/plain": [
       "False"
      ]
     },
     "execution_count": 14,
     "metadata": {},
     "output_type": "execute_result"
    }
   ],
   "source": [
    "'HasDetections' in binary_columns"
   ]
  },
  {
   "cell_type": "code",
   "execution_count": 15,
   "id": "03cfefba",
   "metadata": {},
   "outputs": [],
   "source": [
    "X = df[tot_columns]\n",
    "y = df[target_name]"
   ]
  },
  {
   "cell_type": "code",
   "execution_count": 16,
   "id": "df5e5cc2",
   "metadata": {},
   "outputs": [
    {
     "name": "stdout",
     "output_type": "stream",
     "text": [
      "(71369, 65)\n",
      "(17843, 65)\n",
      "(71369,)\n",
      "(17843,)\n"
     ]
    }
   ],
   "source": [
    "#Seperate train and test data\n",
    "X_train, X_test, y_train, y_test = train_test_split(X,\n",
    "                                                   y,\n",
    "                                                   test_size = 0.2,\n",
    "                                                   random_state = 10)\n",
    "print(X_train.shape)\n",
    "print(X_test.shape)\n",
    "print(y_train.shape)\n",
    "print(y_test.shape)"
   ]
  },
  {
   "cell_type": "code",
   "execution_count": 17,
   "id": "0f95b4a9",
   "metadata": {},
   "outputs": [
    {
     "data": {
      "text/plain": [
       "(0.5001751460718239, 0.5040632180687105)"
      ]
     },
     "execution_count": 17,
     "metadata": {},
     "output_type": "execute_result"
    }
   ],
   "source": [
    "y_train.mean(), y_test.mean()"
   ]
  },
  {
   "cell_type": "code",
   "execution_count": 18,
   "id": "390b26b6",
   "metadata": {},
   "outputs": [],
   "source": [
    "with open('../data/processed/X_train', 'wb') as handle:\n",
    "    pickle.dump(X_train,handle)\n",
    "with open('../data/processed/X_test', 'wb') as handle:\n",
    "    pickle.dump(X_test, handle)\n",
    "with open('../data/processed/y_train', 'wb') as handle:\n",
    "    pickle.dump(y_train, handle)\n",
    "with open('../data/processed/y_test', 'wb') as handle:\n",
    "    pickle.dump(y_test, handle)"
   ]
  },
  {
   "cell_type": "code",
   "execution_count": null,
   "id": "3e1a5cd2",
   "metadata": {},
   "outputs": [],
   "source": []
  }
 ],
 "metadata": {
  "kernelspec": {
   "display_name": "Python 3",
   "language": "python",
   "name": "python3"
  },
  "language_info": {
   "codemirror_mode": {
    "name": "ipython",
    "version": 3
   },
   "file_extension": ".py",
   "mimetype": "text/x-python",
   "name": "python",
   "nbconvert_exporter": "python",
   "pygments_lexer": "ipython3",
   "version": "3.9.2"
  }
 },
 "nbformat": 4,
 "nbformat_minor": 5
}
