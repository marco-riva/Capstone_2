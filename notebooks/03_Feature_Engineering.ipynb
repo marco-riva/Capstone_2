{
 "cells": [
  {
   "cell_type": "code",
   "execution_count": 1,
   "id": "45060016",
   "metadata": {},
   "outputs": [],
   "source": [
    "import pandas as pd\n",
    "pd.options.display.max_rows = 999\n",
    "import matplotlib.pyplot as plt\n",
    "%matplotlib inline\n",
    "\n",
    "import seaborn as sns\n",
    "sns.set(style='darkgrid')\n",
    "cmap = sns.diverging_palette(230, 20, as_cmap=True)\n",
    "palette = sns.diverging_palette(220, 20)\n",
    "\n",
    "import numpy as np\n",
    "\n",
    "from sklearn.feature_selection import f_classif, chi2, mutual_info_classif\n",
    "from sklearn import preprocessing\n",
    "\n",
    "import pickle\n",
    "\n",
    "import random\n",
    "\n",
    "import warnings\n",
    "warnings.simplefilter('ignore', FutureWarning)"
   ]
  },
  {
   "cell_type": "code",
   "execution_count": 2,
   "id": "83da73bb",
   "metadata": {},
   "outputs": [
    {
     "data": {
      "text/html": [
       "<div>\n",
       "<style scoped>\n",
       "    .dataframe tbody tr th:only-of-type {\n",
       "        vertical-align: middle;\n",
       "    }\n",
       "\n",
       "    .dataframe tbody tr th {\n",
       "        vertical-align: top;\n",
       "    }\n",
       "\n",
       "    .dataframe thead th {\n",
       "        text-align: right;\n",
       "    }\n",
       "</style>\n",
       "<table border=\"1\" class=\"dataframe\">\n",
       "  <thead>\n",
       "    <tr style=\"text-align: right;\">\n",
       "      <th></th>\n",
       "      <th>ProductName</th>\n",
       "      <th>EngineVersion</th>\n",
       "      <th>AppVersion</th>\n",
       "      <th>AvSigVersion</th>\n",
       "      <th>RtpStateBitfield</th>\n",
       "      <th>IsSxsPassiveMode</th>\n",
       "      <th>AVProductStatesIdentifier</th>\n",
       "      <th>AVProductsInstalled</th>\n",
       "      <th>AVProductsEnabled</th>\n",
       "      <th>HasTpm</th>\n",
       "      <th>...</th>\n",
       "      <th>Census_FirmwareVersionIdentifier</th>\n",
       "      <th>Census_IsSecureBootEnabled</th>\n",
       "      <th>Census_IsVirtualDevice</th>\n",
       "      <th>Census_IsTouchEnabled</th>\n",
       "      <th>Census_IsPenCapable</th>\n",
       "      <th>Census_IsAlwaysOnAlwaysConnectedCapable</th>\n",
       "      <th>Wdft_IsGamer</th>\n",
       "      <th>Wdft_RegionIdentifier</th>\n",
       "      <th>HasDetections</th>\n",
       "      <th>Census_OSBranch_release_extracted</th>\n",
       "    </tr>\n",
       "  </thead>\n",
       "  <tbody>\n",
       "    <tr>\n",
       "      <th>0</th>\n",
       "      <td>win8defender</td>\n",
       "      <td>1.1.15100.1</td>\n",
       "      <td>4.18.1807.18075</td>\n",
       "      <td>1.273.1735.0</td>\n",
       "      <td>7.0</td>\n",
       "      <td>0</td>\n",
       "      <td>53447.0</td>\n",
       "      <td>1.0</td>\n",
       "      <td>1.0</td>\n",
       "      <td>1</td>\n",
       "      <td>...</td>\n",
       "      <td>36144.0</td>\n",
       "      <td>0</td>\n",
       "      <td>0</td>\n",
       "      <td>0</td>\n",
       "      <td>0</td>\n",
       "      <td>0</td>\n",
       "      <td>0</td>\n",
       "      <td>10.0</td>\n",
       "      <td>0</td>\n",
       "      <td>rs4_release</td>\n",
       "    </tr>\n",
       "    <tr>\n",
       "      <th>1</th>\n",
       "      <td>win8defender</td>\n",
       "      <td>1.1.14600.4</td>\n",
       "      <td>4.13.17134.1</td>\n",
       "      <td>1.263.48.0</td>\n",
       "      <td>7.0</td>\n",
       "      <td>0</td>\n",
       "      <td>53447.0</td>\n",
       "      <td>1.0</td>\n",
       "      <td>1.0</td>\n",
       "      <td>1</td>\n",
       "      <td>...</td>\n",
       "      <td>57858.0</td>\n",
       "      <td>0</td>\n",
       "      <td>0</td>\n",
       "      <td>0</td>\n",
       "      <td>0</td>\n",
       "      <td>0</td>\n",
       "      <td>0</td>\n",
       "      <td>8.0</td>\n",
       "      <td>0</td>\n",
       "      <td>rs4_release</td>\n",
       "    </tr>\n",
       "    <tr>\n",
       "      <th>2</th>\n",
       "      <td>win8defender</td>\n",
       "      <td>1.1.15100.1</td>\n",
       "      <td>4.18.1807.18075</td>\n",
       "      <td>1.273.1341.0</td>\n",
       "      <td>7.0</td>\n",
       "      <td>0</td>\n",
       "      <td>53447.0</td>\n",
       "      <td>1.0</td>\n",
       "      <td>1.0</td>\n",
       "      <td>1</td>\n",
       "      <td>...</td>\n",
       "      <td>52682.0</td>\n",
       "      <td>0</td>\n",
       "      <td>0</td>\n",
       "      <td>0</td>\n",
       "      <td>0</td>\n",
       "      <td>0</td>\n",
       "      <td>0</td>\n",
       "      <td>3.0</td>\n",
       "      <td>0</td>\n",
       "      <td>rs4_release</td>\n",
       "    </tr>\n",
       "    <tr>\n",
       "      <th>3</th>\n",
       "      <td>win8defender</td>\n",
       "      <td>1.1.15100.1</td>\n",
       "      <td>4.18.1807.18075</td>\n",
       "      <td>1.273.1527.0</td>\n",
       "      <td>7.0</td>\n",
       "      <td>0</td>\n",
       "      <td>53447.0</td>\n",
       "      <td>1.0</td>\n",
       "      <td>1.0</td>\n",
       "      <td>1</td>\n",
       "      <td>...</td>\n",
       "      <td>20050.0</td>\n",
       "      <td>0</td>\n",
       "      <td>0</td>\n",
       "      <td>0</td>\n",
       "      <td>0</td>\n",
       "      <td>0</td>\n",
       "      <td>0</td>\n",
       "      <td>3.0</td>\n",
       "      <td>1</td>\n",
       "      <td>rs4_release</td>\n",
       "    </tr>\n",
       "    <tr>\n",
       "      <th>4</th>\n",
       "      <td>win8defender</td>\n",
       "      <td>1.1.15100.1</td>\n",
       "      <td>4.18.1807.18075</td>\n",
       "      <td>1.273.1379.0</td>\n",
       "      <td>7.0</td>\n",
       "      <td>0</td>\n",
       "      <td>53447.0</td>\n",
       "      <td>1.0</td>\n",
       "      <td>1.0</td>\n",
       "      <td>1</td>\n",
       "      <td>...</td>\n",
       "      <td>19844.0</td>\n",
       "      <td>0</td>\n",
       "      <td>0</td>\n",
       "      <td>0</td>\n",
       "      <td>0</td>\n",
       "      <td>0</td>\n",
       "      <td>0</td>\n",
       "      <td>1.0</td>\n",
       "      <td>1</td>\n",
       "      <td>rs4_release</td>\n",
       "    </tr>\n",
       "  </tbody>\n",
       "</table>\n",
       "<p>5 rows × 72 columns</p>\n",
       "</div>"
      ],
      "text/plain": [
       "    ProductName EngineVersion       AppVersion  AvSigVersion RtpStateBitfield  \\\n",
       "0  win8defender   1.1.15100.1  4.18.1807.18075  1.273.1735.0              7.0   \n",
       "1  win8defender   1.1.14600.4     4.13.17134.1    1.263.48.0              7.0   \n",
       "2  win8defender   1.1.15100.1  4.18.1807.18075  1.273.1341.0              7.0   \n",
       "3  win8defender   1.1.15100.1  4.18.1807.18075  1.273.1527.0              7.0   \n",
       "4  win8defender   1.1.15100.1  4.18.1807.18075  1.273.1379.0              7.0   \n",
       "\n",
       "   IsSxsPassiveMode AVProductStatesIdentifier AVProductsInstalled  \\\n",
       "0                 0                   53447.0                 1.0   \n",
       "1                 0                   53447.0                 1.0   \n",
       "2                 0                   53447.0                 1.0   \n",
       "3                 0                   53447.0                 1.0   \n",
       "4                 0                   53447.0                 1.0   \n",
       "\n",
       "  AVProductsEnabled  HasTpm  ... Census_FirmwareVersionIdentifier  \\\n",
       "0               1.0       1  ...                          36144.0   \n",
       "1               1.0       1  ...                          57858.0   \n",
       "2               1.0       1  ...                          52682.0   \n",
       "3               1.0       1  ...                          20050.0   \n",
       "4               1.0       1  ...                          19844.0   \n",
       "\n",
       "  Census_IsSecureBootEnabled Census_IsVirtualDevice Census_IsTouchEnabled  \\\n",
       "0                          0                      0                     0   \n",
       "1                          0                      0                     0   \n",
       "2                          0                      0                     0   \n",
       "3                          0                      0                     0   \n",
       "4                          0                      0                     0   \n",
       "\n",
       "  Census_IsPenCapable Census_IsAlwaysOnAlwaysConnectedCapable Wdft_IsGamer  \\\n",
       "0                   0                                       0            0   \n",
       "1                   0                                       0            0   \n",
       "2                   0                                       0            0   \n",
       "3                   0                                       0            0   \n",
       "4                   0                                       0            0   \n",
       "\n",
       "  Wdft_RegionIdentifier HasDetections Census_OSBranch_release_extracted  \n",
       "0                  10.0             0                       rs4_release  \n",
       "1                   8.0             0                       rs4_release  \n",
       "2                   3.0             0                       rs4_release  \n",
       "3                   3.0             1                       rs4_release  \n",
       "4                   1.0             1                       rs4_release  \n",
       "\n",
       "[5 rows x 72 columns]"
      ]
     },
     "execution_count": 2,
     "metadata": {},
     "output_type": "execute_result"
    }
   ],
   "source": [
    "df = pd.read_pickle('../data/interim/train_clean.pickle')\n",
    "df.head()"
   ]
  },
  {
   "cell_type": "code",
   "execution_count": 3,
   "id": "568900e8",
   "metadata": {
    "scrolled": true
   },
   "outputs": [
    {
     "name": "stdout",
     "output_type": "stream",
     "text": [
      "<class 'pandas.core.frame.DataFrame'>\n",
      "Int64Index: 8921478 entries, 0 to 8921482\n",
      "Data columns (total 72 columns):\n",
      " #   Column                                             Dtype   \n",
      "---  ------                                             -----   \n",
      " 0   ProductName                                        category\n",
      " 1   EngineVersion                                      category\n",
      " 2   AppVersion                                         category\n",
      " 3   AvSigVersion                                       category\n",
      " 4   RtpStateBitfield                                   category\n",
      " 5   IsSxsPassiveMode                                   Int64   \n",
      " 6   AVProductStatesIdentifier                          category\n",
      " 7   AVProductsInstalled                                category\n",
      " 8   AVProductsEnabled                                  category\n",
      " 9   HasTpm                                             Int64   \n",
      " 10  CountryIdentifier                                  category\n",
      " 11  CityIdentifier                                     category\n",
      " 12  OrganizationIdentifier                             category\n",
      " 13  GeoNameIdentifier                                  category\n",
      " 14  LocaleEnglishNameIdentifier                        category\n",
      " 15  Platform                                           category\n",
      " 16  Processor                                          category\n",
      " 17  OsVer                                              category\n",
      " 18  OsBuild                                            category\n",
      " 19  OsSuite                                            category\n",
      " 20  OsPlatformSubRelease                               category\n",
      " 21  SkuEdition                                         category\n",
      " 22  IsProtected                                        category\n",
      " 23  AutoSampleOptIn                                    Int64   \n",
      " 24  SMode                                              Int64   \n",
      " 25  IeVerIdentifier                                    category\n",
      " 26  SmartScreen                                        category\n",
      " 27  Firewall                                           Int64   \n",
      " 28  UacLuaenable                                       category\n",
      " 29  Census_MDC2FormFactor                              category\n",
      " 30  Census_DeviceFamily                                category\n",
      " 31  Census_OEMNameIdentifier                           category\n",
      " 32  Census_OEMModelIdentifier                          category\n",
      " 33  Census_ProcessorCoreCount                          float32 \n",
      " 34  Census_ProcessorManufacturerIdentifier             category\n",
      " 35  Census_ProcessorModelIdentifier                    category\n",
      " 36  Census_PrimaryDiskTotalCapacity                    float32 \n",
      " 37  Census_PrimaryDiskTypeName                         category\n",
      " 38  Census_SystemVolumeTotalCapacity                   float32 \n",
      " 39  Census_HasOpticalDiskDrive                         Int64   \n",
      " 40  Census_TotalPhysicalRAM                            float32 \n",
      " 41  Census_ChassisTypeName                             category\n",
      " 42  Census_InternalPrimaryDiagonalDisplaySizeInInches  float32 \n",
      " 43  Census_InternalPrimaryDisplayResolutionHorizontal  float32 \n",
      " 44  Census_InternalPrimaryDisplayResolutionVertical    float32 \n",
      " 45  Census_PowerPlatformRoleName                       category\n",
      " 46  Census_InternalBatteryNumberOfCharges              category\n",
      " 47  Census_OSVersion                                   category\n",
      " 48  Census_OSArchitecture                              category\n",
      " 49  Census_OSBuildRevision                             category\n",
      " 50  Census_OSEdition                                   category\n",
      " 51  Census_OSSkuName                                   category\n",
      " 52  Census_OSInstallTypeName                           category\n",
      " 53  Census_OSInstallLanguageIdentifier                 category\n",
      " 54  Census_OSUILocaleIdentifier                        category\n",
      " 55  Census_OSWUAutoUpdateOptionsName                   category\n",
      " 56  Census_IsPortableOperatingSystem                   Int64   \n",
      " 57  Census_GenuineStateName                            category\n",
      " 58  Census_ActivationChannel                           category\n",
      " 59  Census_IsFlightsDisabled                           Int64   \n",
      " 60  Census_FlightRing                                  category\n",
      " 61  Census_FirmwareManufacturerIdentifier              category\n",
      " 62  Census_FirmwareVersionIdentifier                   category\n",
      " 63  Census_IsSecureBootEnabled                         Int64   \n",
      " 64  Census_IsVirtualDevice                             Int64   \n",
      " 65  Census_IsTouchEnabled                              Int64   \n",
      " 66  Census_IsPenCapable                                Int64   \n",
      " 67  Census_IsAlwaysOnAlwaysConnectedCapable            Int64   \n",
      " 68  Wdft_IsGamer                                       Int64   \n",
      " 69  Wdft_RegionIdentifier                              category\n",
      " 70  HasDetections                                      Int64   \n",
      " 71  Census_OSBranch_release_extracted                  category\n",
      "dtypes: Int64(15), category(50), float32(7)\n",
      "memory usage: 2.0 GB\n"
     ]
    }
   ],
   "source": [
    "df.info()"
   ]
  },
  {
   "cell_type": "markdown",
   "id": "73333b19",
   "metadata": {},
   "source": [
    "Extract features and reduce cardinality from categorical features (ID features omitted)."
   ]
  },
  {
   "cell_type": "markdown",
   "id": "9a82cbc7",
   "metadata": {},
   "source": [
    "#### AvSigVersion"
   ]
  },
  {
   "cell_type": "code",
   "execution_count": 4,
   "id": "d971a929",
   "metadata": {},
   "outputs": [
    {
     "data": {
      "text/plain": [
       "0"
      ]
     },
     "execution_count": 4,
     "metadata": {},
     "output_type": "execute_result"
    }
   ],
   "source": [
    "df['AvSigVersion'].isnull().sum()"
   ]
  },
  {
   "cell_type": "code",
   "execution_count": 5,
   "id": "ec2da599",
   "metadata": {},
   "outputs": [
    {
     "data": {
      "text/html": [
       "<div>\n",
       "<style scoped>\n",
       "    .dataframe tbody tr th:only-of-type {\n",
       "        vertical-align: middle;\n",
       "    }\n",
       "\n",
       "    .dataframe tbody tr th {\n",
       "        vertical-align: top;\n",
       "    }\n",
       "\n",
       "    .dataframe thead th {\n",
       "        text-align: right;\n",
       "    }\n",
       "</style>\n",
       "<table border=\"1\" class=\"dataframe\">\n",
       "  <thead>\n",
       "    <tr style=\"text-align: right;\">\n",
       "      <th></th>\n",
       "      <th>Count</th>\n",
       "      <th>%</th>\n",
       "    </tr>\n",
       "  </thead>\n",
       "  <tbody>\n",
       "    <tr>\n",
       "      <th>1.273.1420.0</th>\n",
       "      <td>102317</td>\n",
       "      <td>1.146862</td>\n",
       "    </tr>\n",
       "    <tr>\n",
       "      <th>1.263.48.0</th>\n",
       "      <td>98024</td>\n",
       "      <td>1.098742</td>\n",
       "    </tr>\n",
       "    <tr>\n",
       "      <th>1.275.1140.0</th>\n",
       "      <td>97231</td>\n",
       "      <td>1.089853</td>\n",
       "    </tr>\n",
       "    <tr>\n",
       "      <th>1.275.727.0</th>\n",
       "      <td>92448</td>\n",
       "      <td>1.036241</td>\n",
       "    </tr>\n",
       "    <tr>\n",
       "      <th>1.273.371.0</th>\n",
       "      <td>86967</td>\n",
       "      <td>0.974805</td>\n",
       "    </tr>\n",
       "    <tr>\n",
       "      <th>1.273.1826.0</th>\n",
       "      <td>86013</td>\n",
       "      <td>0.964112</td>\n",
       "    </tr>\n",
       "    <tr>\n",
       "      <th>1.275.1244.0</th>\n",
       "      <td>78902</td>\n",
       "      <td>0.884405</td>\n",
       "    </tr>\n",
       "    <tr>\n",
       "      <th>1.251.42.0</th>\n",
       "      <td>76837</td>\n",
       "      <td>0.861259</td>\n",
       "    </tr>\n",
       "    <tr>\n",
       "      <th>1.275.1209.0</th>\n",
       "      <td>66393</td>\n",
       "      <td>0.744193</td>\n",
       "    </tr>\n",
       "    <tr>\n",
       "      <th>1.273.810.0</th>\n",
       "      <td>65895</td>\n",
       "      <td>0.738611</td>\n",
       "    </tr>\n",
       "    <tr>\n",
       "      <th>1.273.1749.0</th>\n",
       "      <td>65381</td>\n",
       "      <td>0.732849</td>\n",
       "    </tr>\n",
       "    <tr>\n",
       "      <th>1.237.0.0</th>\n",
       "      <td>64160</td>\n",
       "      <td>0.719163</td>\n",
       "    </tr>\n",
       "    <tr>\n",
       "      <th>1.273.1005.0</th>\n",
       "      <td>48540</td>\n",
       "      <td>0.544080</td>\n",
       "    </tr>\n",
       "    <tr>\n",
       "      <th>1.273.1379.0</th>\n",
       "      <td>48509</td>\n",
       "      <td>0.543733</td>\n",
       "    </tr>\n",
       "    <tr>\n",
       "      <th>1.273.894.0</th>\n",
       "      <td>45515</td>\n",
       "      <td>0.510173</td>\n",
       "    </tr>\n",
       "    <tr>\n",
       "      <th>1.273.781.0</th>\n",
       "      <td>44347</td>\n",
       "      <td>0.497081</td>\n",
       "    </tr>\n",
       "    <tr>\n",
       "      <th>1.273.1527.0</th>\n",
       "      <td>40884</td>\n",
       "      <td>0.458265</td>\n",
       "    </tr>\n",
       "    <tr>\n",
       "      <th>1.273.461.0</th>\n",
       "      <td>40454</td>\n",
       "      <td>0.453445</td>\n",
       "    </tr>\n",
       "    <tr>\n",
       "      <th>1.273.337.0</th>\n",
       "      <td>39209</td>\n",
       "      <td>0.439490</td>\n",
       "    </tr>\n",
       "    <tr>\n",
       "      <th>1.275.948.0</th>\n",
       "      <td>38372</td>\n",
       "      <td>0.430108</td>\n",
       "    </tr>\n",
       "  </tbody>\n",
       "</table>\n",
       "</div>"
      ],
      "text/plain": [
       "               Count         %\n",
       "1.273.1420.0  102317  1.146862\n",
       "1.263.48.0     98024  1.098742\n",
       "1.275.1140.0   97231  1.089853\n",
       "1.275.727.0    92448  1.036241\n",
       "1.273.371.0    86967  0.974805\n",
       "1.273.1826.0   86013  0.964112\n",
       "1.275.1244.0   78902  0.884405\n",
       "1.251.42.0     76837  0.861259\n",
       "1.275.1209.0   66393  0.744193\n",
       "1.273.810.0    65895  0.738611\n",
       "1.273.1749.0   65381  0.732849\n",
       "1.237.0.0      64160  0.719163\n",
       "1.273.1005.0   48540  0.544080\n",
       "1.273.1379.0   48509  0.543733\n",
       "1.273.894.0    45515  0.510173\n",
       "1.273.781.0    44347  0.497081\n",
       "1.273.1527.0   40884  0.458265\n",
       "1.273.461.0    40454  0.453445\n",
       "1.273.337.0    39209  0.439490\n",
       "1.275.948.0    38372  0.430108"
      ]
     },
     "execution_count": 5,
     "metadata": {},
     "output_type": "execute_result"
    }
   ],
   "source": [
    "av_sig_ver = pd.concat([df['AvSigVersion'].value_counts(),\n",
    "                        df['AvSigVersion'].value_counts(normalize=True) * 100], \n",
    "                        axis=1)\n",
    "av_sig_ver.columns=['Count', '%']\n",
    "av_sig_ver.head(20)"
   ]
  },
  {
   "cell_type": "code",
   "execution_count": 6,
   "id": "10b59c81",
   "metadata": {},
   "outputs": [
    {
     "data": {
      "text/plain": [
       "110258     0.0.0.0\n",
       "152561     0.0.0.0\n",
       "165482     0.0.0.0\n",
       "475422     0.0.0.0\n",
       "549779     0.0.0.0\n",
       "703215     0.0.0.0\n",
       "710963     0.0.0.0\n",
       "734068     0.0.0.0\n",
       "735046     0.0.0.0\n",
       "876787     0.0.0.0\n",
       "892801     0.0.0.0\n",
       "1016150    0.0.0.0\n",
       "1275308    0.0.0.0\n",
       "1307121    0.0.0.0\n",
       "1592098    0.0.0.0\n",
       "1672030    0.0.0.0\n",
       "1856404    0.0.0.0\n",
       "1956722    0.0.0.0\n",
       "1989763    0.0.0.0\n",
       "2064206    0.0.0.0\n",
       "2130333    0.0.0.0\n",
       "2641951    0.0.0.0\n",
       "2883656    0.0.0.0\n",
       "3186161    0.0.0.0\n",
       "3277045    0.0.0.0\n",
       "3345950    0.0.0.0\n",
       "3485546    0.0.0.0\n",
       "3596984    0.0.0.0\n",
       "4097861    0.0.0.0\n",
       "4123323    0.0.0.0\n",
       "4141773    0.0.0.0\n",
       "4557176    0.0.0.0\n",
       "4944332    0.0.0.0\n",
       "5031887    0.0.0.0\n",
       "5050150    0.0.0.0\n",
       "5054364    0.0.0.0\n",
       "5388655    0.0.0.0\n",
       "5471692    0.0.0.0\n",
       "5718933    0.0.0.0\n",
       "5827377    0.0.0.0\n",
       "5875826    0.0.0.0\n",
       "6143595    0.0.0.0\n",
       "6189122    0.0.0.0\n",
       "6302952    0.0.0.0\n",
       "6308809    0.0.0.0\n",
       "6435549    0.0.0.0\n",
       "6485019    0.0.0.0\n",
       "6702847    0.0.0.0\n",
       "6822125    0.0.0.0\n",
       "6870799    0.0.0.0\n",
       "6884481    0.0.0.0\n",
       "6918765    0.0.0.0\n",
       "7285638    0.0.0.0\n",
       "7570941    0.0.0.0\n",
       "7606640    0.0.0.0\n",
       "7701281    0.0.0.0\n",
       "7733348    0.0.0.0\n",
       "7752938    0.0.0.0\n",
       "7763129    0.0.0.0\n",
       "7877516    0.0.0.0\n",
       "8029598    0.0.0.0\n",
       "8161365    0.0.0.0\n",
       "8259464    0.0.0.0\n",
       "8261662    0.0.0.0\n",
       "8361401    0.0.0.0\n",
       "8394149    0.0.0.0\n",
       "8566717    0.0.0.0\n",
       "8602753    0.0.0.0\n",
       "Name: AvSigVersion, dtype: category\n",
       "Categories (8531, object): ['0.0.0.0', '1.155.266.0', '1.167.387.0', '1.169.1625.0', ..., '1.277.58.0', '1.277.62.0', '1.277.64.0', '1.277.67.0']"
      ]
     },
     "execution_count": 6,
     "metadata": {},
     "output_type": "execute_result"
    }
   ],
   "source": [
    "idx = df['AvSigVersion'][~df.AvSigVersion.str.startswith('1')].index\n",
    "df['AvSigVersion'].loc[idx]"
   ]
  },
  {
   "cell_type": "code",
   "execution_count": 7,
   "id": "b3863b37",
   "metadata": {
    "scrolled": true
   },
   "outputs": [
    {
     "data": {
      "text/html": [
       "<div>\n",
       "<style scoped>\n",
       "    .dataframe tbody tr th:only-of-type {\n",
       "        vertical-align: middle;\n",
       "    }\n",
       "\n",
       "    .dataframe tbody tr th {\n",
       "        vertical-align: top;\n",
       "    }\n",
       "\n",
       "    .dataframe thead th {\n",
       "        text-align: right;\n",
       "    }\n",
       "</style>\n",
       "<table border=\"1\" class=\"dataframe\">\n",
       "  <thead>\n",
       "    <tr style=\"text-align: right;\">\n",
       "      <th></th>\n",
       "      <th>AvSigVersion</th>\n",
       "      <th>AvSigVersion_extracted</th>\n",
       "    </tr>\n",
       "  </thead>\n",
       "  <tbody>\n",
       "    <tr>\n",
       "      <th>0</th>\n",
       "      <td>1.273.1735.0</td>\n",
       "      <td>273</td>\n",
       "    </tr>\n",
       "    <tr>\n",
       "      <th>1</th>\n",
       "      <td>1.263.48.0</td>\n",
       "      <td>263</td>\n",
       "    </tr>\n",
       "    <tr>\n",
       "      <th>2</th>\n",
       "      <td>1.273.1341.0</td>\n",
       "      <td>273</td>\n",
       "    </tr>\n",
       "    <tr>\n",
       "      <th>3</th>\n",
       "      <td>1.273.1527.0</td>\n",
       "      <td>273</td>\n",
       "    </tr>\n",
       "    <tr>\n",
       "      <th>4</th>\n",
       "      <td>1.273.1379.0</td>\n",
       "      <td>273</td>\n",
       "    </tr>\n",
       "    <tr>\n",
       "      <th>...</th>\n",
       "      <td>...</td>\n",
       "      <td>...</td>\n",
       "    </tr>\n",
       "    <tr>\n",
       "      <th>8921478</th>\n",
       "      <td>1.273.1555.0</td>\n",
       "      <td>273</td>\n",
       "    </tr>\n",
       "    <tr>\n",
       "      <th>8921479</th>\n",
       "      <td>1.233.4218.0</td>\n",
       "      <td>233</td>\n",
       "    </tr>\n",
       "    <tr>\n",
       "      <th>8921480</th>\n",
       "      <td>1.275.1242.0</td>\n",
       "      <td>275</td>\n",
       "    </tr>\n",
       "    <tr>\n",
       "      <th>8921481</th>\n",
       "      <td>1.269.1834.0</td>\n",
       "      <td>269</td>\n",
       "    </tr>\n",
       "    <tr>\n",
       "      <th>8921482</th>\n",
       "      <td>1.275.1209.0</td>\n",
       "      <td>275</td>\n",
       "    </tr>\n",
       "  </tbody>\n",
       "</table>\n",
       "<p>8921478 rows × 2 columns</p>\n",
       "</div>"
      ],
      "text/plain": [
       "         AvSigVersion AvSigVersion_extracted\n",
       "0        1.273.1735.0                    273\n",
       "1          1.263.48.0                    263\n",
       "2        1.273.1341.0                    273\n",
       "3        1.273.1527.0                    273\n",
       "4        1.273.1379.0                    273\n",
       "...               ...                    ...\n",
       "8921478  1.273.1555.0                    273\n",
       "8921479  1.233.4218.0                    233\n",
       "8921480  1.275.1242.0                    275\n",
       "8921481  1.269.1834.0                    269\n",
       "8921482  1.275.1209.0                    275\n",
       "\n",
       "[8921478 rows x 2 columns]"
      ]
     },
     "execution_count": 7,
     "metadata": {},
     "output_type": "execute_result"
    }
   ],
   "source": [
    "df['AvSigVersion_extracted'] = [item[1] for item in df.AvSigVersion.str.split('.')]\n",
    "df['AvSigVersion_extracted'] = df['AvSigVersion_extracted'].astype('category')\n",
    "df[['AvSigVersion','AvSigVersion_extracted']]"
   ]
  },
  {
   "cell_type": "code",
   "execution_count": 8,
   "id": "7148cb18",
   "metadata": {},
   "outputs": [
    {
     "data": {
      "text/html": [
       "<div>\n",
       "<style scoped>\n",
       "    .dataframe tbody tr th:only-of-type {\n",
       "        vertical-align: middle;\n",
       "    }\n",
       "\n",
       "    .dataframe tbody tr th {\n",
       "        vertical-align: top;\n",
       "    }\n",
       "\n",
       "    .dataframe thead th {\n",
       "        text-align: right;\n",
       "    }\n",
       "</style>\n",
       "<table border=\"1\" class=\"dataframe\">\n",
       "  <thead>\n",
       "    <tr style=\"text-align: right;\">\n",
       "      <th></th>\n",
       "      <th>Count</th>\n",
       "      <th>%</th>\n",
       "    </tr>\n",
       "  </thead>\n",
       "  <tbody>\n",
       "    <tr>\n",
       "      <th>275</th>\n",
       "      <td>3901024</td>\n",
       "      <td>43.726208</td>\n",
       "    </tr>\n",
       "    <tr>\n",
       "      <th>273</th>\n",
       "      <td>3724333</td>\n",
       "      <td>41.745695</td>\n",
       "    </tr>\n",
       "    <tr>\n",
       "      <th>271</th>\n",
       "      <td>269369</td>\n",
       "      <td>3.019332</td>\n",
       "    </tr>\n",
       "    <tr>\n",
       "      <th>269</th>\n",
       "      <td>214502</td>\n",
       "      <td>2.404333</td>\n",
       "    </tr>\n",
       "    <tr>\n",
       "      <th>263</th>\n",
       "      <td>160659</td>\n",
       "      <td>1.800811</td>\n",
       "    </tr>\n",
       "    <tr>\n",
       "      <th>267</th>\n",
       "      <td>138899</td>\n",
       "      <td>1.556906</td>\n",
       "    </tr>\n",
       "    <tr>\n",
       "      <th>251</th>\n",
       "      <td>94182</td>\n",
       "      <td>1.055677</td>\n",
       "    </tr>\n",
       "    <tr>\n",
       "      <th>277</th>\n",
       "      <td>79719</td>\n",
       "      <td>0.893563</td>\n",
       "    </tr>\n",
       "    <tr>\n",
       "      <th>237</th>\n",
       "      <td>70628</td>\n",
       "      <td>0.791663</td>\n",
       "    </tr>\n",
       "    <tr>\n",
       "      <th>261</th>\n",
       "      <td>48790</td>\n",
       "      <td>0.546882</td>\n",
       "    </tr>\n",
       "  </tbody>\n",
       "</table>\n",
       "</div>"
      ],
      "text/plain": [
       "       Count          %\n",
       "275  3901024  43.726208\n",
       "273  3724333  41.745695\n",
       "271   269369   3.019332\n",
       "269   214502   2.404333\n",
       "263   160659   1.800811\n",
       "267   138899   1.556906\n",
       "251    94182   1.055677\n",
       "277    79719   0.893563\n",
       "237    70628   0.791663\n",
       "261    48790   0.546882"
      ]
     },
     "execution_count": 8,
     "metadata": {},
     "output_type": "execute_result"
    }
   ],
   "source": [
    "av_sig_ver = pd.concat([df['AvSigVersion_extracted'].value_counts(),\n",
    "                        df['AvSigVersion_extracted'].value_counts(normalize=True) * 100], \n",
    "                        axis=1)\n",
    "av_sig_ver.columns=['Count', '%']\n",
    "av_sig_ver.head(10)"
   ]
  },
  {
   "cell_type": "code",
   "execution_count": 9,
   "id": "34f99409",
   "metadata": {
    "scrolled": false
   },
   "outputs": [
    {
     "data": {
      "image/png": "[encoded data removed]",
      "text/plain": [
       "<Figure size 720x432 with 1 Axes>"
      ]
     },
     "metadata": {},
     "output_type": "display_data"
    }
   ],
   "source": [
    "plt.figure(figsize=(10, 6))\n",
    "sns.countplot(x='AvSigVersion_extracted',\n",
    "            hue='HasDetections',\n",
    "            data=df,\n",
    "            order=df['AvSigVersion_extracted'].value_counts().index[:15],\n",
    "            color='blue',\n",
    "            edgecolor=sns.color_palette('dark', 1),\n",
    "            alpha=0.8)\n",
    "plt.legend(loc=1, title='HasDetections')\n",
    "plt.xticks(rotation = 45)\n",
    "plt.tight_layout()"
   ]
  },
  {
   "cell_type": "code",
   "execution_count": null,
   "id": "95966fc0",
   "metadata": {},
   "outputs": [],
   "source": []
  },
  {
   "cell_type": "code",
   "execution_count": 10,
   "id": "fb55a519",
   "metadata": {},
   "outputs": [
    {
     "data": {
      "text/plain": [
       "CategoricalDtype(categories=['0', '155', '167', '169', '177', '187', '189', '193', '195',\n",
       "                  '197', '199', '2&#x17;3', '201', '203', '205', '207', '209',\n",
       "                  '211', '213', '215', '217', '219', '221', '223', '225',\n",
       "                  '227', '229', '231', '233', '235', '237', '239', '241',\n",
       "                  '243', '245', '247', '249', '251', '253', '255', '257',\n",
       "                  '259', '261', '263', '265', '267', '269', '271', '273',\n",
       "                  '275', '277'],\n",
       ", ordered=False)"
      ]
     },
     "execution_count": 10,
     "metadata": {},
     "output_type": "execute_result"
    }
   ],
   "source": [
    "df['AvSigVersion_extracted'].dtype"
   ]
  },
  {
   "cell_type": "code",
   "execution_count": 11,
   "id": "baed0979",
   "metadata": {},
   "outputs": [
    {
     "data": {
      "text/plain": [
       "275      0.437262\n",
       "273      0.417457\n",
       "Other    0.145281\n",
       "Name: AvSigVersion_encoded, dtype: float64"
      ]
     },
     "execution_count": 11,
     "metadata": {},
     "output_type": "execute_result"
    }
   ],
   "source": [
    "df['AvSigVersion_extracted'] = df['AvSigVersion_extracted'].astype('category')\n",
    "df['AvSigVersion_extracted'].cat.add_categories('Other', inplace=True)\n",
    "df.loc[(df['AvSigVersion_extracted'] != '275') & (df['AvSigVersion_extracted'] != '273'), \n",
    "       'AvSigVersion_extracted'] = 'Other'\n",
    "df['AvSigVersion_extracted'].cat.remove_unused_categories(inplace=True)\n",
    "df.rename(columns={'AvSigVersion_extracted':'AvSigVersion_encoded'}, inplace=True)\n",
    "df['AvSigVersion_encoded'].value_counts(normalize=True)"
   ]
  },
  {
   "cell_type": "code",
   "execution_count": 12,
   "id": "e6ee9bf8",
   "metadata": {},
   "outputs": [],
   "source": [
    "to_drop = []\n",
    "to_drop.append('AvSigVersion')"
   ]
  },
  {
   "cell_type": "markdown",
   "id": "2ff61dee",
   "metadata": {},
   "source": [
    "#### Census_OSVersion"
   ]
  },
  {
   "cell_type": "code",
   "execution_count": 13,
   "id": "3719f0e1",
   "metadata": {},
   "outputs": [
    {
     "data": {
      "text/plain": [
       "0"
      ]
     },
     "execution_count": 13,
     "metadata": {},
     "output_type": "execute_result"
    }
   ],
   "source": [
    "df['Census_OSVersion'].isnull().sum()"
   ]
  },
  {
   "cell_type": "code",
   "execution_count": 14,
   "id": "5baa455d",
   "metadata": {
    "scrolled": true
   },
   "outputs": [
    {
     "data": {
      "text/html": [
       "<div>\n",
       "<style scoped>\n",
       "    .dataframe tbody tr th:only-of-type {\n",
       "        vertical-align: middle;\n",
       "    }\n",
       "\n",
       "    .dataframe tbody tr th {\n",
       "        vertical-align: top;\n",
       "    }\n",
       "\n",
       "    .dataframe thead th {\n",
       "        text-align: right;\n",
       "    }\n",
       "</style>\n",
       "<table border=\"1\" class=\"dataframe\">\n",
       "  <thead>\n",
       "    <tr style=\"text-align: right;\">\n",
       "      <th></th>\n",
       "      <th>Count</th>\n",
       "      <th>%</th>\n",
       "    </tr>\n",
       "  </thead>\n",
       "  <tbody>\n",
       "    <tr>\n",
       "      <th>10.0.17134.228</th>\n",
       "      <td>1413627</td>\n",
       "      <td>15.845211</td>\n",
       "    </tr>\n",
       "    <tr>\n",
       "      <th>10.0.17134.165</th>\n",
       "      <td>899711</td>\n",
       "      <td>10.084775</td>\n",
       "    </tr>\n",
       "    <tr>\n",
       "      <th>10.0.16299.431</th>\n",
       "      <td>546546</td>\n",
       "      <td>6.126182</td>\n",
       "    </tr>\n",
       "    <tr>\n",
       "      <th>10.0.17134.285</th>\n",
       "      <td>470278</td>\n",
       "      <td>5.271301</td>\n",
       "    </tr>\n",
       "    <tr>\n",
       "      <th>10.0.16299.547</th>\n",
       "      <td>346853</td>\n",
       "      <td>3.887842</td>\n",
       "    </tr>\n",
       "    <tr>\n",
       "      <th>10.0.17134.112</th>\n",
       "      <td>346410</td>\n",
       "      <td>3.882877</td>\n",
       "    </tr>\n",
       "    <tr>\n",
       "      <th>10.0.16299.371</th>\n",
       "      <td>325267</td>\n",
       "      <td>3.645887</td>\n",
       "    </tr>\n",
       "    <tr>\n",
       "      <th>10.0.17134.191</th>\n",
       "      <td>228254</td>\n",
       "      <td>2.558477</td>\n",
       "    </tr>\n",
       "    <tr>\n",
       "      <th>10.0.14393.2189</th>\n",
       "      <td>223774</td>\n",
       "      <td>2.508262</td>\n",
       "    </tr>\n",
       "    <tr>\n",
       "      <th>10.0.16299.611</th>\n",
       "      <td>216776</td>\n",
       "      <td>2.429822</td>\n",
       "    </tr>\n",
       "    <tr>\n",
       "      <th>10.0.16299.125</th>\n",
       "      <td>213342</td>\n",
       "      <td>2.391330</td>\n",
       "    </tr>\n",
       "    <tr>\n",
       "      <th>10.0.10240.17443</th>\n",
       "      <td>206842</td>\n",
       "      <td>2.318472</td>\n",
       "    </tr>\n",
       "    <tr>\n",
       "      <th>10.0.10586.1176</th>\n",
       "      <td>182087</td>\n",
       "      <td>2.040996</td>\n",
       "    </tr>\n",
       "    <tr>\n",
       "      <th>10.0.16299.492</th>\n",
       "      <td>168878</td>\n",
       "      <td>1.892937</td>\n",
       "    </tr>\n",
       "    <tr>\n",
       "      <th>10.0.16299.309</th>\n",
       "      <td>151196</td>\n",
       "      <td>1.694742</td>\n",
       "    </tr>\n",
       "    <tr>\n",
       "      <th>10.0.17134.286</th>\n",
       "      <td>139040</td>\n",
       "      <td>1.558486</td>\n",
       "    </tr>\n",
       "    <tr>\n",
       "      <th>10.0.16299.15</th>\n",
       "      <td>117555</td>\n",
       "      <td>1.317663</td>\n",
       "    </tr>\n",
       "    <tr>\n",
       "      <th>10.0.17134.254</th>\n",
       "      <td>112344</td>\n",
       "      <td>1.259253</td>\n",
       "    </tr>\n",
       "    <tr>\n",
       "      <th>10.0.15063.1206</th>\n",
       "      <td>102275</td>\n",
       "      <td>1.146391</td>\n",
       "    </tr>\n",
       "    <tr>\n",
       "      <th>10.0.15063.1266</th>\n",
       "      <td>101237</td>\n",
       "      <td>1.134756</td>\n",
       "    </tr>\n",
       "  </tbody>\n",
       "</table>\n",
       "</div>"
      ],
      "text/plain": [
       "                    Count          %\n",
       "10.0.17134.228    1413627  15.845211\n",
       "10.0.17134.165     899711  10.084775\n",
       "10.0.16299.431     546546   6.126182\n",
       "10.0.17134.285     470278   5.271301\n",
       "10.0.16299.547     346853   3.887842\n",
       "10.0.17134.112     346410   3.882877\n",
       "10.0.16299.371     325267   3.645887\n",
       "10.0.17134.191     228254   2.558477\n",
       "10.0.14393.2189    223774   2.508262\n",
       "10.0.16299.611     216776   2.429822\n",
       "10.0.16299.125     213342   2.391330\n",
       "10.0.10240.17443   206842   2.318472\n",
       "10.0.10586.1176    182087   2.040996\n",
       "10.0.16299.492     168878   1.892937\n",
       "10.0.16299.309     151196   1.694742\n",
       "10.0.17134.286     139040   1.558486\n",
       "10.0.16299.15      117555   1.317663\n",
       "10.0.17134.254     112344   1.259253\n",
       "10.0.15063.1206    102275   1.146391\n",
       "10.0.15063.1266    101237   1.134756"
      ]
     },
     "execution_count": 14,
     "metadata": {},
     "output_type": "execute_result"
    }
   ],
   "source": [
    "census_os_ver = pd.concat([df['Census_OSVersion'].value_counts(),\n",
    "                        df['Census_OSVersion'].value_counts(normalize=True) * 100], \n",
    "                        axis=1)\n",
    "census_os_ver.columns=['Count', '%']\n",
    "census_os_ver.head(20)"
   ]
  },
  {
   "cell_type": "code",
   "execution_count": 15,
   "id": "2a935f70",
   "metadata": {},
   "outputs": [
    {
     "data": {
      "text/plain": [
       "20"
      ]
     },
     "execution_count": 15,
     "metadata": {},
     "output_type": "execute_result"
    }
   ],
   "source": [
    "sum(~df.Census_OSVersion.str.startswith('10.0.'))"
   ]
  },
  {
   "cell_type": "code",
   "execution_count": 16,
   "id": "ece74168",
   "metadata": {},
   "outputs": [
    {
     "data": {
      "text/plain": [
       "539238     6.3.9600.19102\n",
       "570167     6.1.7601.24241\n",
       "667694     6.2.9200.17617\n",
       "1370982    6.3.9600.19069\n",
       "1485064    6.3.9600.19069\n",
       "1549235    6.2.9200.17617\n",
       "2927703    6.2.9200.17581\n",
       "3183570    6.3.9600.18687\n",
       "3336222    6.3.9600.19102\n",
       "4035016    6.1.7601.24149\n",
       "4813273    6.3.9600.19102\n",
       "5593621    6.3.9600.19069\n",
       "5889449    6.3.9600.18778\n",
       "6422191    6.1.7601.24241\n",
       "6758081    6.1.7601.24214\n",
       "6895980    6.3.9600.18756\n",
       "7611545    6.1.7601.23418\n",
       "8266291    6.3.9600.19069\n",
       "8370072    6.3.9600.19102\n",
       "8743609    6.2.9200.21703\n",
       "Name: Census_OSVersion, dtype: category\n",
       "Categories (469, object): ['10.0.10240.16384', '10.0.10240.16387', '10.0.10240.16389', '10.0.10240.16391', ..., '6.3.9600.18756', '6.3.9600.18778', '6.3.9600.19069', '6.3.9600.19102']"
      ]
     },
     "execution_count": 16,
     "metadata": {},
     "output_type": "execute_result"
    }
   ],
   "source": [
    "idx = df['Census_OSVersion'][~df.Census_OSVersion.str.startswith('10')].index\n",
    "df['Census_OSVersion'].loc[idx]"
   ]
  },
  {
   "cell_type": "code",
   "execution_count": 17,
   "id": "96aed4a5",
   "metadata": {},
   "outputs": [
    {
     "data": {
      "text/plain": [
       "20"
      ]
     },
     "execution_count": 17,
     "metadata": {},
     "output_type": "execute_result"
    }
   ],
   "source": [
    "len(idx)"
   ]
  },
  {
   "cell_type": "markdown",
   "id": "f7441252",
   "metadata": {},
   "source": [
    "OS Version 6 is rare, just 20 cases. All the others are ver 10.0. \n",
    "Of these we can extract the 5-digit build code after \"10.0.\". "
   ]
  },
  {
   "cell_type": "code",
   "execution_count": 18,
   "id": "f1f6cbec",
   "metadata": {},
   "outputs": [
    {
     "data": {
      "text/html": [
       "<div>\n",
       "<style scoped>\n",
       "    .dataframe tbody tr th:only-of-type {\n",
       "        vertical-align: middle;\n",
       "    }\n",
       "\n",
       "    .dataframe tbody tr th {\n",
       "        vertical-align: top;\n",
       "    }\n",
       "\n",
       "    .dataframe thead th {\n",
       "        text-align: right;\n",
       "    }\n",
       "</style>\n",
       "<table border=\"1\" class=\"dataframe\">\n",
       "  <thead>\n",
       "    <tr style=\"text-align: right;\">\n",
       "      <th></th>\n",
       "      <th>Census_OSVersion</th>\n",
       "      <th>Census_OSVersion_extracted</th>\n",
       "    </tr>\n",
       "  </thead>\n",
       "  <tbody>\n",
       "    <tr>\n",
       "      <th>0</th>\n",
       "      <td>10.0.17134.165</td>\n",
       "      <td>17134</td>\n",
       "    </tr>\n",
       "    <tr>\n",
       "      <th>1</th>\n",
       "      <td>10.0.17134.1</td>\n",
       "      <td>17134</td>\n",
       "    </tr>\n",
       "    <tr>\n",
       "      <th>2</th>\n",
       "      <td>10.0.17134.165</td>\n",
       "      <td>17134</td>\n",
       "    </tr>\n",
       "    <tr>\n",
       "      <th>3</th>\n",
       "      <td>10.0.17134.228</td>\n",
       "      <td>17134</td>\n",
       "    </tr>\n",
       "    <tr>\n",
       "      <th>4</th>\n",
       "      <td>10.0.17134.191</td>\n",
       "      <td>17134</td>\n",
       "    </tr>\n",
       "    <tr>\n",
       "      <th>...</th>\n",
       "      <td>...</td>\n",
       "      <td>...</td>\n",
       "    </tr>\n",
       "    <tr>\n",
       "      <th>8921478</th>\n",
       "      <td>10.0.16299.431</td>\n",
       "      <td>16299</td>\n",
       "    </tr>\n",
       "    <tr>\n",
       "      <th>8921479</th>\n",
       "      <td>10.0.10586.679</td>\n",
       "      <td>10586</td>\n",
       "    </tr>\n",
       "    <tr>\n",
       "      <th>8921480</th>\n",
       "      <td>10.0.16299.371</td>\n",
       "      <td>16299</td>\n",
       "    </tr>\n",
       "    <tr>\n",
       "      <th>8921481</th>\n",
       "      <td>10.0.15063.483</td>\n",
       "      <td>15063</td>\n",
       "    </tr>\n",
       "    <tr>\n",
       "      <th>8921482</th>\n",
       "      <td>10.0.17134.228</td>\n",
       "      <td>17134</td>\n",
       "    </tr>\n",
       "  </tbody>\n",
       "</table>\n",
       "<p>8921478 rows × 2 columns</p>\n",
       "</div>"
      ],
      "text/plain": [
       "        Census_OSVersion Census_OSVersion_extracted\n",
       "0         10.0.17134.165                      17134\n",
       "1           10.0.17134.1                      17134\n",
       "2         10.0.17134.165                      17134\n",
       "3         10.0.17134.228                      17134\n",
       "4         10.0.17134.191                      17134\n",
       "...                  ...                        ...\n",
       "8921478   10.0.16299.431                      16299\n",
       "8921479   10.0.10586.679                      10586\n",
       "8921480   10.0.16299.371                      16299\n",
       "8921481   10.0.15063.483                      15063\n",
       "8921482   10.0.17134.228                      17134\n",
       "\n",
       "[8921478 rows x 2 columns]"
      ]
     },
     "execution_count": 18,
     "metadata": {},
     "output_type": "execute_result"
    }
   ],
   "source": [
    "df['Census_OSVersion_extracted'] = [item[2] for item in df.Census_OSVersion.str.split('.')]\n",
    "df['Census_OSVersion_extracted'] = df['Census_OSVersion_extracted'].astype('category')\n",
    "df[['Census_OSVersion', 'Census_OSVersion_extracted']]"
   ]
  },
  {
   "cell_type": "markdown",
   "id": "c892cec1",
   "metadata": {},
   "source": [
    "This is probably the build number, which was already included in the features. I will check on this later when I analyze the OS features."
   ]
  },
  {
   "cell_type": "code",
   "execution_count": 19,
   "id": "862c0b5a",
   "metadata": {},
   "outputs": [],
   "source": [
    "to_drop.append('Census_OSVersion')"
   ]
  },
  {
   "cell_type": "markdown",
   "id": "9b2305ae",
   "metadata": {},
   "source": [
    "#### AppVersion"
   ]
  },
  {
   "cell_type": "code",
   "execution_count": 20,
   "id": "3a3c1e74",
   "metadata": {},
   "outputs": [
    {
     "data": {
      "text/plain": [
       "0"
      ]
     },
     "execution_count": 20,
     "metadata": {},
     "output_type": "execute_result"
    }
   ],
   "source": [
    "df['AppVersion'].isnull().sum()"
   ]
  },
  {
   "cell_type": "code",
   "execution_count": 21,
   "id": "57f223b2",
   "metadata": {},
   "outputs": [
    {
     "data": {
      "text/html": [
       "<div>\n",
       "<style scoped>\n",
       "    .dataframe tbody tr th:only-of-type {\n",
       "        vertical-align: middle;\n",
       "    }\n",
       "\n",
       "    .dataframe tbody tr th {\n",
       "        vertical-align: top;\n",
       "    }\n",
       "\n",
       "    .dataframe thead th {\n",
       "        text-align: right;\n",
       "    }\n",
       "</style>\n",
       "<table border=\"1\" class=\"dataframe\">\n",
       "  <thead>\n",
       "    <tr style=\"text-align: right;\">\n",
       "      <th></th>\n",
       "      <th>Count</th>\n",
       "      <th>%</th>\n",
       "    </tr>\n",
       "  </thead>\n",
       "  <tbody>\n",
       "    <tr>\n",
       "      <th>4.18.1807.18075</th>\n",
       "      <td>5139221</td>\n",
       "      <td>57.605040</td>\n",
       "    </tr>\n",
       "    <tr>\n",
       "      <th>4.18.1806.18062</th>\n",
       "      <td>850929</td>\n",
       "      <td>9.537982</td>\n",
       "    </tr>\n",
       "    <tr>\n",
       "      <th>4.12.16299.15</th>\n",
       "      <td>359871</td>\n",
       "      <td>4.033760</td>\n",
       "    </tr>\n",
       "    <tr>\n",
       "      <th>4.10.209.0</th>\n",
       "      <td>272454</td>\n",
       "      <td>3.053911</td>\n",
       "    </tr>\n",
       "    <tr>\n",
       "      <th>4.13.17134.1</th>\n",
       "      <td>257270</td>\n",
       "      <td>2.883715</td>\n",
       "    </tr>\n",
       "    <tr>\n",
       "      <th>4.16.17656.18052</th>\n",
       "      <td>235032</td>\n",
       "      <td>2.634451</td>\n",
       "    </tr>\n",
       "    <tr>\n",
       "      <th>4.13.17134.228</th>\n",
       "      <td>226501</td>\n",
       "      <td>2.538828</td>\n",
       "    </tr>\n",
       "    <tr>\n",
       "      <th>4.8.10240.17443</th>\n",
       "      <td>205479</td>\n",
       "      <td>2.303195</td>\n",
       "    </tr>\n",
       "    <tr>\n",
       "      <th>4.9.10586.1106</th>\n",
       "      <td>203525</td>\n",
       "      <td>2.281292</td>\n",
       "    </tr>\n",
       "    <tr>\n",
       "      <th>4.14.17639.18041</th>\n",
       "      <td>194699</td>\n",
       "      <td>2.182363</td>\n",
       "    </tr>\n",
       "    <tr>\n",
       "      <th>4.12.17007.18022</th>\n",
       "      <td>118027</td>\n",
       "      <td>1.322953</td>\n",
       "    </tr>\n",
       "    <tr>\n",
       "      <th>4.9.10586.0</th>\n",
       "      <td>111797</td>\n",
       "      <td>1.253122</td>\n",
       "    </tr>\n",
       "    <tr>\n",
       "      <th>4.11.15063.447</th>\n",
       "      <td>91694</td>\n",
       "      <td>1.027789</td>\n",
       "    </tr>\n",
       "    <tr>\n",
       "      <th>4.10.14393.0</th>\n",
       "      <td>77244</td>\n",
       "      <td>0.865821</td>\n",
       "    </tr>\n",
       "    <tr>\n",
       "      <th>4.11.15063.0</th>\n",
       "      <td>69250</td>\n",
       "      <td>0.776217</td>\n",
       "    </tr>\n",
       "    <tr>\n",
       "      <th>4.12.17007.18011</th>\n",
       "      <td>61806</td>\n",
       "      <td>0.692778</td>\n",
       "    </tr>\n",
       "    <tr>\n",
       "      <th>4.14.17613.18039</th>\n",
       "      <td>53024</td>\n",
       "      <td>0.594341</td>\n",
       "    </tr>\n",
       "    <tr>\n",
       "      <th>4.8.10240.16384</th>\n",
       "      <td>45697</td>\n",
       "      <td>0.512213</td>\n",
       "    </tr>\n",
       "    <tr>\n",
       "      <th>4.11.15063.1155</th>\n",
       "      <td>44238</td>\n",
       "      <td>0.495860</td>\n",
       "    </tr>\n",
       "    <tr>\n",
       "      <th>4.10.14393.1794</th>\n",
       "      <td>44109</td>\n",
       "      <td>0.494414</td>\n",
       "    </tr>\n",
       "  </tbody>\n",
       "</table>\n",
       "</div>"
      ],
      "text/plain": [
       "                    Count          %\n",
       "4.18.1807.18075   5139221  57.605040\n",
       "4.18.1806.18062    850929   9.537982\n",
       "4.12.16299.15      359871   4.033760\n",
       "4.10.209.0         272454   3.053911\n",
       "4.13.17134.1       257270   2.883715\n",
       "4.16.17656.18052   235032   2.634451\n",
       "4.13.17134.228     226501   2.538828\n",
       "4.8.10240.17443    205479   2.303195\n",
       "4.9.10586.1106     203525   2.281292\n",
       "4.14.17639.18041   194699   2.182363\n",
       "4.12.17007.18022   118027   1.322953\n",
       "4.9.10586.0        111797   1.253122\n",
       "4.11.15063.447      91694   1.027789\n",
       "4.10.14393.0        77244   0.865821\n",
       "4.11.15063.0        69250   0.776217\n",
       "4.12.17007.18011    61806   0.692778\n",
       "4.14.17613.18039    53024   0.594341\n",
       "4.8.10240.16384     45697   0.512213\n",
       "4.11.15063.1155     44238   0.495860\n",
       "4.10.14393.1794     44109   0.494414"
      ]
     },
     "execution_count": 21,
     "metadata": {},
     "output_type": "execute_result"
    }
   ],
   "source": [
    "app_ver = pd.concat([df['AppVersion'].value_counts(),\n",
    "                        df['AppVersion'].value_counts(normalize=True) * 100], \n",
    "                        axis=1)\n",
    "app_ver.columns=['Count', '%']\n",
    "app_ver.head(20)"
   ]
  },
  {
   "cell_type": "code",
   "execution_count": 22,
   "id": "cbb52571",
   "metadata": {
    "scrolled": true
   },
   "outputs": [
    {
     "data": {
      "text/plain": [
       "Series([], Name: AppVersion, dtype: category\n",
       "Categories (110, object): ['4.10.14393.0', '4.10.14393.1066', '4.10.14393.1198', '4.10.14393.1532', ..., '4.9.10586.962', '4.9.10586.965', '4.9.218.0', '4.9.219.0'])"
      ]
     },
     "execution_count": 22,
     "metadata": {},
     "output_type": "execute_result"
    }
   ],
   "source": [
    "idx = df['AppVersion'][~df.AppVersion.str.startswith('4')].index\n",
    "df['AppVersion'].loc[idx]"
   ]
  },
  {
   "cell_type": "markdown",
   "id": "667ec012",
   "metadata": {},
   "source": [
    "The AppVersion is always 4, I'll extract code after \"4.\"."
   ]
  },
  {
   "cell_type": "code",
   "execution_count": 23,
   "id": "66b293d3",
   "metadata": {},
   "outputs": [
    {
     "data": {
      "text/html": [
       "<div>\n",
       "<style scoped>\n",
       "    .dataframe tbody tr th:only-of-type {\n",
       "        vertical-align: middle;\n",
       "    }\n",
       "\n",
       "    .dataframe tbody tr th {\n",
       "        vertical-align: top;\n",
       "    }\n",
       "\n",
       "    .dataframe thead th {\n",
       "        text-align: right;\n",
       "    }\n",
       "</style>\n",
       "<table border=\"1\" class=\"dataframe\">\n",
       "  <thead>\n",
       "    <tr style=\"text-align: right;\">\n",
       "      <th></th>\n",
       "      <th>AppVersion</th>\n",
       "      <th>AppVersion_extracted</th>\n",
       "    </tr>\n",
       "  </thead>\n",
       "  <tbody>\n",
       "    <tr>\n",
       "      <th>0</th>\n",
       "      <td>4.18.1807.18075</td>\n",
       "      <td>18</td>\n",
       "    </tr>\n",
       "    <tr>\n",
       "      <th>1</th>\n",
       "      <td>4.13.17134.1</td>\n",
       "      <td>13</td>\n",
       "    </tr>\n",
       "    <tr>\n",
       "      <th>2</th>\n",
       "      <td>4.18.1807.18075</td>\n",
       "      <td>18</td>\n",
       "    </tr>\n",
       "    <tr>\n",
       "      <th>3</th>\n",
       "      <td>4.18.1807.18075</td>\n",
       "      <td>18</td>\n",
       "    </tr>\n",
       "    <tr>\n",
       "      <th>4</th>\n",
       "      <td>4.18.1807.18075</td>\n",
       "      <td>18</td>\n",
       "    </tr>\n",
       "    <tr>\n",
       "      <th>...</th>\n",
       "      <td>...</td>\n",
       "      <td>...</td>\n",
       "    </tr>\n",
       "    <tr>\n",
       "      <th>8921478</th>\n",
       "      <td>4.18.1807.18075</td>\n",
       "      <td>18</td>\n",
       "    </tr>\n",
       "    <tr>\n",
       "      <th>8921479</th>\n",
       "      <td>4.9.10586.672</td>\n",
       "      <td>9</td>\n",
       "    </tr>\n",
       "    <tr>\n",
       "      <th>8921480</th>\n",
       "      <td>4.18.1807.18075</td>\n",
       "      <td>18</td>\n",
       "    </tr>\n",
       "    <tr>\n",
       "      <th>8921481</th>\n",
       "      <td>4.16.17656.18052</td>\n",
       "      <td>16</td>\n",
       "    </tr>\n",
       "    <tr>\n",
       "      <th>8921482</th>\n",
       "      <td>4.18.1807.18075</td>\n",
       "      <td>18</td>\n",
       "    </tr>\n",
       "  </tbody>\n",
       "</table>\n",
       "<p>8921478 rows × 2 columns</p>\n",
       "</div>"
      ],
      "text/plain": [
       "               AppVersion AppVersion_extracted\n",
       "0         4.18.1807.18075                   18\n",
       "1            4.13.17134.1                   13\n",
       "2         4.18.1807.18075                   18\n",
       "3         4.18.1807.18075                   18\n",
       "4         4.18.1807.18075                   18\n",
       "...                   ...                  ...\n",
       "8921478   4.18.1807.18075                   18\n",
       "8921479     4.9.10586.672                    9\n",
       "8921480   4.18.1807.18075                   18\n",
       "8921481  4.16.17656.18052                   16\n",
       "8921482   4.18.1807.18075                   18\n",
       "\n",
       "[8921478 rows x 2 columns]"
      ]
     },
     "execution_count": 23,
     "metadata": {},
     "output_type": "execute_result"
    }
   ],
   "source": [
    "df['AppVersion_extracted'] = [item[1] for item in df.AppVersion.str.split('.')]\n",
    "df['AppVersion_extracted'] = df['AppVersion_extracted'].astype('category')\n",
    "df[['AppVersion','AppVersion_extracted']]"
   ]
  },
  {
   "cell_type": "code",
   "execution_count": 24,
   "id": "c4c40960",
   "metadata": {},
   "outputs": [
    {
     "data": {
      "text/html": [
       "<div>\n",
       "<style scoped>\n",
       "    .dataframe tbody tr th:only-of-type {\n",
       "        vertical-align: middle;\n",
       "    }\n",
       "\n",
       "    .dataframe tbody tr th {\n",
       "        vertical-align: top;\n",
       "    }\n",
       "\n",
       "    .dataframe thead th {\n",
       "        text-align: right;\n",
       "    }\n",
       "</style>\n",
       "<table border=\"1\" class=\"dataframe\">\n",
       "  <thead>\n",
       "    <tr style=\"text-align: right;\">\n",
       "      <th></th>\n",
       "      <th>Count</th>\n",
       "      <th>%</th>\n",
       "    </tr>\n",
       "  </thead>\n",
       "  <tbody>\n",
       "    <tr>\n",
       "      <th>18</th>\n",
       "      <td>6004752</td>\n",
       "      <td>67.306695</td>\n",
       "    </tr>\n",
       "    <tr>\n",
       "      <th>12</th>\n",
       "      <td>553556</td>\n",
       "      <td>6.204757</td>\n",
       "    </tr>\n",
       "    <tr>\n",
       "      <th>13</th>\n",
       "      <td>518592</td>\n",
       "      <td>5.812848</td>\n",
       "    </tr>\n",
       "    <tr>\n",
       "      <th>10</th>\n",
       "      <td>457718</td>\n",
       "      <td>5.130518</td>\n",
       "    </tr>\n",
       "    <tr>\n",
       "      <th>9</th>\n",
       "      <td>417039</td>\n",
       "      <td>4.674551</td>\n",
       "    </tr>\n",
       "    <tr>\n",
       "      <th>8</th>\n",
       "      <td>275738</td>\n",
       "      <td>3.090721</td>\n",
       "    </tr>\n",
       "    <tr>\n",
       "      <th>14</th>\n",
       "      <td>248765</td>\n",
       "      <td>2.788383</td>\n",
       "    </tr>\n",
       "    <tr>\n",
       "      <th>16</th>\n",
       "      <td>235060</td>\n",
       "      <td>2.634765</td>\n",
       "    </tr>\n",
       "    <tr>\n",
       "      <th>11</th>\n",
       "      <td>205271</td>\n",
       "      <td>2.300863</td>\n",
       "    </tr>\n",
       "    <tr>\n",
       "      <th>5</th>\n",
       "      <td>2261</td>\n",
       "      <td>0.025343</td>\n",
       "    </tr>\n",
       "    <tr>\n",
       "      <th>6</th>\n",
       "      <td>822</td>\n",
       "      <td>0.009214</td>\n",
       "    </tr>\n",
       "    <tr>\n",
       "      <th>7</th>\n",
       "      <td>682</td>\n",
       "      <td>0.007644</td>\n",
       "    </tr>\n",
       "    <tr>\n",
       "      <th>4</th>\n",
       "      <td>617</td>\n",
       "      <td>0.006916</td>\n",
       "    </tr>\n",
       "    <tr>\n",
       "      <th>17</th>\n",
       "      <td>497</td>\n",
       "      <td>0.005571</td>\n",
       "    </tr>\n",
       "    <tr>\n",
       "      <th>15</th>\n",
       "      <td>108</td>\n",
       "      <td>0.001211</td>\n",
       "    </tr>\n",
       "  </tbody>\n",
       "</table>\n",
       "</div>"
      ],
      "text/plain": [
       "      Count          %\n",
       "18  6004752  67.306695\n",
       "12   553556   6.204757\n",
       "13   518592   5.812848\n",
       "10   457718   5.130518\n",
       "9    417039   4.674551\n",
       "8    275738   3.090721\n",
       "14   248765   2.788383\n",
       "16   235060   2.634765\n",
       "11   205271   2.300863\n",
       "5      2261   0.025343\n",
       "6       822   0.009214\n",
       "7       682   0.007644\n",
       "4       617   0.006916\n",
       "17      497   0.005571\n",
       "15      108   0.001211"
      ]
     },
     "execution_count": 24,
     "metadata": {},
     "output_type": "execute_result"
    }
   ],
   "source": [
    "app_ver = pd.concat([df['AppVersion_extracted'].value_counts(),\n",
    "                     df['AppVersion_extracted'].value_counts(normalize=True) * 100], \n",
    "                        axis=1)\n",
    "app_ver.columns=['Count', '%']\n",
    "app_ver.head(30)"
   ]
  },
  {
   "cell_type": "code",
   "execution_count": 25,
   "id": "4aef3d51",
   "metadata": {},
   "outputs": [
    {
     "data": {
      "image/png": "[encoded data removed]",
      "text/plain": [
       "<Figure size 720x432 with 1 Axes>"
      ]
     },
     "metadata": {},
     "output_type": "display_data"
    }
   ],
   "source": [
    "plt.figure(figsize=(10, 6))\n",
    "sns.countplot(x='AppVersion_extracted',\n",
    "            hue='HasDetections',\n",
    "            data=df,\n",
    "            order=df['AppVersion_extracted'].value_counts().index[:15],\n",
    "            color='blue',\n",
    "            edgecolor=sns.color_palette('dark', 1),\n",
    "            alpha=0.8)\n",
    "plt.legend(loc=1, title='HasDetections')\n",
    "plt.tight_layout()"
   ]
  },
  {
   "cell_type": "code",
   "execution_count": 26,
   "id": "d3e887f0",
   "metadata": {
    "scrolled": true
   },
   "outputs": [
    {
     "data": {
      "text/plain": [
       "CategoricalDtype(categories=['10', '11', '12', '13', '14', '15', '16', '17', '18', '4',\n",
       "                  '5', '6', '7', '8', '9'],\n",
       ", ordered=False)"
      ]
     },
     "execution_count": 26,
     "metadata": {},
     "output_type": "execute_result"
    }
   ],
   "source": [
    "df['AppVersion_extracted'].dtype"
   ]
  },
  {
   "cell_type": "code",
   "execution_count": 27,
   "id": "139547b6",
   "metadata": {},
   "outputs": [
    {
     "data": {
      "text/plain": [
       "18       0.673067\n",
       "12       0.062048\n",
       "13       0.058128\n",
       "10       0.051305\n",
       "9        0.046746\n",
       "8        0.030907\n",
       "14       0.027884\n",
       "16       0.026348\n",
       "11       0.023009\n",
       "Other    0.000559\n",
       "Name: AppVersion_encoded, dtype: float64"
      ]
     },
     "execution_count": 27,
     "metadata": {},
     "output_type": "execute_result"
    }
   ],
   "source": [
    "df['AppVersion_extracted'].cat.add_categories('Other', inplace=True)\n",
    "df.loc[(df['AppVersion_extracted'] != '18') &\n",
    "       (df['AppVersion_extracted'] != '12') &\n",
    "       (df['AppVersion_extracted'] != '13') &\n",
    "       (df['AppVersion_extracted'] != '10') &\n",
    "       (df['AppVersion_extracted'] != '9') &\n",
    "       (df['AppVersion_extracted'] != '8') &\n",
    "       (df['AppVersion_extracted'] != '14') &\n",
    "       (df['AppVersion_extracted'] != '16') &\n",
    "       (df['AppVersion_extracted'] != '11'), \n",
    "       'AppVersion_extracted'] = 'Other'\n",
    "df['AppVersion_extracted'].cat.remove_unused_categories(inplace=True)\n",
    "df.rename(columns={'AppVersion_extracted':'AppVersion_encoded'}, inplace=True)\n",
    "df['AppVersion_encoded'].value_counts(normalize=True)"
   ]
  },
  {
   "cell_type": "code",
   "execution_count": 28,
   "id": "79d555fc",
   "metadata": {},
   "outputs": [],
   "source": [
    "to_drop.append('AppVersion')"
   ]
  },
  {
   "cell_type": "markdown",
   "id": "34902e27",
   "metadata": {},
   "source": [
    "#### EngineVersion"
   ]
  },
  {
   "cell_type": "code",
   "execution_count": 29,
   "id": "798f8b8b",
   "metadata": {},
   "outputs": [
    {
     "data": {
      "text/plain": [
       "0"
      ]
     },
     "execution_count": 29,
     "metadata": {},
     "output_type": "execute_result"
    }
   ],
   "source": [
    "df['EngineVersion'].isnull().sum()"
   ]
  },
  {
   "cell_type": "code",
   "execution_count": 30,
   "id": "edf560ca",
   "metadata": {},
   "outputs": [
    {
     "data": {
      "text/html": [
       "<div>\n",
       "<style scoped>\n",
       "    .dataframe tbody tr th:only-of-type {\n",
       "        vertical-align: middle;\n",
       "    }\n",
       "\n",
       "    .dataframe tbody tr th {\n",
       "        vertical-align: top;\n",
       "    }\n",
       "\n",
       "    .dataframe thead th {\n",
       "        text-align: right;\n",
       "    }\n",
       "</style>\n",
       "<table border=\"1\" class=\"dataframe\">\n",
       "  <thead>\n",
       "    <tr style=\"text-align: right;\">\n",
       "      <th></th>\n",
       "      <th>Count</th>\n",
       "      <th>%</th>\n",
       "    </tr>\n",
       "  </thead>\n",
       "  <tbody>\n",
       "    <tr>\n",
       "      <th>1.1.15200.1</th>\n",
       "      <td>3845063</td>\n",
       "      <td>43.098946</td>\n",
       "    </tr>\n",
       "    <tr>\n",
       "      <th>1.1.15100.1</th>\n",
       "      <td>3675914</td>\n",
       "      <td>41.202971</td>\n",
       "    </tr>\n",
       "    <tr>\n",
       "      <th>1.1.15000.2</th>\n",
       "      <td>265218</td>\n",
       "      <td>2.972803</td>\n",
       "    </tr>\n",
       "    <tr>\n",
       "      <th>1.1.14901.4</th>\n",
       "      <td>212408</td>\n",
       "      <td>2.380861</td>\n",
       "    </tr>\n",
       "    <tr>\n",
       "      <th>1.1.14600.4</th>\n",
       "      <td>160585</td>\n",
       "      <td>1.799982</td>\n",
       "    </tr>\n",
       "    <tr>\n",
       "      <th>1.1.14800.3</th>\n",
       "      <td>136476</td>\n",
       "      <td>1.529747</td>\n",
       "    </tr>\n",
       "    <tr>\n",
       "      <th>1.1.15300.6</th>\n",
       "      <td>120295</td>\n",
       "      <td>1.348375</td>\n",
       "    </tr>\n",
       "    <tr>\n",
       "      <th>1.1.14104.0</th>\n",
       "      <td>93926</td>\n",
       "      <td>1.052808</td>\n",
       "    </tr>\n",
       "    <tr>\n",
       "      <th>1.1.13504.0</th>\n",
       "      <td>70645</td>\n",
       "      <td>0.791853</td>\n",
       "    </tr>\n",
       "    <tr>\n",
       "      <th>1.1.15300.5</th>\n",
       "      <td>68716</td>\n",
       "      <td>0.770231</td>\n",
       "    </tr>\n",
       "    <tr>\n",
       "      <th>1.1.14700.5</th>\n",
       "      <td>46777</td>\n",
       "      <td>0.524319</td>\n",
       "    </tr>\n",
       "    <tr>\n",
       "      <th>1.1.14500.5</th>\n",
       "      <td>45855</td>\n",
       "      <td>0.513984</td>\n",
       "    </tr>\n",
       "    <tr>\n",
       "      <th>1.1.14405.2</th>\n",
       "      <td>36341</td>\n",
       "      <td>0.407343</td>\n",
       "    </tr>\n",
       "    <tr>\n",
       "      <th>1.1.14306.0</th>\n",
       "      <td>24079</td>\n",
       "      <td>0.269899</td>\n",
       "    </tr>\n",
       "    <tr>\n",
       "      <th>1.1.14202.0</th>\n",
       "      <td>15449</td>\n",
       "      <td>0.173166</td>\n",
       "    </tr>\n",
       "    <tr>\n",
       "      <th>1.1.14003.0</th>\n",
       "      <td>14291</td>\n",
       "      <td>0.160186</td>\n",
       "    </tr>\n",
       "    <tr>\n",
       "      <th>1.1.13903.0</th>\n",
       "      <td>9651</td>\n",
       "      <td>0.108177</td>\n",
       "    </tr>\n",
       "    <tr>\n",
       "      <th>1.1.13804.0</th>\n",
       "      <td>9414</td>\n",
       "      <td>0.105521</td>\n",
       "    </tr>\n",
       "    <tr>\n",
       "      <th>1.1.13303.0</th>\n",
       "      <td>9315</td>\n",
       "      <td>0.104411</td>\n",
       "    </tr>\n",
       "    <tr>\n",
       "      <th>1.1.13407.0</th>\n",
       "      <td>8800</td>\n",
       "      <td>0.098638</td>\n",
       "    </tr>\n",
       "  </tbody>\n",
       "</table>\n",
       "</div>"
      ],
      "text/plain": [
       "               Count          %\n",
       "1.1.15200.1  3845063  43.098946\n",
       "1.1.15100.1  3675914  41.202971\n",
       "1.1.15000.2   265218   2.972803\n",
       "1.1.14901.4   212408   2.380861\n",
       "1.1.14600.4   160585   1.799982\n",
       "1.1.14800.3   136476   1.529747\n",
       "1.1.15300.6   120295   1.348375\n",
       "1.1.14104.0    93926   1.052808\n",
       "1.1.13504.0    70645   0.791853\n",
       "1.1.15300.5    68716   0.770231\n",
       "1.1.14700.5    46777   0.524319\n",
       "1.1.14500.5    45855   0.513984\n",
       "1.1.14405.2    36341   0.407343\n",
       "1.1.14306.0    24079   0.269899\n",
       "1.1.14202.0    15449   0.173166\n",
       "1.1.14003.0    14291   0.160186\n",
       "1.1.13903.0     9651   0.108177\n",
       "1.1.13804.0     9414   0.105521\n",
       "1.1.13303.0     9315   0.104411\n",
       "1.1.13407.0     8800   0.098638"
      ]
     },
     "execution_count": 30,
     "metadata": {},
     "output_type": "execute_result"
    }
   ],
   "source": [
    "eng_ver = pd.concat([df['EngineVersion'].value_counts(),\n",
    "                     df['EngineVersion'].value_counts(normalize=True) * 100], \n",
    "                     axis=1)\n",
    "eng_ver.columns=['Count', '%']\n",
    "eng_ver.head(20)"
   ]
  },
  {
   "cell_type": "code",
   "execution_count": 31,
   "id": "f62e4a25",
   "metadata": {},
   "outputs": [
    {
     "data": {
      "text/plain": [
       "Series([], Name: EngineVersion, dtype: category\n",
       "Categories (70, object): ['1.1.10302.0', '1.1.10401.0', '1.1.10701.0', '1.1.11104.0', ..., '1.1.15200.1', '1.1.15300.5', '1.1.15300.6', '1.1.9700.0'])"
      ]
     },
     "execution_count": 31,
     "metadata": {},
     "output_type": "execute_result"
    }
   ],
   "source": [
    "idx = df['EngineVersion'][~df.EngineVersion.str.startswith('1.1.')].index\n",
    "df['EngineVersion'].loc[idx]"
   ]
  },
  {
   "cell_type": "markdown",
   "id": "888ed5df",
   "metadata": {},
   "source": [
    "Let's extract the 5-digit code after \"1.1.\"."
   ]
  },
  {
   "cell_type": "code",
   "execution_count": 32,
   "id": "5008a611",
   "metadata": {},
   "outputs": [
    {
     "data": {
      "text/html": [
       "<div>\n",
       "<style scoped>\n",
       "    .dataframe tbody tr th:only-of-type {\n",
       "        vertical-align: middle;\n",
       "    }\n",
       "\n",
       "    .dataframe tbody tr th {\n",
       "        vertical-align: top;\n",
       "    }\n",
       "\n",
       "    .dataframe thead th {\n",
       "        text-align: right;\n",
       "    }\n",
       "</style>\n",
       "<table border=\"1\" class=\"dataframe\">\n",
       "  <thead>\n",
       "    <tr style=\"text-align: right;\">\n",
       "      <th></th>\n",
       "      <th>EngineVersion</th>\n",
       "      <th>EngineVersion_extracted</th>\n",
       "    </tr>\n",
       "  </thead>\n",
       "  <tbody>\n",
       "    <tr>\n",
       "      <th>0</th>\n",
       "      <td>1.1.15100.1</td>\n",
       "      <td>15100</td>\n",
       "    </tr>\n",
       "    <tr>\n",
       "      <th>1</th>\n",
       "      <td>1.1.14600.4</td>\n",
       "      <td>14600</td>\n",
       "    </tr>\n",
       "    <tr>\n",
       "      <th>2</th>\n",
       "      <td>1.1.15100.1</td>\n",
       "      <td>15100</td>\n",
       "    </tr>\n",
       "    <tr>\n",
       "      <th>3</th>\n",
       "      <td>1.1.15100.1</td>\n",
       "      <td>15100</td>\n",
       "    </tr>\n",
       "    <tr>\n",
       "      <th>4</th>\n",
       "      <td>1.1.15100.1</td>\n",
       "      <td>15100</td>\n",
       "    </tr>\n",
       "    <tr>\n",
       "      <th>...</th>\n",
       "      <td>...</td>\n",
       "      <td>...</td>\n",
       "    </tr>\n",
       "    <tr>\n",
       "      <th>8921478</th>\n",
       "      <td>1.1.15100.1</td>\n",
       "      <td>15100</td>\n",
       "    </tr>\n",
       "    <tr>\n",
       "      <th>8921479</th>\n",
       "      <td>1.1.13303.0</td>\n",
       "      <td>13303</td>\n",
       "    </tr>\n",
       "    <tr>\n",
       "      <th>8921480</th>\n",
       "      <td>1.1.15200.1</td>\n",
       "      <td>15200</td>\n",
       "    </tr>\n",
       "    <tr>\n",
       "      <th>8921481</th>\n",
       "      <td>1.1.14901.4</td>\n",
       "      <td>14901</td>\n",
       "    </tr>\n",
       "    <tr>\n",
       "      <th>8921482</th>\n",
       "      <td>1.1.15200.1</td>\n",
       "      <td>15200</td>\n",
       "    </tr>\n",
       "  </tbody>\n",
       "</table>\n",
       "<p>8921478 rows × 2 columns</p>\n",
       "</div>"
      ],
      "text/plain": [
       "        EngineVersion EngineVersion_extracted\n",
       "0         1.1.15100.1                   15100\n",
       "1         1.1.14600.4                   14600\n",
       "2         1.1.15100.1                   15100\n",
       "3         1.1.15100.1                   15100\n",
       "4         1.1.15100.1                   15100\n",
       "...               ...                     ...\n",
       "8921478   1.1.15100.1                   15100\n",
       "8921479   1.1.13303.0                   13303\n",
       "8921480   1.1.15200.1                   15200\n",
       "8921481   1.1.14901.4                   14901\n",
       "8921482   1.1.15200.1                   15200\n",
       "\n",
       "[8921478 rows x 2 columns]"
      ]
     },
     "execution_count": 32,
     "metadata": {},
     "output_type": "execute_result"
    }
   ],
   "source": [
    "df['EngineVersion_extracted'] = [item[2] for item in df.EngineVersion.str.split('.')]\n",
    "df['EngineVersion_extracted'] = df['EngineVersion_extracted'].astype('category')\n",
    "df[['EngineVersion','EngineVersion_extracted']]"
   ]
  },
  {
   "cell_type": "code",
   "execution_count": 33,
   "id": "c78aeff8",
   "metadata": {},
   "outputs": [
    {
     "data": {
      "text/html": [
       "<div>\n",
       "<style scoped>\n",
       "    .dataframe tbody tr th:only-of-type {\n",
       "        vertical-align: middle;\n",
       "    }\n",
       "\n",
       "    .dataframe tbody tr th {\n",
       "        vertical-align: top;\n",
       "    }\n",
       "\n",
       "    .dataframe thead th {\n",
       "        text-align: right;\n",
       "    }\n",
       "</style>\n",
       "<table border=\"1\" class=\"dataframe\">\n",
       "  <thead>\n",
       "    <tr style=\"text-align: right;\">\n",
       "      <th></th>\n",
       "      <th>Count</th>\n",
       "      <th>%</th>\n",
       "    </tr>\n",
       "  </thead>\n",
       "  <tbody>\n",
       "    <tr>\n",
       "      <th>15200</th>\n",
       "      <td>3845063</td>\n",
       "      <td>43.098946</td>\n",
       "    </tr>\n",
       "    <tr>\n",
       "      <th>15100</th>\n",
       "      <td>3675914</td>\n",
       "      <td>41.202971</td>\n",
       "    </tr>\n",
       "    <tr>\n",
       "      <th>15000</th>\n",
       "      <td>267690</td>\n",
       "      <td>3.000512</td>\n",
       "    </tr>\n",
       "    <tr>\n",
       "      <th>14901</th>\n",
       "      <td>214039</td>\n",
       "      <td>2.399143</td>\n",
       "    </tr>\n",
       "    <tr>\n",
       "      <th>15300</th>\n",
       "      <td>189011</td>\n",
       "      <td>2.118606</td>\n",
       "    </tr>\n",
       "    <tr>\n",
       "      <th>14600</th>\n",
       "      <td>160585</td>\n",
       "      <td>1.799982</td>\n",
       "    </tr>\n",
       "    <tr>\n",
       "      <th>14800</th>\n",
       "      <td>137447</td>\n",
       "      <td>1.540630</td>\n",
       "    </tr>\n",
       "    <tr>\n",
       "      <th>14104</th>\n",
       "      <td>93926</td>\n",
       "      <td>1.052808</td>\n",
       "    </tr>\n",
       "    <tr>\n",
       "      <th>13504</th>\n",
       "      <td>70645</td>\n",
       "      <td>0.791853</td>\n",
       "    </tr>\n",
       "    <tr>\n",
       "      <th>14700</th>\n",
       "      <td>49210</td>\n",
       "      <td>0.551590</td>\n",
       "    </tr>\n",
       "  </tbody>\n",
       "</table>\n",
       "</div>"
      ],
      "text/plain": [
       "         Count          %\n",
       "15200  3845063  43.098946\n",
       "15100  3675914  41.202971\n",
       "15000   267690   3.000512\n",
       "14901   214039   2.399143\n",
       "15300   189011   2.118606\n",
       "14600   160585   1.799982\n",
       "14800   137447   1.540630\n",
       "14104    93926   1.052808\n",
       "13504    70645   0.791853\n",
       "14700    49210   0.551590"
      ]
     },
     "execution_count": 33,
     "metadata": {},
     "output_type": "execute_result"
    }
   ],
   "source": [
    "eng_ver = pd.concat([df['EngineVersion_extracted'].value_counts(),\n",
    "                     df['EngineVersion_extracted'].value_counts(normalize=True) * 100], \n",
    "                        axis=1)\n",
    "eng_ver.columns=['Count', '%']\n",
    "eng_ver.head(10)"
   ]
  },
  {
   "cell_type": "code",
   "execution_count": 34,
   "id": "f697235c",
   "metadata": {},
   "outputs": [
    {
     "data": {
      "image/png": "[encoded data removed]",
      "text/plain": [
       "<Figure size 720x432 with 1 Axes>"
      ]
     },
     "metadata": {},
     "output_type": "display_data"
    }
   ],
   "source": [
    "plt.figure(figsize=(10, 6))\n",
    "sns.countplot(x='EngineVersion_extracted',\n",
    "            hue='HasDetections',\n",
    "            data=df,\n",
    "            order=df['EngineVersion_extracted'].value_counts().index[:15],\n",
    "            color='blue',\n",
    "            edgecolor=sns.color_palette('dark', 1),\n",
    "            alpha=0.8)\n",
    "plt.legend(loc=1, title='HasDetections')\n",
    "plt.xticks(rotation = 45)\n",
    "plt.tight_layout()"
   ]
  },
  {
   "cell_type": "code",
   "execution_count": 35,
   "id": "40ef8ff3",
   "metadata": {},
   "outputs": [
    {
     "data": {
      "text/plain": [
       "CategoricalDtype(categories=['10302', '10401', '10701', '11104', '11202', '11400',\n",
       "                  '11502', '11602', '11701', '11804', '11903', '12002',\n",
       "                  '12101', '12205', '12300', '12400', '12505', '12603',\n",
       "                  '12706', '12802', '12804', '12805', '12902', '13000',\n",
       "                  '13102', '13103', '13202', '13301', '13303', '13406',\n",
       "                  '13407', '13503', '13504', '13601', '13701', '13704',\n",
       "                  '13802', '13803', '13804', '13902', '13903', '14001',\n",
       "                  '14002', '14003', '14102', '14103', '14104', '14201',\n",
       "                  '14202', '14303', '14305', '14306', '14405', '14500',\n",
       "                  '14600', '14700', '14800', '14901', '15000', '15100',\n",
       "                  '15200', '15300', '9700'],\n",
       ", ordered=False)"
      ]
     },
     "execution_count": 35,
     "metadata": {},
     "output_type": "execute_result"
    }
   ],
   "source": [
    "df['EngineVersion_extracted'].dtype"
   ]
  },
  {
   "cell_type": "code",
   "execution_count": 36,
   "id": "062467be",
   "metadata": {},
   "outputs": [
    {
     "data": {
      "text/plain": [
       "15200    0.430989\n",
       "15100    0.412030\n",
       "15000    0.030005\n",
       "Other    0.029945\n",
       "14901    0.023991\n",
       "15300    0.021186\n",
       "14600    0.018000\n",
       "14800    0.015406\n",
       "14104    0.010528\n",
       "13504    0.007919\n",
       "Name: EngineVersion_encoded, dtype: float64"
      ]
     },
     "execution_count": 36,
     "metadata": {},
     "output_type": "execute_result"
    }
   ],
   "source": [
    "df['EngineVersion_extracted'].cat.add_categories('Other', inplace=True)\n",
    "df.loc[(df['EngineVersion_extracted'] != '15200') &\n",
    "       (df['EngineVersion_extracted'] != '15100') &\n",
    "       (df['EngineVersion_extracted'] != '15000') &\n",
    "       (df['EngineVersion_extracted'] != '14901') &\n",
    "       (df['EngineVersion_extracted'] != '15300') &\n",
    "       (df['EngineVersion_extracted'] != '14600') &\n",
    "       (df['EngineVersion_extracted'] != '14800') &\n",
    "       (df['EngineVersion_extracted'] != '14104') &\n",
    "       (df['EngineVersion_extracted'] != '13504'), \n",
    "       'EngineVersion_extracted'] = 'Other'\n",
    "df['EngineVersion_extracted'].cat.remove_unused_categories(inplace=True)\n",
    "df.rename(columns={'EngineVersion_extracted':'EngineVersion_encoded'}, inplace=True)\n",
    "df['EngineVersion_encoded'].value_counts(normalize=True)"
   ]
  },
  {
   "cell_type": "code",
   "execution_count": 37,
   "id": "e9ab60d8",
   "metadata": {},
   "outputs": [],
   "source": [
    "to_drop.append('EngineVersion')"
   ]
  },
  {
   "cell_type": "markdown",
   "id": "9f363b87",
   "metadata": {},
   "source": [
    "#### OsVer"
   ]
  },
  {
   "cell_type": "code",
   "execution_count": 38,
   "id": "8c62f1fb",
   "metadata": {},
   "outputs": [
    {
     "data": {
      "text/plain": [
       "0"
      ]
     },
     "execution_count": 38,
     "metadata": {},
     "output_type": "execute_result"
    }
   ],
   "source": [
    "df['OsVer'].isnull().sum()"
   ]
  },
  {
   "cell_type": "code",
   "execution_count": 39,
   "id": "2d5afd11",
   "metadata": {},
   "outputs": [
    {
     "data": {
      "text/html": [
       "<div>\n",
       "<style scoped>\n",
       "    .dataframe tbody tr th:only-of-type {\n",
       "        vertical-align: middle;\n",
       "    }\n",
       "\n",
       "    .dataframe tbody tr th {\n",
       "        vertical-align: top;\n",
       "    }\n",
       "\n",
       "    .dataframe thead th {\n",
       "        text-align: right;\n",
       "    }\n",
       "</style>\n",
       "<table border=\"1\" class=\"dataframe\">\n",
       "  <thead>\n",
       "    <tr style=\"text-align: right;\">\n",
       "      <th></th>\n",
       "      <th>Count</th>\n",
       "      <th>%</th>\n",
       "    </tr>\n",
       "  </thead>\n",
       "  <tbody>\n",
       "    <tr>\n",
       "      <th>10.0.0.0</th>\n",
       "      <td>8632541</td>\n",
       "      <td>96.761333</td>\n",
       "    </tr>\n",
       "    <tr>\n",
       "      <th>6.3.0.0</th>\n",
       "      <td>194446</td>\n",
       "      <td>2.179527</td>\n",
       "    </tr>\n",
       "    <tr>\n",
       "      <th>6.1.1.0</th>\n",
       "      <td>93268</td>\n",
       "      <td>1.045432</td>\n",
       "    </tr>\n",
       "    <tr>\n",
       "      <th>6.1.0.0</th>\n",
       "      <td>582</td>\n",
       "      <td>0.006524</td>\n",
       "    </tr>\n",
       "    <tr>\n",
       "      <th>10.0.3.0</th>\n",
       "      <td>225</td>\n",
       "      <td>0.002522</td>\n",
       "    </tr>\n",
       "    <tr>\n",
       "      <th>10.0.1.0</th>\n",
       "      <td>141</td>\n",
       "      <td>0.001580</td>\n",
       "    </tr>\n",
       "    <tr>\n",
       "      <th>10.0.2.0</th>\n",
       "      <td>30</td>\n",
       "      <td>0.000336</td>\n",
       "    </tr>\n",
       "    <tr>\n",
       "      <th>6.1.3.0</th>\n",
       "      <td>30</td>\n",
       "      <td>0.000336</td>\n",
       "    </tr>\n",
       "    <tr>\n",
       "      <th>6.3.3.0</th>\n",
       "      <td>24</td>\n",
       "      <td>0.000269</td>\n",
       "    </tr>\n",
       "    <tr>\n",
       "      <th>10.0.32.72</th>\n",
       "      <td>23</td>\n",
       "      <td>0.000258</td>\n",
       "    </tr>\n",
       "    <tr>\n",
       "      <th>6.3.1.0</th>\n",
       "      <td>22</td>\n",
       "      <td>0.000247</td>\n",
       "    </tr>\n",
       "    <tr>\n",
       "      <th>10.0.5.0</th>\n",
       "      <td>18</td>\n",
       "      <td>0.000202</td>\n",
       "    </tr>\n",
       "    <tr>\n",
       "      <th>10.0.7.0</th>\n",
       "      <td>15</td>\n",
       "      <td>0.000168</td>\n",
       "    </tr>\n",
       "    <tr>\n",
       "      <th>10.0.5.18</th>\n",
       "      <td>12</td>\n",
       "      <td>0.000135</td>\n",
       "    </tr>\n",
       "    <tr>\n",
       "      <th>10.0.4.0</th>\n",
       "      <td>11</td>\n",
       "      <td>0.000123</td>\n",
       "    </tr>\n",
       "    <tr>\n",
       "      <th>10.0.0.112</th>\n",
       "      <td>10</td>\n",
       "      <td>0.000112</td>\n",
       "    </tr>\n",
       "    <tr>\n",
       "      <th>10.0.16.0</th>\n",
       "      <td>9</td>\n",
       "      <td>0.000101</td>\n",
       "    </tr>\n",
       "    <tr>\n",
       "      <th>10.0.16.36</th>\n",
       "      <td>6</td>\n",
       "      <td>0.000067</td>\n",
       "    </tr>\n",
       "    <tr>\n",
       "      <th>10.0.8.0</th>\n",
       "      <td>5</td>\n",
       "      <td>0.000056</td>\n",
       "    </tr>\n",
       "    <tr>\n",
       "      <th>10.0.0.1</th>\n",
       "      <td>5</td>\n",
       "      <td>0.000056</td>\n",
       "    </tr>\n",
       "  </tbody>\n",
       "</table>\n",
       "</div>"
      ],
      "text/plain": [
       "              Count          %\n",
       "10.0.0.0    8632541  96.761333\n",
       "6.3.0.0      194446   2.179527\n",
       "6.1.1.0       93268   1.045432\n",
       "6.1.0.0         582   0.006524\n",
       "10.0.3.0        225   0.002522\n",
       "10.0.1.0        141   0.001580\n",
       "10.0.2.0         30   0.000336\n",
       "6.1.3.0          30   0.000336\n",
       "6.3.3.0          24   0.000269\n",
       "10.0.32.72       23   0.000258\n",
       "6.3.1.0          22   0.000247\n",
       "10.0.5.0         18   0.000202\n",
       "10.0.7.0         15   0.000168\n",
       "10.0.5.18        12   0.000135\n",
       "10.0.4.0         11   0.000123\n",
       "10.0.0.112       10   0.000112\n",
       "10.0.16.0         9   0.000101\n",
       "10.0.16.36        6   0.000067\n",
       "10.0.8.0          5   0.000056\n",
       "10.0.0.1          5   0.000056"
      ]
     },
     "execution_count": 39,
     "metadata": {},
     "output_type": "execute_result"
    }
   ],
   "source": [
    "os_ver = pd.concat([df['OsVer'].value_counts(),\n",
    "                     df['OsVer'].value_counts(normalize=True) * 100], \n",
    "                     axis=1)\n",
    "os_ver.columns=['Count', '%']\n",
    "os_ver.head(20)"
   ]
  },
  {
   "cell_type": "code",
   "execution_count": 40,
   "id": "72b95cd3",
   "metadata": {},
   "outputs": [
    {
     "data": {
      "text/html": [
       "<div>\n",
       "<style scoped>\n",
       "    .dataframe tbody tr th:only-of-type {\n",
       "        vertical-align: middle;\n",
       "    }\n",
       "\n",
       "    .dataframe tbody tr th {\n",
       "        vertical-align: top;\n",
       "    }\n",
       "\n",
       "    .dataframe thead th {\n",
       "        text-align: right;\n",
       "    }\n",
       "</style>\n",
       "<table border=\"1\" class=\"dataframe\">\n",
       "  <thead>\n",
       "    <tr style=\"text-align: right;\">\n",
       "      <th>HasDetections</th>\n",
       "      <th>0</th>\n",
       "      <th>1</th>\n",
       "    </tr>\n",
       "    <tr>\n",
       "      <th>OsVer</th>\n",
       "      <th></th>\n",
       "      <th></th>\n",
       "    </tr>\n",
       "  </thead>\n",
       "  <tbody>\n",
       "    <tr>\n",
       "      <th>10.0.0.0</th>\n",
       "      <td>4318188</td>\n",
       "      <td>4314353</td>\n",
       "    </tr>\n",
       "    <tr>\n",
       "      <th>10.0.0.1</th>\n",
       "      <td>3</td>\n",
       "      <td>2</td>\n",
       "    </tr>\n",
       "    <tr>\n",
       "      <th>10.0.0.112</th>\n",
       "      <td>6</td>\n",
       "      <td>4</td>\n",
       "    </tr>\n",
       "    <tr>\n",
       "      <th>10.0.0.2</th>\n",
       "      <td>0</td>\n",
       "      <td>1</td>\n",
       "    </tr>\n",
       "    <tr>\n",
       "      <th>10.0.0.22</th>\n",
       "      <td>1</td>\n",
       "      <td>0</td>\n",
       "    </tr>\n",
       "    <tr>\n",
       "      <th>10.0.0.3</th>\n",
       "      <td>2</td>\n",
       "      <td>0</td>\n",
       "    </tr>\n",
       "    <tr>\n",
       "      <th>10.0.0.80</th>\n",
       "      <td>0</td>\n",
       "      <td>1</td>\n",
       "    </tr>\n",
       "    <tr>\n",
       "      <th>10.0.0.96</th>\n",
       "      <td>0</td>\n",
       "      <td>1</td>\n",
       "    </tr>\n",
       "    <tr>\n",
       "      <th>10.0.1.0</th>\n",
       "      <td>62</td>\n",
       "      <td>79</td>\n",
       "    </tr>\n",
       "    <tr>\n",
       "      <th>10.0.1.144</th>\n",
       "      <td>0</td>\n",
       "      <td>1</td>\n",
       "    </tr>\n",
       "  </tbody>\n",
       "</table>\n",
       "</div>"
      ],
      "text/plain": [
       "HasDetections        0        1\n",
       "OsVer                          \n",
       "10.0.0.0       4318188  4314353\n",
       "10.0.0.1             3        2\n",
       "10.0.0.112           6        4\n",
       "10.0.0.2             0        1\n",
       "10.0.0.22            1        0\n",
       "10.0.0.3             2        0\n",
       "10.0.0.80            0        1\n",
       "10.0.0.96            0        1\n",
       "10.0.1.0            62       79\n",
       "10.0.1.144           0        1"
      ]
     },
     "execution_count": 40,
     "metadata": {},
     "output_type": "execute_result"
    }
   ],
   "source": [
    "pd.crosstab(df.OsVer, df.HasDetections).head(10)"
   ]
  },
  {
   "cell_type": "code",
   "execution_count": 41,
   "id": "ae6d67f6",
   "metadata": {
    "scrolled": true
   },
   "outputs": [
    {
     "data": {
      "text/plain": [
       "10.0    8633082\n",
       "6.3      194507\n",
       "6.1       93889\n",
       "Name: OsVer_encoded, dtype: int64"
      ]
     },
     "execution_count": 41,
     "metadata": {},
     "output_type": "execute_result"
    }
   ],
   "source": [
    "versions = ['6.1', '6.3', '10.0']\n",
    "for ver in versions:\n",
    "    df.loc[df.OsVer.str.startswith(ver), 'OsVer_encoded'] = ver\n",
    "    \n",
    "df['OsVer_encoded'] = df['OsVer_encoded'].astype('category')\n",
    "df['OsVer_encoded'].value_counts()"
   ]
  },
  {
   "cell_type": "code",
   "execution_count": 42,
   "id": "c4ed648b",
   "metadata": {},
   "outputs": [],
   "source": [
    "to_drop.append('OsVer')"
   ]
  },
  {
   "cell_type": "markdown",
   "id": "fc9c5486",
   "metadata": {},
   "source": [
    "#### Census_ChassisTypeName"
   ]
  },
  {
   "cell_type": "code",
   "execution_count": 43,
   "id": "a68f7072",
   "metadata": {},
   "outputs": [
    {
     "data": {
      "text/plain": [
       "623"
      ]
     },
     "execution_count": 43,
     "metadata": {},
     "output_type": "execute_result"
    }
   ],
   "source": [
    "df['Census_ChassisTypeName'].isnull().sum()"
   ]
  },
  {
   "cell_type": "code",
   "execution_count": 44,
   "id": "55623f8d",
   "metadata": {},
   "outputs": [],
   "source": [
    "nans = df['Census_ChassisTypeName'].isnull()"
   ]
  },
  {
   "cell_type": "code",
   "execution_count": 45,
   "id": "baa0445a",
   "metadata": {
    "scrolled": true
   },
   "outputs": [
    {
     "data": {
      "text/html": [
       "<div>\n",
       "<style scoped>\n",
       "    .dataframe tbody tr th:only-of-type {\n",
       "        vertical-align: middle;\n",
       "    }\n",
       "\n",
       "    .dataframe tbody tr th {\n",
       "        vertical-align: top;\n",
       "    }\n",
       "\n",
       "    .dataframe thead th {\n",
       "        text-align: right;\n",
       "    }\n",
       "</style>\n",
       "<table border=\"1\" class=\"dataframe\">\n",
       "  <thead>\n",
       "    <tr style=\"text-align: right;\">\n",
       "      <th></th>\n",
       "      <th>Count</th>\n",
       "      <th>%</th>\n",
       "    </tr>\n",
       "  </thead>\n",
       "  <tbody>\n",
       "    <tr>\n",
       "      <th>Notebook</th>\n",
       "      <td>5248809</td>\n",
       "      <td>58.837511</td>\n",
       "    </tr>\n",
       "    <tr>\n",
       "      <th>Desktop</th>\n",
       "      <td>1872125</td>\n",
       "      <td>20.985937</td>\n",
       "    </tr>\n",
       "    <tr>\n",
       "      <th>Laptop</th>\n",
       "      <td>685581</td>\n",
       "      <td>7.685149</td>\n",
       "    </tr>\n",
       "    <tr>\n",
       "      <th>Portable</th>\n",
       "      <td>360903</td>\n",
       "      <td>4.045610</td>\n",
       "    </tr>\n",
       "    <tr>\n",
       "      <th>AllinOne</th>\n",
       "      <td>204295</td>\n",
       "      <td>2.290083</td>\n",
       "    </tr>\n",
       "    <tr>\n",
       "      <th>MiniTower</th>\n",
       "      <td>85127</td>\n",
       "      <td>0.954247</td>\n",
       "    </tr>\n",
       "    <tr>\n",
       "      <th>Convertible</th>\n",
       "      <td>84472</td>\n",
       "      <td>0.946905</td>\n",
       "    </tr>\n",
       "    <tr>\n",
       "      <th>Other</th>\n",
       "      <td>75780</td>\n",
       "      <td>0.849470</td>\n",
       "    </tr>\n",
       "    <tr>\n",
       "      <th>UNKNOWN</th>\n",
       "      <td>67212</td>\n",
       "      <td>0.753426</td>\n",
       "    </tr>\n",
       "    <tr>\n",
       "      <th>Detachable</th>\n",
       "      <td>51466</td>\n",
       "      <td>0.576918</td>\n",
       "    </tr>\n",
       "  </tbody>\n",
       "</table>\n",
       "</div>"
      ],
      "text/plain": [
       "               Count          %\n",
       "Notebook     5248809  58.837511\n",
       "Desktop      1872125  20.985937\n",
       "Laptop        685581   7.685149\n",
       "Portable      360903   4.045610\n",
       "AllinOne      204295   2.290083\n",
       "MiniTower      85127   0.954247\n",
       "Convertible    84472   0.946905\n",
       "Other          75780   0.849470\n",
       "UNKNOWN        67212   0.753426\n",
       "Detachable     51466   0.576918"
      ]
     },
     "execution_count": 45,
     "metadata": {},
     "output_type": "execute_result"
    }
   ],
   "source": [
    "census_chassis = pd.concat([df['Census_ChassisTypeName'].value_counts(), \n",
    "                            df['Census_ChassisTypeName'].value_counts(normalize=True) * 100], \n",
    "                            axis=1)\n",
    "census_chassis.columns=['Count', '%']\n",
    "census_chassis.head(10)"
   ]
  },
  {
   "cell_type": "code",
   "execution_count": 46,
   "id": "4a4a1f68",
   "metadata": {},
   "outputs": [
    {
     "data": {
      "image/png": "[encoded data removed]",
      "text/plain": [
       "<Figure size 576x432 with 1 Axes>"
      ]
     },
     "metadata": {},
     "output_type": "display_data"
    }
   ],
   "source": [
    "plt.figure(figsize=(8, 6))\n",
    "sns.countplot(x='Census_ChassisTypeName',\n",
    "            hue='HasDetections',\n",
    "            data=df,\n",
    "            order=df['Census_ChassisTypeName'].value_counts().index[:10],\n",
    "            color='blue',\n",
    "            edgecolor=sns.color_palette('dark', 1),\n",
    "            alpha=0.8)\n",
    "plt.legend(loc=1, title='HasDetections')\n",
    "plt.xticks(rotation = 45)\n",
    "plt.tight_layout()"
   ]
  },
  {
   "cell_type": "code",
   "execution_count": 47,
   "id": "5906bf5d",
   "metadata": {},
   "outputs": [
    {
     "data": {
      "text/plain": [
       "CategoricalDtype(categories=['0', '112', '127', '25', '28', '30', '31', '32', '35', '36',\n",
       "                  '39', '44', '45', '49', '76', '81', '82', '88', 'AllinOne',\n",
       "                  'Blade', 'BladeEnclosure', 'BusExpansionChassis',\n",
       "                  'CompactPCI', 'Convertible', 'Desktop', 'Detachable',\n",
       "                  'DockingStation', 'EmbeddedPC', 'ExpansionChassis',\n",
       "                  'HandHeld', 'IoTGateway', 'Laptop', 'LowProfileDesktop',\n",
       "                  'LunchBox', 'MainServerChassis', 'MiniPC', 'MiniTower',\n",
       "                  'MultisystemChassis', 'Notebook', 'Other', 'PizzaBox',\n",
       "                  'Portable', 'RackMountChassis', 'SealedCasePC',\n",
       "                  'SpaceSaving', 'StickPC', 'SubChassis', 'SubNotebook',\n",
       "                  'Tablet', 'Tower', 'UNKNOWN', 'Unknown'],\n",
       ", ordered=False)"
      ]
     },
     "execution_count": 47,
     "metadata": {},
     "output_type": "execute_result"
    }
   ],
   "source": [
    "df['Census_ChassisTypeName'].dtype"
   ]
  },
  {
   "cell_type": "code",
   "execution_count": 48,
   "id": "42fb11b0",
   "metadata": {
    "scrolled": true
   },
   "outputs": [
    {
     "data": {
      "text/plain": [
       "Notebook       0.588375\n",
       "Desktop        0.209859\n",
       "Laptop         0.076851\n",
       "Other          0.042546\n",
       "Portable       0.040456\n",
       "AllinOne       0.022901\n",
       "MiniTower      0.009542\n",
       "Convertible    0.009469\n",
       "Name: Census_ChassisTypeName_encoded, dtype: float64"
      ]
     },
     "execution_count": 48,
     "metadata": {},
     "output_type": "execute_result"
    }
   ],
   "source": [
    "df.loc[(df['Census_ChassisTypeName'] != 'Notebook') &\n",
    "       (df['Census_ChassisTypeName'] != 'Desktop') &\n",
    "       (df['Census_ChassisTypeName'] != 'Laptop') &\n",
    "       (df['Census_ChassisTypeName'] != 'Portable') &\n",
    "       (df['Census_ChassisTypeName'] != 'AllinOne') &\n",
    "       (df['Census_ChassisTypeName'] != 'MiniTower') &\n",
    "       (df['Census_ChassisTypeName'] != 'Convertible'), \n",
    "       'Census_ChassisTypeName'] = 'Other'\n",
    "df['Census_ChassisTypeName'].cat.remove_unused_categories(inplace=True)\n",
    "df.loc[nans, 'Census_ChassisTypeName'] = np.nan\n",
    "df['Census_ChassisTypeName'] = df['Census_ChassisTypeName'].astype('category')\n",
    "df.rename(columns={'Census_ChassisTypeName':'Census_ChassisTypeName_encoded'}, inplace=True)\n",
    "df['Census_ChassisTypeName_encoded'].value_counts(normalize=True)"
   ]
  },
  {
   "cell_type": "code",
   "execution_count": 49,
   "id": "85add78f",
   "metadata": {},
   "outputs": [
    {
     "data": {
      "text/plain": [
       "623"
      ]
     },
     "execution_count": 49,
     "metadata": {},
     "output_type": "execute_result"
    }
   ],
   "source": [
    "df['Census_ChassisTypeName_encoded'].isnull().sum()"
   ]
  },
  {
   "cell_type": "markdown",
   "id": "788e45d3",
   "metadata": {},
   "source": [
    "#### Census_OSEdition"
   ]
  },
  {
   "cell_type": "code",
   "execution_count": 50,
   "id": "b6cabb12",
   "metadata": {},
   "outputs": [
    {
     "data": {
      "text/plain": [
       "0"
      ]
     },
     "execution_count": 50,
     "metadata": {},
     "output_type": "execute_result"
    }
   ],
   "source": [
    "df['Census_OSEdition'].isnull().sum()"
   ]
  },
  {
   "cell_type": "code",
   "execution_count": 51,
   "id": "9b222274",
   "metadata": {},
   "outputs": [
    {
     "data": {
      "text/html": [
       "<div>\n",
       "<style scoped>\n",
       "    .dataframe tbody tr th:only-of-type {\n",
       "        vertical-align: middle;\n",
       "    }\n",
       "\n",
       "    .dataframe tbody tr th {\n",
       "        vertical-align: top;\n",
       "    }\n",
       "\n",
       "    .dataframe thead th {\n",
       "        text-align: right;\n",
       "    }\n",
       "</style>\n",
       "<table border=\"1\" class=\"dataframe\">\n",
       "  <thead>\n",
       "    <tr style=\"text-align: right;\">\n",
       "      <th></th>\n",
       "      <th>Count</th>\n",
       "      <th>%</th>\n",
       "    </tr>\n",
       "  </thead>\n",
       "  <tbody>\n",
       "    <tr>\n",
       "      <th>Core</th>\n",
       "      <td>3469988</td>\n",
       "      <td>38.894766</td>\n",
       "    </tr>\n",
       "    <tr>\n",
       "      <th>Professional</th>\n",
       "      <td>3130565</td>\n",
       "      <td>35.090206</td>\n",
       "    </tr>\n",
       "    <tr>\n",
       "      <th>CoreSingleLanguage</th>\n",
       "      <td>1945460</td>\n",
       "      <td>21.806476</td>\n",
       "    </tr>\n",
       "    <tr>\n",
       "      <th>CoreCountrySpecific</th>\n",
       "      <td>166100</td>\n",
       "      <td>1.861799</td>\n",
       "    </tr>\n",
       "    <tr>\n",
       "      <th>ProfessionalEducation</th>\n",
       "      <td>56698</td>\n",
       "      <td>0.635522</td>\n",
       "    </tr>\n",
       "    <tr>\n",
       "      <th>Education</th>\n",
       "      <td>40704</td>\n",
       "      <td>0.456247</td>\n",
       "    </tr>\n",
       "    <tr>\n",
       "      <th>Enterprise</th>\n",
       "      <td>35603</td>\n",
       "      <td>0.399071</td>\n",
       "    </tr>\n",
       "    <tr>\n",
       "      <th>ProfessionalN</th>\n",
       "      <td>28341</td>\n",
       "      <td>0.317672</td>\n",
       "    </tr>\n",
       "    <tr>\n",
       "      <th>EnterpriseS</th>\n",
       "      <td>20020</td>\n",
       "      <td>0.224402</td>\n",
       "    </tr>\n",
       "    <tr>\n",
       "      <th>ServerStandard</th>\n",
       "      <td>10128</td>\n",
       "      <td>0.113524</td>\n",
       "    </tr>\n",
       "    <tr>\n",
       "      <th>Cloud</th>\n",
       "      <td>6275</td>\n",
       "      <td>0.070336</td>\n",
       "    </tr>\n",
       "    <tr>\n",
       "      <th>CoreN</th>\n",
       "      <td>4790</td>\n",
       "      <td>0.053691</td>\n",
       "    </tr>\n",
       "    <tr>\n",
       "      <th>ServerStandardEval</th>\n",
       "      <td>2751</td>\n",
       "      <td>0.030836</td>\n",
       "    </tr>\n",
       "    <tr>\n",
       "      <th>EducationN</th>\n",
       "      <td>932</td>\n",
       "      <td>0.010447</td>\n",
       "    </tr>\n",
       "    <tr>\n",
       "      <th>EnterpriseSN</th>\n",
       "      <td>878</td>\n",
       "      <td>0.009841</td>\n",
       "    </tr>\n",
       "    <tr>\n",
       "      <th>ServerDatacenterEval</th>\n",
       "      <td>829</td>\n",
       "      <td>0.009292</td>\n",
       "    </tr>\n",
       "    <tr>\n",
       "      <th>ServerSolution</th>\n",
       "      <td>683</td>\n",
       "      <td>0.007656</td>\n",
       "    </tr>\n",
       "    <tr>\n",
       "      <th>EnterpriseN</th>\n",
       "      <td>351</td>\n",
       "      <td>0.003934</td>\n",
       "    </tr>\n",
       "    <tr>\n",
       "      <th>ProfessionalEducationN</th>\n",
       "      <td>192</td>\n",
       "      <td>0.002152</td>\n",
       "    </tr>\n",
       "    <tr>\n",
       "      <th>ProfessionalWorkstation</th>\n",
       "      <td>128</td>\n",
       "      <td>0.001435</td>\n",
       "    </tr>\n",
       "    <tr>\n",
       "      <th>ServerDatacenter</th>\n",
       "      <td>15</td>\n",
       "      <td>0.000168</td>\n",
       "    </tr>\n",
       "    <tr>\n",
       "      <th>ProfessionalWorkstationN</th>\n",
       "      <td>13</td>\n",
       "      <td>0.000146</td>\n",
       "    </tr>\n",
       "    <tr>\n",
       "      <th>CloudN</th>\n",
       "      <td>8</td>\n",
       "      <td>0.000090</td>\n",
       "    </tr>\n",
       "    <tr>\n",
       "      <th>ProfessionalCountrySpecific</th>\n",
       "      <td>5</td>\n",
       "      <td>0.000056</td>\n",
       "    </tr>\n",
       "    <tr>\n",
       "      <th>ServerRdsh</th>\n",
       "      <td>4</td>\n",
       "      <td>0.000045</td>\n",
       "    </tr>\n",
       "    <tr>\n",
       "      <th>Home</th>\n",
       "      <td>4</td>\n",
       "      <td>0.000045</td>\n",
       "    </tr>\n",
       "    <tr>\n",
       "      <th>Ultimate</th>\n",
       "      <td>4</td>\n",
       "      <td>0.000045</td>\n",
       "    </tr>\n",
       "    <tr>\n",
       "      <th>ProfessionalSingleLanguage</th>\n",
       "      <td>3</td>\n",
       "      <td>0.000034</td>\n",
       "    </tr>\n",
       "    <tr>\n",
       "      <th>HomePremium</th>\n",
       "      <td>2</td>\n",
       "      <td>0.000022</td>\n",
       "    </tr>\n",
       "    <tr>\n",
       "      <th>Enterprise 2015 LTSB</th>\n",
       "      <td>1</td>\n",
       "      <td>0.000011</td>\n",
       "    </tr>\n",
       "    <tr>\n",
       "      <th>ServerDatacenterACor</th>\n",
       "      <td>1</td>\n",
       "      <td>0.000011</td>\n",
       "    </tr>\n",
       "    <tr>\n",
       "      <th>Pro</th>\n",
       "      <td>1</td>\n",
       "      <td>0.000011</td>\n",
       "    </tr>\n",
       "    <tr>\n",
       "      <th>professional</th>\n",
       "      <td>1</td>\n",
       "      <td>0.000011</td>\n",
       "    </tr>\n",
       "  </tbody>\n",
       "</table>\n",
       "</div>"
      ],
      "text/plain": [
       "                               Count          %\n",
       "Core                         3469988  38.894766\n",
       "Professional                 3130565  35.090206\n",
       "CoreSingleLanguage           1945460  21.806476\n",
       "CoreCountrySpecific           166100   1.861799\n",
       "ProfessionalEducation          56698   0.635522\n",
       "Education                      40704   0.456247\n",
       "Enterprise                     35603   0.399071\n",
       "ProfessionalN                  28341   0.317672\n",
       "EnterpriseS                    20020   0.224402\n",
       "ServerStandard                 10128   0.113524\n",
       "Cloud                           6275   0.070336\n",
       "CoreN                           4790   0.053691\n",
       "ServerStandardEval              2751   0.030836\n",
       "EducationN                       932   0.010447\n",
       "EnterpriseSN                     878   0.009841\n",
       "ServerDatacenterEval             829   0.009292\n",
       "ServerSolution                   683   0.007656\n",
       "EnterpriseN                      351   0.003934\n",
       "ProfessionalEducationN           192   0.002152\n",
       "ProfessionalWorkstation          128   0.001435\n",
       "ServerDatacenter                  15   0.000168\n",
       "ProfessionalWorkstationN          13   0.000146\n",
       "CloudN                             8   0.000090\n",
       "ProfessionalCountrySpecific        5   0.000056\n",
       "ServerRdsh                         4   0.000045\n",
       "Home                               4   0.000045\n",
       "Ultimate                           4   0.000045\n",
       "ProfessionalSingleLanguage         3   0.000034\n",
       "HomePremium                        2   0.000022\n",
       "Enterprise 2015 LTSB               1   0.000011\n",
       "ServerDatacenterACor               1   0.000011\n",
       "Pro                                1   0.000011\n",
       "professional                       1   0.000011"
      ]
     },
     "execution_count": 51,
     "metadata": {},
     "output_type": "execute_result"
    }
   ],
   "source": [
    "census_os_edition = pd.concat([df['Census_OSEdition'].value_counts(),\n",
    "                               df['Census_OSEdition'].value_counts(normalize=True) * 100], \n",
    "                               axis=1)\n",
    "census_os_edition.columns=['Count', '%']\n",
    "census_os_edition.head(100)"
   ]
  },
  {
   "cell_type": "code",
   "execution_count": 52,
   "id": "be47a1bf",
   "metadata": {},
   "outputs": [],
   "source": [
    "df.loc[df.Census_OSEdition == 'professional', 'Census_OSEdition'] = 'Professional'\n",
    "df.Census_OSEdition.cat.remove_categories('professional', inplace=True)"
   ]
  },
  {
   "cell_type": "code",
   "execution_count": 53,
   "id": "13a01f37",
   "metadata": {},
   "outputs": [
    {
     "data": {
      "image/png": "[encoded data removed]",
      "text/plain": [
       "<Figure size 720x432 with 1 Axes>"
      ]
     },
     "metadata": {},
     "output_type": "display_data"
    }
   ],
   "source": [
    "plt.figure(figsize=(10, 6))\n",
    "sns.countplot(x='Census_OSEdition',\n",
    "            hue='HasDetections',\n",
    "            data=df,\n",
    "            order=df['Census_OSEdition'].value_counts().index[:10],\n",
    "            color='blue',\n",
    "            edgecolor=sns.color_palette('dark', 1),\n",
    "            alpha=0.8)\n",
    "plt.legend(loc=1, title='HasDetections')\n",
    "plt.xticks(rotation = 45)\n",
    "plt.tight_layout()"
   ]
  },
  {
   "cell_type": "code",
   "execution_count": 54,
   "id": "caaa9c9d",
   "metadata": {},
   "outputs": [
    {
     "data": {
      "text/plain": [
       "CategoricalDtype(categories=['Cloud', 'CloudN', 'Core', 'CoreCountrySpecific', 'CoreN',\n",
       "                  'CoreSingleLanguage', 'Education', 'EducationN',\n",
       "                  'Enterprise', 'Enterprise 2015 LTSB', 'EnterpriseN',\n",
       "                  'EnterpriseS', 'EnterpriseSN', 'Home', 'HomePremium', 'Pro',\n",
       "                  'Professional', 'ProfessionalCountrySpecific',\n",
       "                  'ProfessionalEducation', 'ProfessionalEducationN',\n",
       "                  'ProfessionalN', 'ProfessionalSingleLanguage',\n",
       "                  'ProfessionalWorkstation', 'ProfessionalWorkstationN',\n",
       "                  'ServerDatacenter', 'ServerDatacenterACor',\n",
       "                  'ServerDatacenterEval', 'ServerRdsh', 'ServerSolution',\n",
       "                  'ServerStandard', 'ServerStandardEval', 'Ultimate'],\n",
       ", ordered=False)"
      ]
     },
     "execution_count": 54,
     "metadata": {},
     "output_type": "execute_result"
    }
   ],
   "source": [
    "df['Census_OSEdition'].dtype"
   ]
  },
  {
   "cell_type": "code",
   "execution_count": 55,
   "id": "11b49a67",
   "metadata": {},
   "outputs": [
    {
     "data": {
      "text/plain": [
       "Core                  0.388948\n",
       "Professional          0.350902\n",
       "CoreSingleLanguage    0.218065\n",
       "Other                 0.042085\n",
       "Name: Census_OSEdition_encoded, dtype: float64"
      ]
     },
     "execution_count": 55,
     "metadata": {},
     "output_type": "execute_result"
    }
   ],
   "source": [
    "df['Census_OSEdition'].cat.add_categories('Other', inplace=True)\n",
    "other_os_edition = ~df['Census_OSEdition'].isin(['Core',\n",
    "                                                'Professional',\n",
    "                                                'CoreSingleLanguage'])\n",
    "df.loc[other_os_edition, 'Census_OSEdition'] = 'Other'\n",
    "df['Census_OSEdition'].cat.remove_unused_categories(inplace=True)\n",
    "df.rename(columns={'Census_OSEdition':'Census_OSEdition_encoded'}, inplace=True)\n",
    "df['Census_OSEdition_encoded'].value_counts(normalize=True)\n"
   ]
  },
  {
   "cell_type": "markdown",
   "id": "1651d242",
   "metadata": {},
   "source": [
    "#### Census_OSSkuName"
   ]
  },
  {
   "cell_type": "code",
   "execution_count": 56,
   "id": "c001fb16",
   "metadata": {},
   "outputs": [
    {
     "data": {
      "text/plain": [
       "0"
      ]
     },
     "execution_count": 56,
     "metadata": {},
     "output_type": "execute_result"
    }
   ],
   "source": [
    "df['Census_OSSkuName'].isnull().sum()"
   ]
  },
  {
   "cell_type": "code",
   "execution_count": 57,
   "id": "9e64b601",
   "metadata": {},
   "outputs": [
    {
     "data": {
      "text/html": [
       "<div>\n",
       "<style scoped>\n",
       "    .dataframe tbody tr th:only-of-type {\n",
       "        vertical-align: middle;\n",
       "    }\n",
       "\n",
       "    .dataframe tbody tr th {\n",
       "        vertical-align: top;\n",
       "    }\n",
       "\n",
       "    .dataframe thead th {\n",
       "        text-align: right;\n",
       "    }\n",
       "</style>\n",
       "<table border=\"1\" class=\"dataframe\">\n",
       "  <thead>\n",
       "    <tr style=\"text-align: right;\">\n",
       "      <th></th>\n",
       "      <th>Count</th>\n",
       "      <th>%</th>\n",
       "    </tr>\n",
       "  </thead>\n",
       "  <tbody>\n",
       "    <tr>\n",
       "      <th>CORE</th>\n",
       "      <td>3469866</td>\n",
       "      <td>38.893399</td>\n",
       "    </tr>\n",
       "    <tr>\n",
       "      <th>PROFESSIONAL</th>\n",
       "      <td>3187912</td>\n",
       "      <td>35.733003</td>\n",
       "    </tr>\n",
       "    <tr>\n",
       "      <th>CORE_SINGLELANGUAGE</th>\n",
       "      <td>1945132</td>\n",
       "      <td>21.802800</td>\n",
       "    </tr>\n",
       "    <tr>\n",
       "      <th>CORE_COUNTRYSPECIFIC</th>\n",
       "      <td>165886</td>\n",
       "      <td>1.859400</td>\n",
       "    </tr>\n",
       "    <tr>\n",
       "      <th>EDUCATION</th>\n",
       "      <td>40827</td>\n",
       "      <td>0.457626</td>\n",
       "    </tr>\n",
       "    <tr>\n",
       "      <th>ENTERPRISE</th>\n",
       "      <td>35602</td>\n",
       "      <td>0.399059</td>\n",
       "    </tr>\n",
       "    <tr>\n",
       "      <th>PROFESSIONAL_N</th>\n",
       "      <td>28522</td>\n",
       "      <td>0.319700</td>\n",
       "    </tr>\n",
       "    <tr>\n",
       "      <th>ENTERPRISE_S</th>\n",
       "      <td>20022</td>\n",
       "      <td>0.224425</td>\n",
       "    </tr>\n",
       "    <tr>\n",
       "      <th>STANDARD_SERVER</th>\n",
       "      <td>10128</td>\n",
       "      <td>0.113524</td>\n",
       "    </tr>\n",
       "    <tr>\n",
       "      <th>CLOUD</th>\n",
       "      <td>6167</td>\n",
       "      <td>0.069125</td>\n",
       "    </tr>\n",
       "    <tr>\n",
       "      <th>CORE_N</th>\n",
       "      <td>4787</td>\n",
       "      <td>0.053657</td>\n",
       "    </tr>\n",
       "    <tr>\n",
       "      <th>STANDARD_EVALUATION_SERVER</th>\n",
       "      <td>2755</td>\n",
       "      <td>0.030881</td>\n",
       "    </tr>\n",
       "    <tr>\n",
       "      <th>EDUCATION_N</th>\n",
       "      <td>927</td>\n",
       "      <td>0.010391</td>\n",
       "    </tr>\n",
       "    <tr>\n",
       "      <th>ENTERPRISE_S_N</th>\n",
       "      <td>881</td>\n",
       "      <td>0.009875</td>\n",
       "    </tr>\n",
       "    <tr>\n",
       "      <th>DATACENTER_EVALUATION_SERVER</th>\n",
       "      <td>829</td>\n",
       "      <td>0.009292</td>\n",
       "    </tr>\n",
       "    <tr>\n",
       "      <th>SB_SOLUTION_SERVER</th>\n",
       "      <td>684</td>\n",
       "      <td>0.007667</td>\n",
       "    </tr>\n",
       "    <tr>\n",
       "      <th>ENTERPRISE_N</th>\n",
       "      <td>356</td>\n",
       "      <td>0.003990</td>\n",
       "    </tr>\n",
       "    <tr>\n",
       "      <th>PRO_WORKSTATION</th>\n",
       "      <td>124</td>\n",
       "      <td>0.001390</td>\n",
       "    </tr>\n",
       "    <tr>\n",
       "      <th>UNLICENSED</th>\n",
       "      <td>17</td>\n",
       "      <td>0.000191</td>\n",
       "    </tr>\n",
       "    <tr>\n",
       "      <th>DATACENTER_SERVER</th>\n",
       "      <td>14</td>\n",
       "      <td>0.000157</td>\n",
       "    </tr>\n",
       "    <tr>\n",
       "      <th>PRO_WORKSTATION_N</th>\n",
       "      <td>12</td>\n",
       "      <td>0.000135</td>\n",
       "    </tr>\n",
       "    <tr>\n",
       "      <th>CLOUDN</th>\n",
       "      <td>7</td>\n",
       "      <td>0.000078</td>\n",
       "    </tr>\n",
       "    <tr>\n",
       "      <th>PRO_CHINA</th>\n",
       "      <td>5</td>\n",
       "      <td>0.000056</td>\n",
       "    </tr>\n",
       "    <tr>\n",
       "      <th>SERVERRDSH</th>\n",
       "      <td>4</td>\n",
       "      <td>0.000045</td>\n",
       "    </tr>\n",
       "    <tr>\n",
       "      <th>ULTIMATE</th>\n",
       "      <td>4</td>\n",
       "      <td>0.000045</td>\n",
       "    </tr>\n",
       "    <tr>\n",
       "      <th>PRO_FOR_EDUCATION</th>\n",
       "      <td>3</td>\n",
       "      <td>0.000034</td>\n",
       "    </tr>\n",
       "    <tr>\n",
       "      <th>PRO_SINGLE_LANGUAGE</th>\n",
       "      <td>2</td>\n",
       "      <td>0.000022</td>\n",
       "    </tr>\n",
       "    <tr>\n",
       "      <th>ENTERPRISEG</th>\n",
       "      <td>1</td>\n",
       "      <td>0.000011</td>\n",
       "    </tr>\n",
       "    <tr>\n",
       "      <th>STARTER</th>\n",
       "      <td>1</td>\n",
       "      <td>0.000011</td>\n",
       "    </tr>\n",
       "    <tr>\n",
       "      <th>UNDEFINED</th>\n",
       "      <td>1</td>\n",
       "      <td>0.000011</td>\n",
       "    </tr>\n",
       "  </tbody>\n",
       "</table>\n",
       "</div>"
      ],
      "text/plain": [
       "                                Count          %\n",
       "CORE                          3469866  38.893399\n",
       "PROFESSIONAL                  3187912  35.733003\n",
       "CORE_SINGLELANGUAGE           1945132  21.802800\n",
       "CORE_COUNTRYSPECIFIC           165886   1.859400\n",
       "EDUCATION                       40827   0.457626\n",
       "ENTERPRISE                      35602   0.399059\n",
       "PROFESSIONAL_N                  28522   0.319700\n",
       "ENTERPRISE_S                    20022   0.224425\n",
       "STANDARD_SERVER                 10128   0.113524\n",
       "CLOUD                            6167   0.069125\n",
       "CORE_N                           4787   0.053657\n",
       "STANDARD_EVALUATION_SERVER       2755   0.030881\n",
       "EDUCATION_N                       927   0.010391\n",
       "ENTERPRISE_S_N                    881   0.009875\n",
       "DATACENTER_EVALUATION_SERVER      829   0.009292\n",
       "SB_SOLUTION_SERVER                684   0.007667\n",
       "ENTERPRISE_N                      356   0.003990\n",
       "PRO_WORKSTATION                   124   0.001390\n",
       "UNLICENSED                         17   0.000191\n",
       "DATACENTER_SERVER                  14   0.000157\n",
       "PRO_WORKSTATION_N                  12   0.000135\n",
       "CLOUDN                              7   0.000078\n",
       "PRO_CHINA                           5   0.000056\n",
       "SERVERRDSH                          4   0.000045\n",
       "ULTIMATE                            4   0.000045\n",
       "PRO_FOR_EDUCATION                   3   0.000034\n",
       "PRO_SINGLE_LANGUAGE                 2   0.000022\n",
       "ENTERPRISEG                         1   0.000011\n",
       "STARTER                             1   0.000011\n",
       "UNDEFINED                           1   0.000011"
      ]
     },
     "execution_count": 57,
     "metadata": {},
     "output_type": "execute_result"
    }
   ],
   "source": [
    "census_os_sku = pd.concat([df['Census_OSSkuName'].value_counts(),\n",
    "                           df['Census_OSSkuName'].value_counts(normalize=True) * 100],\n",
    "                           axis=1)\n",
    "census_os_sku.columns=['Count', '%']\n",
    "census_os_sku.head(100)"
   ]
  },
  {
   "cell_type": "code",
   "execution_count": 58,
   "id": "397964d8",
   "metadata": {},
   "outputs": [
    {
     "data": {
      "image/png": "[encoded data removed]",
      "text/plain": [
       "<Figure size 720x432 with 1 Axes>"
      ]
     },
     "metadata": {},
     "output_type": "display_data"
    }
   ],
   "source": [
    "plt.figure(figsize=(10, 6))\n",
    "sns.countplot(x='Census_OSSkuName',\n",
    "            hue='HasDetections',\n",
    "            data=df,\n",
    "            order=df['Census_OSSkuName'].value_counts().index[:10],\n",
    "            color='blue',\n",
    "            edgecolor=sns.color_palette('dark', 1),\n",
    "            alpha=0.8)\n",
    "plt.legend(loc=1, title='HasDetections')\n",
    "plt.xticks(rotation = 45)\n",
    "plt.tight_layout()"
   ]
  },
  {
   "cell_type": "code",
   "execution_count": 59,
   "id": "b5877cff",
   "metadata": {},
   "outputs": [
    {
     "data": {
      "text/plain": [
       "CategoricalDtype(categories=['CLOUD', 'CLOUDN', 'CORE', 'CORE_COUNTRYSPECIFIC', 'CORE_N',\n",
       "                  'CORE_SINGLELANGUAGE', 'DATACENTER_EVALUATION_SERVER',\n",
       "                  'DATACENTER_SERVER', 'EDUCATION', 'EDUCATION_N',\n",
       "                  'ENTERPRISE', 'ENTERPRISEG', 'ENTERPRISE_N', 'ENTERPRISE_S',\n",
       "                  'ENTERPRISE_S_N', 'PROFESSIONAL', 'PROFESSIONAL_N',\n",
       "                  'PRO_CHINA', 'PRO_FOR_EDUCATION', 'PRO_SINGLE_LANGUAGE',\n",
       "                  'PRO_WORKSTATION', 'PRO_WORKSTATION_N', 'SB_SOLUTION_SERVER',\n",
       "                  'SERVERRDSH', 'STANDARD_EVALUATION_SERVER',\n",
       "                  'STANDARD_SERVER', 'STARTER', 'ULTIMATE', 'UNDEFINED',\n",
       "                  'UNLICENSED'],\n",
       ", ordered=False)"
      ]
     },
     "execution_count": 59,
     "metadata": {},
     "output_type": "execute_result"
    }
   ],
   "source": [
    "df['Census_OSSkuName'].dtype"
   ]
  },
  {
   "cell_type": "code",
   "execution_count": 60,
   "id": "7b828cf9",
   "metadata": {},
   "outputs": [
    {
     "data": {
      "text/plain": [
       "CORE                    0.388934\n",
       "PROFESSIONAL            0.357330\n",
       "CORE_SINGLELANGUAGE     0.218028\n",
       "CORE_COUNTRYSPECIFIC    0.018594\n",
       "Other                   0.005350\n",
       "EDUCATION               0.004576\n",
       "ENTERPRISE              0.003991\n",
       "PROFESSIONAL_N          0.003197\n",
       "Name: Census_OSSkuName_encoded, dtype: float64"
      ]
     },
     "execution_count": 60,
     "metadata": {},
     "output_type": "execute_result"
    }
   ],
   "source": [
    "df['Census_OSSkuName'].cat.add_categories('Other', inplace=True)\n",
    "df.loc[(df['Census_OSSkuName'] != 'CORE') & \n",
    "       (df['Census_OSSkuName'] != 'PROFESSIONAL') &\n",
    "       (df['Census_OSSkuName'] != 'CORE_SINGLELANGUAGE') &\n",
    "       (df['Census_OSSkuName'] != 'CORE_COUNTRYSPECIFIC') &\n",
    "       (df['Census_OSSkuName'] != 'EDUCATION') &\n",
    "       (df['Census_OSSkuName'] != 'ENTERPRISE') &\n",
    "       (df['Census_OSSkuName'] != 'PROFESSIONAL_N') &\n",
    "       (df['Census_OSSkuName'] != 'PROFESSIONAL_S'),\n",
    "             'Census_OSSkuName'] = 'Other'\n",
    "df['Census_OSSkuName'].cat.remove_unused_categories(inplace=True)\n",
    "df.rename(columns={'Census_OSSkuName':'Census_OSSkuName_encoded'}, inplace=True)\n",
    "df['Census_OSSkuName_encoded'].value_counts(normalize=True)"
   ]
  },
  {
   "cell_type": "markdown",
   "id": "7678f83d",
   "metadata": {},
   "source": [
    "#### SmartScreen"
   ]
  },
  {
   "cell_type": "code",
   "execution_count": 61,
   "id": "652540c2",
   "metadata": {},
   "outputs": [
    {
     "data": {
      "text/plain": [
       "3177010"
      ]
     },
     "execution_count": 61,
     "metadata": {},
     "output_type": "execute_result"
    }
   ],
   "source": [
    "df['SmartScreen'].isnull().sum()"
   ]
  },
  {
   "cell_type": "code",
   "execution_count": 63,
   "id": "fb69341b",
   "metadata": {},
   "outputs": [],
   "source": [
    "nans = df['SmartScreen'].isnull()"
   ]
  },
  {
   "cell_type": "code",
   "execution_count": 64,
   "id": "985fd20c",
   "metadata": {},
   "outputs": [
    {
     "data": {
      "text/html": [
       "<div>\n",
       "<style scoped>\n",
       "    .dataframe tbody tr th:only-of-type {\n",
       "        vertical-align: middle;\n",
       "    }\n",
       "\n",
       "    .dataframe tbody tr th {\n",
       "        vertical-align: top;\n",
       "    }\n",
       "\n",
       "    .dataframe thead th {\n",
       "        text-align: right;\n",
       "    }\n",
       "</style>\n",
       "<table border=\"1\" class=\"dataframe\">\n",
       "  <thead>\n",
       "    <tr style=\"text-align: right;\">\n",
       "      <th></th>\n",
       "      <th>Count</th>\n",
       "      <th>%</th>\n",
       "    </tr>\n",
       "  </thead>\n",
       "  <tbody>\n",
       "    <tr>\n",
       "      <th>RequireAdmin</th>\n",
       "      <td>4316180</td>\n",
       "      <td>75.136288</td>\n",
       "    </tr>\n",
       "    <tr>\n",
       "      <th>ExistsNotSet</th>\n",
       "      <td>1046182</td>\n",
       "      <td>18.211991</td>\n",
       "    </tr>\n",
       "    <tr>\n",
       "      <th>Off</th>\n",
       "      <td>186553</td>\n",
       "      <td>3.247524</td>\n",
       "    </tr>\n",
       "    <tr>\n",
       "      <th>Warn</th>\n",
       "      <td>135483</td>\n",
       "      <td>2.358495</td>\n",
       "    </tr>\n",
       "    <tr>\n",
       "      <th>Prompt</th>\n",
       "      <td>34533</td>\n",
       "      <td>0.601152</td>\n",
       "    </tr>\n",
       "    <tr>\n",
       "      <th>Block</th>\n",
       "      <td>22533</td>\n",
       "      <td>0.392256</td>\n",
       "    </tr>\n",
       "    <tr>\n",
       "      <th>off</th>\n",
       "      <td>1350</td>\n",
       "      <td>0.023501</td>\n",
       "    </tr>\n",
       "    <tr>\n",
       "      <th>On</th>\n",
       "      <td>731</td>\n",
       "      <td>0.012725</td>\n",
       "    </tr>\n",
       "    <tr>\n",
       "      <th>&amp;#x02;</th>\n",
       "      <td>416</td>\n",
       "      <td>0.007242</td>\n",
       "    </tr>\n",
       "    <tr>\n",
       "      <th>&amp;#x01;</th>\n",
       "      <td>335</td>\n",
       "      <td>0.005832</td>\n",
       "    </tr>\n",
       "    <tr>\n",
       "      <th>on</th>\n",
       "      <td>147</td>\n",
       "      <td>0.002559</td>\n",
       "    </tr>\n",
       "    <tr>\n",
       "      <th>requireadmin</th>\n",
       "      <td>10</td>\n",
       "      <td>0.000174</td>\n",
       "    </tr>\n",
       "    <tr>\n",
       "      <th>OFF</th>\n",
       "      <td>4</td>\n",
       "      <td>0.000070</td>\n",
       "    </tr>\n",
       "    <tr>\n",
       "      <th>0</th>\n",
       "      <td>3</td>\n",
       "      <td>0.000052</td>\n",
       "    </tr>\n",
       "    <tr>\n",
       "      <th>Promt</th>\n",
       "      <td>2</td>\n",
       "      <td>0.000035</td>\n",
       "    </tr>\n",
       "    <tr>\n",
       "      <th>Enabled</th>\n",
       "      <td>1</td>\n",
       "      <td>0.000017</td>\n",
       "    </tr>\n",
       "    <tr>\n",
       "      <th>00000000</th>\n",
       "      <td>1</td>\n",
       "      <td>0.000017</td>\n",
       "    </tr>\n",
       "    <tr>\n",
       "      <th>&amp;#x03;</th>\n",
       "      <td>1</td>\n",
       "      <td>0.000017</td>\n",
       "    </tr>\n",
       "    <tr>\n",
       "      <th>prompt</th>\n",
       "      <td>1</td>\n",
       "      <td>0.000017</td>\n",
       "    </tr>\n",
       "    <tr>\n",
       "      <th>requireAdmin</th>\n",
       "      <td>1</td>\n",
       "      <td>0.000017</td>\n",
       "    </tr>\n",
       "    <tr>\n",
       "      <th>warn</th>\n",
       "      <td>1</td>\n",
       "      <td>0.000017</td>\n",
       "    </tr>\n",
       "  </tbody>\n",
       "</table>\n",
       "</div>"
      ],
      "text/plain": [
       "                Count          %\n",
       "RequireAdmin  4316180  75.136288\n",
       "ExistsNotSet  1046182  18.211991\n",
       "Off            186553   3.247524\n",
       "Warn           135483   2.358495\n",
       "Prompt          34533   0.601152\n",
       "Block           22533   0.392256\n",
       "off              1350   0.023501\n",
       "On                731   0.012725\n",
       "&#x02;            416   0.007242\n",
       "&#x01;            335   0.005832\n",
       "on                147   0.002559\n",
       "requireadmin       10   0.000174\n",
       "OFF                 4   0.000070\n",
       "0                   3   0.000052\n",
       "Promt               2   0.000035\n",
       "Enabled             1   0.000017\n",
       "00000000            1   0.000017\n",
       "&#x03;              1   0.000017\n",
       "prompt              1   0.000017\n",
       "requireAdmin        1   0.000017\n",
       "warn                1   0.000017"
      ]
     },
     "execution_count": 64,
     "metadata": {},
     "output_type": "execute_result"
    }
   ],
   "source": [
    "smart_screen = pd.concat([df['SmartScreen'].value_counts(), \n",
    "                            df['SmartScreen'].value_counts(normalize=True) * 100], \n",
    "                            axis=1)\n",
    "smart_screen.columns=['Count', '%']\n",
    "smart_screen.head(30)"
   ]
  },
  {
   "cell_type": "code",
   "execution_count": 65,
   "id": "f7dfa108",
   "metadata": {},
   "outputs": [
    {
     "data": {
      "text/plain": [
       "RequireAdmin    4316191\n",
       "ExistsNotSet    1046182\n",
       "Off              187907\n",
       "Warn             135484\n",
       "Prompt            34536\n",
       "Block             22533\n",
       "On                  878\n",
       "&#x02;              416\n",
       "&#x01;              335\n",
       "0                     3\n",
       "&#x03;                1\n",
       "00000000              1\n",
       "Enabled               1\n",
       "Name: SmartScreen, dtype: int64"
      ]
     },
     "execution_count": 65,
     "metadata": {},
     "output_type": "execute_result"
    }
   ],
   "source": [
    "df.loc[df.SmartScreen == 'requireAdmin', 'SmartScreen'] = 'RequireAdmin'\n",
    "df.loc[df.SmartScreen == 'requireadmin', 'SmartScreen'] = 'RequireAdmin'\n",
    "df.loc[df.SmartScreen == 'off', 'SmartScreen'] = 'Off'\n",
    "df.loc[df.SmartScreen == 'OFF', 'SmartScreen'] = 'Off'\n",
    "df.loc[df.SmartScreen == 'on', 'SmartScreen'] = 'On'\n",
    "df.loc[df.SmartScreen == 'warn', 'SmartScreen'] = 'Warn'\n",
    "df.loc[df.SmartScreen == 'Promt', 'SmartScreen'] = 'Prompt'\n",
    "df.loc[df.SmartScreen == 'prompt', 'SmartScreen'] = 'Prompt'\n",
    "df['SmartScreen'].cat.remove_unused_categories(inplace=True)\n",
    "df.SmartScreen.value_counts() "
   ]
  },
  {
   "cell_type": "code",
   "execution_count": 66,
   "id": "81eed7d5",
   "metadata": {},
   "outputs": [
    {
     "data": {
      "image/png": "[encoded data removed]",
      "text/plain": [
       "<Figure size 576x432 with 1 Axes>"
      ]
     },
     "metadata": {},
     "output_type": "display_data"
    }
   ],
   "source": [
    "plt.figure(figsize=(8, 6))\n",
    "sns.countplot(x='SmartScreen',\n",
    "            hue='HasDetections',\n",
    "            data=df,\n",
    "            order=df['SmartScreen'].value_counts().index,\n",
    "            color='blue',\n",
    "            edgecolor=sns.color_palette('dark', 1),\n",
    "            alpha=0.8)\n",
    "plt.legend(loc=1, title='HasDetections')\n",
    "plt.xticks(rotation = 45)\n",
    "plt.tight_layout()"
   ]
  },
  {
   "cell_type": "code",
   "execution_count": 67,
   "id": "95a1da50",
   "metadata": {
    "scrolled": true
   },
   "outputs": [
    {
     "data": {
      "text/plain": [
       "CategoricalDtype(categories=['&#x01;', '&#x02;', '&#x03;', '0', '00000000', 'Block',\n",
       "                  'Enabled', 'ExistsNotSet', 'Off', 'On', 'Prompt',\n",
       "                  'RequireAdmin', 'Warn'],\n",
       ", ordered=False)"
      ]
     },
     "execution_count": 67,
     "metadata": {},
     "output_type": "execute_result"
    }
   ],
   "source": [
    "df['SmartScreen'].dtype"
   ]
  },
  {
   "cell_type": "code",
   "execution_count": 68,
   "id": "8cbf625e",
   "metadata": {},
   "outputs": [
    {
     "data": {
      "text/plain": [
       "RequireAdmin    0.751365\n",
       "ExistsNotSet    0.182120\n",
       "Off             0.032711\n",
       "Warn            0.023585\n",
       "Prompt          0.006012\n",
       "Block           0.003923\n",
       "On              0.000153\n",
       "Other           0.000132\n",
       "Name: SmartScreen_encoded, dtype: float64"
      ]
     },
     "execution_count": 68,
     "metadata": {},
     "output_type": "execute_result"
    }
   ],
   "source": [
    "df['SmartScreen'].cat.add_categories('Other', inplace=True)\n",
    "df.loc[(df['SmartScreen'] == '&#x02;') | \n",
    "       (df['SmartScreen'] == '&#x01;') |\n",
    "       (df['SmartScreen'] == '&#x03;') |\n",
    "       (df['SmartScreen'] == '0') |\n",
    "       (df['SmartScreen'] == 'Enabled') |\n",
    "       (df['SmartScreen'] == '00000000'),\n",
    "       'SmartScreen'] = 'Other'\n",
    "df['SmartScreen'].cat.remove_unused_categories(inplace=True)\n",
    "df.loc[nans, 'SmartScreen'] = np.nan\n",
    "df['SmartScreen'] = df['SmartScreen'].astype('category')\n",
    "df.rename(columns={'SmartScreen':'SmartScreen_encoded'}, inplace=True)\n",
    "df['SmartScreen_encoded'].value_counts(normalize=True)"
   ]
  },
  {
   "cell_type": "code",
   "execution_count": 69,
   "id": "49fd6b29",
   "metadata": {},
   "outputs": [
    {
     "data": {
      "text/plain": [
       "3177010"
      ]
     },
     "execution_count": 69,
     "metadata": {},
     "output_type": "execute_result"
    }
   ],
   "source": [
    "df['SmartScreen_encoded'].isnull().sum()"
   ]
  },
  {
   "cell_type": "markdown",
   "id": "ac7d7b0f",
   "metadata": {},
   "source": [
    "#### Census_MDC2FormFactor"
   ]
  },
  {
   "cell_type": "code",
   "execution_count": 70,
   "id": "45c9f790",
   "metadata": {},
   "outputs": [
    {
     "data": {
      "text/plain": [
       "0"
      ]
     },
     "execution_count": 70,
     "metadata": {},
     "output_type": "execute_result"
    }
   ],
   "source": [
    "df['Census_MDC2FormFactor'].isnull().sum()"
   ]
  },
  {
   "cell_type": "code",
   "execution_count": 71,
   "id": "e15cef57",
   "metadata": {},
   "outputs": [
    {
     "data": {
      "text/html": [
       "<div>\n",
       "<style scoped>\n",
       "    .dataframe tbody tr th:only-of-type {\n",
       "        vertical-align: middle;\n",
       "    }\n",
       "\n",
       "    .dataframe tbody tr th {\n",
       "        vertical-align: top;\n",
       "    }\n",
       "\n",
       "    .dataframe thead th {\n",
       "        text-align: right;\n",
       "    }\n",
       "</style>\n",
       "<table border=\"1\" class=\"dataframe\">\n",
       "  <thead>\n",
       "    <tr style=\"text-align: right;\">\n",
       "      <th></th>\n",
       "      <th>Count</th>\n",
       "      <th>%</th>\n",
       "    </tr>\n",
       "  </thead>\n",
       "  <tbody>\n",
       "    <tr>\n",
       "      <th>Notebook</th>\n",
       "      <td>5723314</td>\n",
       "      <td>64.152083</td>\n",
       "    </tr>\n",
       "    <tr>\n",
       "      <th>Desktop</th>\n",
       "      <td>1951086</td>\n",
       "      <td>21.869538</td>\n",
       "    </tr>\n",
       "    <tr>\n",
       "      <th>Convertible</th>\n",
       "      <td>405378</td>\n",
       "      <td>4.543844</td>\n",
       "    </tr>\n",
       "    <tr>\n",
       "      <th>Detachable</th>\n",
       "      <td>298233</td>\n",
       "      <td>3.342865</td>\n",
       "    </tr>\n",
       "    <tr>\n",
       "      <th>AllInOne</th>\n",
       "      <td>292077</td>\n",
       "      <td>3.273863</td>\n",
       "    </tr>\n",
       "    <tr>\n",
       "      <th>PCOther</th>\n",
       "      <td>139955</td>\n",
       "      <td>1.568742</td>\n",
       "    </tr>\n",
       "    <tr>\n",
       "      <th>LargeTablet</th>\n",
       "      <td>67121</td>\n",
       "      <td>0.752353</td>\n",
       "    </tr>\n",
       "    <tr>\n",
       "      <th>SmallTablet</th>\n",
       "      <td>31393</td>\n",
       "      <td>0.351881</td>\n",
       "    </tr>\n",
       "    <tr>\n",
       "      <th>SmallServer</th>\n",
       "      <td>8630</td>\n",
       "      <td>0.096733</td>\n",
       "    </tr>\n",
       "    <tr>\n",
       "      <th>MediumServer</th>\n",
       "      <td>3385</td>\n",
       "      <td>0.037942</td>\n",
       "    </tr>\n",
       "    <tr>\n",
       "      <th>LargeServer</th>\n",
       "      <td>875</td>\n",
       "      <td>0.009808</td>\n",
       "    </tr>\n",
       "    <tr>\n",
       "      <th>ServerOther</th>\n",
       "      <td>30</td>\n",
       "      <td>0.000336</td>\n",
       "    </tr>\n",
       "    <tr>\n",
       "      <th>IoTOther</th>\n",
       "      <td>1</td>\n",
       "      <td>0.000011</td>\n",
       "    </tr>\n",
       "  </tbody>\n",
       "</table>\n",
       "</div>"
      ],
      "text/plain": [
       "                Count          %\n",
       "Notebook      5723314  64.152083\n",
       "Desktop       1951086  21.869538\n",
       "Convertible    405378   4.543844\n",
       "Detachable     298233   3.342865\n",
       "AllInOne       292077   3.273863\n",
       "PCOther        139955   1.568742\n",
       "LargeTablet     67121   0.752353\n",
       "SmallTablet     31393   0.351881\n",
       "SmallServer      8630   0.096733\n",
       "MediumServer     3385   0.037942\n",
       "LargeServer       875   0.009808\n",
       "ServerOther        30   0.000336\n",
       "IoTOther            1   0.000011"
      ]
     },
     "execution_count": 71,
     "metadata": {},
     "output_type": "execute_result"
    }
   ],
   "source": [
    "census_MDC2 = pd.concat([df['Census_MDC2FormFactor'].value_counts(), \n",
    "                            df['Census_MDC2FormFactor'].value_counts(normalize=True) * 100], \n",
    "                            axis=1)\n",
    "census_MDC2.columns=['Count', '%']\n",
    "census_MDC2.head(30)"
   ]
  },
  {
   "cell_type": "code",
   "execution_count": 72,
   "id": "d04388a0",
   "metadata": {},
   "outputs": [
    {
     "data": {
      "image/png": "[encoded data removed]",
      "text/plain": [
       "<Figure size 576x432 with 1 Axes>"
      ]
     },
     "metadata": {},
     "output_type": "display_data"
    }
   ],
   "source": [
    "plt.figure(figsize=(8, 6))\n",
    "sns.countplot(x='Census_MDC2FormFactor',\n",
    "            hue='HasDetections',\n",
    "            data=df,\n",
    "            order=df['Census_MDC2FormFactor'].value_counts().index,\n",
    "            color='blue',\n",
    "            edgecolor=sns.color_palette('dark', 1),\n",
    "            alpha=0.8)\n",
    "plt.legend(loc=1, title='HasDetections')\n",
    "plt.xticks(rotation = 45)\n",
    "plt.tight_layout()"
   ]
  },
  {
   "cell_type": "code",
   "execution_count": 73,
   "id": "248f879b",
   "metadata": {},
   "outputs": [
    {
     "data": {
      "text/plain": [
       "CategoricalDtype(categories=['AllInOne', 'Convertible', 'Desktop', 'Detachable',\n",
       "                  'IoTOther', 'LargeServer', 'LargeTablet', 'MediumServer',\n",
       "                  'Notebook', 'PCOther', 'ServerOther', 'SmallServer',\n",
       "                  'SmallTablet'],\n",
       ", ordered=False)"
      ]
     },
     "execution_count": 73,
     "metadata": {},
     "output_type": "execute_result"
    }
   ],
   "source": [
    "df['Census_MDC2FormFactor'].dtype"
   ]
  },
  {
   "cell_type": "code",
   "execution_count": 74,
   "id": "9324c602",
   "metadata": {},
   "outputs": [
    {
     "data": {
      "text/plain": [
       "Notebook       0.641521\n",
       "Desktop        0.218695\n",
       "Convertible    0.045438\n",
       "Detachable     0.033429\n",
       "AllInOne       0.032739\n",
       "PCOther        0.015687\n",
       "LargeTablet    0.007524\n",
       "SmallTablet    0.003519\n",
       "Other          0.001448\n",
       "Name: Census_MDC2FormFactor_encoded, dtype: float64"
      ]
     },
     "execution_count": 74,
     "metadata": {},
     "output_type": "execute_result"
    }
   ],
   "source": [
    "df['Census_MDC2FormFactor'].cat.add_categories('Other', inplace=True)\n",
    "df.loc[(df['Census_MDC2FormFactor'] == 'SmallServer') | \n",
    "       (df['Census_MDC2FormFactor'] == 'MediumServer') |\n",
    "       (df['Census_MDC2FormFactor'] == 'LargeServer') |\n",
    "       (df['Census_MDC2FormFactor'] == 'ServerOther') |\n",
    "       (df['Census_MDC2FormFactor'] == 'IoTOther'), \n",
    "       'Census_MDC2FormFactor'] = 'Other'\n",
    "df['Census_MDC2FormFactor'].cat.remove_unused_categories(inplace=True)\n",
    "df.rename(columns={'Census_MDC2FormFactor':'Census_MDC2FormFactor_encoded'}, inplace=True)\n",
    "df['Census_MDC2FormFactor_encoded'].value_counts(normalize=True)"
   ]
  },
  {
   "cell_type": "markdown",
   "id": "e55999fe",
   "metadata": {},
   "source": [
    "**UacLuaenable**"
   ]
  },
  {
   "cell_type": "code",
   "execution_count": 75,
   "id": "babd4a51",
   "metadata": {},
   "outputs": [
    {
     "data": {
      "text/html": [
       "<div>\n",
       "<style scoped>\n",
       "    .dataframe tbody tr th:only-of-type {\n",
       "        vertical-align: middle;\n",
       "    }\n",
       "\n",
       "    .dataframe tbody tr th {\n",
       "        vertical-align: top;\n",
       "    }\n",
       "\n",
       "    .dataframe thead th {\n",
       "        text-align: right;\n",
       "    }\n",
       "</style>\n",
       "<table border=\"1\" class=\"dataframe\">\n",
       "  <thead>\n",
       "    <tr style=\"text-align: right;\">\n",
       "      <th></th>\n",
       "      <th>Count</th>\n",
       "      <th>%</th>\n",
       "    </tr>\n",
       "  </thead>\n",
       "  <tbody>\n",
       "    <tr>\n",
       "      <th>1.0</th>\n",
       "      <td>8856512</td>\n",
       "      <td>99.392546</td>\n",
       "    </tr>\n",
       "    <tr>\n",
       "      <th>0.0</th>\n",
       "      <td>53851</td>\n",
       "      <td>0.604345</td>\n",
       "    </tr>\n",
       "    <tr>\n",
       "      <th>48.0</th>\n",
       "      <td>206</td>\n",
       "      <td>0.002312</td>\n",
       "    </tr>\n",
       "    <tr>\n",
       "      <th>2.0</th>\n",
       "      <td>30</td>\n",
       "      <td>0.000337</td>\n",
       "    </tr>\n",
       "    <tr>\n",
       "      <th>49.0</th>\n",
       "      <td>17</td>\n",
       "      <td>0.000191</td>\n",
       "    </tr>\n",
       "    <tr>\n",
       "      <th>6357062.0</th>\n",
       "      <td>13</td>\n",
       "      <td>0.000146</td>\n",
       "    </tr>\n",
       "    <tr>\n",
       "      <th>3.0</th>\n",
       "      <td>6</td>\n",
       "      <td>0.000067</td>\n",
       "    </tr>\n",
       "    <tr>\n",
       "      <th>5.0</th>\n",
       "      <td>2</td>\n",
       "      <td>0.000022</td>\n",
       "    </tr>\n",
       "    <tr>\n",
       "      <th>16777216.0</th>\n",
       "      <td>1</td>\n",
       "      <td>0.000011</td>\n",
       "    </tr>\n",
       "    <tr>\n",
       "      <th>255.0</th>\n",
       "      <td>1</td>\n",
       "      <td>0.000011</td>\n",
       "    </tr>\n",
       "    <tr>\n",
       "      <th>7798884.0</th>\n",
       "      <td>1</td>\n",
       "      <td>0.000011</td>\n",
       "    </tr>\n",
       "  </tbody>\n",
       "</table>\n",
       "</div>"
      ],
      "text/plain": [
       "              Count          %\n",
       "1.0         8856512  99.392546\n",
       "0.0           53851   0.604345\n",
       "48.0            206   0.002312\n",
       "2.0              30   0.000337\n",
       "49.0             17   0.000191\n",
       "6357062.0        13   0.000146\n",
       "3.0               6   0.000067\n",
       "5.0               2   0.000022\n",
       "16777216.0        1   0.000011\n",
       "255.0             1   0.000011\n",
       "7798884.0         1   0.000011"
      ]
     },
     "execution_count": 75,
     "metadata": {},
     "output_type": "execute_result"
    }
   ],
   "source": [
    "uac_luaenable = pd.concat([df['UacLuaenable'].value_counts(), \n",
    "                           df['UacLuaenable'].value_counts(normalize=True)*100],\n",
    "                           axis=1)\n",
    "uac_luaenable.columns=['Count', '%']\n",
    "uac_luaenable.head(15)"
   ]
  },
  {
   "cell_type": "code",
   "execution_count": 76,
   "id": "379f0bfe",
   "metadata": {},
   "outputs": [
    {
     "data": {
      "text/plain": [
       "CategoricalDtype(categories=['0.0', '1.0', '16777216.0', '2.0', '255.0', '3.0', '48.0',\n",
       "                  '49.0', '5.0', '6357062.0', '7798884.0'],\n",
       ", ordered=False)"
      ]
     },
     "execution_count": 76,
     "metadata": {},
     "output_type": "execute_result"
    }
   ],
   "source": [
    "df['UacLuaenable'].dtype"
   ]
  },
  {
   "cell_type": "code",
   "execution_count": 77,
   "id": "796383cf",
   "metadata": {},
   "outputs": [
    {
     "data": {
      "text/plain": [
       "array(['1.0', '0.0', nan, '48.0', '3.0', '2.0', '6357062.0', '49.0',\n",
       "       '16777216.0', '5.0', '255.0', '7798884.0'], dtype=object)"
      ]
     },
     "execution_count": 77,
     "metadata": {},
     "output_type": "execute_result"
    }
   ],
   "source": [
    "df['UacLuaenable'] = df['UacLuaenable'][df['UacLuaenable'].notnull()].astype('str')\n",
    "df['UacLuaenable'].unique()"
   ]
  },
  {
   "cell_type": "code",
   "execution_count": 78,
   "id": "447f0c40",
   "metadata": {},
   "outputs": [
    {
     "data": {
      "text/plain": [
       "1.0      0.992718\n",
       "Other    0.007282\n",
       "Name: UacLuaenable_encoded, dtype: float64"
      ]
     },
     "execution_count": 78,
     "metadata": {},
     "output_type": "execute_result"
    }
   ],
   "source": [
    "df['UacLuaenable'] = df['UacLuaenable'].astype('category')\n",
    "df['UacLuaenable'].cat.add_categories('Other', inplace=True)\n",
    "df.loc[df['UacLuaenable'] != '1.0', 'UacLuaenable'] = 'Other'\n",
    "df['UacLuaenable'].cat.remove_unused_categories(inplace=True)\n",
    "df.rename(columns={'UacLuaenable':'UacLuaenable_encoded'}, inplace=True)\n",
    "df['UacLuaenable_encoded'].value_counts(normalize=True)"
   ]
  },
  {
   "cell_type": "markdown",
   "id": "9e734a09",
   "metadata": {},
   "source": [
    "Let's encode the remaining features:"
   ]
  },
  {
   "cell_type": "markdown",
   "id": "38138810",
   "metadata": {},
   "source": [
    "**OsBuild**"
   ]
  },
  {
   "cell_type": "code",
   "execution_count": 80,
   "id": "167c7f63",
   "metadata": {},
   "outputs": [
    {
     "data": {
      "text/plain": [
       "0"
      ]
     },
     "execution_count": 80,
     "metadata": {},
     "output_type": "execute_result"
    }
   ],
   "source": [
    "df['OsBuild'].isnull().sum()"
   ]
  },
  {
   "cell_type": "code",
   "execution_count": 81,
   "id": "c1cd39e0",
   "metadata": {},
   "outputs": [
    {
     "data": {
      "text/html": [
       "<div>\n",
       "<style scoped>\n",
       "    .dataframe tbody tr th:only-of-type {\n",
       "        vertical-align: middle;\n",
       "    }\n",
       "\n",
       "    .dataframe tbody tr th {\n",
       "        vertical-align: top;\n",
       "    }\n",
       "\n",
       "    .dataframe thead th {\n",
       "        text-align: right;\n",
       "    }\n",
       "</style>\n",
       "<table border=\"1\" class=\"dataframe\">\n",
       "  <thead>\n",
       "    <tr style=\"text-align: right;\">\n",
       "      <th></th>\n",
       "      <th>Count</th>\n",
       "      <th>%</th>\n",
       "    </tr>\n",
       "  </thead>\n",
       "  <tbody>\n",
       "    <tr>\n",
       "      <th>17134</th>\n",
       "      <td>3915519</td>\n",
       "      <td>43.888681</td>\n",
       "    </tr>\n",
       "    <tr>\n",
       "      <th>16299</th>\n",
       "      <td>2503681</td>\n",
       "      <td>28.063523</td>\n",
       "    </tr>\n",
       "    <tr>\n",
       "      <th>15063</th>\n",
       "      <td>780270</td>\n",
       "      <td>8.745972</td>\n",
       "    </tr>\n",
       "    <tr>\n",
       "      <th>14393</th>\n",
       "      <td>730818</td>\n",
       "      <td>8.191670</td>\n",
       "    </tr>\n",
       "    <tr>\n",
       "      <th>10586</th>\n",
       "      <td>411606</td>\n",
       "      <td>4.613653</td>\n",
       "    </tr>\n",
       "    <tr>\n",
       "      <th>10240</th>\n",
       "      <td>270191</td>\n",
       "      <td>3.028545</td>\n",
       "    </tr>\n",
       "    <tr>\n",
       "      <th>9600</th>\n",
       "      <td>194507</td>\n",
       "      <td>2.180210</td>\n",
       "    </tr>\n",
       "    <tr>\n",
       "      <th>7601</th>\n",
       "      <td>93306</td>\n",
       "      <td>1.045858</td>\n",
       "    </tr>\n",
       "    <tr>\n",
       "      <th>17692</th>\n",
       "      <td>3184</td>\n",
       "      <td>0.035689</td>\n",
       "    </tr>\n",
       "    <tr>\n",
       "      <th>17738</th>\n",
       "      <td>2478</td>\n",
       "      <td>0.027776</td>\n",
       "    </tr>\n",
       "  </tbody>\n",
       "</table>\n",
       "</div>"
      ],
      "text/plain": [
       "         Count          %\n",
       "17134  3915519  43.888681\n",
       "16299  2503681  28.063523\n",
       "15063   780270   8.745972\n",
       "14393   730818   8.191670\n",
       "10586   411606   4.613653\n",
       "10240   270191   3.028545\n",
       "9600    194507   2.180210\n",
       "7601     93306   1.045858\n",
       "17692     3184   0.035689\n",
       "17738     2478   0.027776"
      ]
     },
     "execution_count": 81,
     "metadata": {},
     "output_type": "execute_result"
    }
   ],
   "source": [
    "os_build = pd.concat([df['OsBuild'].value_counts(), \n",
    "                      df['OsBuild'].value_counts(normalize=True)*100], \n",
    "                      axis=1)\n",
    "os_build.columns=['Count', '%']\n",
    "os_build.head(10)"
   ]
  },
  {
   "cell_type": "code",
   "execution_count": 82,
   "id": "9dbeecd6",
   "metadata": {},
   "outputs": [
    {
     "data": {
      "image/png": "[encoded data removed]",
      "text/plain": [
       "<Figure size 576x432 with 1 Axes>"
      ]
     },
     "metadata": {},
     "output_type": "display_data"
    }
   ],
   "source": [
    "plt.figure(figsize=(8, 6))\n",
    "sns.countplot(x='OsBuild',\n",
    "            hue='HasDetections',\n",
    "            data=df,\n",
    "            order=df['OsBuild'].value_counts().index[:10],\n",
    "            color='blue',\n",
    "            edgecolor=sns.color_palette('dark', 1),\n",
    "            alpha=0.8)\n",
    "plt.legend(loc=1, title='HasDetections')\n",
    "plt.xticks(rotation = 45)\n",
    "plt.tight_layout()"
   ]
  },
  {
   "cell_type": "code",
   "execution_count": 86,
   "id": "11881b50",
   "metadata": {},
   "outputs": [
    {
     "data": {
      "text/plain": [
       "4.993522373759146"
      ]
     },
     "execution_count": 86,
     "metadata": {},
     "output_type": "execute_result"
    }
   ],
   "source": [
    "np.mean(df['OsBuild'].astype('float') != df['Census_OSVersion_extracted'].astype('float'))*100"
   ]
  },
  {
   "cell_type": "code",
   "execution_count": 88,
   "id": "e3eb083d",
   "metadata": {},
   "outputs": [],
   "source": [
    "to_drop.append('Census_OSVersion_extracted')"
   ]
  },
  {
   "cell_type": "code",
   "execution_count": 89,
   "id": "0d59a123",
   "metadata": {},
   "outputs": [
    {
     "data": {
      "text/plain": [
       "CategoricalDtype(categories=['10240', '10586', '14393', '15063', '16299', '17133',\n",
       "                  '17134', '17604', '17618', '17623', '17627', '17634',\n",
       "                  '17639', '17643', '17650', '17655', '17661', '17666',\n",
       "                  '17672', '17677', '17682', '17686', '17689', '17692',\n",
       "                  '17694', '17704', '17711', '17713', '17718', '17723',\n",
       "                  '17725', '17728', '17730', '17733', '17734', '17735',\n",
       "                  '17738', '17740', '17741', '17744', '17746', '17747',\n",
       "                  '17749', '17750', '17751', '17752', '17753', '17754',\n",
       "                  '17755', '17756', '17757', '17758', '17759', '17760',\n",
       "                  '17761', '17763', '18201', '18204', '18214', '18219',\n",
       "                  '18224', '18226', '18227', '18230', '18233', '18234',\n",
       "                  '18236', '18237', '18238', '18240', '18241', '18242',\n",
       "                  '18244', '7600', '7601', '9600'],\n",
       ", ordered=False)"
      ]
     },
     "execution_count": 89,
     "metadata": {},
     "output_type": "execute_result"
    }
   ],
   "source": [
    "df['OsBuild'].dtype"
   ]
  },
  {
   "cell_type": "code",
   "execution_count": 90,
   "id": "7f72ecc5",
   "metadata": {
    "scrolled": true
   },
   "outputs": [
    {
     "data": {
      "text/plain": [
       "array(['17134', '14393', '16299', '7601', '9600', '10240', '15063',\n",
       "       '10586', '17744', '17692', '17738', '17751', '17755', '17730',\n",
       "       '17733', '17746', '17735', '17754', '17741', '17713', '17740',\n",
       "       '17672', '17758', '17763', '7600', '17666', '17677', '17686',\n",
       "       '17747', '17760', '17759', '17682', '17761', '17704', '17661',\n",
       "       '17643', '18234', '17618', '18204', '17639', '17634', '17728',\n",
       "       '18237', '18242', '17133', '17723', '17650', '17711', '18219',\n",
       "       '18240', '17627', '17655', '18214', '18201', '17604', '18224',\n",
       "       '18241', '17689', '17718', '17753', '18227', '18238', '17725',\n",
       "       '17694', '17757', '18233', '17623', '17756', '17749', '17734',\n",
       "       '17752', '18226', '18230', '18244', '18236', '17750'], dtype=object)"
      ]
     },
     "execution_count": 90,
     "metadata": {},
     "output_type": "execute_result"
    }
   ],
   "source": [
    "df['OsBuild'] = df['OsBuild'][df['OsBuild'].notnull()].astype('str')\n",
    "df['OsBuild'].unique()"
   ]
  },
  {
   "cell_type": "code",
   "execution_count": 91,
   "id": "89480ab5",
   "metadata": {},
   "outputs": [
    {
     "data": {
      "text/plain": [
       "17134    0.438887\n",
       "16299    0.280635\n",
       "15063    0.087460\n",
       "14393    0.081917\n",
       "10586    0.046137\n",
       "10240    0.030285\n",
       "9600     0.021802\n",
       "7601     0.010459\n",
       "Other    0.002419\n",
       "Name: OsBuild_encoded, dtype: float64"
      ]
     },
     "execution_count": 91,
     "metadata": {},
     "output_type": "execute_result"
    }
   ],
   "source": [
    "df['OsBuild'] = df['OsBuild'].astype('category')\n",
    "df['OsBuild'].cat.add_categories('Other', inplace=True)\n",
    "df.loc[(df['OsBuild'] != '17134') & \n",
    "       (df['OsBuild'] != '16299') &\n",
    "       (df['OsBuild'] != '15063') &\n",
    "       (df['OsBuild'] != '14393') &\n",
    "       (df['OsBuild'] != '10586') &\n",
    "       (df['OsBuild'] != '10240') &\n",
    "       (df['OsBuild'] != '9600') &\n",
    "       (df['OsBuild'] != '7601'),\n",
    "       'OsBuild'] = 'Other'\n",
    "df['OsBuild'].cat.remove_unused_categories(inplace=True)\n",
    "df.rename(columns={'OsBuild':'OsBuild_encoded'}, inplace=True)\n",
    "df['OsBuild_encoded'].value_counts(normalize=True)"
   ]
  },
  {
   "cell_type": "markdown",
   "id": "75e31e6f",
   "metadata": {},
   "source": [
    "**OsSuite**"
   ]
  },
  {
   "cell_type": "code",
   "execution_count": 92,
   "id": "fc21c733",
   "metadata": {},
   "outputs": [
    {
     "data": {
      "text/plain": [
       "0"
      ]
     },
     "execution_count": 92,
     "metadata": {},
     "output_type": "execute_result"
    }
   ],
   "source": [
    "df['OsSuite'].isnull().sum()"
   ]
  },
  {
   "cell_type": "code",
   "execution_count": 93,
   "id": "515323bb",
   "metadata": {},
   "outputs": [
    {
     "data": {
      "text/html": [
       "<div>\n",
       "<style scoped>\n",
       "    .dataframe tbody tr th:only-of-type {\n",
       "        vertical-align: middle;\n",
       "    }\n",
       "\n",
       "    .dataframe tbody tr th {\n",
       "        vertical-align: top;\n",
       "    }\n",
       "\n",
       "    .dataframe thead th {\n",
       "        text-align: right;\n",
       "    }\n",
       "</style>\n",
       "<table border=\"1\" class=\"dataframe\">\n",
       "  <thead>\n",
       "    <tr style=\"text-align: right;\">\n",
       "      <th></th>\n",
       "      <th>Count</th>\n",
       "      <th>%</th>\n",
       "    </tr>\n",
       "  </thead>\n",
       "  <tbody>\n",
       "    <tr>\n",
       "      <th>768</th>\n",
       "      <td>5560657</td>\n",
       "      <td>62.328876</td>\n",
       "    </tr>\n",
       "    <tr>\n",
       "      <th>256</th>\n",
       "      <td>3346250</td>\n",
       "      <td>37.507799</td>\n",
       "    </tr>\n",
       "    <tr>\n",
       "      <th>272</th>\n",
       "      <td>12092</td>\n",
       "      <td>0.135538</td>\n",
       "    </tr>\n",
       "    <tr>\n",
       "      <th>400</th>\n",
       "      <td>793</td>\n",
       "      <td>0.008889</td>\n",
       "    </tr>\n",
       "    <tr>\n",
       "      <th>16</th>\n",
       "      <td>731</td>\n",
       "      <td>0.008194</td>\n",
       "    </tr>\n",
       "    <tr>\n",
       "      <th>305</th>\n",
       "      <td>662</td>\n",
       "      <td>0.007420</td>\n",
       "    </tr>\n",
       "    <tr>\n",
       "      <th>784</th>\n",
       "      <td>198</td>\n",
       "      <td>0.002219</td>\n",
       "    </tr>\n",
       "    <tr>\n",
       "      <th>274</th>\n",
       "      <td>39</td>\n",
       "      <td>0.000437</td>\n",
       "    </tr>\n",
       "    <tr>\n",
       "      <th>144</th>\n",
       "      <td>34</td>\n",
       "      <td>0.000381</td>\n",
       "    </tr>\n",
       "    <tr>\n",
       "      <th>49</th>\n",
       "      <td>17</td>\n",
       "      <td>0.000191</td>\n",
       "    </tr>\n",
       "  </tbody>\n",
       "</table>\n",
       "</div>"
      ],
      "text/plain": [
       "       Count          %\n",
       "768  5560657  62.328876\n",
       "256  3346250  37.507799\n",
       "272    12092   0.135538\n",
       "400      793   0.008889\n",
       "16       731   0.008194\n",
       "305      662   0.007420\n",
       "784      198   0.002219\n",
       "274       39   0.000437\n",
       "144       34   0.000381\n",
       "49        17   0.000191"
      ]
     },
     "execution_count": 93,
     "metadata": {},
     "output_type": "execute_result"
    }
   ],
   "source": [
    "os_suite = pd.concat([df['OsSuite'].value_counts(), \n",
    "                      df['OsSuite'].value_counts(normalize=True)*100], \n",
    "                      axis=1)\n",
    "os_suite.columns=['Count', '%']\n",
    "os_suite.head(10)"
   ]
  },
  {
   "cell_type": "code",
   "execution_count": 94,
   "id": "27ab36bb",
   "metadata": {
    "scrolled": true
   },
   "outputs": [
    {
     "data": {
      "image/png": "[encoded data removed]",
      "text/plain": [
       "<Figure size 576x432 with 1 Axes>"
      ]
     },
     "metadata": {},
     "output_type": "display_data"
    }
   ],
   "source": [
    "plt.figure(figsize=(8, 6))\n",
    "sns.countplot(x='OsSuite',\n",
    "            hue='HasDetections',\n",
    "            data=df,\n",
    "            order=df['OsSuite'].value_counts().index[:10],\n",
    "            color='blue',\n",
    "            edgecolor=sns.color_palette('dark', 1),\n",
    "            alpha=0.8)\n",
    "plt.legend(loc=1, title='HasDetections')\n",
    "plt.xticks(rotation = 45)\n",
    "plt.tight_layout()"
   ]
  },
  {
   "cell_type": "code",
   "execution_count": 96,
   "id": "e78999bc",
   "metadata": {},
   "outputs": [
    {
     "data": {
      "text/plain": [
       "CategoricalDtype(categories=['144', '16', '18', '256', '272', '274', '305', '307', '400',\n",
       "                  '402', '49', '528', '768', '784'],\n",
       ", ordered=False)"
      ]
     },
     "execution_count": 96,
     "metadata": {},
     "output_type": "execute_result"
    }
   ],
   "source": [
    "df['OsSuite'].dtype"
   ]
  },
  {
   "cell_type": "code",
   "execution_count": 97,
   "id": "0f3c06bf",
   "metadata": {},
   "outputs": [
    {
     "data": {
      "text/plain": [
       "array(['256', '768', '272', '16', '400', '784', '305', '274', '49', '144',\n",
       "       '402', '528', '307', '18'], dtype=object)"
      ]
     },
     "execution_count": 97,
     "metadata": {},
     "output_type": "execute_result"
    }
   ],
   "source": [
    "df['OsSuite'] = df['OsSuite'][df['OsSuite'].notnull()].astype('str')\n",
    "df['OsSuite'].unique()"
   ]
  },
  {
   "cell_type": "code",
   "execution_count": 98,
   "id": "95a30489",
   "metadata": {},
   "outputs": [
    {
     "data": {
      "text/plain": [
       "768      0.623289\n",
       "256      0.375078\n",
       "Other    0.001633\n",
       "Name: OsSuite_encoded, dtype: float64"
      ]
     },
     "execution_count": 98,
     "metadata": {},
     "output_type": "execute_result"
    }
   ],
   "source": [
    "df['OsSuite'] = df['OsSuite'].astype('category')\n",
    "df['OsSuite'].cat.add_categories('Other', inplace=True)\n",
    "df.loc[(df['OsSuite'] != '768') & \n",
    "       (df['OsSuite'] != '256'), \n",
    "       'OsSuite'] = 'Other'\n",
    "df['OsSuite'].cat.remove_unused_categories(inplace=True)\n",
    "df.rename(columns={'OsSuite':'OsSuite_encoded'}, inplace=True)\n",
    "df['OsSuite_encoded'].value_counts(normalize=True)"
   ]
  },
  {
   "cell_type": "markdown",
   "id": "197613eb",
   "metadata": {},
   "source": [
    "**Census_OSBuildRevision**"
   ]
  },
  {
   "cell_type": "code",
   "execution_count": 99,
   "id": "a3db8b84",
   "metadata": {},
   "outputs": [
    {
     "data": {
      "text/html": [
       "<div>\n",
       "<style scoped>\n",
       "    .dataframe tbody tr th:only-of-type {\n",
       "        vertical-align: middle;\n",
       "    }\n",
       "\n",
       "    .dataframe tbody tr th {\n",
       "        vertical-align: top;\n",
       "    }\n",
       "\n",
       "    .dataframe thead th {\n",
       "        text-align: right;\n",
       "    }\n",
       "</style>\n",
       "<table border=\"1\" class=\"dataframe\">\n",
       "  <thead>\n",
       "    <tr style=\"text-align: right;\">\n",
       "      <th></th>\n",
       "      <th>Count</th>\n",
       "      <th>%</th>\n",
       "    </tr>\n",
       "  </thead>\n",
       "  <tbody>\n",
       "    <tr>\n",
       "      <th>228</th>\n",
       "      <td>1413633</td>\n",
       "      <td>15.845278</td>\n",
       "    </tr>\n",
       "    <tr>\n",
       "      <th>165</th>\n",
       "      <td>899712</td>\n",
       "      <td>10.084786</td>\n",
       "    </tr>\n",
       "    <tr>\n",
       "      <th>431</th>\n",
       "      <td>546548</td>\n",
       "      <td>6.126205</td>\n",
       "    </tr>\n",
       "    <tr>\n",
       "      <th>285</th>\n",
       "      <td>470278</td>\n",
       "      <td>5.271301</td>\n",
       "    </tr>\n",
       "    <tr>\n",
       "      <th>547</th>\n",
       "      <td>346853</td>\n",
       "      <td>3.887842</td>\n",
       "    </tr>\n",
       "    <tr>\n",
       "      <th>112</th>\n",
       "      <td>346488</td>\n",
       "      <td>3.883751</td>\n",
       "    </tr>\n",
       "    <tr>\n",
       "      <th>371</th>\n",
       "      <td>325267</td>\n",
       "      <td>3.645887</td>\n",
       "    </tr>\n",
       "    <tr>\n",
       "      <th>191</th>\n",
       "      <td>228255</td>\n",
       "      <td>2.558489</td>\n",
       "    </tr>\n",
       "    <tr>\n",
       "      <th>2189</th>\n",
       "      <td>223774</td>\n",
       "      <td>2.508262</td>\n",
       "    </tr>\n",
       "    <tr>\n",
       "      <th>611</th>\n",
       "      <td>216776</td>\n",
       "      <td>2.429822</td>\n",
       "    </tr>\n",
       "    <tr>\n",
       "      <th>125</th>\n",
       "      <td>213342</td>\n",
       "      <td>2.391330</td>\n",
       "    </tr>\n",
       "    <tr>\n",
       "      <th>17443</th>\n",
       "      <td>206842</td>\n",
       "      <td>2.318472</td>\n",
       "    </tr>\n",
       "    <tr>\n",
       "      <th>1176</th>\n",
       "      <td>182087</td>\n",
       "      <td>2.040996</td>\n",
       "    </tr>\n",
       "    <tr>\n",
       "      <th>492</th>\n",
       "      <td>168879</td>\n",
       "      <td>1.892949</td>\n",
       "    </tr>\n",
       "    <tr>\n",
       "      <th>0</th>\n",
       "      <td>166369</td>\n",
       "      <td>1.864814</td>\n",
       "    </tr>\n",
       "    <tr>\n",
       "      <th>309</th>\n",
       "      <td>151196</td>\n",
       "      <td>1.694742</td>\n",
       "    </tr>\n",
       "    <tr>\n",
       "      <th>286</th>\n",
       "      <td>139040</td>\n",
       "      <td>1.558486</td>\n",
       "    </tr>\n",
       "    <tr>\n",
       "      <th>15</th>\n",
       "      <td>117555</td>\n",
       "      <td>1.317663</td>\n",
       "    </tr>\n",
       "    <tr>\n",
       "      <th>254</th>\n",
       "      <td>112344</td>\n",
       "      <td>1.259253</td>\n",
       "    </tr>\n",
       "    <tr>\n",
       "      <th>1</th>\n",
       "      <td>106583</td>\n",
       "      <td>1.194679</td>\n",
       "    </tr>\n",
       "    <tr>\n",
       "      <th>1206</th>\n",
       "      <td>102275</td>\n",
       "      <td>1.146391</td>\n",
       "    </tr>\n",
       "    <tr>\n",
       "      <th>1266</th>\n",
       "      <td>101237</td>\n",
       "      <td>1.134756</td>\n",
       "    </tr>\n",
       "    <tr>\n",
       "      <th>192</th>\n",
       "      <td>99068</td>\n",
       "      <td>1.110444</td>\n",
       "    </tr>\n",
       "    <tr>\n",
       "      <th>167</th>\n",
       "      <td>86787</td>\n",
       "      <td>0.972787</td>\n",
       "    </tr>\n",
       "    <tr>\n",
       "      <th>248</th>\n",
       "      <td>77476</td>\n",
       "      <td>0.868421</td>\n",
       "    </tr>\n",
       "    <tr>\n",
       "      <th>137</th>\n",
       "      <td>75873</td>\n",
       "      <td>0.850453</td>\n",
       "    </tr>\n",
       "    <tr>\n",
       "      <th>48</th>\n",
       "      <td>66265</td>\n",
       "      <td>0.742758</td>\n",
       "    </tr>\n",
       "    <tr>\n",
       "      <th>1088</th>\n",
       "      <td>63274</td>\n",
       "      <td>0.709232</td>\n",
       "    </tr>\n",
       "    <tr>\n",
       "      <th>81</th>\n",
       "      <td>55384</td>\n",
       "      <td>0.620794</td>\n",
       "    </tr>\n",
       "    <tr>\n",
       "      <th>693</th>\n",
       "      <td>50955</td>\n",
       "      <td>0.571150</td>\n",
       "    </tr>\n",
       "  </tbody>\n",
       "</table>\n",
       "</div>"
      ],
      "text/plain": [
       "         Count          %\n",
       "228    1413633  15.845278\n",
       "165     899712  10.084786\n",
       "431     546548   6.126205\n",
       "285     470278   5.271301\n",
       "547     346853   3.887842\n",
       "112     346488   3.883751\n",
       "371     325267   3.645887\n",
       "191     228255   2.558489\n",
       "2189    223774   2.508262\n",
       "611     216776   2.429822\n",
       "125     213342   2.391330\n",
       "17443   206842   2.318472\n",
       "1176    182087   2.040996\n",
       "492     168879   1.892949\n",
       "0       166369   1.864814\n",
       "309     151196   1.694742\n",
       "286     139040   1.558486\n",
       "15      117555   1.317663\n",
       "254     112344   1.259253\n",
       "1       106583   1.194679\n",
       "1206    102275   1.146391\n",
       "1266    101237   1.134756\n",
       "192      99068   1.110444\n",
       "167      86787   0.972787\n",
       "248      77476   0.868421\n",
       "137      75873   0.850453\n",
       "48       66265   0.742758\n",
       "1088     63274   0.709232\n",
       "81       55384   0.620794\n",
       "693      50955   0.571150"
      ]
     },
     "execution_count": 99,
     "metadata": {},
     "output_type": "execute_result"
    }
   ],
   "source": [
    "census_os_build_rev = pd.concat([df['Census_OSBuildRevision'].value_counts(),\n",
    "                                 df['Census_OSBuildRevision'].value_counts(normalize=True)*100],\n",
    "                                 axis=1)\n",
    "census_os_build_rev.columns=['Count', '%']\n",
    "census_os_build_rev.head(30)\n"
   ]
  },
  {
   "cell_type": "code",
   "execution_count": 100,
   "id": "ef7537a8",
   "metadata": {},
   "outputs": [
    {
     "data": {
      "image/png": "[encoded data removed]",
      "text/plain": [
       "<Figure size 1008x432 with 1 Axes>"
      ]
     },
     "metadata": {},
     "output_type": "display_data"
    }
   ],
   "source": [
    "plt.figure(figsize=(14, 6))\n",
    "sns.countplot(x='Census_OSBuildRevision',\n",
    "            hue='HasDetections',\n",
    "            data=df,\n",
    "            order=df['Census_OSBuildRevision'].value_counts().index[:30],\n",
    "            color='blue',\n",
    "            edgecolor=sns.color_palette('dark', 1),\n",
    "            alpha=0.8)\n",
    "plt.legend(loc=1, title='HasDetections')\n",
    "plt.xticks(rotation = 45)\n",
    "plt.tight_layout()"
   ]
  },
  {
   "cell_type": "code",
   "execution_count": 101,
   "id": "b5b6f7fe",
   "metadata": {},
   "outputs": [
    {
     "data": {
      "text/plain": [
       "CategoricalDtype(categories=['0', '1', '10', '1000', '1001', '1002', '1003', '1004',\n",
       "                  '1005', '1007',\n",
       "                  ...\n",
       "                  '91', '916', '936', '953', '962', '966', '969', '970', '98',\n",
       "                  '994'],\n",
       ", ordered=False)"
      ]
     },
     "execution_count": 101,
     "metadata": {},
     "output_type": "execute_result"
    }
   ],
   "source": [
    "df['Census_OSBuildRevision'].dtype"
   ]
  },
  {
   "cell_type": "code",
   "execution_count": null,
   "id": "a697cfa0",
   "metadata": {},
   "outputs": [],
   "source": [
    "# need to encode or treat as IDs"
   ]
  },
  {
   "cell_type": "markdown",
   "id": "ffd3ecdc",
   "metadata": {},
   "source": [
    "**Census_OSBranch_release_extracted**"
   ]
  },
  {
   "cell_type": "code",
   "execution_count": 102,
   "id": "4ea64d5c",
   "metadata": {},
   "outputs": [
    {
     "data": {
      "text/html": [
       "<div>\n",
       "<style scoped>\n",
       "    .dataframe tbody tr th:only-of-type {\n",
       "        vertical-align: middle;\n",
       "    }\n",
       "\n",
       "    .dataframe tbody tr th {\n",
       "        vertical-align: top;\n",
       "    }\n",
       "\n",
       "    .dataframe thead th {\n",
       "        text-align: right;\n",
       "    }\n",
       "</style>\n",
       "<table border=\"1\" class=\"dataframe\">\n",
       "  <thead>\n",
       "    <tr style=\"text-align: right;\">\n",
       "      <th></th>\n",
       "      <th>Count</th>\n",
       "      <th>%</th>\n",
       "    </tr>\n",
       "  </thead>\n",
       "  <tbody>\n",
       "    <tr>\n",
       "      <th>rs4_release</th>\n",
       "      <td>3915504</td>\n",
       "      <td>43.888616</td>\n",
       "    </tr>\n",
       "    <tr>\n",
       "      <th>rs3_release_svc_escrow</th>\n",
       "      <td>1252730</td>\n",
       "      <td>14.041765</td>\n",
       "    </tr>\n",
       "    <tr>\n",
       "      <th>rs3_release</th>\n",
       "      <td>1194585</td>\n",
       "      <td>13.390021</td>\n",
       "    </tr>\n",
       "    <tr>\n",
       "      <th>rs2_release</th>\n",
       "      <td>780270</td>\n",
       "      <td>8.745993</td>\n",
       "    </tr>\n",
       "    <tr>\n",
       "      <th>rs1_release</th>\n",
       "      <td>535786</td>\n",
       "      <td>6.005589</td>\n",
       "    </tr>\n",
       "    <tr>\n",
       "      <th>th2_release_sec</th>\n",
       "      <td>280199</td>\n",
       "      <td>3.140731</td>\n",
       "    </tr>\n",
       "    <tr>\n",
       "      <th>th1</th>\n",
       "      <td>252031</td>\n",
       "      <td>2.824998</td>\n",
       "    </tr>\n",
       "    <tr>\n",
       "      <th>winblue_ltsb_escrow</th>\n",
       "      <td>136744</td>\n",
       "      <td>1.532754</td>\n",
       "    </tr>\n",
       "    <tr>\n",
       "      <th>th2_release</th>\n",
       "      <td>126857</td>\n",
       "      <td>1.421931</td>\n",
       "    </tr>\n",
       "    <tr>\n",
       "      <th>rs1_release_inmarket</th>\n",
       "      <td>107885</td>\n",
       "      <td>1.209276</td>\n",
       "    </tr>\n",
       "    <tr>\n",
       "      <th>winblue_ltsb</th>\n",
       "      <td>55842</td>\n",
       "      <td>0.625929</td>\n",
       "    </tr>\n",
       "    <tr>\n",
       "      <th>win7sp1_ldr</th>\n",
       "      <td>51013</td>\n",
       "      <td>0.571801</td>\n",
       "    </tr>\n",
       "    <tr>\n",
       "      <th>rs3_release_svc</th>\n",
       "      <td>49750</td>\n",
       "      <td>0.557644</td>\n",
       "    </tr>\n",
       "    <tr>\n",
       "      <th>rs1_release_1</th>\n",
       "      <td>42437</td>\n",
       "      <td>0.475673</td>\n",
       "    </tr>\n",
       "    <tr>\n",
       "      <th>win7sp1_ldr_escrow</th>\n",
       "      <td>39819</td>\n",
       "      <td>0.446328</td>\n",
       "    </tr>\n",
       "    <tr>\n",
       "      <th>rs1_release_sec</th>\n",
       "      <td>37088</td>\n",
       "      <td>0.415717</td>\n",
       "    </tr>\n",
       "    <tr>\n",
       "      <th>th1_st1</th>\n",
       "      <td>17656</td>\n",
       "      <td>0.197905</td>\n",
       "    </tr>\n",
       "    <tr>\n",
       "      <th>rs5_release</th>\n",
       "      <td>14948</td>\n",
       "      <td>0.167551</td>\n",
       "    </tr>\n",
       "    <tr>\n",
       "      <th>rs1_release_inmarket_aim</th>\n",
       "      <td>7116</td>\n",
       "      <td>0.079763</td>\n",
       "    </tr>\n",
       "    <tr>\n",
       "      <th>rs3_release_svc_escrow_im</th>\n",
       "      <td>6611</td>\n",
       "      <td>0.074102</td>\n",
       "    </tr>\n",
       "    <tr>\n",
       "      <th>th2_release_inmarket</th>\n",
       "      <td>4550</td>\n",
       "      <td>0.051001</td>\n",
       "    </tr>\n",
       "    <tr>\n",
       "      <th>rs_prerelease</th>\n",
       "      <td>3186</td>\n",
       "      <td>0.035712</td>\n",
       "    </tr>\n",
       "    <tr>\n",
       "      <th>rs_prerelease_flt</th>\n",
       "      <td>2784</td>\n",
       "      <td>0.031206</td>\n",
       "    </tr>\n",
       "    <tr>\n",
       "      <th>win7sp1_gdr</th>\n",
       "      <td>2325</td>\n",
       "      <td>0.026061</td>\n",
       "    </tr>\n",
       "    <tr>\n",
       "      <th>winblue_gdr</th>\n",
       "      <td>871</td>\n",
       "      <td>0.009763</td>\n",
       "    </tr>\n",
       "    <tr>\n",
       "      <th>th1_escrow</th>\n",
       "      <td>504</td>\n",
       "      <td>0.005649</td>\n",
       "    </tr>\n",
       "    <tr>\n",
       "      <th>win7_gdr</th>\n",
       "      <td>418</td>\n",
       "      <td>0.004685</td>\n",
       "    </tr>\n",
       "    <tr>\n",
       "      <th>winblue_r4</th>\n",
       "      <td>360</td>\n",
       "      <td>0.004035</td>\n",
       "    </tr>\n",
       "    <tr>\n",
       "      <th>rs1_release_inmarket_rim</th>\n",
       "      <td>290</td>\n",
       "      <td>0.003251</td>\n",
       "    </tr>\n",
       "    <tr>\n",
       "      <th>rs1_release_d</th>\n",
       "      <td>229</td>\n",
       "      <td>0.002567</td>\n",
       "    </tr>\n",
       "  </tbody>\n",
       "</table>\n",
       "</div>"
      ],
      "text/plain": [
       "                             Count          %\n",
       "rs4_release                3915504  43.888616\n",
       "rs3_release_svc_escrow     1252730  14.041765\n",
       "rs3_release                1194585  13.390021\n",
       "rs2_release                 780270   8.745993\n",
       "rs1_release                 535786   6.005589\n",
       "th2_release_sec             280199   3.140731\n",
       "th1                         252031   2.824998\n",
       "winblue_ltsb_escrow         136744   1.532754\n",
       "th2_release                 126857   1.421931\n",
       "rs1_release_inmarket        107885   1.209276\n",
       "winblue_ltsb                 55842   0.625929\n",
       "win7sp1_ldr                  51013   0.571801\n",
       "rs3_release_svc              49750   0.557644\n",
       "rs1_release_1                42437   0.475673\n",
       "win7sp1_ldr_escrow           39819   0.446328\n",
       "rs1_release_sec              37088   0.415717\n",
       "th1_st1                      17656   0.197905\n",
       "rs5_release                  14948   0.167551\n",
       "rs1_release_inmarket_aim      7116   0.079763\n",
       "rs3_release_svc_escrow_im     6611   0.074102\n",
       "th2_release_inmarket          4550   0.051001\n",
       "rs_prerelease                 3186   0.035712\n",
       "rs_prerelease_flt             2784   0.031206\n",
       "win7sp1_gdr                   2325   0.026061\n",
       "winblue_gdr                    871   0.009763\n",
       "th1_escrow                     504   0.005649\n",
       "win7_gdr                       418   0.004685\n",
       "winblue_r4                     360   0.004035\n",
       "rs1_release_inmarket_rim       290   0.003251\n",
       "rs1_release_d                  229   0.002567"
      ]
     },
     "execution_count": 102,
     "metadata": {},
     "output_type": "execute_result"
    }
   ],
   "source": [
    "census_os_release = pd.concat([df['Census_OSBranch_release_extracted'].value_counts(),\n",
    "                               df['Census_OSBranch_release_extracted'].value_counts(normalize=True)*100],\n",
    "                               axis=1)\n",
    "census_os_release.columns=['Count', '%']\n",
    "census_os_release.head(30)"
   ]
  },
  {
   "cell_type": "code",
   "execution_count": 103,
   "id": "b5ea1c49",
   "metadata": {},
   "outputs": [
    {
     "data": {
      "text/plain": [
       "rs4_release                  4.388862e-01\n",
       "rs3_release                  2.806354e-01\n",
       "rs2_release                  8.745993e-02\n",
       "rs1_release                  8.191835e-02\n",
       "th                           7.642216e-02\n",
       "win                          3.232499e-02\n",
       "rs5_release                  1.683021e-03\n",
       "rs_prerelease                6.691732e-04\n",
       "rs_xbox                      2.241786e-07\n",
       "rs6_prerelease               1.120893e-07\n",
       "rs_onecore_stack_per1        1.120893e-07\n",
       "rs_shell                     1.120893e-07\n",
       "rs_onecore_base_cobalt       1.120893e-07\n",
       "rs_onecore_sigma_grfx_dev    1.120893e-07\n",
       "Name: Census_OSBranch_release_extracted, dtype: float64"
      ]
     },
     "execution_count": 103,
     "metadata": {},
     "output_type": "execute_result"
    }
   ],
   "source": [
    "df['Census_OSBranch_release_extracted'] = df['Census_OSBranch_release_extracted'].astype('object')\n",
    "df.loc[df['Census_OSBranch_release_extracted'].str.contains('rs1', na=False, regex=False), 'Census_OSBranch_release_extracted'] = 'rs1_release'\n",
    "df.loc[df['Census_OSBranch_release_extracted'].str.contains('rs2', na=False, regex=False), 'Census_OSBranch_release_extracted'] = 'rs2_release'\n",
    "df.loc[df['Census_OSBranch_release_extracted'].str.contains('rs3', na=False, regex=False), 'Census_OSBranch_release_extracted'] = 'rs3_release'\n",
    "df.loc[df['Census_OSBranch_release_extracted'].str.contains('rs4', na=False, regex=False), 'Census_OSBranch_release_extracted'] = 'rs4_release'\n",
    "df.loc[df['Census_OSBranch_release_extracted'].str.contains('rs5', na=False, regex=False), 'Census_OSBranch_release_extracted'] = 'rs5_release'\n",
    "df.loc[df['Census_OSBranch_release_extracted'].str.contains('win', na=False, regex=False), 'Census_OSBranch_release_extracted'] = 'win'\n",
    "df.loc[df['Census_OSBranch_release_extracted'].str.contains('th2', na=False, regex=False), 'Census_OSBranch_release_extracted'] = 'th'\n",
    "df.loc[df['Census_OSBranch_release_extracted'].str.contains('th1', na=False, regex=False), 'Census_OSBranch_release_extracted'] = 'th'\n",
    "df.loc[df['Census_OSBranch_release_extracted'].str.contains('rs_pre', na=False, regex=False), 'Census_OSBranch_release_extracted'] = 'rs_prerelease'\n",
    "df['Census_OSBranch_release_extracted'].value_counts(normalize=True)"
   ]
  },
  {
   "cell_type": "code",
   "execution_count": 104,
   "id": "8cbac5c5",
   "metadata": {},
   "outputs": [],
   "source": [
    "other_os_branch = ~df['Census_OSBranch_release_extracted'].isin(['rs4_release',\n",
    "                                                                 'rs3_release',\n",
    "                                                                 'rs2_release',\n",
    "                                                                 'rs1_release',\n",
    "                                                                 'th'\n",
    "                                                                ])"
   ]
  },
  {
   "cell_type": "code",
   "execution_count": 105,
   "id": "7c033b91",
   "metadata": {},
   "outputs": [],
   "source": [
    "df.loc[other_os_branch, 'Census_OSBranch_release_extracted'] = 'Other'\n",
    "df.rename(columns={'Census_OSBranch_release_extracted':'Census_OSBranch_release_encoded'}, inplace=True)"
   ]
  },
  {
   "cell_type": "code",
   "execution_count": 106,
   "id": "44341ecf",
   "metadata": {},
   "outputs": [
    {
     "data": {
      "text/plain": [
       "rs4_release    0.438885\n",
       "rs3_release    0.280635\n",
       "rs2_release    0.087460\n",
       "rs1_release    0.081918\n",
       "th             0.076422\n",
       "Other          0.034680\n",
       "Name: Census_OSBranch_release_encoded, dtype: float64"
      ]
     },
     "execution_count": 106,
     "metadata": {},
     "output_type": "execute_result"
    }
   ],
   "source": [
    "df['Census_OSBranch_release_encoded'] = df['Census_OSBranch_release_encoded'].astype('category')\n",
    "df['Census_OSBranch_release_encoded'].value_counts(normalize=True)"
   ]
  },
  {
   "cell_type": "code",
   "execution_count": 107,
   "id": "61704cc5",
   "metadata": {
    "scrolled": true
   },
   "outputs": [
    {
     "data": {
      "text/plain": [
       "CategoricalDtype(categories=['Other', 'rs1_release', 'rs2_release', 'rs3_release',\n",
       "                  'rs4_release', 'th'],\n",
       ", ordered=False)"
      ]
     },
     "execution_count": 107,
     "metadata": {},
     "output_type": "execute_result"
    }
   ],
   "source": [
    "df['Census_OSBranch_release_encoded'].dtype"
   ]
  },
  {
   "cell_type": "code",
   "execution_count": 108,
   "id": "98c14935",
   "metadata": {},
   "outputs": [
    {
     "data": {
      "text/plain": [
       "['AvSigVersion',\n",
       " 'Census_OSVersion',\n",
       " 'AppVersion',\n",
       " 'EngineVersion',\n",
       " 'OsVer',\n",
       " 'Census_OSVersion_extracted']"
      ]
     },
     "execution_count": 108,
     "metadata": {},
     "output_type": "execute_result"
    }
   ],
   "source": [
    "to_drop\n"
   ]
  },
  {
   "cell_type": "code",
   "execution_count": 109,
   "id": "37a641be",
   "metadata": {},
   "outputs": [],
   "source": [
    "df = df.drop(to_drop, axis=1)"
   ]
  },
  {
   "cell_type": "code",
   "execution_count": 111,
   "id": "f305090a",
   "metadata": {},
   "outputs": [
    {
     "data": {
      "text/plain": [
       "(8921478, 71)"
      ]
     },
     "execution_count": 111,
     "metadata": {},
     "output_type": "execute_result"
    }
   ],
   "source": [
    "df.shape"
   ]
  },
  {
   "cell_type": "markdown",
   "id": "f0821354",
   "metadata": {},
   "source": [
    "Let's generate some new features:"
   ]
  },
  {
   "cell_type": "code",
   "execution_count": null,
   "id": "bf065a01",
   "metadata": {},
   "outputs": [],
   "source": []
  },
  {
   "cell_type": "code",
   "execution_count": null,
   "id": "55b2613e",
   "metadata": {},
   "outputs": [],
   "source": []
  },
  {
   "cell_type": "markdown",
   "id": "d2a7f0c6",
   "metadata": {},
   "source": [
    "## Multivariate analysis"
   ]
  },
  {
   "cell_type": "code",
   "execution_count": 1,
   "id": "736b1fce",
   "metadata": {},
   "outputs": [],
   "source": [
    "from sklearn.compose import ColumnTransformer\n",
    "from sklearn.pipeline import Pipeline\n",
    "from sklearn.impute import SimpleImputer\n",
    "from sklearn.preprocessing import OneHotEncoder\n",
    "from sklearn.decomposition import PCA"
   ]
  },
  {
   "cell_type": "code",
   "execution_count": null,
   "id": "494eda9a",
   "metadata": {},
   "outputs": [],
   "source": []
  },
  {
   "cell_type": "code",
   "execution_count": null,
   "id": "39b8bd38",
   "metadata": {},
   "outputs": [],
   "source": []
  },
  {
   "cell_type": "code",
   "execution_count": null,
   "id": "26fe4305",
   "metadata": {},
   "outputs": [],
   "source": []
  },
  {
   "cell_type": "code",
   "execution_count": null,
   "id": "076cadad",
   "metadata": {},
   "outputs": [],
   "source": []
  },
  {
   "cell_type": "code",
   "execution_count": null,
   "id": "2828af36",
   "metadata": {},
   "outputs": [],
   "source": []
  },
  {
   "cell_type": "code",
   "execution_count": 112,
   "id": "1f83f310",
   "metadata": {},
   "outputs": [],
   "source": [
    "df.to_pickle('../data/interim/train_clean_roll_up.pickle')"
   ]
  },
  {
   "cell_type": "code",
   "execution_count": null,
   "id": "e92574c2",
   "metadata": {},
   "outputs": [],
   "source": []
  }
 ],
 "metadata": {
  "kernelspec": {
   "display_name": "Python 3",
   "language": "python",
   "name": "python3"
  },
  "language_info": {
   "codemirror_mode": {
    "name": "ipython",
    "version": 3
   },
   "file_extension": ".py",
   "mimetype": "text/x-python",
   "name": "python",
   "nbconvert_exporter": "python",
   "pygments_lexer": "ipython3",
   "version": "3.9.2"
  }
 },
 "nbformat": 4,
 "nbformat_minor": 5
}
