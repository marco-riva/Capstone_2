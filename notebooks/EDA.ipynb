{
 "cells": [
  {
   "cell_type": "code",
   "execution_count": null,
   "id": "b3ccc11c",
   "metadata": {},
   "outputs": [],
   "source": [
    "\n",
    "\n",
    "av_sig_ver = pd.concat([\n",
    "    df['AvSigVersion_encoded'].value_counts(),\n",
    "    round(df['AvSigVersion_encoded'].value_counts()/df.shape[0], 4)*100], \n",
    "    axis=1)\n",
    "av_sig_ver.columns=['Count', '% of total']\n",
    "HasDetections_AvSigVer = df.groupby('AvSigVersion_encoded')['HasDetections'].mean()\n",
    "av_sig_ver.merge(HasDetections_AvSigVer, \n",
    "                 how='inner', \n",
    "                 left_index=True,\n",
    "                 right_index=True).head(15)\n",
    "\n",
    "av_sig_ver_idx = av_sig_ver.index.tolist()[:10]\n",
    "df.loc[~df['AvSigVersion_encoded'].isin(av_sig_ver_idx),\n",
    "       'AvSigVersion_encoded'] = 'other'\n",
    "\n",
    "df['AvSigVersion_encoded'].value_counts()/df.shape[0]\n",
    "\n",
    "df['AvSigVersion_encoded'].dtype\n",
    "\n",
    "df['AvSigVersion'].dtype\n",
    "\n",
    "df['AvSigVersion_encoded'] = df['AvSigVersion_encoded'].astype('category')"
   ]
  },
  {
   "cell_type": "code",
   "execution_count": null,
   "id": "75f410b6",
   "metadata": {},
   "outputs": [],
   "source": []
  },
  {
   "cell_type": "code",
   "execution_count": null,
   "id": "3af23aa1",
   "metadata": {},
   "outputs": [],
   "source": []
  },
  {
   "cell_type": "code",
   "execution_count": null,
   "id": "d6695d36",
   "metadata": {},
   "outputs": [],
   "source": []
  },
  {
   "cell_type": "code",
   "execution_count": null,
   "id": "f21606d8",
   "metadata": {},
   "outputs": [],
   "source": []
  },
  {
   "cell_type": "code",
   "execution_count": null,
   "id": "c6870df2",
   "metadata": {},
   "outputs": [],
   "source": []
  },
  {
   "cell_type": "code",
   "execution_count": 1,
   "id": "f7806bce",
   "metadata": {},
   "outputs": [],
   "source": [
    "import pandas as pd\n",
    "pd.options.display.max_rows = 999\n",
    "import numpy as np\n",
    "from scipy import stats\n",
    "import matplotlib.pyplot as plt\n",
    "import seaborn as sns\n",
    "sns.set(style=\"whitegrid\")\n",
    "import pickle\n",
    "%matplotlib inline"
   ]
  },
  {
   "cell_type": "code",
   "execution_count": 2,
   "id": "86974262",
   "metadata": {},
   "outputs": [
    {
     "data": {
      "text/html": [
       "<div>\n",
       "<style scoped>\n",
       "    .dataframe tbody tr th:only-of-type {\n",
       "        vertical-align: middle;\n",
       "    }\n",
       "\n",
       "    .dataframe tbody tr th {\n",
       "        vertical-align: top;\n",
       "    }\n",
       "\n",
       "    .dataframe thead th {\n",
       "        text-align: right;\n",
       "    }\n",
       "</style>\n",
       "<table border=\"1\" class=\"dataframe\">\n",
       "  <thead>\n",
       "    <tr style=\"text-align: right;\">\n",
       "      <th></th>\n",
       "      <th>ProductName</th>\n",
       "      <th>RtpStateBitfield</th>\n",
       "      <th>IsSxsPassiveMode</th>\n",
       "      <th>AVProductStatesIdentifier</th>\n",
       "      <th>AVProductsInstalled</th>\n",
       "      <th>AVProductsEnabled</th>\n",
       "      <th>HasTpm</th>\n",
       "      <th>CountryIdentifier</th>\n",
       "      <th>CityIdentifier</th>\n",
       "      <th>OrganizationIdentifier</th>\n",
       "      <th>...</th>\n",
       "      <th>Wdft_IsGamer</th>\n",
       "      <th>Wdft_RegionIdentifier</th>\n",
       "      <th>HasDetections</th>\n",
       "      <th>AvSigVersion_extracted</th>\n",
       "      <th>AppVersion_extracted</th>\n",
       "      <th>EngineVersion_extracted</th>\n",
       "      <th>OsVer_encoded</th>\n",
       "      <th>Census_OSBranch_release_extracted</th>\n",
       "      <th>IsProtected_encoded</th>\n",
       "      <th>RAM_bins</th>\n",
       "    </tr>\n",
       "  </thead>\n",
       "  <tbody>\n",
       "    <tr>\n",
       "      <th>0</th>\n",
       "      <td>win8defender</td>\n",
       "      <td>7.0</td>\n",
       "      <td>0</td>\n",
       "      <td>53447.0</td>\n",
       "      <td>1.0</td>\n",
       "      <td>1.0</td>\n",
       "      <td>1</td>\n",
       "      <td>29</td>\n",
       "      <td>128035.0</td>\n",
       "      <td>18.0</td>\n",
       "      <td>...</td>\n",
       "      <td>0</td>\n",
       "      <td>10.0</td>\n",
       "      <td>0</td>\n",
       "      <td>273</td>\n",
       "      <td>18</td>\n",
       "      <td>15100</td>\n",
       "      <td>10.0</td>\n",
       "      <td>rs4_release</td>\n",
       "      <td>2</td>\n",
       "      <td>4-8 GB</td>\n",
       "    </tr>\n",
       "    <tr>\n",
       "      <th>1</th>\n",
       "      <td>win8defender</td>\n",
       "      <td>7.0</td>\n",
       "      <td>0</td>\n",
       "      <td>53447.0</td>\n",
       "      <td>1.0</td>\n",
       "      <td>1.0</td>\n",
       "      <td>1</td>\n",
       "      <td>93</td>\n",
       "      <td>1482.0</td>\n",
       "      <td>18.0</td>\n",
       "      <td>...</td>\n",
       "      <td>0</td>\n",
       "      <td>8.0</td>\n",
       "      <td>0</td>\n",
       "      <td>263</td>\n",
       "      <td>13</td>\n",
       "      <td>14600</td>\n",
       "      <td>10.0</td>\n",
       "      <td>rs4_release</td>\n",
       "      <td>2</td>\n",
       "      <td>4-8 GB</td>\n",
       "    </tr>\n",
       "    <tr>\n",
       "      <th>2</th>\n",
       "      <td>win8defender</td>\n",
       "      <td>7.0</td>\n",
       "      <td>0</td>\n",
       "      <td>53447.0</td>\n",
       "      <td>1.0</td>\n",
       "      <td>1.0</td>\n",
       "      <td>1</td>\n",
       "      <td>86</td>\n",
       "      <td>153579.0</td>\n",
       "      <td>18.0</td>\n",
       "      <td>...</td>\n",
       "      <td>0</td>\n",
       "      <td>3.0</td>\n",
       "      <td>0</td>\n",
       "      <td>273</td>\n",
       "      <td>18</td>\n",
       "      <td>15100</td>\n",
       "      <td>10.0</td>\n",
       "      <td>rs4_release</td>\n",
       "      <td>2</td>\n",
       "      <td>4-8 GB</td>\n",
       "    </tr>\n",
       "    <tr>\n",
       "      <th>3</th>\n",
       "      <td>win8defender</td>\n",
       "      <td>7.0</td>\n",
       "      <td>0</td>\n",
       "      <td>53447.0</td>\n",
       "      <td>1.0</td>\n",
       "      <td>1.0</td>\n",
       "      <td>1</td>\n",
       "      <td>88</td>\n",
       "      <td>20710.0</td>\n",
       "      <td>NaN</td>\n",
       "      <td>...</td>\n",
       "      <td>0</td>\n",
       "      <td>3.0</td>\n",
       "      <td>1</td>\n",
       "      <td>273</td>\n",
       "      <td>18</td>\n",
       "      <td>15100</td>\n",
       "      <td>10.0</td>\n",
       "      <td>rs4_release</td>\n",
       "      <td>2</td>\n",
       "      <td>4-8 GB</td>\n",
       "    </tr>\n",
       "    <tr>\n",
       "      <th>4</th>\n",
       "      <td>win8defender</td>\n",
       "      <td>7.0</td>\n",
       "      <td>0</td>\n",
       "      <td>53447.0</td>\n",
       "      <td>1.0</td>\n",
       "      <td>1.0</td>\n",
       "      <td>1</td>\n",
       "      <td>18</td>\n",
       "      <td>37376.0</td>\n",
       "      <td>NaN</td>\n",
       "      <td>...</td>\n",
       "      <td>0</td>\n",
       "      <td>1.0</td>\n",
       "      <td>1</td>\n",
       "      <td>273</td>\n",
       "      <td>18</td>\n",
       "      <td>15100</td>\n",
       "      <td>10.0</td>\n",
       "      <td>rs4_release</td>\n",
       "      <td>2</td>\n",
       "      <td>4-8 GB</td>\n",
       "    </tr>\n",
       "  </tbody>\n",
       "</table>\n",
       "<p>5 rows × 72 columns</p>\n",
       "</div>"
      ],
      "text/plain": [
       "    ProductName RtpStateBitfield  IsSxsPassiveMode AVProductStatesIdentifier  \\\n",
       "0  win8defender              7.0                 0                   53447.0   \n",
       "1  win8defender              7.0                 0                   53447.0   \n",
       "2  win8defender              7.0                 0                   53447.0   \n",
       "3  win8defender              7.0                 0                   53447.0   \n",
       "4  win8defender              7.0                 0                   53447.0   \n",
       "\n",
       "  AVProductsInstalled AVProductsEnabled  HasTpm CountryIdentifier  \\\n",
       "0                 1.0               1.0       1                29   \n",
       "1                 1.0               1.0       1                93   \n",
       "2                 1.0               1.0       1                86   \n",
       "3                 1.0               1.0       1                88   \n",
       "4                 1.0               1.0       1                18   \n",
       "\n",
       "  CityIdentifier OrganizationIdentifier  ... Wdft_IsGamer  \\\n",
       "0       128035.0                   18.0  ...            0   \n",
       "1         1482.0                   18.0  ...            0   \n",
       "2       153579.0                   18.0  ...            0   \n",
       "3        20710.0                    NaN  ...            0   \n",
       "4        37376.0                    NaN  ...            0   \n",
       "\n",
       "  Wdft_RegionIdentifier HasDetections AvSigVersion_extracted  \\\n",
       "0                  10.0             0                    273   \n",
       "1                   8.0             0                    263   \n",
       "2                   3.0             0                    273   \n",
       "3                   3.0             1                    273   \n",
       "4                   1.0             1                    273   \n",
       "\n",
       "  AppVersion_extracted EngineVersion_extracted OsVer_encoded  \\\n",
       "0                   18                   15100          10.0   \n",
       "1                   13                   14600          10.0   \n",
       "2                   18                   15100          10.0   \n",
       "3                   18                   15100          10.0   \n",
       "4                   18                   15100          10.0   \n",
       "\n",
       "  Census_OSBranch_release_extracted  IsProtected_encoded  RAM_bins  \n",
       "0                       rs4_release                    2    4-8 GB  \n",
       "1                       rs4_release                    2    4-8 GB  \n",
       "2                       rs4_release                    2    4-8 GB  \n",
       "3                       rs4_release                    2    4-8 GB  \n",
       "4                       rs4_release                    2    4-8 GB  \n",
       "\n",
       "[5 rows x 72 columns]"
      ]
     },
     "execution_count": 2,
     "metadata": {},
     "output_type": "execute_result"
    }
   ],
   "source": [
    "df = pd.read_pickle('../data/interim/train_clean.pickle')\n",
    "df.head()"
   ]
  },
  {
   "cell_type": "code",
   "execution_count": 3,
   "id": "87ebdae3",
   "metadata": {},
   "outputs": [
    {
     "data": {
      "text/plain": [
       "(8921483, 72)"
      ]
     },
     "execution_count": 3,
     "metadata": {},
     "output_type": "execute_result"
    }
   ],
   "source": [
    "df.shape"
   ]
  },
  {
   "cell_type": "code",
   "execution_count": 4,
   "id": "ef11ac46",
   "metadata": {},
   "outputs": [
    {
     "name": "stdout",
     "output_type": "stream",
     "text": [
      "<class 'pandas.core.frame.DataFrame'>\n",
      "RangeIndex: 8921483 entries, 0 to 8921482\n",
      "Data columns (total 72 columns):\n",
      " #   Column                                             Dtype   \n",
      "---  ------                                             -----   \n",
      " 0   ProductName                                        category\n",
      " 1   RtpStateBitfield                                   category\n",
      " 2   IsSxsPassiveMode                                   Int64   \n",
      " 3   AVProductStatesIdentifier                          category\n",
      " 4   AVProductsInstalled                                category\n",
      " 5   AVProductsEnabled                                  category\n",
      " 6   HasTpm                                             Int64   \n",
      " 7   CountryIdentifier                                  category\n",
      " 8   CityIdentifier                                     category\n",
      " 9   OrganizationIdentifier                             category\n",
      " 10  GeoNameIdentifier                                  category\n",
      " 11  LocaleEnglishNameIdentifier                        category\n",
      " 12  Platform                                           category\n",
      " 13  Processor                                          category\n",
      " 14  OsBuild                                            category\n",
      " 15  OsSuite                                            category\n",
      " 16  OsPlatformSubRelease                               category\n",
      " 17  SkuEdition                                         category\n",
      " 18  AutoSampleOptIn                                    Int64   \n",
      " 19  SMode                                              Int64   \n",
      " 20  IeVerIdentifier                                    category\n",
      " 21  SmartScreen                                        category\n",
      " 22  Firewall                                           Int64   \n",
      " 23  UacLuaenable                                       category\n",
      " 24  Census_MDC2FormFactor                              category\n",
      " 25  Census_DeviceFamily                                category\n",
      " 26  Census_OEMNameIdentifier                           category\n",
      " 27  Census_OEMModelIdentifier                          category\n",
      " 28  Census_ProcessorCoreCount                          float32 \n",
      " 29  Census_ProcessorManufacturerIdentifier             category\n",
      " 30  Census_ProcessorModelIdentifier                    category\n",
      " 31  Census_PrimaryDiskTotalCapacity                    float32 \n",
      " 32  Census_PrimaryDiskTypeName                         category\n",
      " 33  Census_SystemVolumeTotalCapacity                   float32 \n",
      " 34  Census_HasOpticalDiskDrive                         Int64   \n",
      " 35  Census_TotalPhysicalRAM                            float32 \n",
      " 36  Census_ChassisTypeName                             category\n",
      " 37  Census_InternalPrimaryDiagonalDisplaySizeInInches  float32 \n",
      " 38  Census_InternalPrimaryDisplayResolutionHorizontal  float32 \n",
      " 39  Census_InternalPrimaryDisplayResolutionVertical    float32 \n",
      " 40  Census_PowerPlatformRoleName                       category\n",
      " 41  Census_InternalBatteryNumberOfCharges              float32 \n",
      " 42  Census_OSArchitecture                              category\n",
      " 43  Census_OSBuildRevision                             category\n",
      " 44  Census_OSEdition                                   category\n",
      " 45  Census_OSSkuName                                   category\n",
      " 46  Census_OSInstallTypeName                           category\n",
      " 47  Census_OSInstallLanguageIdentifier                 category\n",
      " 48  Census_OSUILocaleIdentifier                        category\n",
      " 49  Census_OSWUAutoUpdateOptionsName                   category\n",
      " 50  Census_IsPortableOperatingSystem                   Int64   \n",
      " 51  Census_GenuineStateName                            category\n",
      " 52  Census_ActivationChannel                           category\n",
      " 53  Census_IsFlightsDisabled                           Int64   \n",
      " 54  Census_FlightRing                                  category\n",
      " 55  Census_FirmwareManufacturerIdentifier              category\n",
      " 56  Census_FirmwareVersionIdentifier                   category\n",
      " 57  Census_IsSecureBootEnabled                         Int64   \n",
      " 58  Census_IsVirtualDevice                             Int64   \n",
      " 59  Census_IsTouchEnabled                              Int64   \n",
      " 60  Census_IsPenCapable                                Int64   \n",
      " 61  Census_IsAlwaysOnAlwaysConnectedCapable            Int64   \n",
      " 62  Wdft_IsGamer                                       Int64   \n",
      " 63  Wdft_RegionIdentifier                              category\n",
      " 64  HasDetections                                      Int64   \n",
      " 65  AvSigVersion_extracted                             category\n",
      " 66  AppVersion_extracted                               category\n",
      " 67  EngineVersion_extracted                            category\n",
      " 68  OsVer_encoded                                      category\n",
      " 69  Census_OSBranch_release_extracted                  category\n",
      " 70  IsProtected_encoded                                int64   \n",
      " 71  RAM_bins                                           category\n",
      "dtypes: Int64(15), category(48), float32(8), int64(1)\n",
      "memory usage: 2.0 GB\n"
     ]
    }
   ],
   "source": [
    "df.info()"
   ]
  },
  {
   "cell_type": "code",
   "execution_count": 5,
   "id": "27da844a",
   "metadata": {},
   "outputs": [],
   "source": [
    "cat_col = df.select_dtypes('category').columns.tolist()\n",
    "binary_col = df.select_dtypes('Int64').columns.tolist()\n",
    "num_col = [col for col in df.columns \n",
    "           if col not in cat_col\n",
    "           if col not in binary_col]"
   ]
  },
  {
   "cell_type": "markdown",
   "id": "10154202",
   "metadata": {},
   "source": [
    "## Numerical data"
   ]
  },
  {
   "cell_type": "markdown",
   "id": "45a5258c",
   "metadata": {},
   "source": [
    "**Univariate Analysis**"
   ]
  },
  {
   "cell_type": "code",
   "execution_count": 6,
   "id": "f3ad144d",
   "metadata": {
    "scrolled": false
   },
   "outputs": [
    {
     "data": {
      "text/html": [
       "<div>\n",
       "<style scoped>\n",
       "    .dataframe tbody tr th:only-of-type {\n",
       "        vertical-align: middle;\n",
       "    }\n",
       "\n",
       "    .dataframe tbody tr th {\n",
       "        vertical-align: top;\n",
       "    }\n",
       "\n",
       "    .dataframe thead th {\n",
       "        text-align: right;\n",
       "    }\n",
       "</style>\n",
       "<table border=\"1\" class=\"dataframe\">\n",
       "  <thead>\n",
       "    <tr style=\"text-align: right;\">\n",
       "      <th></th>\n",
       "      <th>Census_ProcessorCoreCount</th>\n",
       "      <th>Census_PrimaryDiskTotalCapacity</th>\n",
       "      <th>Census_SystemVolumeTotalCapacity</th>\n",
       "      <th>Census_TotalPhysicalRAM</th>\n",
       "      <th>Census_InternalPrimaryDiagonalDisplaySizeInInches</th>\n",
       "      <th>Census_InternalPrimaryDisplayResolutionHorizontal</th>\n",
       "      <th>Census_InternalPrimaryDisplayResolutionVertical</th>\n",
       "      <th>Census_InternalBatteryNumberOfCharges</th>\n",
       "    </tr>\n",
       "  </thead>\n",
       "  <tbody>\n",
       "    <tr>\n",
       "      <th>0</th>\n",
       "      <td>4.0</td>\n",
       "      <td>476940.0</td>\n",
       "      <td>299451.0</td>\n",
       "      <td>4096.0</td>\n",
       "      <td>18.900000</td>\n",
       "      <td>1440.0</td>\n",
       "      <td>900.0</td>\n",
       "      <td>4.294967e+09</td>\n",
       "    </tr>\n",
       "    <tr>\n",
       "      <th>1</th>\n",
       "      <td>4.0</td>\n",
       "      <td>476940.0</td>\n",
       "      <td>102385.0</td>\n",
       "      <td>4096.0</td>\n",
       "      <td>13.900000</td>\n",
       "      <td>1366.0</td>\n",
       "      <td>768.0</td>\n",
       "      <td>1.000000e+00</td>\n",
       "    </tr>\n",
       "    <tr>\n",
       "      <th>2</th>\n",
       "      <td>4.0</td>\n",
       "      <td>114473.0</td>\n",
       "      <td>113907.0</td>\n",
       "      <td>4096.0</td>\n",
       "      <td>21.500000</td>\n",
       "      <td>1920.0</td>\n",
       "      <td>1080.0</td>\n",
       "      <td>4.294967e+09</td>\n",
       "    </tr>\n",
       "    <tr>\n",
       "      <th>3</th>\n",
       "      <td>4.0</td>\n",
       "      <td>238475.0</td>\n",
       "      <td>227116.0</td>\n",
       "      <td>4096.0</td>\n",
       "      <td>18.500000</td>\n",
       "      <td>1366.0</td>\n",
       "      <td>768.0</td>\n",
       "      <td>4.294967e+09</td>\n",
       "    </tr>\n",
       "    <tr>\n",
       "      <th>4</th>\n",
       "      <td>4.0</td>\n",
       "      <td>476940.0</td>\n",
       "      <td>101900.0</td>\n",
       "      <td>6144.0</td>\n",
       "      <td>14.000000</td>\n",
       "      <td>1366.0</td>\n",
       "      <td>768.0</td>\n",
       "      <td>0.000000e+00</td>\n",
       "    </tr>\n",
       "    <tr>\n",
       "      <th>5</th>\n",
       "      <td>2.0</td>\n",
       "      <td>114473.0</td>\n",
       "      <td>113671.0</td>\n",
       "      <td>8192.0</td>\n",
       "      <td>21.500000</td>\n",
       "      <td>1920.0</td>\n",
       "      <td>1080.0</td>\n",
       "      <td>4.294967e+09</td>\n",
       "    </tr>\n",
       "    <tr>\n",
       "      <th>6</th>\n",
       "      <td>2.0</td>\n",
       "      <td>476940.0</td>\n",
       "      <td>458702.0</td>\n",
       "      <td>4096.0</td>\n",
       "      <td>17.200001</td>\n",
       "      <td>1600.0</td>\n",
       "      <td>900.0</td>\n",
       "      <td>0.000000e+00</td>\n",
       "    </tr>\n",
       "    <tr>\n",
       "      <th>7</th>\n",
       "      <td>2.0</td>\n",
       "      <td>305245.0</td>\n",
       "      <td>290807.0</td>\n",
       "      <td>4096.0</td>\n",
       "      <td>15.500000</td>\n",
       "      <td>1366.0</td>\n",
       "      <td>768.0</td>\n",
       "      <td>0.000000e+00</td>\n",
       "    </tr>\n",
       "    <tr>\n",
       "      <th>8</th>\n",
       "      <td>4.0</td>\n",
       "      <td>305245.0</td>\n",
       "      <td>303892.0</td>\n",
       "      <td>4096.0</td>\n",
       "      <td>15.600000</td>\n",
       "      <td>1920.0</td>\n",
       "      <td>1080.0</td>\n",
       "      <td>0.000000e+00</td>\n",
       "    </tr>\n",
       "    <tr>\n",
       "      <th>9</th>\n",
       "      <td>4.0</td>\n",
       "      <td>953869.0</td>\n",
       "      <td>203252.0</td>\n",
       "      <td>8192.0</td>\n",
       "      <td>15.500000</td>\n",
       "      <td>1366.0</td>\n",
       "      <td>768.0</td>\n",
       "      <td>0.000000e+00</td>\n",
       "    </tr>\n",
       "  </tbody>\n",
       "</table>\n",
       "</div>"
      ],
      "text/plain": [
       "   Census_ProcessorCoreCount  Census_PrimaryDiskTotalCapacity  \\\n",
       "0                        4.0                         476940.0   \n",
       "1                        4.0                         476940.0   \n",
       "2                        4.0                         114473.0   \n",
       "3                        4.0                         238475.0   \n",
       "4                        4.0                         476940.0   \n",
       "5                        2.0                         114473.0   \n",
       "6                        2.0                         476940.0   \n",
       "7                        2.0                         305245.0   \n",
       "8                        4.0                         305245.0   \n",
       "9                        4.0                         953869.0   \n",
       "\n",
       "   Census_SystemVolumeTotalCapacity  Census_TotalPhysicalRAM  \\\n",
       "0                          299451.0                   4096.0   \n",
       "1                          102385.0                   4096.0   \n",
       "2                          113907.0                   4096.0   \n",
       "3                          227116.0                   4096.0   \n",
       "4                          101900.0                   6144.0   \n",
       "5                          113671.0                   8192.0   \n",
       "6                          458702.0                   4096.0   \n",
       "7                          290807.0                   4096.0   \n",
       "8                          303892.0                   4096.0   \n",
       "9                          203252.0                   8192.0   \n",
       "\n",
       "   Census_InternalPrimaryDiagonalDisplaySizeInInches  \\\n",
       "0                                          18.900000   \n",
       "1                                          13.900000   \n",
       "2                                          21.500000   \n",
       "3                                          18.500000   \n",
       "4                                          14.000000   \n",
       "5                                          21.500000   \n",
       "6                                          17.200001   \n",
       "7                                          15.500000   \n",
       "8                                          15.600000   \n",
       "9                                          15.500000   \n",
       "\n",
       "   Census_InternalPrimaryDisplayResolutionHorizontal  \\\n",
       "0                                             1440.0   \n",
       "1                                             1366.0   \n",
       "2                                             1920.0   \n",
       "3                                             1366.0   \n",
       "4                                             1366.0   \n",
       "5                                             1920.0   \n",
       "6                                             1600.0   \n",
       "7                                             1366.0   \n",
       "8                                             1920.0   \n",
       "9                                             1366.0   \n",
       "\n",
       "   Census_InternalPrimaryDisplayResolutionVertical  \\\n",
       "0                                            900.0   \n",
       "1                                            768.0   \n",
       "2                                           1080.0   \n",
       "3                                            768.0   \n",
       "4                                            768.0   \n",
       "5                                           1080.0   \n",
       "6                                            900.0   \n",
       "7                                            768.0   \n",
       "8                                           1080.0   \n",
       "9                                            768.0   \n",
       "\n",
       "   Census_InternalBatteryNumberOfCharges  \n",
       "0                           4.294967e+09  \n",
       "1                           1.000000e+00  \n",
       "2                           4.294967e+09  \n",
       "3                           4.294967e+09  \n",
       "4                           0.000000e+00  \n",
       "5                           4.294967e+09  \n",
       "6                           0.000000e+00  \n",
       "7                           0.000000e+00  \n",
       "8                           0.000000e+00  \n",
       "9                           0.000000e+00  "
      ]
     },
     "execution_count": 6,
     "metadata": {},
     "output_type": "execute_result"
    }
   ],
   "source": [
    "df[num_col].head(10)"
   ]
  },
  {
   "cell_type": "code",
   "execution_count": 7,
   "id": "822a7c14",
   "metadata": {
    "scrolled": true
   },
   "outputs": [
    {
     "data": {
      "text/html": [
       "<div>\n",
       "<style scoped>\n",
       "    .dataframe tbody tr th:only-of-type {\n",
       "        vertical-align: middle;\n",
       "    }\n",
       "\n",
       "    .dataframe tbody tr th {\n",
       "        vertical-align: top;\n",
       "    }\n",
       "\n",
       "    .dataframe thead th {\n",
       "        text-align: right;\n",
       "    }\n",
       "</style>\n",
       "<table border=\"1\" class=\"dataframe\">\n",
       "  <thead>\n",
       "    <tr style=\"text-align: right;\">\n",
       "      <th></th>\n",
       "      <th>count</th>\n",
       "      <th>mean</th>\n",
       "      <th>std</th>\n",
       "      <th>min</th>\n",
       "      <th>25%</th>\n",
       "      <th>50%</th>\n",
       "      <th>75%</th>\n",
       "      <th>max</th>\n",
       "    </tr>\n",
       "  </thead>\n",
       "  <tbody>\n",
       "    <tr>\n",
       "      <th>Census_ProcessorCoreCount</th>\n",
       "      <td>8880177.0</td>\n",
       "      <td>3.989696e+00</td>\n",
       "      <td>2.082553e+00</td>\n",
       "      <td>1.0</td>\n",
       "      <td>2.0</td>\n",
       "      <td>4.0</td>\n",
       "      <td>4.000000e+00</td>\n",
       "      <td>1.920000e+02</td>\n",
       "    </tr>\n",
       "    <tr>\n",
       "      <th>Census_PrimaryDiskTotalCapacity</th>\n",
       "      <td>8868431.0</td>\n",
       "      <td>5.129776e+05</td>\n",
       "      <td>3.564779e+05</td>\n",
       "      <td>0.0</td>\n",
       "      <td>239372.0</td>\n",
       "      <td>476940.0</td>\n",
       "      <td>9.538690e+05</td>\n",
       "      <td>1.526074e+07</td>\n",
       "    </tr>\n",
       "    <tr>\n",
       "      <th>Census_SystemVolumeTotalCapacity</th>\n",
       "      <td>8864221.0</td>\n",
       "      <td>3.761297e+05</td>\n",
       "      <td>3.187795e+05</td>\n",
       "      <td>0.0</td>\n",
       "      <td>120775.0</td>\n",
       "      <td>249497.0</td>\n",
       "      <td>4.759700e+05</td>\n",
       "      <td>2.000000e+06</td>\n",
       "    </tr>\n",
       "    <tr>\n",
       "      <th>Census_TotalPhysicalRAM</th>\n",
       "      <td>8840950.0</td>\n",
       "      <td>6.115257e+03</td>\n",
       "      <td>5.115821e+03</td>\n",
       "      <td>255.0</td>\n",
       "      <td>4096.0</td>\n",
       "      <td>4096.0</td>\n",
       "      <td>8.192000e+03</td>\n",
       "      <td>1.572864e+06</td>\n",
       "    </tr>\n",
       "    <tr>\n",
       "      <th>Census_InternalPrimaryDiagonalDisplaySizeInInches</th>\n",
       "      <td>8874349.0</td>\n",
       "      <td>1.667620e+01</td>\n",
       "      <td>5.892932e+00</td>\n",
       "      <td>0.7</td>\n",
       "      <td>13.9</td>\n",
       "      <td>15.5</td>\n",
       "      <td>1.720000e+01</td>\n",
       "      <td>1.823000e+02</td>\n",
       "    </tr>\n",
       "    <tr>\n",
       "      <th>Census_InternalPrimaryDisplayResolutionHorizontal</th>\n",
       "      <td>8874341.0</td>\n",
       "      <td>1.547743e+03</td>\n",
       "      <td>3.683176e+02</td>\n",
       "      <td>144.0</td>\n",
       "      <td>1366.0</td>\n",
       "      <td>1366.0</td>\n",
       "      <td>1.920000e+03</td>\n",
       "      <td>1.228800e+04</td>\n",
       "    </tr>\n",
       "    <tr>\n",
       "      <th>Census_InternalPrimaryDisplayResolutionVertical</th>\n",
       "      <td>8874341.0</td>\n",
       "      <td>8.975861e+02</td>\n",
       "      <td>2.145927e+02</td>\n",
       "      <td>171.0</td>\n",
       "      <td>768.0</td>\n",
       "      <td>768.0</td>\n",
       "      <td>1.080000e+03</td>\n",
       "      <td>8.640000e+03</td>\n",
       "    </tr>\n",
       "    <tr>\n",
       "      <th>Census_InternalBatteryNumberOfCharges</th>\n",
       "      <td>8652728.0</td>\n",
       "      <td>1.123782e+09</td>\n",
       "      <td>1.887782e+09</td>\n",
       "      <td>0.0</td>\n",
       "      <td>0.0</td>\n",
       "      <td>0.0</td>\n",
       "      <td>4.294967e+09</td>\n",
       "      <td>4.294967e+09</td>\n",
       "    </tr>\n",
       "  </tbody>\n",
       "</table>\n",
       "</div>"
      ],
      "text/plain": [
       "                                                       count          mean  \\\n",
       "Census_ProcessorCoreCount                          8880177.0  3.989696e+00   \n",
       "Census_PrimaryDiskTotalCapacity                    8868431.0  5.129776e+05   \n",
       "Census_SystemVolumeTotalCapacity                   8864221.0  3.761297e+05   \n",
       "Census_TotalPhysicalRAM                            8840950.0  6.115257e+03   \n",
       "Census_InternalPrimaryDiagonalDisplaySizeInInches  8874349.0  1.667620e+01   \n",
       "Census_InternalPrimaryDisplayResolutionHorizontal  8874341.0  1.547743e+03   \n",
       "Census_InternalPrimaryDisplayResolutionVertical    8874341.0  8.975861e+02   \n",
       "Census_InternalBatteryNumberOfCharges              8652728.0  1.123782e+09   \n",
       "\n",
       "                                                            std    min  \\\n",
       "Census_ProcessorCoreCount                          2.082553e+00    1.0   \n",
       "Census_PrimaryDiskTotalCapacity                    3.564779e+05    0.0   \n",
       "Census_SystemVolumeTotalCapacity                   3.187795e+05    0.0   \n",
       "Census_TotalPhysicalRAM                            5.115821e+03  255.0   \n",
       "Census_InternalPrimaryDiagonalDisplaySizeInInches  5.892932e+00    0.7   \n",
       "Census_InternalPrimaryDisplayResolutionHorizontal  3.683176e+02  144.0   \n",
       "Census_InternalPrimaryDisplayResolutionVertical    2.145927e+02  171.0   \n",
       "Census_InternalBatteryNumberOfCharges              1.887782e+09    0.0   \n",
       "\n",
       "                                                        25%       50%  \\\n",
       "Census_ProcessorCoreCount                               2.0       4.0   \n",
       "Census_PrimaryDiskTotalCapacity                    239372.0  476940.0   \n",
       "Census_SystemVolumeTotalCapacity                   120775.0  249497.0   \n",
       "Census_TotalPhysicalRAM                              4096.0    4096.0   \n",
       "Census_InternalPrimaryDiagonalDisplaySizeInInches      13.9      15.5   \n",
       "Census_InternalPrimaryDisplayResolutionHorizontal    1366.0    1366.0   \n",
       "Census_InternalPrimaryDisplayResolutionVertical       768.0     768.0   \n",
       "Census_InternalBatteryNumberOfCharges                   0.0       0.0   \n",
       "\n",
       "                                                            75%           max  \n",
       "Census_ProcessorCoreCount                          4.000000e+00  1.920000e+02  \n",
       "Census_PrimaryDiskTotalCapacity                    9.538690e+05  1.526074e+07  \n",
       "Census_SystemVolumeTotalCapacity                   4.759700e+05  2.000000e+06  \n",
       "Census_TotalPhysicalRAM                            8.192000e+03  1.572864e+06  \n",
       "Census_InternalPrimaryDiagonalDisplaySizeInInches  1.720000e+01  1.823000e+02  \n",
       "Census_InternalPrimaryDisplayResolutionHorizontal  1.920000e+03  1.228800e+04  \n",
       "Census_InternalPrimaryDisplayResolutionVertical    1.080000e+03  8.640000e+03  \n",
       "Census_InternalBatteryNumberOfCharges              4.294967e+09  4.294967e+09  "
      ]
     },
     "execution_count": 7,
     "metadata": {},
     "output_type": "execute_result"
    }
   ],
   "source": [
    "df[num_col].describe().T"
   ]
  },
  {
   "cell_type": "markdown",
   "id": "f5564cdd",
   "metadata": {},
   "source": [
    "**Census_InternalPrimaryDiagonalDisplaySizeInInches** is continuous, the other variables are discrete."
   ]
  },
  {
   "cell_type": "code",
   "execution_count": 8,
   "id": "f70f0b90",
   "metadata": {
    "scrolled": false
   },
   "outputs": [
    {
     "data": {
      "image/png": "[encoded data removed]",
      "text/plain": [
       "<Figure size 1152x432 with 2 Axes>"
      ]
     },
     "metadata": {
      "needs_background": "light"
     },
     "output_type": "display_data"
    }
   ],
   "source": [
    "fig, axes = plt.subplots(1, 2, figsize=(16, 6))\n",
    "sns.histplot(ax=axes[0],\n",
    "             x='Census_InternalPrimaryDiagonalDisplaySizeInInches', \n",
    "             data=df,\n",
    "             bins=40)\n",
    "axes[0].set_xlabel('Diagonal Display Size (in)');\n",
    "sns.boxplot(ax=axes[1],\n",
    "             x='Census_InternalPrimaryDiagonalDisplaySizeInInches', \n",
    "             data=df)\n",
    "axes[1].set_xlabel('Diagonal Display Size (in)');"
   ]
  },
  {
   "cell_type": "code",
   "execution_count": 55,
   "id": "a32dd2d1",
   "metadata": {},
   "outputs": [],
   "source": [
    "z = stats.zscore(df['Census_InternalPrimaryDiagonalDisplaySizeInInches'], nan_policy='omit')\n",
    "z = abs(z)\n",
    "df['Census_InternalPrimaryDiagonalDisplaySizeInInches_outlier_removed_zscore'] = \\\n",
    "df['Census_InternalPrimaryDiagonalDisplaySizeInInches'][z < 3]"
   ]
  },
  {
   "cell_type": "code",
   "execution_count": 57,
   "id": "b919f40c",
   "metadata": {},
   "outputs": [
    {
     "data": {
      "image/png": "[encoded data removed]",
      "text/plain": [
       "<Figure size 576x432 with 1 Axes>"
      ]
     },
     "metadata": {
      "needs_background": "light"
     },
     "output_type": "display_data"
    }
   ],
   "source": [
    "plt.figure(figsize=(8, 6))\n",
    "sns.histplot(x='Census_InternalPrimaryDiagonalDisplaySizeInInches_outlier_removed_zscore',\n",
    "             data=df,\n",
    "             bins=30,)\n",
    "plt.xlabel('Diagonal Display Size (in)');"
   ]
  },
  {
   "cell_type": "code",
   "execution_count": null,
   "id": "940bb567",
   "metadata": {},
   "outputs": [],
   "source": []
  },
  {
   "cell_type": "markdown",
   "id": "da63b13d",
   "metadata": {},
   "source": [
    "Remove outliers based on z scores and then keep both df with outliers and without to test."
   ]
  },
  {
   "cell_type": "code",
   "execution_count": null,
   "id": "23c2956d",
   "metadata": {},
   "outputs": [],
   "source": []
  },
  {
   "cell_type": "code",
   "execution_count": null,
   "id": "44a440f7",
   "metadata": {},
   "outputs": [],
   "source": []
  },
  {
   "cell_type": "code",
   "execution_count": null,
   "id": "fc2084ef",
   "metadata": {},
   "outputs": [],
   "source": []
  },
  {
   "cell_type": "code",
   "execution_count": null,
   "id": "a0844e5d",
   "metadata": {},
   "outputs": [],
   "source": []
  },
  {
   "cell_type": "code",
   "execution_count": 36,
   "id": "65388daa",
   "metadata": {},
   "outputs": [],
   "source": [
    "df[binary_col] = df[binary_col].astype('float32')"
   ]
  },
  {
   "cell_type": "code",
   "execution_count": 37,
   "id": "d2602412",
   "metadata": {},
   "outputs": [
    {
     "data": {
      "text/plain": [
       "(0.034242721461268034, 0.05170876980019068)"
      ]
     },
     "execution_count": 37,
     "metadata": {},
     "output_type": "execute_result"
    }
   ],
   "source": [
    "x = df['Census_InternalPrimaryDiagonalDisplaySizeInInches']\n",
    "y = df['HasDetections']\n",
    "x.corr(y, method='pearson'), x.corr(y, method='spearman')"
   ]
  },
  {
   "cell_type": "code",
   "execution_count": 38,
   "id": "4ce12725",
   "metadata": {},
   "outputs": [
    {
     "data": {
      "text/plain": [
       "(0.0546142241584952, 0.048895843496819434)"
      ]
     },
     "execution_count": 38,
     "metadata": {},
     "output_type": "execute_result"
    }
   ],
   "source": [
    "x = df['Census_InternalPrimaryDiagonalDisplaySizeInInches_outlier_removed_IQR']\n",
    "y = df['HasDetections']\n",
    "x.corr(y, method='pearson'), x.corr(y, method='spearman')"
   ]
  },
  {
   "cell_type": "code",
   "execution_count": 39,
   "id": "eeb1b240",
   "metadata": {},
   "outputs": [
    {
     "data": {
      "text/plain": [
       "(0.05608033510182139, 0.05317370722687113)"
      ]
     },
     "execution_count": 39,
     "metadata": {},
     "output_type": "execute_result"
    }
   ],
   "source": [
    "x = df['Census_InternalPrimaryDiagonalDisplaySizeInInches_outlier_removed_zscore']\n",
    "y = df['HasDetections']\n",
    "x.corr(y, method='pearson'), x.corr(y, method='spearman')"
   ]
  },
  {
   "cell_type": "code",
   "execution_count": 172,
   "id": "4abe6247",
   "metadata": {},
   "outputs": [
    {
     "data": {
      "text/plain": [
       "<AxesSubplot:xlabel='Census_InternalPrimaryDiagonalDisplaySizeInInches', ylabel='HasDetections'>"
      ]
     },
     "execution_count": 172,
     "metadata": {},
     "output_type": "execute_result"
    },
    {
     "data": {
      "image/png": "[encoded data removed]",
      "text/plain": [
       "<Figure size 432x288 with 1 Axes>"
      ]
     },
     "metadata": {
      "needs_background": "light"
     },
     "output_type": "display_data"
    }
   ],
   "source": [
    "sns.scatterplot(\n",
    "             x=x,\n",
    "             y=y)"
   ]
  },
  {
   "cell_type": "code",
   "execution_count": null,
   "id": "e17eb7b6",
   "metadata": {},
   "outputs": [],
   "source": []
  },
  {
   "cell_type": "code",
   "execution_count": 148,
   "id": "a92f7555",
   "metadata": {
    "scrolled": true
   },
   "outputs": [
    {
     "ename": "KeyboardInterrupt",
     "evalue": "",
     "output_type": "error",
     "traceback": [
      "\u001b[1;31m---------------------------------------------------------------------------\u001b[0m",
      "\u001b[1;31mKeyboardInterrupt\u001b[0m                         Traceback (most recent call last)",
      "\u001b[1;32m<ipython-input-148-8a2f94f49676>\u001b[0m in \u001b[0;36m<module>\u001b[1;34m\u001b[0m\n\u001b[0;32m      1\u001b[0m \u001b[1;32mfor\u001b[0m \u001b[0mcol\u001b[0m \u001b[1;32min\u001b[0m \u001b[0mnum_col\u001b[0m\u001b[1;33m:\u001b[0m\u001b[1;33m\u001b[0m\u001b[1;33m\u001b[0m\u001b[0m\n\u001b[0;32m      2\u001b[0m     \u001b[0mplt\u001b[0m\u001b[1;33m.\u001b[0m\u001b[0mfigure\u001b[0m\u001b[1;33m(\u001b[0m\u001b[0mfigsize\u001b[0m\u001b[1;33m=\u001b[0m\u001b[1;33m(\u001b[0m\u001b[1;36m8\u001b[0m\u001b[1;33m,\u001b[0m\u001b[1;36m6\u001b[0m\u001b[1;33m)\u001b[0m\u001b[1;33m)\u001b[0m\u001b[1;33m\u001b[0m\u001b[1;33m\u001b[0m\u001b[0m\n\u001b[1;32m----> 3\u001b[1;33m     \u001b[0msns\u001b[0m\u001b[1;33m.\u001b[0m\u001b[0mbarplot\u001b[0m\u001b[1;33m(\u001b[0m\u001b[0mx\u001b[0m\u001b[1;33m=\u001b[0m\u001b[0mcol\u001b[0m\u001b[1;33m,\u001b[0m \u001b[0mdata\u001b[0m\u001b[1;33m=\u001b[0m\u001b[0mdf\u001b[0m\u001b[1;33m)\u001b[0m\u001b[1;33m\u001b[0m\u001b[1;33m\u001b[0m\u001b[0m\n\u001b[0m\u001b[0;32m      4\u001b[0m     \u001b[0mplt\u001b[0m\u001b[1;33m.\u001b[0m\u001b[0mxlabel\u001b[0m\u001b[1;33m(\u001b[0m\u001b[0mcol\u001b[0m\u001b[1;33m)\u001b[0m\u001b[1;33m;\u001b[0m\u001b[1;33m\u001b[0m\u001b[1;33m\u001b[0m\u001b[0m\n",
      "\u001b[1;32m~\\anaconda3\\envs\\capstone2env\\lib\\site-packages\\seaborn\\_decorators.py\u001b[0m in \u001b[0;36minner_f\u001b[1;34m(*args, **kwargs)\u001b[0m\n\u001b[0;32m     44\u001b[0m             )\n\u001b[0;32m     45\u001b[0m         \u001b[0mkwargs\u001b[0m\u001b[1;33m.\u001b[0m\u001b[0mupdate\u001b[0m\u001b[1;33m(\u001b[0m\u001b[1;33m{\u001b[0m\u001b[0mk\u001b[0m\u001b[1;33m:\u001b[0m \u001b[0marg\u001b[0m \u001b[1;32mfor\u001b[0m \u001b[0mk\u001b[0m\u001b[1;33m,\u001b[0m \u001b[0marg\u001b[0m \u001b[1;32min\u001b[0m \u001b[0mzip\u001b[0m\u001b[1;33m(\u001b[0m\u001b[0msig\u001b[0m\u001b[1;33m.\u001b[0m\u001b[0mparameters\u001b[0m\u001b[1;33m,\u001b[0m \u001b[0margs\u001b[0m\u001b[1;33m)\u001b[0m\u001b[1;33m}\u001b[0m\u001b[1;33m)\u001b[0m\u001b[1;33m\u001b[0m\u001b[1;33m\u001b[0m\u001b[0m\n\u001b[1;32m---> 46\u001b[1;33m         \u001b[1;32mreturn\u001b[0m \u001b[0mf\u001b[0m\u001b[1;33m(\u001b[0m\u001b[1;33m**\u001b[0m\u001b[0mkwargs\u001b[0m\u001b[1;33m)\u001b[0m\u001b[1;33m\u001b[0m\u001b[1;33m\u001b[0m\u001b[0m\n\u001b[0m\u001b[0;32m     47\u001b[0m     \u001b[1;32mreturn\u001b[0m \u001b[0minner_f\u001b[0m\u001b[1;33m\u001b[0m\u001b[1;33m\u001b[0m\u001b[0m\n\u001b[0;32m     48\u001b[0m \u001b[1;33m\u001b[0m\u001b[0m\n",
      "\u001b[1;32m~\\anaconda3\\envs\\capstone2env\\lib\\site-packages\\seaborn\\categorical.py\u001b[0m in \u001b[0;36mbarplot\u001b[1;34m(x, y, hue, data, order, hue_order, estimator, ci, n_boot, units, seed, orient, color, palette, saturation, errcolor, errwidth, capsize, dodge, ax, **kwargs)\u001b[0m\n\u001b[0;32m   3177\u001b[0m ):\n\u001b[0;32m   3178\u001b[0m \u001b[1;33m\u001b[0m\u001b[0m\n\u001b[1;32m-> 3179\u001b[1;33m     plotter = _BarPlotter(x, y, hue, data, order, hue_order,\n\u001b[0m\u001b[0;32m   3180\u001b[0m                           \u001b[0mestimator\u001b[0m\u001b[1;33m,\u001b[0m \u001b[0mci\u001b[0m\u001b[1;33m,\u001b[0m \u001b[0mn_boot\u001b[0m\u001b[1;33m,\u001b[0m \u001b[0munits\u001b[0m\u001b[1;33m,\u001b[0m \u001b[0mseed\u001b[0m\u001b[1;33m,\u001b[0m\u001b[1;33m\u001b[0m\u001b[1;33m\u001b[0m\u001b[0m\n\u001b[0;32m   3181\u001b[0m                           \u001b[0morient\u001b[0m\u001b[1;33m,\u001b[0m \u001b[0mcolor\u001b[0m\u001b[1;33m,\u001b[0m \u001b[0mpalette\u001b[0m\u001b[1;33m,\u001b[0m \u001b[0msaturation\u001b[0m\u001b[1;33m,\u001b[0m\u001b[1;33m\u001b[0m\u001b[1;33m\u001b[0m\u001b[0m\n",
      "\u001b[1;32m~\\anaconda3\\envs\\capstone2env\\lib\\site-packages\\seaborn\\categorical.py\u001b[0m in \u001b[0;36m__init__\u001b[1;34m(self, x, y, hue, data, order, hue_order, estimator, ci, n_boot, units, seed, orient, color, palette, saturation, errcolor, errwidth, capsize, dodge)\u001b[0m\n\u001b[0;32m   1585\u001b[0m                                  order, hue_order, units)\n\u001b[0;32m   1586\u001b[0m         \u001b[0mself\u001b[0m\u001b[1;33m.\u001b[0m\u001b[0mestablish_colors\u001b[0m\u001b[1;33m(\u001b[0m\u001b[0mcolor\u001b[0m\u001b[1;33m,\u001b[0m \u001b[0mpalette\u001b[0m\u001b[1;33m,\u001b[0m \u001b[0msaturation\u001b[0m\u001b[1;33m)\u001b[0m\u001b[1;33m\u001b[0m\u001b[1;33m\u001b[0m\u001b[0m\n\u001b[1;32m-> 1587\u001b[1;33m         \u001b[0mself\u001b[0m\u001b[1;33m.\u001b[0m\u001b[0mestimate_statistic\u001b[0m\u001b[1;33m(\u001b[0m\u001b[0mestimator\u001b[0m\u001b[1;33m,\u001b[0m \u001b[0mci\u001b[0m\u001b[1;33m,\u001b[0m \u001b[0mn_boot\u001b[0m\u001b[1;33m,\u001b[0m \u001b[0mseed\u001b[0m\u001b[1;33m)\u001b[0m\u001b[1;33m\u001b[0m\u001b[1;33m\u001b[0m\u001b[0m\n\u001b[0m\u001b[0;32m   1588\u001b[0m \u001b[1;33m\u001b[0m\u001b[0m\n\u001b[0;32m   1589\u001b[0m         \u001b[0mself\u001b[0m\u001b[1;33m.\u001b[0m\u001b[0mdodge\u001b[0m \u001b[1;33m=\u001b[0m \u001b[0mdodge\u001b[0m\u001b[1;33m\u001b[0m\u001b[1;33m\u001b[0m\u001b[0m\n",
      "\u001b[1;32m~\\anaconda3\\envs\\capstone2env\\lib\\site-packages\\seaborn\\categorical.py\u001b[0m in \u001b[0;36mestimate_statistic\u001b[1;34m(self, estimator, ci, n_boot, seed)\u001b[0m\n\u001b[0;32m   1484\u001b[0m                     \u001b[1;32melse\u001b[0m\u001b[1;33m:\u001b[0m\u001b[1;33m\u001b[0m\u001b[1;33m\u001b[0m\u001b[0m\n\u001b[0;32m   1485\u001b[0m \u001b[1;33m\u001b[0m\u001b[0m\n\u001b[1;32m-> 1486\u001b[1;33m                         boots = bootstrap(stat_data, func=estimator,\n\u001b[0m\u001b[0;32m   1487\u001b[0m                                           \u001b[0mn_boot\u001b[0m\u001b[1;33m=\u001b[0m\u001b[0mn_boot\u001b[0m\u001b[1;33m,\u001b[0m\u001b[1;33m\u001b[0m\u001b[1;33m\u001b[0m\u001b[0m\n\u001b[0;32m   1488\u001b[0m                                           \u001b[0munits\u001b[0m\u001b[1;33m=\u001b[0m\u001b[0munit_data\u001b[0m\u001b[1;33m,\u001b[0m\u001b[1;33m\u001b[0m\u001b[1;33m\u001b[0m\u001b[0m\n",
      "\u001b[1;32m~\\anaconda3\\envs\\capstone2env\\lib\\site-packages\\seaborn\\algorithms.py\u001b[0m in \u001b[0;36mbootstrap\u001b[1;34m(*args, **kwargs)\u001b[0m\n\u001b[0;32m     82\u001b[0m     \u001b[1;32mfor\u001b[0m \u001b[0mi\u001b[0m \u001b[1;32min\u001b[0m \u001b[0mrange\u001b[0m\u001b[1;33m(\u001b[0m\u001b[0mint\u001b[0m\u001b[1;33m(\u001b[0m\u001b[0mn_boot\u001b[0m\u001b[1;33m)\u001b[0m\u001b[1;33m)\u001b[0m\u001b[1;33m:\u001b[0m\u001b[1;33m\u001b[0m\u001b[1;33m\u001b[0m\u001b[0m\n\u001b[0;32m     83\u001b[0m         \u001b[0mresampler\u001b[0m \u001b[1;33m=\u001b[0m \u001b[0mintegers\u001b[0m\u001b[1;33m(\u001b[0m\u001b[1;36m0\u001b[0m\u001b[1;33m,\u001b[0m \u001b[0mn\u001b[0m\u001b[1;33m,\u001b[0m \u001b[0mn\u001b[0m\u001b[1;33m,\u001b[0m \u001b[0mdtype\u001b[0m\u001b[1;33m=\u001b[0m\u001b[0mnp\u001b[0m\u001b[1;33m.\u001b[0m\u001b[0mintp\u001b[0m\u001b[1;33m)\u001b[0m  \u001b[1;31m# intp is indexing dtype\u001b[0m\u001b[1;33m\u001b[0m\u001b[1;33m\u001b[0m\u001b[0m\n\u001b[1;32m---> 84\u001b[1;33m         \u001b[0msample\u001b[0m \u001b[1;33m=\u001b[0m \u001b[1;33m[\u001b[0m\u001b[0ma\u001b[0m\u001b[1;33m.\u001b[0m\u001b[0mtake\u001b[0m\u001b[1;33m(\u001b[0m\u001b[0mresampler\u001b[0m\u001b[1;33m,\u001b[0m \u001b[0maxis\u001b[0m\u001b[1;33m=\u001b[0m\u001b[1;36m0\u001b[0m\u001b[1;33m)\u001b[0m \u001b[1;32mfor\u001b[0m \u001b[0ma\u001b[0m \u001b[1;32min\u001b[0m \u001b[0margs\u001b[0m\u001b[1;33m]\u001b[0m\u001b[1;33m\u001b[0m\u001b[1;33m\u001b[0m\u001b[0m\n\u001b[0m\u001b[0;32m     85\u001b[0m         \u001b[0mboot_dist\u001b[0m\u001b[1;33m.\u001b[0m\u001b[0mappend\u001b[0m\u001b[1;33m(\u001b[0m\u001b[0mf\u001b[0m\u001b[1;33m(\u001b[0m\u001b[1;33m*\u001b[0m\u001b[0msample\u001b[0m\u001b[1;33m,\u001b[0m \u001b[1;33m**\u001b[0m\u001b[0mfunc_kwargs\u001b[0m\u001b[1;33m)\u001b[0m\u001b[1;33m)\u001b[0m\u001b[1;33m\u001b[0m\u001b[1;33m\u001b[0m\u001b[0m\n\u001b[0;32m     86\u001b[0m     \u001b[1;32mreturn\u001b[0m \u001b[0mnp\u001b[0m\u001b[1;33m.\u001b[0m\u001b[0marray\u001b[0m\u001b[1;33m(\u001b[0m\u001b[0mboot_dist\u001b[0m\u001b[1;33m)\u001b[0m\u001b[1;33m\u001b[0m\u001b[1;33m\u001b[0m\u001b[0m\n",
      "\u001b[1;32m~\\anaconda3\\envs\\capstone2env\\lib\\site-packages\\seaborn\\algorithms.py\u001b[0m in \u001b[0;36m<listcomp>\u001b[1;34m(.0)\u001b[0m\n\u001b[0;32m     82\u001b[0m     \u001b[1;32mfor\u001b[0m \u001b[0mi\u001b[0m \u001b[1;32min\u001b[0m \u001b[0mrange\u001b[0m\u001b[1;33m(\u001b[0m\u001b[0mint\u001b[0m\u001b[1;33m(\u001b[0m\u001b[0mn_boot\u001b[0m\u001b[1;33m)\u001b[0m\u001b[1;33m)\u001b[0m\u001b[1;33m:\u001b[0m\u001b[1;33m\u001b[0m\u001b[1;33m\u001b[0m\u001b[0m\n\u001b[0;32m     83\u001b[0m         \u001b[0mresampler\u001b[0m \u001b[1;33m=\u001b[0m \u001b[0mintegers\u001b[0m\u001b[1;33m(\u001b[0m\u001b[1;36m0\u001b[0m\u001b[1;33m,\u001b[0m \u001b[0mn\u001b[0m\u001b[1;33m,\u001b[0m \u001b[0mn\u001b[0m\u001b[1;33m,\u001b[0m \u001b[0mdtype\u001b[0m\u001b[1;33m=\u001b[0m\u001b[0mnp\u001b[0m\u001b[1;33m.\u001b[0m\u001b[0mintp\u001b[0m\u001b[1;33m)\u001b[0m  \u001b[1;31m# intp is indexing dtype\u001b[0m\u001b[1;33m\u001b[0m\u001b[1;33m\u001b[0m\u001b[0m\n\u001b[1;32m---> 84\u001b[1;33m         \u001b[0msample\u001b[0m \u001b[1;33m=\u001b[0m \u001b[1;33m[\u001b[0m\u001b[0ma\u001b[0m\u001b[1;33m.\u001b[0m\u001b[0mtake\u001b[0m\u001b[1;33m(\u001b[0m\u001b[0mresampler\u001b[0m\u001b[1;33m,\u001b[0m \u001b[0maxis\u001b[0m\u001b[1;33m=\u001b[0m\u001b[1;36m0\u001b[0m\u001b[1;33m)\u001b[0m \u001b[1;32mfor\u001b[0m \u001b[0ma\u001b[0m \u001b[1;32min\u001b[0m \u001b[0margs\u001b[0m\u001b[1;33m]\u001b[0m\u001b[1;33m\u001b[0m\u001b[1;33m\u001b[0m\u001b[0m\n\u001b[0m\u001b[0;32m     85\u001b[0m         \u001b[0mboot_dist\u001b[0m\u001b[1;33m.\u001b[0m\u001b[0mappend\u001b[0m\u001b[1;33m(\u001b[0m\u001b[0mf\u001b[0m\u001b[1;33m(\u001b[0m\u001b[1;33m*\u001b[0m\u001b[0msample\u001b[0m\u001b[1;33m,\u001b[0m \u001b[1;33m**\u001b[0m\u001b[0mfunc_kwargs\u001b[0m\u001b[1;33m)\u001b[0m\u001b[1;33m)\u001b[0m\u001b[1;33m\u001b[0m\u001b[1;33m\u001b[0m\u001b[0m\n\u001b[0;32m     86\u001b[0m     \u001b[1;32mreturn\u001b[0m \u001b[0mnp\u001b[0m\u001b[1;33m.\u001b[0m\u001b[0marray\u001b[0m\u001b[1;33m(\u001b[0m\u001b[0mboot_dist\u001b[0m\u001b[1;33m)\u001b[0m\u001b[1;33m\u001b[0m\u001b[1;33m\u001b[0m\u001b[0m\n",
      "\u001b[1;31mKeyboardInterrupt\u001b[0m: "
     ]
    },
    {
     "data": {
      "text/plain": [
       "<Figure size 576x432 with 0 Axes>"
      ]
     },
     "metadata": {},
     "output_type": "display_data"
    }
   ],
   "source": [
    "for col in num_col:\n",
    "    plt.figure(figsize=(8,6))\n",
    "    sns.barplot(x=col, data=df)\n",
    "    plt.xlabel(col);"
   ]
  },
  {
   "cell_type": "markdown",
   "id": "a4a283b7",
   "metadata": {},
   "source": [
    "The boxplots show many outliers and extreme values. Let's look at scatterplots in the multivariate analysis. "
   ]
  },
  {
   "cell_type": "markdown",
   "id": "9b9d6f9a",
   "metadata": {},
   "source": [
    "**MultivariateAnalysis**"
   ]
  },
  {
   "cell_type": "code",
   "execution_count": 92,
   "id": "30b85bea",
   "metadata": {},
   "outputs": [],
   "source": [
    "continuos_name_dict = {'Census_InternalPrimaryDiagonalDisplaySizeInInches':'Display Size',\n",
    "                       'Census_InternalPrimaryDisplayResolutionHorizontal':'Horizontal Resolution',\n",
    "                       'Census_InternalPrimaryDisplayResolutionVertical':'Vertical Resolution'}"
   ]
  },
  {
   "cell_type": "code",
   "execution_count": 93,
   "id": "d29d15ba",
   "metadata": {},
   "outputs": [
    {
     "data": {
      "text/plain": [
       "<Figure size 432x288 with 0 Axes>"
      ]
     },
     "metadata": {},
     "output_type": "display_data"
    },
    {
     "data": {
      "image/png": "[encoded data removed]",
      "text/plain": [
       "<Figure size 720x720 with 9 Axes>"
      ]
     },
     "metadata": {
      "needs_background": "light"
     },
     "output_type": "display_data"
    }
   ],
   "source": [
    "df_sample = df[continuous_num_col].rename(columns=continuos_name_dict).sample(frac=.01)\n",
    "plt.figure()\n",
    "pd.plotting.scatter_matrix(df_sample, alpha=0.2, figsize=(10,10))\n",
    "plt.subplots_adjust(hspace=.2, wspace=.2)"
   ]
  },
  {
   "cell_type": "code",
   "execution_count": null,
   "id": "8469ef95",
   "metadata": {},
   "outputs": [],
   "source": []
  },
  {
   "cell_type": "code",
   "execution_count": null,
   "id": "54a45987",
   "metadata": {},
   "outputs": [],
   "source": []
  },
  {
   "cell_type": "code",
   "execution_count": null,
   "id": "b29e4fd6",
   "metadata": {},
   "outputs": [],
   "source": []
  },
  {
   "cell_type": "code",
   "execution_count": null,
   "id": "a110f528",
   "metadata": {},
   "outputs": [],
   "source": []
  },
  {
   "cell_type": "code",
   "execution_count": null,
   "id": "428a9881",
   "metadata": {},
   "outputs": [],
   "source": []
  },
  {
   "cell_type": "code",
   "execution_count": null,
   "id": "f5f6b23d",
   "metadata": {},
   "outputs": [],
   "source": []
  },
  {
   "cell_type": "code",
   "execution_count": null,
   "id": "88403de0",
   "metadata": {},
   "outputs": [],
   "source": []
  },
  {
   "cell_type": "code",
   "execution_count": null,
   "id": "ed6746fb",
   "metadata": {},
   "outputs": [],
   "source": []
  },
  {
   "cell_type": "code",
   "execution_count": 41,
   "id": "1be73eae",
   "metadata": {},
   "outputs": [
    {
     "data": {
      "text/plain": [
       "<AxesSubplot:>"
      ]
     },
     "execution_count": 41,
     "metadata": {},
     "output_type": "execute_result"
    },
    {
     "data": {
      "image/png": "[encoded data removed]",
      "text/plain": [
       "<Figure size 432x288 with 1 Axes>"
      ]
     },
     "metadata": {
      "needs_background": "light"
     },
     "output_type": "display_data"
    }
   ],
   "source": [
    "\n",
    "\n",
    "df.Census_InternalPrimaryDiagonalDisplaySizeInInches.hist(bins = 30)"
   ]
  },
  {
   "cell_type": "code",
   "execution_count": 44,
   "id": "af311070",
   "metadata": {},
   "outputs": [
    {
     "data": {
      "text/plain": [
       "<AxesSubplot:>"
      ]
     },
     "execution_count": 44,
     "metadata": {},
     "output_type": "execute_result"
    },
    {
     "data": {
      "image/png": "[encoded data removed]",
      "text/plain": [
       "<Figure size 432x288 with 1 Axes>"
      ]
     },
     "metadata": {
      "needs_background": "light"
     },
     "output_type": "display_data"
    }
   ],
   "source": [
    "df.Census_PrimaryDiskTotalCapacity.hist()"
   ]
  },
  {
   "cell_type": "code",
   "execution_count": null,
   "id": "3a092770",
   "metadata": {},
   "outputs": [],
   "source": []
  },
  {
   "cell_type": "code",
   "execution_count": null,
   "id": "c7fc3d36",
   "metadata": {},
   "outputs": [],
   "source": []
  },
  {
   "cell_type": "code",
   "execution_count": null,
   "id": "7b8e6f78",
   "metadata": {},
   "outputs": [],
   "source": []
  },
  {
   "cell_type": "code",
   "execution_count": null,
   "id": "3e4e72d1",
   "metadata": {},
   "outputs": [],
   "source": []
  },
  {
   "cell_type": "code",
   "execution_count": null,
   "id": "545fb627",
   "metadata": {},
   "outputs": [],
   "source": []
  },
  {
   "cell_type": "code",
   "execution_count": null,
   "id": "4c6b0625",
   "metadata": {},
   "outputs": [],
   "source": []
  },
  {
   "cell_type": "code",
   "execution_count": null,
   "id": "f50575bd",
   "metadata": {},
   "outputs": [],
   "source": []
  },
  {
   "cell_type": "code",
   "execution_count": null,
   "id": "9b025c3a",
   "metadata": {},
   "outputs": [],
   "source": []
  },
  {
   "cell_type": "code",
   "execution_count": null,
   "id": "da59b8b6",
   "metadata": {},
   "outputs": [],
   "source": [
    "plt.subplots(figsize=(16,12))\n",
    "sns.heatmap(df[numerical_columns + binary_columns].corr());"
   ]
  },
  {
   "cell_type": "code",
   "execution_count": null,
   "id": "d3375606",
   "metadata": {},
   "outputs": [],
   "source": [
    "# check for categorical encoded nominal"
   ]
  },
  {
   "cell_type": "code",
   "execution_count": null,
   "id": "19b21718",
   "metadata": {},
   "outputs": [],
   "source": [
    "# define function to create cdf dist plot\n",
    "def cdf_dist_plots(columns, ncol=None, figsize=(15, 8)):\n",
    "    if ncol is None:\n",
    "        ncol = len(columns)\n",
    "    nrow = int(np.ceil(len(columns) / ncol))\n",
    "    #fig, axes = plt.subplots(nrow, ncol, figsize=figsize, squeeze=False)\n",
    "    #fig.subplots_adjust(wspace=0.5, hspace=0.6)\n",
    "    for i, col in enumerate(columns):\n",
    "        #ax = axes.flatten()[i]\n",
    "        ax = sns.displot(data=df, x=col, hue='HasDetections', kind='ecdf')\n",
    "        ax.set(xlabel=col)\n",
    "    nsubplots = nrow * ncol    \n",
    "    for empty in range(i+1, nsubplots):\n",
    "        axes.flatten()[empty].set_visible(False)"
   ]
  },
  {
   "cell_type": "code",
   "execution_count": null,
   "id": "3e61a366",
   "metadata": {},
   "outputs": [],
   "source": [
    "# define function to create kde dist plot\n",
    "def kde_dist_plots(columns, ncol=None, figsize=(15, 8)):\n",
    "    if ncol is None:\n",
    "        ncol = len(columns)\n",
    "    nrow = int(np.ceil(len(columns) / ncol))\n",
    "    #fig, axes = plt.subplots(nrow, ncol, figsize=figsize, squeeze=False)\n",
    "    #fig.subplots_adjust(wspace=0.5, hspace=0.6)\n",
    "    for i, col in enumerate(columns):\n",
    "        #ax = axes.flatten()[i]\n",
    "        ax = sns.displot(data=df, x=col, hue='HasDetections', kind='kde')\n",
    "        ax.set(xlabel=col)\n",
    "    nsubplots = nrow * ncol    \n",
    "    for empty in range(i+1, nsubplots):\n",
    "        axes.flatten()[empty].set_visible(False)"
   ]
  },
  {
   "cell_type": "code",
   "execution_count": null,
   "id": "b32f0b9d",
   "metadata": {},
   "outputs": [],
   "source": [
    "cdf_dist_plots(numerical_columns, figsize=(15, 15))"
   ]
  },
  {
   "cell_type": "code",
   "execution_count": null,
   "id": "afe0ab15",
   "metadata": {},
   "outputs": [],
   "source": [
    "kde_dist_plots(rank_columns, figsize=(15, 15))"
   ]
  },
  {
   "cell_type": "markdown",
   "id": "8d5b023b",
   "metadata": {},
   "source": [
    "AvSigVersion, AVProductStateIdentifier, Census_ProcessorModelldentifier, Census_OEMNameIdentifier, Census_OSVersion, CountryIdentifier, Census_OSBuildRevision,Census_FirmwareManufacturerIdentifier"
   ]
  },
  {
   "cell_type": "code",
   "execution_count": null,
   "id": "6d86f02c",
   "metadata": {},
   "outputs": [],
   "source": [
    "df[['Census_OEMModelIdentifier_encoded',\n",
    "    'Census_FirmwareVersionIdentifier_encoded',\n",
    "    'AvSigVersion_encoded', \n",
    "    'AVProductStatesIdentifier_encoded',\n",
    "    'Census_ProcessorModelIdentifier_encoded', \n",
    "    'Census_OEMNameIdentifier_encoded', \n",
    "    'Census_OSVersion_encoded', \n",
    "    'CountryIdentifier_encoded', \n",
    "    'Census_OSBuildRevision_encoded', \n",
    "    'Census_FirmwareManufacturerIdentifier_encoded',\n",
    "    'HasDetections']].corr()['HasDetections']"
   ]
  },
  {
   "cell_type": "code",
   "execution_count": null,
   "id": "74654424",
   "metadata": {
    "scrolled": false
   },
   "outputs": [],
   "source": [
    "for col in categorical_columns:\n",
    "    plt.figure(figsize=(8, 6))\n",
    "    sns.countplot(x=col, hue='HasDetections', data=df, alpha=.7)\n",
    "    plt.xticks(rotation=45); "
   ]
  },
  {
   "cell_type": "markdown",
   "id": "952b4c43",
   "metadata": {},
   "source": [
    "SmartScreen seems most predictive feature"
   ]
  },
  {
   "cell_type": "code",
   "execution_count": null,
   "id": "e9623219",
   "metadata": {
    "scrolled": false
   },
   "outputs": [],
   "source": [
    "for col in binary_columns:\n",
    "    plt.figure(figsize=(8, 6))\n",
    "    sns.countplot(x=col, hue='HasDetections', data=df, alpha=.7)"
   ]
  },
  {
   "cell_type": "code",
   "execution_count": null,
   "id": "a0f574dc",
   "metadata": {},
   "outputs": [],
   "source": [
    "plt.figure(figsize=(8, 6))\n",
    "sns.countplot(x='IsProtected', hue='HasDetections', data=df, alpha=.7)\n"
   ]
  },
  {
   "cell_type": "code",
   "execution_count": null,
   "id": "c7d5e9ea",
   "metadata": {},
   "outputs": [],
   "source": []
  }
 ],
 "metadata": {
  "kernelspec": {
   "display_name": "Python 3",
   "language": "python",
   "name": "python3"
  },
  "language_info": {
   "codemirror_mode": {
    "name": "ipython",
    "version": 3
   },
   "file_extension": ".py",
   "mimetype": "text/x-python",
   "name": "python",
   "nbconvert_exporter": "python",
   "pygments_lexer": "ipython3",
   "version": "3.9.2"
  }
 },
 "nbformat": 4,
 "nbformat_minor": 5
}
