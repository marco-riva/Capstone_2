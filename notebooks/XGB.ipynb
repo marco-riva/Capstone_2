{
 "cells": [
  {
   "cell_type": "code",
   "execution_count": 1,
   "id": "d25b967c",
   "metadata": {},
   "outputs": [],
   "source": [
    "import pandas as pd\n",
    "import numpy as np\n",
    "\n",
    "from sklearn.model_selection import train_test_split\n",
    "from sklearn.compose import ColumnTransformer\n",
    "from sklearn.pipeline import Pipeline\n",
    "from sklearn.impute import SimpleImputer\n",
    "from sklearn.preprocessing import OneHotEncoder\n",
    "from sklearn.model_selection import GridSearchCV, RandomizedSearchCV\n",
    "from sklearn.feature_selection import SelectKBest, f_classif, VarianceThreshold\n",
    "from category_encoders import TargetEncoder\n",
    "\n",
    "import xgboost as xgb\n",
    "from xgboost import XGBClassifier\n",
    "\n",
    "import pickle\n",
    "\n",
    "import sys\n",
    "\n",
    "if not sys.warnoptions:\n",
    "    import warnings\n",
    "    warnings.filterwarnings(action='ignore', category=UserWarning)"
   ]
  },
  {
   "cell_type": "code",
   "execution_count": 2,
   "id": "1819b5f6",
   "metadata": {},
   "outputs": [],
   "source": [
    "df = pd.read_pickle('../data/interim/train_clean_roll_up.pickle')"
   ]
  },
  {
   "cell_type": "code",
   "execution_count": 3,
   "id": "e7580ffc",
   "metadata": {},
   "outputs": [],
   "source": [
    "df = df.sample(frac=0.05)"
   ]
  },
  {
   "cell_type": "code",
   "execution_count": 4,
   "id": "1e183506",
   "metadata": {
    "scrolled": true
   },
   "outputs": [
    {
     "data": {
      "text/html": [
       "<div>\n",
       "<style scoped>\n",
       "    .dataframe tbody tr th:only-of-type {\n",
       "        vertical-align: middle;\n",
       "    }\n",
       "\n",
       "    .dataframe tbody tr th {\n",
       "        vertical-align: top;\n",
       "    }\n",
       "\n",
       "    .dataframe thead th {\n",
       "        text-align: right;\n",
       "    }\n",
       "</style>\n",
       "<table border=\"1\" class=\"dataframe\">\n",
       "  <thead>\n",
       "    <tr style=\"text-align: right;\">\n",
       "      <th></th>\n",
       "      <th>ProductName</th>\n",
       "      <th>RtpStateBitfield</th>\n",
       "      <th>IsSxsPassiveMode</th>\n",
       "      <th>AVProductStatesIdentifier</th>\n",
       "      <th>AVProductsInstalled</th>\n",
       "      <th>AVProductsEnabled</th>\n",
       "      <th>HasTpm</th>\n",
       "      <th>CountryIdentifier</th>\n",
       "      <th>CityIdentifier</th>\n",
       "      <th>OrganizationIdentifier</th>\n",
       "      <th>...</th>\n",
       "      <th>Wdft_IsGamer</th>\n",
       "      <th>Wdft_RegionIdentifier</th>\n",
       "      <th>HasDetections</th>\n",
       "      <th>AvSigVersion_encoded</th>\n",
       "      <th>AppVersion_encoded</th>\n",
       "      <th>EngineVersion_encoded</th>\n",
       "      <th>OsVer_encoded</th>\n",
       "      <th>Census_OSBranch_release_encoded</th>\n",
       "      <th>IsProtected_encoded</th>\n",
       "      <th>RAM_bins</th>\n",
       "    </tr>\n",
       "  </thead>\n",
       "  <tbody>\n",
       "    <tr>\n",
       "      <th>2423234</th>\n",
       "      <td>win8defender</td>\n",
       "      <td>7.0</td>\n",
       "      <td>0</td>\n",
       "      <td>47238.0</td>\n",
       "      <td>2.0</td>\n",
       "      <td>1.0</td>\n",
       "      <td>1</td>\n",
       "      <td>29</td>\n",
       "      <td>47755.0</td>\n",
       "      <td>NaN</td>\n",
       "      <td>...</td>\n",
       "      <td>1</td>\n",
       "      <td>10.0</td>\n",
       "      <td>1</td>\n",
       "      <td>275</td>\n",
       "      <td>18</td>\n",
       "      <td>15200</td>\n",
       "      <td>10.0</td>\n",
       "      <td>rs4_release</td>\n",
       "      <td>2.0</td>\n",
       "      <td>4-8 GB</td>\n",
       "    </tr>\n",
       "    <tr>\n",
       "      <th>49120</th>\n",
       "      <td>win8defender</td>\n",
       "      <td>7.0</td>\n",
       "      <td>0</td>\n",
       "      <td>53447.0</td>\n",
       "      <td>1.0</td>\n",
       "      <td>1.0</td>\n",
       "      <td>1</td>\n",
       "      <td>205</td>\n",
       "      <td>104901.0</td>\n",
       "      <td>NaN</td>\n",
       "      <td>...</td>\n",
       "      <td>&lt;NA&gt;</td>\n",
       "      <td>NaN</td>\n",
       "      <td>0</td>\n",
       "      <td>273</td>\n",
       "      <td>18</td>\n",
       "      <td>15100</td>\n",
       "      <td>10.0</td>\n",
       "      <td>rs4_release</td>\n",
       "      <td>2.0</td>\n",
       "      <td>2-4 GB</td>\n",
       "    </tr>\n",
       "    <tr>\n",
       "      <th>7159088</th>\n",
       "      <td>win8defender</td>\n",
       "      <td>7.0</td>\n",
       "      <td>0</td>\n",
       "      <td>53447.0</td>\n",
       "      <td>1.0</td>\n",
       "      <td>1.0</td>\n",
       "      <td>1</td>\n",
       "      <td>170</td>\n",
       "      <td>NaN</td>\n",
       "      <td>27.0</td>\n",
       "      <td>...</td>\n",
       "      <td>0</td>\n",
       "      <td>3.0</td>\n",
       "      <td>1</td>\n",
       "      <td>273</td>\n",
       "      <td>18</td>\n",
       "      <td>15100</td>\n",
       "      <td>10.0</td>\n",
       "      <td>rs4_release</td>\n",
       "      <td>2.0</td>\n",
       "      <td>4-8 GB</td>\n",
       "    </tr>\n",
       "    <tr>\n",
       "      <th>6762708</th>\n",
       "      <td>win8defender</td>\n",
       "      <td>7.0</td>\n",
       "      <td>0</td>\n",
       "      <td>23657.0</td>\n",
       "      <td>2.0</td>\n",
       "      <td>1.0</td>\n",
       "      <td>1</td>\n",
       "      <td>195</td>\n",
       "      <td>10222.0</td>\n",
       "      <td>NaN</td>\n",
       "      <td>...</td>\n",
       "      <td>0</td>\n",
       "      <td>1.0</td>\n",
       "      <td>1</td>\n",
       "      <td>273</td>\n",
       "      <td>12</td>\n",
       "      <td>15100</td>\n",
       "      <td>10.0</td>\n",
       "      <td>rs3_release</td>\n",
       "      <td>2.0</td>\n",
       "      <td>4-8 GB</td>\n",
       "    </tr>\n",
       "    <tr>\n",
       "      <th>8716392</th>\n",
       "      <td>win8defender</td>\n",
       "      <td>7.0</td>\n",
       "      <td>0</td>\n",
       "      <td>22728.0</td>\n",
       "      <td>2.0</td>\n",
       "      <td>1.0</td>\n",
       "      <td>1</td>\n",
       "      <td>55</td>\n",
       "      <td>130902.0</td>\n",
       "      <td>NaN</td>\n",
       "      <td>...</td>\n",
       "      <td>1</td>\n",
       "      <td>10.0</td>\n",
       "      <td>0</td>\n",
       "      <td>275</td>\n",
       "      <td>18</td>\n",
       "      <td>15200</td>\n",
       "      <td>10.0</td>\n",
       "      <td>rs4_release</td>\n",
       "      <td>2.0</td>\n",
       "      <td>4-8 GB</td>\n",
       "    </tr>\n",
       "  </tbody>\n",
       "</table>\n",
       "<p>5 rows × 72 columns</p>\n",
       "</div>"
      ],
      "text/plain": [
       "          ProductName RtpStateBitfield  IsSxsPassiveMode  \\\n",
       "2423234  win8defender              7.0                 0   \n",
       "49120    win8defender              7.0                 0   \n",
       "7159088  win8defender              7.0                 0   \n",
       "6762708  win8defender              7.0                 0   \n",
       "8716392  win8defender              7.0                 0   \n",
       "\n",
       "        AVProductStatesIdentifier AVProductsInstalled AVProductsEnabled  \\\n",
       "2423234                   47238.0                 2.0               1.0   \n",
       "49120                     53447.0                 1.0               1.0   \n",
       "7159088                   53447.0                 1.0               1.0   \n",
       "6762708                   23657.0                 2.0               1.0   \n",
       "8716392                   22728.0                 2.0               1.0   \n",
       "\n",
       "         HasTpm CountryIdentifier CityIdentifier OrganizationIdentifier  ...  \\\n",
       "2423234       1                29        47755.0                    NaN  ...   \n",
       "49120         1               205       104901.0                    NaN  ...   \n",
       "7159088       1               170            NaN                   27.0  ...   \n",
       "6762708       1               195        10222.0                    NaN  ...   \n",
       "8716392       1                55       130902.0                    NaN  ...   \n",
       "\n",
       "        Wdft_IsGamer Wdft_RegionIdentifier HasDetections AvSigVersion_encoded  \\\n",
       "2423234            1                  10.0             1                  275   \n",
       "49120           <NA>                   NaN             0                  273   \n",
       "7159088            0                   3.0             1                  273   \n",
       "6762708            0                   1.0             1                  273   \n",
       "8716392            1                  10.0             0                  275   \n",
       "\n",
       "        AppVersion_encoded EngineVersion_encoded OsVer_encoded  \\\n",
       "2423234                 18                 15200          10.0   \n",
       "49120                   18                 15100          10.0   \n",
       "7159088                 18                 15100          10.0   \n",
       "6762708                 12                 15100          10.0   \n",
       "8716392                 18                 15200          10.0   \n",
       "\n",
       "        Census_OSBranch_release_encoded  IsProtected_encoded  RAM_bins  \n",
       "2423234                     rs4_release                  2.0    4-8 GB  \n",
       "49120                       rs4_release                  2.0    2-4 GB  \n",
       "7159088                     rs4_release                  2.0    4-8 GB  \n",
       "6762708                     rs3_release                  2.0    4-8 GB  \n",
       "8716392                     rs4_release                  2.0    4-8 GB  \n",
       "\n",
       "[5 rows x 72 columns]"
      ]
     },
     "execution_count": 4,
     "metadata": {},
     "output_type": "execute_result"
    }
   ],
   "source": [
    "df.head()"
   ]
  },
  {
   "cell_type": "code",
   "execution_count": 5,
   "id": "abdbb53f",
   "metadata": {},
   "outputs": [
    {
     "data": {
      "text/plain": [
       "(419767, 72)"
      ]
     },
     "execution_count": 5,
     "metadata": {},
     "output_type": "execute_result"
    }
   ],
   "source": [
    "df.shape"
   ]
  },
  {
   "cell_type": "code",
   "execution_count": 6,
   "id": "c2b5f20e",
   "metadata": {
    "scrolled": true
   },
   "outputs": [
    {
     "name": "stdout",
     "output_type": "stream",
     "text": [
      "<class 'pandas.core.frame.DataFrame'>\n",
      "Int64Index: 419767 entries, 2423234 to 5491793\n",
      "Data columns (total 72 columns):\n",
      " #   Column                                             Non-Null Count   Dtype   \n",
      "---  ------                                             --------------   -----   \n",
      " 0   ProductName                                        419767 non-null  category\n",
      " 1   RtpStateBitfield                                   418218 non-null  category\n",
      " 2   IsSxsPassiveMode                                   419767 non-null  Int64   \n",
      " 3   AVProductStatesIdentifier                          418293 non-null  category\n",
      " 4   AVProductsInstalled                                418293 non-null  category\n",
      " 5   AVProductsEnabled                                  418293 non-null  category\n",
      " 6   HasTpm                                             419767 non-null  Int64   \n",
      " 7   CountryIdentifier                                  419767 non-null  category\n",
      " 8   CityIdentifier                                     404450 non-null  category\n",
      " 9   OrganizationIdentifier                             289018 non-null  category\n",
      " 10  GeoNameIdentifier                                  419759 non-null  category\n",
      " 11  LocaleEnglishNameIdentifier                        419767 non-null  category\n",
      " 12  Platform                                           419767 non-null  category\n",
      " 13  Processor                                          419767 non-null  category\n",
      " 14  OsBuild_encoded                                    419767 non-null  category\n",
      " 15  OsSuite_encoded                                    419767 non-null  category\n",
      " 16  OsPlatformSubRelease                               419767 non-null  category\n",
      " 17  SkuEdition                                         419767 non-null  category\n",
      " 18  AutoSampleOptIn                                    419767 non-null  Int64   \n",
      " 19  SMode                                              394105 non-null  Int64   \n",
      " 20  IeVerIdentifier                                    417041 non-null  category\n",
      " 21  SmartScreen_encoded                                274990 non-null  category\n",
      " 22  Firewall                                           415350 non-null  Int64   \n",
      " 23  UacLuaenable_encoded                               419767 non-null  category\n",
      " 24  Census_MDC2FormFactor_encoded                      419767 non-null  category\n",
      " 25  Census_DeviceFamily                                419767 non-null  category\n",
      " 26  Census_OEMNameIdentifier                           415539 non-null  category\n",
      " 27  Census_OEMModelIdentifier                          415217 non-null  category\n",
      " 28  Census_ProcessorCoreCount                          417750 non-null  float32 \n",
      " 29  Census_ProcessorManufacturerIdentifier             417750 non-null  category\n",
      " 30  Census_ProcessorModelIdentifier                    417749 non-null  category\n",
      " 31  Census_PrimaryDiskTotalCapacity                    417194 non-null  float32 \n",
      " 32  Census_PrimaryDiskTypeName                         419190 non-null  category\n",
      " 33  Census_SystemVolumeTotalCapacity                   417195 non-null  float32 \n",
      " 34  Census_HasOpticalDiskDrive                         419767 non-null  Int64   \n",
      " 35  Census_TotalPhysicalRAM                            415911 non-null  float32 \n",
      " 36  Census_ChassisTypeName_encoded                     419767 non-null  category\n",
      " 37  Census_InternalPrimaryDiagonalDisplaySizeInInches  417598 non-null  float32 \n",
      " 38  Census_InternalPrimaryDisplayResolutionHorizontal  417598 non-null  float32 \n",
      " 39  Census_InternalPrimaryDisplayResolutionVertical    417598 non-null  float32 \n",
      " 40  Census_PowerPlatformRoleName                       419764 non-null  category\n",
      " 41  Census_InternalBatteryNumberOfCharges              419767 non-null  category\n",
      " 42  Census_OSArchitecture                              419767 non-null  category\n",
      " 43  Census_OSBuildRevision                             419767 non-null  category\n",
      " 44  Census_OSEdition_encoded                           419767 non-null  category\n",
      " 45  Census_OSSkuName_encoded                           419767 non-null  category\n",
      " 46  Census_OSInstallTypeName                           419767 non-null  category\n",
      " 47  Census_OSInstallLanguageIdentifier                 416841 non-null  category\n",
      " 48  Census_OSUILocaleIdentifier                        419767 non-null  category\n",
      " 49  Census_OSWUAutoUpdateOptionsName                   419767 non-null  category\n",
      " 50  Census_IsPortableOperatingSystem                   419767 non-null  Int64   \n",
      " 51  Census_GenuineStateName                            419767 non-null  category\n",
      " 52  Census_ActivationChannel                           419767 non-null  category\n",
      " 53  Census_IsFlightsDisabled                           411932 non-null  Int64   \n",
      " 54  Census_FlightRing                                  419767 non-null  category\n",
      " 55  Census_FirmwareManufacturerIdentifier              411410 non-null  category\n",
      " 56  Census_FirmwareVersionIdentifier                   412572 non-null  category\n",
      " 57  Census_IsSecureBootEnabled                         419767 non-null  Int64   \n",
      " 58  Census_IsVirtualDevice                             419038 non-null  Int64   \n",
      " 59  Census_IsTouchEnabled                              419767 non-null  Int64   \n",
      " 60  Census_IsPenCapable                                419767 non-null  Int64   \n",
      " 61  Census_IsAlwaysOnAlwaysConnectedCapable            416343 non-null  Int64   \n",
      " 62  Wdft_IsGamer                                       406001 non-null  Int64   \n",
      " 63  Wdft_RegionIdentifier                              406001 non-null  category\n",
      " 64  HasDetections                                      419767 non-null  Int64   \n",
      " 65  AvSigVersion_encoded                               419767 non-null  category\n",
      " 66  AppVersion_encoded                                 419767 non-null  category\n",
      " 67  EngineVersion_encoded                              419767 non-null  category\n",
      " 68  OsVer_encoded                                      419767 non-null  category\n",
      " 69  Census_OSBranch_release_encoded                    419767 non-null  category\n",
      " 70  IsProtected_encoded                                419767 non-null  category\n",
      " 71  RAM_bins                                           415911 non-null  category\n",
      "dtypes: Int64(15), category(50), float32(7)\n",
      "memory usage: 110.3 MB\n"
     ]
    }
   ],
   "source": [
    "df.info()"
   ]
  },
  {
   "cell_type": "code",
   "execution_count": 7,
   "id": "82e145db",
   "metadata": {},
   "outputs": [],
   "source": [
    "X = df.loc[:, df.columns != 'HasDetections']\n",
    "y = df['HasDetections']"
   ]
  },
  {
   "cell_type": "code",
   "execution_count": 8,
   "id": "1448f151",
   "metadata": {
    "scrolled": true
   },
   "outputs": [
    {
     "name": "stdout",
     "output_type": "stream",
     "text": [
      "(335813, 71)\n",
      "(83954, 71)\n",
      "(335813,)\n",
      "(83954,)\n"
     ]
    }
   ],
   "source": [
    "#Seperate train and test data\n",
    "X_train, X_test, y_train, y_test = train_test_split(X,\n",
    "                                                   y,\n",
    "                                                   test_size = 0.2,\n",
    "                                                   random_state = 10)\n",
    "print(X_train.shape)\n",
    "print(X_test.shape)\n",
    "print(y_train.shape)\n",
    "print(y_test.shape)"
   ]
  },
  {
   "cell_type": "code",
   "execution_count": 9,
   "id": "f1b3639b",
   "metadata": {},
   "outputs": [
    {
     "data": {
      "text/plain": [
       "(0.49792592901406435, 0.49833242013483575)"
      ]
     },
     "execution_count": 9,
     "metadata": {},
     "output_type": "execute_result"
    }
   ],
   "source": [
    "y_train.mean(), y_test.mean()"
   ]
  },
  {
   "cell_type": "code",
   "execution_count": 10,
   "id": "35ee7f35",
   "metadata": {},
   "outputs": [
    {
     "data": {
      "text/plain": [
       "(Int64Dtype(), Int64Dtype())"
      ]
     },
     "execution_count": 10,
     "metadata": {},
     "output_type": "execute_result"
    }
   ],
   "source": [
    "y_train.dtype, y_test.dtype"
   ]
  },
  {
   "cell_type": "code",
   "execution_count": 11,
   "id": "82b8baf5",
   "metadata": {},
   "outputs": [],
   "source": [
    "y_train = y_train.astype('int')\n",
    "y_test = y_test.astype('int')"
   ]
  },
  {
   "cell_type": "code",
   "execution_count": 12,
   "id": "37b78520",
   "metadata": {},
   "outputs": [
    {
     "data": {
      "text/plain": [
       "(33, 17, 14, 7)"
      ]
     },
     "execution_count": 12,
     "metadata": {},
     "output_type": "execute_result"
    }
   ],
   "source": [
    "id_col = ['AVProductStatesIdentifier',\n",
    "                  'CountryIdentifier',\n",
    "                  'CityIdentifier',\n",
    "                  'OrganizationIdentifier',\n",
    "                  'GeoNameIdentifier',\n",
    "                  'LocaleEnglishNameIdentifier',\n",
    "                  'IeVerIdentifier',\n",
    "                  'Census_OEMNameIdentifier',\n",
    "                  'Census_OEMModelIdentifier',\n",
    "                  'Census_ProcessorManufacturerIdentifier',\n",
    "                  'Census_ProcessorModelIdentifier',\n",
    "                  'Census_OSInstallLanguageIdentifier',\n",
    "                  'Census_OSUILocaleIdentifier',\n",
    "                  'Census_FirmwareManufacturerIdentifier',\n",
    "                  'Census_FirmwareVersionIdentifier',\n",
    "                  'Wdft_RegionIdentifier',\n",
    "                  'Census_OSBuildRevision']\n",
    "cat_col = [col for col in X_train.select_dtypes('category').columns.tolist() \n",
    "           if col not in id_col]\n",
    "binary_col = X_train.select_dtypes('Int64').columns.tolist()\n",
    "num_col = [col for col in X_train.columns \n",
    "           if col not in cat_col\n",
    "           if col not in id_col\n",
    "           if col not in binary_col]\n",
    "\n",
    "len(cat_col), len(id_col), len(binary_col), len(num_col) "
   ]
  },
  {
   "cell_type": "code",
   "execution_count": 13,
   "id": "f0774c71",
   "metadata": {},
   "outputs": [
    {
     "data": {
      "text/plain": [
       "71"
      ]
     },
     "execution_count": 13,
     "metadata": {},
     "output_type": "execute_result"
    }
   ],
   "source": [
    "len(cat_col) + len(id_col) + len(binary_col) + len(num_col)"
   ]
  },
  {
   "cell_type": "code",
   "execution_count": 14,
   "id": "6edc1db7",
   "metadata": {
    "scrolled": true
   },
   "outputs": [
    {
     "data": {
      "text/plain": [
       "[CategoricalDtype(categories=['mse', 'win8defender', 'mseprerelease', 'windowsintune',\n",
       "                   'fep', 'scep'],\n",
       " , ordered=False),\n",
       " CategoricalDtype(categories=[0.0, 1.0, 3.0, 5.0, 7.0, 8.0, 35.0], ordered=False),\n",
       " CategoricalDtype(categories=[0.0, 1.0, 2.0, 3.0, 4.0, 5.0, 6.0, 7.0], ordered=False),\n",
       " CategoricalDtype(categories=[0.0, 1.0, 2.0, 3.0, 4.0, 5.0], ordered=False),\n",
       " CategoricalDtype(categories=['windows10', 'windows2016', 'windows7', 'windows8'], ordered=False),\n",
       " CategoricalDtype(categories=['arm64', 'x64', 'x86'], ordered=False),\n",
       " CategoricalDtype(categories=['10240', '10586', '14393', '15063', '16299', '17134', '7601',\n",
       "                   '9600', 'Other'],\n",
       " , ordered=False),\n",
       " CategoricalDtype(categories=['256', '768', 'Other'], ordered=False),\n",
       " CategoricalDtype(categories=['prers5', 'rs1', 'rs2', 'rs3', 'rs4', 'th1', 'th2',\n",
       "                   'windows7', 'windows8.1'],\n",
       " , ordered=False),\n",
       " CategoricalDtype(categories=['Cloud', 'Education', 'Enterprise', 'Enterprise LTSB',\n",
       "                   'Home', 'Invalid', 'Pro', 'Server'],\n",
       " , ordered=False),\n",
       " CategoricalDtype(categories=['Block', 'ExistsNotSet', 'Off', 'On', 'Prompt',\n",
       "                   'RequireAdmin', 'Warn', 'Other'],\n",
       " , ordered=False),\n",
       " CategoricalDtype(categories=['1.0', 'Other'], ordered=False),\n",
       " CategoricalDtype(categories=['AllInOne', 'Convertible', 'Desktop', 'Detachable',\n",
       "                   'LargeTablet', 'Notebook', 'PCOther', 'SmallTablet',\n",
       "                   'Other'],\n",
       " , ordered=False),\n",
       " CategoricalDtype(categories=['Windows.Desktop', 'Windows.Server', 'Windows'], ordered=False),\n",
       " CategoricalDtype(categories=['HDD', 'SSD', 'UNKNOWN', 'Unspecified'], ordered=False),\n",
       " CategoricalDtype(categories=['AllinOne', 'Convertible', 'Desktop', 'Laptop', 'MiniTower',\n",
       "                   'Notebook', 'Other', 'Portable'],\n",
       " , ordered=False),\n",
       " CategoricalDtype(categories=['AppliancePC', 'Desktop', 'EnterpriseServer', 'Mobile',\n",
       "                   'SOHOServer', 'Slate', 'UNKNOWN', 'Workstation',\n",
       "                   'PerformanceServer', 'Unspecified'],\n",
       " , ordered=False),\n",
       " CategoricalDtype(categories=['Max', 'None', 'Other'], ordered=False),\n",
       " CategoricalDtype(categories=['amd64', 'arm64', 'x86'], ordered=False),\n",
       " CategoricalDtype(categories=['Core', 'CoreSingleLanguage', 'Professional', 'Other'], ordered=False),\n",
       " CategoricalDtype(categories=['CORE', 'CORE_COUNTRYSPECIFIC', 'CORE_SINGLELANGUAGE',\n",
       "                   'EDUCATION', 'ENTERPRISE', 'PROFESSIONAL', 'PROFESSIONAL_N',\n",
       "                   'Other'],\n",
       " , ordered=False),\n",
       " CategoricalDtype(categories=['Clean', 'CleanPCRefresh', 'IBSClean', 'Other', 'Refresh',\n",
       "                   'Reset', 'UUPUpgrade', 'Update', 'Upgrade'],\n",
       " , ordered=False),\n",
       " CategoricalDtype(categories=['AutoInstallAndRebootAtMaintenanceTime', 'DownloadNotify',\n",
       "                   'FullAuto', 'Notify', 'Off', 'UNKNOWN'],\n",
       " , ordered=False),\n",
       " CategoricalDtype(categories=['INVALID_LICENSE', 'IS_GENUINE', 'OFFLINE', 'UNKNOWN',\n",
       "                   'TAMPERED'],\n",
       " , ordered=False),\n",
       " CategoricalDtype(categories=['OEM:DM', 'OEM:NONSLP', 'Retail', 'Retail:TB:Eval',\n",
       "                   'Volume:GVLK', 'Volume:MAK'],\n",
       " , ordered=False),\n",
       " CategoricalDtype(categories=['Disabled', 'NOT_SET', 'RP', 'Retail', 'Unknown', 'WIF',\n",
       "                   'WIS', 'OSG', 'Canary', 'Invalid'],\n",
       " , ordered=False),\n",
       " CategoricalDtype(categories=['273', '275', 'Other'], ordered=False),\n",
       " CategoricalDtype(categories=['10', '11', '12', '13', '14', '16', '18', '8', '9', 'Other'], ordered=False),\n",
       " CategoricalDtype(categories=['13504', '14104', '14600', '14800', '14901', '15000',\n",
       "                   '15100', '15200', '15300', 'Other'],\n",
       " , ordered=False),\n",
       " CategoricalDtype(categories=['10.0', '6.1', '6.3'], ordered=False),\n",
       " CategoricalDtype(categories=['Other', 'rs1_release', 'rs2_release', 'rs3_release',\n",
       "                   'rs4_release', 'th'],\n",
       " , ordered=False),\n",
       " CategoricalDtype(categories=[0.0, 1.0, 2.0], ordered=False),\n",
       " CategoricalDtype(categories=['0-2 GB', '2-4 GB', '4-8 GB', '8-16 GB', '16-32 GB',\n",
       "                   '32-64 GB', '64-128 GB', '128-192 GB', '192-512 GB',\n",
       "                   '512-1000 GB', '1+ TB'],\n",
       " , ordered=True)]"
      ]
     },
     "execution_count": 14,
     "metadata": {},
     "output_type": "execute_result"
    }
   ],
   "source": [
    "[X_train[col].dtype for col in cat_col]"
   ]
  },
  {
   "cell_type": "code",
   "execution_count": 15,
   "id": "c75e1843",
   "metadata": {},
   "outputs": [
    {
     "name": "stderr",
     "output_type": "stream",
     "text": [
      "<ipython-input-15-6d7a0ba9679c>:2: SettingWithCopyWarning: \n",
      "A value is trying to be set on a copy of a slice from a DataFrame.\n",
      "Try using .loc[row_indexer,col_indexer] = value instead\n",
      "\n",
      "See the caveats in the documentation: https://pandas.pydata.org/pandas-docs/stable/user_guide/indexing.html#returning-a-view-versus-a-copy\n",
      "  X_train[col] = X_train[col][X_train[col].notnull()].astype('str')\n",
      "<ipython-input-15-6d7a0ba9679c>:3: SettingWithCopyWarning: \n",
      "A value is trying to be set on a copy of a slice from a DataFrame.\n",
      "Try using .loc[row_indexer,col_indexer] = value instead\n",
      "\n",
      "See the caveats in the documentation: https://pandas.pydata.org/pandas-docs/stable/user_guide/indexing.html#returning-a-view-versus-a-copy\n",
      "  X_train[col] = X_train[col].astype('category')\n",
      "<ipython-input-15-6d7a0ba9679c>:4: SettingWithCopyWarning: \n",
      "A value is trying to be set on a copy of a slice from a DataFrame.\n",
      "Try using .loc[row_indexer,col_indexer] = value instead\n",
      "\n",
      "See the caveats in the documentation: https://pandas.pydata.org/pandas-docs/stable/user_guide/indexing.html#returning-a-view-versus-a-copy\n",
      "  X_test[col] = X_test[col][X_test[col].notnull()].astype('str')\n",
      "<ipython-input-15-6d7a0ba9679c>:5: SettingWithCopyWarning: \n",
      "A value is trying to be set on a copy of a slice from a DataFrame.\n",
      "Try using .loc[row_indexer,col_indexer] = value instead\n",
      "\n",
      "See the caveats in the documentation: https://pandas.pydata.org/pandas-docs/stable/user_guide/indexing.html#returning-a-view-versus-a-copy\n",
      "  X_test[col] = X_test[col].astype('category')\n"
     ]
    }
   ],
   "source": [
    "for col in cat_col:\n",
    "    X_train[col] = X_train[col][X_train[col].notnull()].astype('str')\n",
    "    X_train[col] = X_train[col].astype('category')\n",
    "    X_test[col] = X_test[col][X_test[col].notnull()].astype('str')\n",
    "    X_test[col] = X_test[col].astype('category')"
   ]
  },
  {
   "cell_type": "code",
   "execution_count": 16,
   "id": "735a5ba0",
   "metadata": {
    "scrolled": false
   },
   "outputs": [
    {
     "data": {
      "text/plain": [
       "[CategoricalDtype(categories=['mse', 'mseprerelease', 'scep', 'win8defender'], ordered=False),\n",
       " CategoricalDtype(categories=['0.0', '1.0', '3.0', '35.0', '5.0', '7.0', '8.0'], ordered=False),\n",
       " CategoricalDtype(categories=['1.0', '2.0', '3.0', '4.0', '5.0'], ordered=False),\n",
       " CategoricalDtype(categories=['0.0', '1.0', '2.0', '3.0', '4.0', '5.0'], ordered=False),\n",
       " CategoricalDtype(categories=['windows10', 'windows2016', 'windows7', 'windows8'], ordered=False),\n",
       " CategoricalDtype(categories=['arm64', 'x64', 'x86'], ordered=False),\n",
       " CategoricalDtype(categories=['10240', '10586', '14393', '15063', '16299', '17134', '7601',\n",
       "                   '9600', 'Other'],\n",
       " , ordered=False),\n",
       " CategoricalDtype(categories=['256', '768', 'Other'], ordered=False),\n",
       " CategoricalDtype(categories=['prers5', 'rs1', 'rs2', 'rs3', 'rs4', 'th1', 'th2',\n",
       "                   'windows7', 'windows8.1'],\n",
       " , ordered=False),\n",
       " CategoricalDtype(categories=['Cloud', 'Education', 'Enterprise', 'Enterprise LTSB',\n",
       "                   'Home', 'Invalid', 'Pro', 'Server'],\n",
       " , ordered=False),\n",
       " CategoricalDtype(categories=['Block', 'ExistsNotSet', 'Off', 'On', 'Other', 'Prompt',\n",
       "                   'RequireAdmin', 'Warn'],\n",
       " , ordered=False),\n",
       " CategoricalDtype(categories=['1.0', 'Other'], ordered=False),\n",
       " CategoricalDtype(categories=['AllInOne', 'Convertible', 'Desktop', 'Detachable',\n",
       "                   'LargeTablet', 'Notebook', 'Other', 'PCOther',\n",
       "                   'SmallTablet'],\n",
       " , ordered=False),\n",
       " CategoricalDtype(categories=['Windows', 'Windows.Desktop', 'Windows.Server'], ordered=False),\n",
       " CategoricalDtype(categories=['HDD', 'SSD', 'UNKNOWN', 'Unspecified'], ordered=False),\n",
       " CategoricalDtype(categories=['AllinOne', 'Convertible', 'Desktop', 'Laptop', 'MiniTower',\n",
       "                   'Notebook', 'Other', 'Portable'],\n",
       " , ordered=False),\n",
       " CategoricalDtype(categories=['AppliancePC', 'Desktop', 'EnterpriseServer', 'Mobile',\n",
       "                   'PerformanceServer', 'SOHOServer', 'Slate', 'UNKNOWN',\n",
       "                   'Unspecified', 'Workstation'],\n",
       " , ordered=False),\n",
       " CategoricalDtype(categories=['Max', 'None', 'Other'], ordered=False),\n",
       " CategoricalDtype(categories=['amd64', 'arm64', 'x86'], ordered=False),\n",
       " CategoricalDtype(categories=['Core', 'CoreSingleLanguage', 'Other', 'Professional'], ordered=False),\n",
       " CategoricalDtype(categories=['CORE', 'CORE_COUNTRYSPECIFIC', 'CORE_SINGLELANGUAGE',\n",
       "                   'EDUCATION', 'ENTERPRISE', 'Other', 'PROFESSIONAL',\n",
       "                   'PROFESSIONAL_N'],\n",
       " , ordered=False),\n",
       " CategoricalDtype(categories=['Clean', 'CleanPCRefresh', 'IBSClean', 'Other', 'Refresh',\n",
       "                   'Reset', 'UUPUpgrade', 'Update', 'Upgrade'],\n",
       " , ordered=False),\n",
       " CategoricalDtype(categories=['AutoInstallAndRebootAtMaintenanceTime', 'DownloadNotify',\n",
       "                   'FullAuto', 'Notify', 'Off', 'UNKNOWN'],\n",
       " , ordered=False),\n",
       " CategoricalDtype(categories=['INVALID_LICENSE', 'IS_GENUINE', 'OFFLINE', 'UNKNOWN'], ordered=False),\n",
       " CategoricalDtype(categories=['OEM:DM', 'OEM:NONSLP', 'Retail', 'Retail:TB:Eval',\n",
       "                   'Volume:GVLK', 'Volume:MAK'],\n",
       " , ordered=False),\n",
       " CategoricalDtype(categories=['Disabled', 'NOT_SET', 'RP', 'Retail', 'Unknown', 'WIF',\n",
       "                   'WIS'],\n",
       " , ordered=False),\n",
       " CategoricalDtype(categories=['273', '275', 'Other'], ordered=False),\n",
       " CategoricalDtype(categories=['10', '11', '12', '13', '14', '16', '18', '8', '9', 'Other'], ordered=False),\n",
       " CategoricalDtype(categories=['13504', '14104', '14600', '14800', '14901', '15000',\n",
       "                   '15100', '15200', '15300', 'Other'],\n",
       " , ordered=False),\n",
       " CategoricalDtype(categories=['10.0', '6.1', '6.3'], ordered=False),\n",
       " CategoricalDtype(categories=['Other', 'rs1_release', 'rs2_release', 'rs3_release',\n",
       "                   'rs4_release', 'th'],\n",
       " , ordered=False),\n",
       " CategoricalDtype(categories=['0.0', '1.0', '2.0'], ordered=False),\n",
       " CategoricalDtype(categories=['0-2 GB', '16-32 GB', '2-4 GB', '4-8 GB', '8-16 GB'], ordered=False)]"
      ]
     },
     "execution_count": 16,
     "metadata": {},
     "output_type": "execute_result"
    }
   ],
   "source": [
    "[X_train[col].dtype for col in cat_col]"
   ]
  },
  {
   "cell_type": "code",
   "execution_count": 17,
   "id": "4afb5b77",
   "metadata": {},
   "outputs": [],
   "source": [
    "#for col in id_col:\n",
    "#    X_train[col] = X_train[col][X_train[col].notnull()].astype('str')\n",
    "#    X_train[col] = X_train[col].astype('category')\n",
    "#    X_test[col] = X_test[col][X_test[col].notnull()].astype('str')\n",
    "#    X_test[col] = X_test[col].astype('category')"
   ]
  },
  {
   "cell_type": "code",
   "execution_count": 18,
   "id": "1cf1c30f",
   "metadata": {},
   "outputs": [],
   "source": [
    "# Preprocessing for numerical data\n",
    "numerical_transformer = SimpleImputer()\n",
    "\n",
    "# Preprocessing for binary data\n",
    "binary_transformer = SimpleImputer()\n",
    "\n",
    "# Preprocessing for categorical data encoded as numerical ID's\n",
    "id_transformer = SimpleImputer() #TargetEncoder(smoothing=10000)\n",
    "\n",
    "# Preprocessing for categorical data\n",
    "categorical_transformer = Pipeline(steps=[\n",
    "    ('imputer', SimpleImputer()),\n",
    "    ('onehot', OneHotEncoder(handle_unknown='ignore'))\n",
    "])\n",
    "\n",
    "\n",
    "# Bundle preprocessing for numerical and categorical data\n",
    "preprocessor = ColumnTransformer(\n",
    "    transformers=[\n",
    "        ('num', numerical_transformer, num_col),\n",
    "        ('bin', binary_transformer, binary_col),\n",
    "        ('id', id_transformer, id_col),\n",
    "        ('cat', categorical_transformer, cat_col)\n",
    "    ])"
   ]
  },
  {
   "cell_type": "code",
   "execution_count": null,
   "id": "cf770a39",
   "metadata": {},
   "outputs": [
    {
     "name": "stdout",
     "output_type": "stream",
     "text": [
      "Fitting 3 folds for each of 200 candidates, totalling 600 fits\n"
     ]
    }
   ],
   "source": [
    "# Define model\n",
    "xgb_clf = xgb.XGBClassifier(objective = 'binary:logistic', \n",
    "                            eval_metric='logloss', \n",
    "                            use_label_encoder =False,\n",
    "                            verbosity=0)\n",
    "VarThresh = VarianceThreshold()\n",
    "#selector = SelectKBest(f_classif)\n",
    "\n",
    "# Bundle preprocessing and modeling code in a pipeline\n",
    "pipeline = Pipeline(steps=[('preprocessor', preprocessor),\n",
    "                            ('VarThresh', VarThresh),\n",
    "                            #('selector', selector),\n",
    "                            ('classifier', xgb_clf)\n",
    "                            ])\n",
    "\n",
    "\n",
    "parameters ={'preprocessor__num__strategy': ['mean', 'median'],\n",
    "              'preprocessor__bin__strategy': ['most_frequent'],\n",
    "              'preprocessor__id__strategy': ['most_frequent'],\n",
    "              'preprocessor__cat__imputer__strategy': ['most_frequent'],\n",
    "              'classifier__learning_rate': [0.05, 0.1, 0.3, 0.5],\n",
    "              'classifier__gamma' : [0, 0.1],\n",
    "              'classifier__max_depth': range(1, 11, 2),\n",
    "              'classifier__colsample_bytree': [0.5, 0.8, 1.0],\n",
    "              'classifier__subsample': [0.2, 0.5, 0.7],\n",
    "              'classifier__reg_alpha': [0, 0.5, 1, 3],\n",
    "              #'classifier__reg_lambda': [0, 0.5, 1, 1.5],\n",
    "              'classifier__min_child_weight': [0.5, 1, 3],\n",
    "              'classifier__n_estimators': [500, 1000, 2000, 3000]}\n",
    "\n",
    "\n",
    "# Grid search\n",
    "search = RandomizedSearchCV(estimator=pipeline, \n",
    "                             param_distributions=parameters,\n",
    "                             n_iter = 200,\n",
    "                             cv=3,\n",
    "                             scoring = 'roc_auc',\n",
    "                             return_train_score=True,\n",
    "                             random_state=42,\n",
    "                             #n_jobs = -1,\n",
    "                             verbose=3)\n",
    "\n",
    "# Preprocessing of training data, fit model \n",
    "search.fit(X_train, y_train)"
   ]
  },
  {
   "cell_type": "code",
   "execution_count": null,
   "id": "a2d32a63",
   "metadata": {},
   "outputs": [],
   "source": [
    "# optimized model\n",
    "opt_xgb_clf = search.best_estimator_\n",
    "search.best_params_"
   ]
  },
  {
   "cell_type": "code",
   "execution_count": null,
   "id": "ba65310d",
   "metadata": {},
   "outputs": [],
   "source": [
    "from sklearn.metrics import roc_auc_score\n",
    "\n",
    "# Predictions\n",
    "y_pred_train = opt_xgb_clf.predict(X_train)\n",
    "y_pred_test = opt_xgb_clf.predict(X_test)\n",
    "\n",
    "print('Train Set roc auc:', roc_auc_score(y_train, y_pred_train))\n",
    "print('Test Set roc auc:', roc_auc_score(y_test, y_pred_test))"
   ]
  },
  {
   "cell_type": "code",
   "execution_count": null,
   "id": "0f5f4136",
   "metadata": {},
   "outputs": [],
   "source": [
    "# classification report\n",
    "from sklearn.metrics import classification_report\n",
    "\n",
    "print(classification_report(y_test, y_pred_test))"
   ]
  },
  {
   "cell_type": "code",
   "execution_count": null,
   "id": "358d96b1",
   "metadata": {},
   "outputs": [],
   "source": [
    "# plot ROC_AUC\n",
    "import matplotlib.pyplot as plt \n",
    "import matplotlib as mpl \n",
    "%matplotlib inline\n",
    "import seaborn as sns\n",
    "sns.set()\n",
    "sns.set(font_scale=1.5)\n",
    "\n",
    "from sklearn import metrics\n",
    "\n",
    "y_pred_proba_test = opt_xgb_clf.predict_proba(X_test)\n",
    "\n",
    "fpr, tpr, thresholds = metrics.roc_curve(y_test, y_pred_proba_test[:,1])\n",
    "plt.figure(figsize=(8,6))\n",
    "plt.plot(fpr, tpr)\n",
    "plt.plot([0,1], [0,1], '--', color = 'black')\n",
    "plt.xlabel('FPR')\n",
    "plt.ylabel('TPR')\n",
    "plt.tight_layout()"
   ]
  },
  {
   "cell_type": "code",
   "execution_count": null,
   "id": "096d2772",
   "metadata": {},
   "outputs": [],
   "source": [
    "from sklearn.metrics import confusion_matrix\n",
    "\n",
    "conf_matrix = confusion_matrix(y_test, y_pred_test)\n",
    "\n",
    "lables = {'Negative': 0, 'Positive': 1} \n",
    "\n",
    "plt.figure(figsize=(10,8))\n",
    "sns.heatmap(conf_matrix, \n",
    "            annot=True,\n",
    "            annot_kws={'size':28},\n",
    "            fmt='d',\n",
    "            xticklabels=lables.keys(), \n",
    "            yticklabels=lables.keys(),\n",
    "            cmap='Blues')\n",
    "plt.ylabel('Actual')\n",
    "plt.xlabel('Predicted')\n",
    "plt.title('Confusion matrix')"
   ]
  },
  {
   "cell_type": "code",
   "execution_count": null,
   "id": "01cfdfb4",
   "metadata": {},
   "outputs": [],
   "source": [
    "# plot precision - recall curve\n",
    "from sklearn.metrics import precision_recall_curve\n",
    "\n",
    "precision, recall, thresholds = precision_recall_curve(y_test, y_pred_proba_test[:,1])\n",
    "plt.figure(figsize=(8,6))\n",
    "plt.plot(recall, precision)\n",
    "plt.plot([0, 1], [0.5, 0.5], '--', color = 'black')\n",
    "plt.title('Precision-Recall Curve for Optimized Logistic Regression')\n",
    "plt.xlabel('Recall')\n",
    "plt.ylabel('Precision')\n",
    "plt.tight_layout()"
   ]
  },
  {
   "cell_type": "code",
   "execution_count": null,
   "id": "45372325",
   "metadata": {},
   "outputs": [],
   "source": [
    "search.best_params_"
   ]
  },
  {
   "cell_type": "code",
   "execution_count": null,
   "id": "4a59afa0",
   "metadata": {},
   "outputs": [],
   "source": [
    "# Preprocessing for numerical data\n",
    "numerical_transformer_rev = SimpleImputer(strategy=search.best_params_['preprocessor__num__strategy'])\n",
    "\n",
    "# Preprocessing for binary data\n",
    "binary_transformer_rev = SimpleImputer(strategy=search.best_params_['preprocessor__bin__strategy'])\n",
    "\n",
    "# Preprocessing for categorical data encoded as numerical ID's\n",
    "categorical_num_transformer_rev = SimpleImputer(strategy=search.best_params_['preprocessor__cat_num__strategy'])\n",
    "\n",
    "# Preprocessing for categorical data\n",
    "categorical_transformer_rev = Pipeline(steps=[\n",
    "    ('imputer', SimpleImputer(strategy=search.best_params_['preprocessor__cat__imputer__strategy'])),\n",
    "    ('onehot', OneHotEncoder(handle_unknown='ignore'))\n",
    "])\n",
    "\n",
    "\n",
    "# Bundle preprocessing for numerical and categorical data\n",
    "preprocessor_rev = ColumnTransformer(\n",
    "    transformers=[\n",
    "        ('num', numerical_transformer_rev, numerical_columns),\n",
    "        ('bin', binary_transformer_rev, binary_columns),\n",
    "        ('cat_num', categorical_num_transformer_rev, cat_num_columns),\n",
    "        ('cat', categorical_transformer_rev, categorical_columns)\n",
    "    ])\n",
    "\n",
    "# Bundle preprocessing and modeling code in a pipeline\n",
    "pipeline_rev = Pipeline(steps=[('preprocessor', preprocessor_rev),\n",
    "                              ('VarThresh', VarThresh)\n",
    "                             ])"
   ]
  },
  {
   "cell_type": "code",
   "execution_count": null,
   "id": "fb95b034",
   "metadata": {},
   "outputs": [],
   "source": [
    "X_values = preprocessor_rev.fit_transform(X_train)\n",
    "onehot_cat_columns = pipeline_rev.named_steps['preprocessor'].named_transformers_['cat'].named_steps['onehot'].get_feature_names(input_features=categorical_columns)\n",
    "onehot = onehot_cat_columns.tolist() \n",
    "columns_tot = numerical_columns + binary_columns + cat_num_columns + onehot\n",
    "\n",
    "feature_importance = pd.Series(data=opt_xgb_clf.named_steps['classifier'].feature_importances_, index = np.array(columns_tot))"
   ]
  },
  {
   "cell_type": "code",
   "execution_count": null,
   "id": "478fe457",
   "metadata": {},
   "outputs": [],
   "source": [
    "feature_importance = feature_importance.sort_values(ascending=False)"
   ]
  },
  {
   "cell_type": "code",
   "execution_count": null,
   "id": "96bc3903",
   "metadata": {},
   "outputs": [],
   "source": [
    "plt.figure(figsize=(20,100))\n",
    "sns.barplot(y=feature_importance.index, \n",
    "            x=feature_importance.values, \n",
    "            orient='h')"
   ]
  },
  {
   "cell_type": "code",
   "execution_count": null,
   "id": "35c24221",
   "metadata": {},
   "outputs": [],
   "source": [
    "from sklearn.model_selection import learning_curve\n",
    "\n",
    "opt_xgb_clf_rev = opt_xgb_clf\n",
    "train_sizes, train_scores, test_scores = learning_curve(opt_xgb_clf_rev, \n",
    "                                                        X_train, \n",
    "                                                        y_train, \n",
    "                                                        cv=5, \n",
    "                                                        scoring='roc_auc',\n",
    "                                                        n_jobs=1,\n",
    "                                                        train_sizes=np.linspace(.01, 1.0, 5), \n",
    "                                                        verbose=3)"
   ]
  },
  {
   "cell_type": "code",
   "execution_count": null,
   "id": "10386ea9",
   "metadata": {},
   "outputs": [],
   "source": [
    "# Plot learning curve\n",
    "train_scores_mean = np.mean(train_scores, axis=1)\n",
    "train_scores_std = np.std(train_scores, axis=1)\n",
    "test_scores_mean = np.mean(test_scores, axis=1)\n",
    "test_scores_std = np.std(test_scores, axis=1)\n",
    "\n",
    "plt.figure(figsize=(10,8))\n",
    "plt.fill_between(train_sizes, train_scores_mean - train_scores_std,\n",
    "                 train_scores_mean + train_scores_std, alpha=0.1,\n",
    "                 color='r')\n",
    "plt.fill_between(train_sizes, test_scores_mean - test_scores_std,\n",
    "                 test_scores_mean + test_scores_std, alpha=0.1,\n",
    "                 color='g')\n",
    "plt.plot(train_sizes, train_scores_mean, 'd-', color='r', label='Training score')\n",
    "plt.plot(train_sizes, test_scores_mean, 'o-', color='g', label='Cross-validation score')\n",
    "    \n",
    "plt.ylim(0.5, 1.01)\n",
    "   \n",
    "    \n",
    "plt.legend(loc='best')\n",
    "plt.xlabel('Training examples')\n",
    "plt.ylabel('ROC_AUC Score')\n",
    "plt.title('Learning Curve (XGB)')"
   ]
  },
  {
   "cell_type": "code",
   "execution_count": null,
   "id": "893d0d36",
   "metadata": {},
   "outputs": [],
   "source": [
    "X_train_full = [X_train, X_test]\n",
    "y_train_full= [y_train, y_test]\n",
    "\n",
    "X_train_full = pd.concat(X_train_full)\n",
    "y_train_full = pd.concat(y_train_full)\n",
    "\n",
    "X_train_full.shape, y_train_full.shape"
   ]
  },
  {
   "cell_type": "code",
   "execution_count": null,
   "id": "31b0ddde",
   "metadata": {},
   "outputs": [],
   "source": [
    "opt_xgb_clf.fit(X_train_full, y_train_full)"
   ]
  },
  {
   "cell_type": "code",
   "execution_count": null,
   "id": "2be50f80",
   "metadata": {},
   "outputs": [],
   "source": [
    "with open('../models/optimized_XGB.pickle', 'wb') as handle:\n",
    "    pickle.dump(opt_xgb_clf, handle)"
   ]
  },
  {
   "cell_type": "code",
   "execution_count": null,
   "id": "b9416213",
   "metadata": {},
   "outputs": [],
   "source": []
  }
 ],
 "metadata": {
  "kernelspec": {
   "display_name": "Python 3",
   "language": "python",
   "name": "python3"
  },
  "language_info": {
   "codemirror_mode": {
    "name": "ipython",
    "version": 3
   },
   "file_extension": ".py",
   "mimetype": "text/x-python",
   "name": "python",
   "nbconvert_exporter": "python",
   "pygments_lexer": "ipython3",
   "version": "3.9.2"
  }
 },
 "nbformat": 4,
 "nbformat_minor": 5
}
