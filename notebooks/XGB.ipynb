{
 "cells": [
  {
   "cell_type": "code",
   "execution_count": 18,
   "id": "d25b967c",
   "metadata": {},
   "outputs": [],
   "source": [
    "import pandas as pd\n",
    "import numpy as np\n",
    "import matplotlib.pyplot as plt \n",
    "import matplotlib as mpl \n",
    "%matplotlib inline\n",
    "import seaborn as sns\n",
    "sns.set()\n",
    "sns.set(font_scale=1.5)\n",
    "\n",
    "from sklearn.model_selection import train_test_split\n",
    "from sklearn.compose import ColumnTransformer\n",
    "from sklearn.pipeline import Pipeline\n",
    "from sklearn.impute import SimpleImputer\n",
    "from sklearn.preprocessing import OneHotEncoder\n",
    "from sklearn.model_selection import GridSearchCV, RandomizedSearchCV\n",
    "from sklearn.feature_selection import SelectKBest, f_classif, VarianceThreshold\n",
    "from sklearn.model_selection import learning_curve\n",
    "from sklearn.metrics import roc_auc_score, classification_report, confusion_matrix, precision_recall_curve\n",
    "from sklearn import metrics\n",
    "from sklearn import set_config \n",
    "from sklearn.utils import estimator_html_repr \n",
    "from IPython.core.display import display, HTML \n",
    "from category_encoders import TargetEncoder\n",
    "\n",
    "import xgboost as xgb\n",
    "from xgboost import XGBClassifier\n",
    "\n",
    "import pickle\n",
    "\n",
    "import sys\n",
    "\n",
    "if not sys.warnoptions:\n",
    "    import warnings\n",
    "    warnings.filterwarnings(action='ignore', category=UserWarning)\n",
    "    \n",
    "import warnings\n",
    "warnings.simplefilter('ignore', FutureWarning)"
   ]
  },
  {
   "cell_type": "code",
   "execution_count": 2,
   "id": "1819b5f6",
   "metadata": {},
   "outputs": [],
   "source": [
    "df = pd.read_pickle('../data/interim/train_clean.pickle')"
   ]
  },
  {
   "cell_type": "code",
   "execution_count": 3,
   "id": "1e183506",
   "metadata": {
    "scrolled": true
   },
   "outputs": [
    {
     "data": {
      "text/html": [
       "<div>\n",
       "<style scoped>\n",
       "    .dataframe tbody tr th:only-of-type {\n",
       "        vertical-align: middle;\n",
       "    }\n",
       "\n",
       "    .dataframe tbody tr th {\n",
       "        vertical-align: top;\n",
       "    }\n",
       "\n",
       "    .dataframe thead th {\n",
       "        text-align: right;\n",
       "    }\n",
       "</style>\n",
       "<table border=\"1\" class=\"dataframe\">\n",
       "  <thead>\n",
       "    <tr style=\"text-align: right;\">\n",
       "      <th></th>\n",
       "      <th>ProductName</th>\n",
       "      <th>RtpStateBitfield</th>\n",
       "      <th>IsSxsPassiveMode</th>\n",
       "      <th>AVProductStatesIdentifier</th>\n",
       "      <th>AVProductsInstalled</th>\n",
       "      <th>AVProductsEnabled</th>\n",
       "      <th>HasTpm</th>\n",
       "      <th>CountryIdentifier</th>\n",
       "      <th>CityIdentifier</th>\n",
       "      <th>OrganizationIdentifier</th>\n",
       "      <th>...</th>\n",
       "      <th>Census_IsAlwaysOnAlwaysConnectedCapable</th>\n",
       "      <th>Wdft_IsGamer</th>\n",
       "      <th>Wdft_RegionIdentifier</th>\n",
       "      <th>HasDetections</th>\n",
       "      <th>IsProtected_encoded</th>\n",
       "      <th>AvSigVersion_encoded</th>\n",
       "      <th>AppVersion_encoded</th>\n",
       "      <th>EngineVersion_encoded</th>\n",
       "      <th>OsVer_encoded</th>\n",
       "      <th>Census_OSBranch_release_encoded</th>\n",
       "    </tr>\n",
       "  </thead>\n",
       "  <tbody>\n",
       "    <tr>\n",
       "      <th>0</th>\n",
       "      <td>win8defender</td>\n",
       "      <td>7.0</td>\n",
       "      <td>0</td>\n",
       "      <td>53447.0</td>\n",
       "      <td>1.0</td>\n",
       "      <td>1.0</td>\n",
       "      <td>1</td>\n",
       "      <td>29</td>\n",
       "      <td>128035.0</td>\n",
       "      <td>18.0</td>\n",
       "      <td>...</td>\n",
       "      <td>0</td>\n",
       "      <td>0</td>\n",
       "      <td>10.0</td>\n",
       "      <td>0</td>\n",
       "      <td>2</td>\n",
       "      <td>273</td>\n",
       "      <td>18</td>\n",
       "      <td>15100</td>\n",
       "      <td>10.0</td>\n",
       "      <td>rs4_release</td>\n",
       "    </tr>\n",
       "    <tr>\n",
       "      <th>1</th>\n",
       "      <td>win8defender</td>\n",
       "      <td>7.0</td>\n",
       "      <td>0</td>\n",
       "      <td>53447.0</td>\n",
       "      <td>1.0</td>\n",
       "      <td>1.0</td>\n",
       "      <td>1</td>\n",
       "      <td>93</td>\n",
       "      <td>1482.0</td>\n",
       "      <td>18.0</td>\n",
       "      <td>...</td>\n",
       "      <td>0</td>\n",
       "      <td>0</td>\n",
       "      <td>8.0</td>\n",
       "      <td>0</td>\n",
       "      <td>2</td>\n",
       "      <td>Other</td>\n",
       "      <td>13</td>\n",
       "      <td>14600</td>\n",
       "      <td>10.0</td>\n",
       "      <td>rs4_release</td>\n",
       "    </tr>\n",
       "    <tr>\n",
       "      <th>2</th>\n",
       "      <td>win8defender</td>\n",
       "      <td>7.0</td>\n",
       "      <td>0</td>\n",
       "      <td>53447.0</td>\n",
       "      <td>1.0</td>\n",
       "      <td>1.0</td>\n",
       "      <td>1</td>\n",
       "      <td>86</td>\n",
       "      <td>153579.0</td>\n",
       "      <td>18.0</td>\n",
       "      <td>...</td>\n",
       "      <td>0</td>\n",
       "      <td>0</td>\n",
       "      <td>3.0</td>\n",
       "      <td>0</td>\n",
       "      <td>2</td>\n",
       "      <td>273</td>\n",
       "      <td>18</td>\n",
       "      <td>15100</td>\n",
       "      <td>10.0</td>\n",
       "      <td>rs4_release</td>\n",
       "    </tr>\n",
       "    <tr>\n",
       "      <th>3</th>\n",
       "      <td>win8defender</td>\n",
       "      <td>7.0</td>\n",
       "      <td>0</td>\n",
       "      <td>53447.0</td>\n",
       "      <td>1.0</td>\n",
       "      <td>1.0</td>\n",
       "      <td>1</td>\n",
       "      <td>88</td>\n",
       "      <td>20710.0</td>\n",
       "      <td>NaN</td>\n",
       "      <td>...</td>\n",
       "      <td>0</td>\n",
       "      <td>0</td>\n",
       "      <td>3.0</td>\n",
       "      <td>1</td>\n",
       "      <td>2</td>\n",
       "      <td>273</td>\n",
       "      <td>18</td>\n",
       "      <td>15100</td>\n",
       "      <td>10.0</td>\n",
       "      <td>rs4_release</td>\n",
       "    </tr>\n",
       "    <tr>\n",
       "      <th>4</th>\n",
       "      <td>win8defender</td>\n",
       "      <td>7.0</td>\n",
       "      <td>0</td>\n",
       "      <td>53447.0</td>\n",
       "      <td>1.0</td>\n",
       "      <td>1.0</td>\n",
       "      <td>1</td>\n",
       "      <td>18</td>\n",
       "      <td>37376.0</td>\n",
       "      <td>NaN</td>\n",
       "      <td>...</td>\n",
       "      <td>0</td>\n",
       "      <td>0</td>\n",
       "      <td>1.0</td>\n",
       "      <td>1</td>\n",
       "      <td>2</td>\n",
       "      <td>273</td>\n",
       "      <td>18</td>\n",
       "      <td>15100</td>\n",
       "      <td>10.0</td>\n",
       "      <td>rs4_release</td>\n",
       "    </tr>\n",
       "  </tbody>\n",
       "</table>\n",
       "<p>5 rows × 71 columns</p>\n",
       "</div>"
      ],
      "text/plain": [
       "    ProductName RtpStateBitfield  IsSxsPassiveMode AVProductStatesIdentifier  \\\n",
       "0  win8defender              7.0                 0                   53447.0   \n",
       "1  win8defender              7.0                 0                   53447.0   \n",
       "2  win8defender              7.0                 0                   53447.0   \n",
       "3  win8defender              7.0                 0                   53447.0   \n",
       "4  win8defender              7.0                 0                   53447.0   \n",
       "\n",
       "  AVProductsInstalled AVProductsEnabled  HasTpm CountryIdentifier  \\\n",
       "0                 1.0               1.0       1                29   \n",
       "1                 1.0               1.0       1                93   \n",
       "2                 1.0               1.0       1                86   \n",
       "3                 1.0               1.0       1                88   \n",
       "4                 1.0               1.0       1                18   \n",
       "\n",
       "  CityIdentifier OrganizationIdentifier  ...  \\\n",
       "0       128035.0                   18.0  ...   \n",
       "1         1482.0                   18.0  ...   \n",
       "2       153579.0                   18.0  ...   \n",
       "3        20710.0                    NaN  ...   \n",
       "4        37376.0                    NaN  ...   \n",
       "\n",
       "  Census_IsAlwaysOnAlwaysConnectedCapable Wdft_IsGamer Wdft_RegionIdentifier  \\\n",
       "0                                       0            0                  10.0   \n",
       "1                                       0            0                   8.0   \n",
       "2                                       0            0                   3.0   \n",
       "3                                       0            0                   3.0   \n",
       "4                                       0            0                   1.0   \n",
       "\n",
       "  HasDetections IsProtected_encoded AvSigVersion_encoded AppVersion_encoded  \\\n",
       "0             0                   2                  273                 18   \n",
       "1             0                   2                Other                 13   \n",
       "2             0                   2                  273                 18   \n",
       "3             1                   2                  273                 18   \n",
       "4             1                   2                  273                 18   \n",
       "\n",
       "  EngineVersion_encoded  OsVer_encoded  Census_OSBranch_release_encoded  \n",
       "0                 15100           10.0                      rs4_release  \n",
       "1                 14600           10.0                      rs4_release  \n",
       "2                 15100           10.0                      rs4_release  \n",
       "3                 15100           10.0                      rs4_release  \n",
       "4                 15100           10.0                      rs4_release  \n",
       "\n",
       "[5 rows x 71 columns]"
      ]
     },
     "execution_count": 3,
     "metadata": {},
     "output_type": "execute_result"
    }
   ],
   "source": [
    "df.head()"
   ]
  },
  {
   "cell_type": "code",
   "execution_count": 4,
   "id": "abdbb53f",
   "metadata": {},
   "outputs": [
    {
     "data": {
      "text/plain": [
       "(8921478, 71)"
      ]
     },
     "execution_count": 4,
     "metadata": {},
     "output_type": "execute_result"
    }
   ],
   "source": [
    "df.shape"
   ]
  },
  {
   "cell_type": "code",
   "execution_count": 5,
   "id": "c2b5f20e",
   "metadata": {
    "scrolled": true
   },
   "outputs": [
    {
     "name": "stdout",
     "output_type": "stream",
     "text": [
      "<class 'pandas.core.frame.DataFrame'>\n",
      "Int64Index: 8921478 entries, 0 to 8921482\n",
      "Data columns (total 71 columns):\n",
      " #   Column                                             Dtype   \n",
      "---  ------                                             -----   \n",
      " 0   ProductName                                        category\n",
      " 1   RtpStateBitfield                                   category\n",
      " 2   IsSxsPassiveMode                                   Int64   \n",
      " 3   AVProductStatesIdentifier                          category\n",
      " 4   AVProductsInstalled                                category\n",
      " 5   AVProductsEnabled                                  category\n",
      " 6   HasTpm                                             Int64   \n",
      " 7   CountryIdentifier                                  category\n",
      " 8   CityIdentifier                                     category\n",
      " 9   OrganizationIdentifier                             category\n",
      " 10  GeoNameIdentifier                                  category\n",
      " 11  LocaleEnglishNameIdentifier                        category\n",
      " 12  Platform                                           category\n",
      " 13  Processor                                          category\n",
      " 14  OsBuild_encoded                                    category\n",
      " 15  OsSuite_encoded                                    category\n",
      " 16  OsPlatformSubRelease                               category\n",
      " 17  SkuEdition                                         category\n",
      " 18  AutoSampleOptIn                                    Int64   \n",
      " 19  SMode                                              Int64   \n",
      " 20  IeVerIdentifier                                    category\n",
      " 21  SmartScreen_encoded                                category\n",
      " 22  Firewall                                           Int64   \n",
      " 23  UacLuaenable_encoded                               category\n",
      " 24  Census_MDC2FormFactor_encoded                      category\n",
      " 25  Census_DeviceFamily                                category\n",
      " 26  Census_OEMNameIdentifier                           category\n",
      " 27  Census_OEMModelIdentifier                          category\n",
      " 28  Census_ProcessorCoreCount                          float32 \n",
      " 29  Census_ProcessorManufacturerIdentifier             category\n",
      " 30  Census_ProcessorModelIdentifier                    category\n",
      " 31  Census_PrimaryDiskTotalCapacity                    float32 \n",
      " 32  Census_PrimaryDiskTypeName                         category\n",
      " 33  Census_SystemVolumeTotalCapacity                   float32 \n",
      " 34  Census_HasOpticalDiskDrive                         Int64   \n",
      " 35  Census_TotalPhysicalRAM                            float32 \n",
      " 36  Census_ChassisTypeName_encoded                     category\n",
      " 37  Census_InternalPrimaryDiagonalDisplaySizeInInches  float32 \n",
      " 38  Census_InternalPrimaryDisplayResolutionHorizontal  float32 \n",
      " 39  Census_InternalPrimaryDisplayResolutionVertical    float32 \n",
      " 40  Census_PowerPlatformRoleName                       category\n",
      " 41  Census_InternalBatteryNumberOfCharges              category\n",
      " 42  Census_OSArchitecture                              category\n",
      " 43  Census_OSBuildRevision                             int32   \n",
      " 44  Census_OSEdition_encoded                           category\n",
      " 45  Census_OSSkuName_encoded                           category\n",
      " 46  Census_OSInstallTypeName                           category\n",
      " 47  Census_OSInstallLanguageIdentifier                 category\n",
      " 48  Census_OSUILocaleIdentifier                        category\n",
      " 49  Census_OSWUAutoUpdateOptionsName                   category\n",
      " 50  Census_IsPortableOperatingSystem                   Int64   \n",
      " 51  Census_GenuineStateName                            category\n",
      " 52  Census_ActivationChannel                           category\n",
      " 53  Census_IsFlightsDisabled                           Int64   \n",
      " 54  Census_FlightRing                                  category\n",
      " 55  Census_FirmwareManufacturerIdentifier              category\n",
      " 56  Census_FirmwareVersionIdentifier                   category\n",
      " 57  Census_IsSecureBootEnabled                         Int64   \n",
      " 58  Census_IsVirtualDevice                             Int64   \n",
      " 59  Census_IsTouchEnabled                              Int64   \n",
      " 60  Census_IsPenCapable                                Int64   \n",
      " 61  Census_IsAlwaysOnAlwaysConnectedCapable            Int64   \n",
      " 62  Wdft_IsGamer                                       Int64   \n",
      " 63  Wdft_RegionIdentifier                              category\n",
      " 64  HasDetections                                      Int64   \n",
      " 65  IsProtected_encoded                                int64   \n",
      " 66  AvSigVersion_encoded                               category\n",
      " 67  AppVersion_encoded                                 category\n",
      " 68  EngineVersion_encoded                              category\n",
      " 69  OsVer_encoded                                      category\n",
      " 70  Census_OSBranch_release_encoded                    category\n",
      "dtypes: Int64(15), category(47), float32(7), int32(1), int64(1)\n",
      "memory usage: 2.1 GB\n"
     ]
    }
   ],
   "source": [
    "df.info()"
   ]
  },
  {
   "cell_type": "code",
   "execution_count": 6,
   "id": "82e145db",
   "metadata": {},
   "outputs": [],
   "source": [
    "X = df.loc[:, df.columns != 'HasDetections']\n",
    "y = df['HasDetections']"
   ]
  },
  {
   "cell_type": "code",
   "execution_count": 8,
   "id": "1448f151",
   "metadata": {
    "scrolled": true
   },
   "outputs": [
    {
     "name": "stdout",
     "output_type": "stream",
     "text": [
      "(7137182, 70)\n",
      "(1784296, 70)\n",
      "(7137182,)\n",
      "(1784296,)\n"
     ]
    }
   ],
   "source": [
    "#Seperate train and test data\n",
    "X_train, X_test, y_train, y_test = train_test_split(X,\n",
    "                                                   y,\n",
    "                                                   test_size = 0.2,\n",
    "                                                   random_state = 10)\n",
    "print(X_train.shape)\n",
    "print(X_test.shape)\n",
    "print(y_train.shape)\n",
    "print(y_test.shape)"
   ]
  },
  {
   "cell_type": "code",
   "execution_count": 9,
   "id": "f1b3639b",
   "metadata": {},
   "outputs": [
    {
     "data": {
      "text/plain": [
       "(0.49977540155204114, 0.4998621304985271)"
      ]
     },
     "execution_count": 9,
     "metadata": {},
     "output_type": "execute_result"
    }
   ],
   "source": [
    "y_train.mean(), y_test.mean()"
   ]
  },
  {
   "cell_type": "code",
   "execution_count": 10,
   "id": "b825771b",
   "metadata": {},
   "outputs": [
    {
     "data": {
      "text/plain": [
       "(Int64Dtype(), Int64Dtype())"
      ]
     },
     "execution_count": 10,
     "metadata": {},
     "output_type": "execute_result"
    }
   ],
   "source": [
    "y_train.dtype, y_test.dtype"
   ]
  },
  {
   "cell_type": "code",
   "execution_count": 11,
   "id": "27693583",
   "metadata": {},
   "outputs": [],
   "source": [
    "y_train = y_train.astype('int')\n",
    "y_test = y_test.astype('int')"
   ]
  },
  {
   "cell_type": "code",
   "execution_count": 13,
   "id": "37b78520",
   "metadata": {},
   "outputs": [
    {
     "data": {
      "text/plain": [
       "(31, 16, 15, 8)"
      ]
     },
     "execution_count": 13,
     "metadata": {},
     "output_type": "execute_result"
    }
   ],
   "source": [
    "id_col = ['AVProductStatesIdentifier',\n",
    "          'CountryIdentifier',\n",
    "          'CityIdentifier',\n",
    "          'OrganizationIdentifier',\n",
    "          'GeoNameIdentifier',\n",
    "          'LocaleEnglishNameIdentifier',\n",
    "          'IeVerIdentifier',\n",
    "          'Census_OEMNameIdentifier',\n",
    "          'Census_OEMModelIdentifier',\n",
    "          'Census_ProcessorManufacturerIdentifier',\n",
    "          'Census_ProcessorModelIdentifier',\n",
    "          'Census_OSInstallLanguageIdentifier',\n",
    "          'Census_OSUILocaleIdentifier',\n",
    "          'Census_FirmwareManufacturerIdentifier',\n",
    "          'Census_FirmwareVersionIdentifier',\n",
    "          'Wdft_RegionIdentifier']\n",
    "cat_col = [col for col in X_train.select_dtypes('category').columns.tolist() \n",
    "           if col not in id_col]\n",
    "binary_col = X_train.select_dtypes('Int64').columns.tolist()\n",
    "num_col = [col for col in X_train.columns \n",
    "           if col not in cat_col\n",
    "           if col not in id_col\n",
    "           if col not in binary_col]\n",
    "\n",
    "len(cat_col), len(id_col), len(binary_col), len(num_col) "
   ]
  },
  {
   "cell_type": "code",
   "execution_count": 14,
   "id": "f0774c71",
   "metadata": {},
   "outputs": [
    {
     "data": {
      "text/plain": [
       "70"
      ]
     },
     "execution_count": 14,
     "metadata": {},
     "output_type": "execute_result"
    }
   ],
   "source": [
    "len(cat_col) + len(id_col) + len(binary_col) + len(num_col)"
   ]
  },
  {
   "cell_type": "code",
   "execution_count": 15,
   "id": "6edc1db7",
   "metadata": {
    "scrolled": true
   },
   "outputs": [
    {
     "data": {
      "text/plain": [
       "[CategoricalDtype(categories=['mse', 'win8defender', 'mseprerelease', 'windowsintune',\n",
       "                   'fep', 'scep'],\n",
       " , ordered=False),\n",
       " CategoricalDtype(categories=[0.0, 1.0, 3.0, 5.0, 7.0, 8.0, 35.0], ordered=False),\n",
       " CategoricalDtype(categories=[0.0, 1.0, 2.0, 3.0, 4.0, 5.0, 6.0, 7.0], ordered=False),\n",
       " CategoricalDtype(categories=[0.0, 1.0, 2.0, 3.0, 4.0, 5.0], ordered=False),\n",
       " CategoricalDtype(categories=['windows10', 'windows2016', 'windows7', 'windows8'], ordered=False),\n",
       " CategoricalDtype(categories=['arm64', 'x64', 'x86'], ordered=False),\n",
       " CategoricalDtype(categories=['10240', '10586', '14393', '15063', '16299', '17134', '7601',\n",
       "                   '9600', 'Other'],\n",
       " , ordered=False),\n",
       " CategoricalDtype(categories=['256', '768', 'Other'], ordered=False),\n",
       " CategoricalDtype(categories=['prers5', 'rs1', 'rs2', 'rs3', 'rs4', 'th1', 'th2',\n",
       "                   'windows7', 'windows8.1'],\n",
       " , ordered=False),\n",
       " CategoricalDtype(categories=['Cloud', 'Education', 'Enterprise', 'Enterprise LTSB',\n",
       "                   'Home', 'Invalid', 'Pro', 'Server'],\n",
       " , ordered=False),\n",
       " CategoricalDtype(categories=['Block', 'ExistsNotSet', 'Off', 'On', 'Prompt',\n",
       "                   'RequireAdmin', 'Warn', 'Other'],\n",
       " , ordered=False),\n",
       " CategoricalDtype(categories=['1.0', 'Other'], ordered=False),\n",
       " CategoricalDtype(categories=['AllInOne', 'Convertible', 'Desktop', 'Detachable',\n",
       "                   'LargeTablet', 'Notebook', 'PCOther', 'SmallTablet',\n",
       "                   'Other'],\n",
       " , ordered=False),\n",
       " CategoricalDtype(categories=['Windows.Desktop', 'Windows.Server', 'Windows'], ordered=False),\n",
       " CategoricalDtype(categories=['HDD', 'SSD', 'UNKNOWN', 'Unspecified'], ordered=False),\n",
       " CategoricalDtype(categories=['AllinOne', 'Convertible', 'Desktop', 'Laptop', 'MiniTower',\n",
       "                   'Notebook', 'Other', 'Portable'],\n",
       " , ordered=False),\n",
       " CategoricalDtype(categories=['AppliancePC', 'Desktop', 'EnterpriseServer', 'Mobile',\n",
       "                   'SOHOServer', 'Slate', 'UNKNOWN', 'Workstation',\n",
       "                   'PerformanceServer', 'Unspecified'],\n",
       " , ordered=False),\n",
       " CategoricalDtype(categories=['Max', 'None', 'Other'], ordered=False),\n",
       " CategoricalDtype(categories=['amd64', 'arm64', 'x86'], ordered=False),\n",
       " CategoricalDtype(categories=['Core', 'CoreSingleLanguage', 'Professional', 'Other'], ordered=False),\n",
       " CategoricalDtype(categories=['CORE', 'CORE_COUNTRYSPECIFIC', 'CORE_SINGLELANGUAGE',\n",
       "                   'EDUCATION', 'ENTERPRISE', 'PROFESSIONAL', 'PROFESSIONAL_N',\n",
       "                   'Other'],\n",
       " , ordered=False),\n",
       " CategoricalDtype(categories=['Clean', 'CleanPCRefresh', 'IBSClean', 'Other', 'Refresh',\n",
       "                   'Reset', 'UUPUpgrade', 'Update', 'Upgrade'],\n",
       " , ordered=False),\n",
       " CategoricalDtype(categories=['AutoInstallAndRebootAtMaintenanceTime', 'DownloadNotify',\n",
       "                   'FullAuto', 'Notify', 'Off', 'UNKNOWN'],\n",
       " , ordered=False),\n",
       " CategoricalDtype(categories=['INVALID_LICENSE', 'IS_GENUINE', 'OFFLINE', 'UNKNOWN',\n",
       "                   'TAMPERED'],\n",
       " , ordered=False),\n",
       " CategoricalDtype(categories=['OEM:DM', 'OEM:NONSLP', 'Retail', 'Retail:TB:Eval',\n",
       "                   'Volume:GVLK', 'Volume:MAK'],\n",
       " , ordered=False),\n",
       " CategoricalDtype(categories=['Disabled', 'NOT_SET', 'RP', 'Retail', 'Unknown', 'WIF',\n",
       "                   'WIS', 'OSG', 'Canary', 'Invalid'],\n",
       " , ordered=False),\n",
       " CategoricalDtype(categories=['273', '275', 'Other'], ordered=False),\n",
       " CategoricalDtype(categories=['10', '11', '12', '13', '14', '16', '18', '8', '9', 'Other'], ordered=False),\n",
       " CategoricalDtype(categories=['13504', '14104', '14600', '14800', '14901', '15000',\n",
       "                   '15100', '15200', '15300', 'Other'],\n",
       " , ordered=False),\n",
       " CategoricalDtype(categories=['10.0', '6.1', '6.3'], ordered=False),\n",
       " CategoricalDtype(categories=['Other', 'rs1_release', 'rs2_release', 'rs3_release',\n",
       "                   'rs4_release', 'th'],\n",
       " , ordered=False)]"
      ]
     },
     "execution_count": 15,
     "metadata": {},
     "output_type": "execute_result"
    }
   ],
   "source": [
    "[X_train[col].dtype for col in cat_col]"
   ]
  },
  {
   "cell_type": "code",
   "execution_count": 16,
   "id": "c75e1843",
   "metadata": {},
   "outputs": [
    {
     "name": "stderr",
     "output_type": "stream",
     "text": [
      "<ipython-input-16-6d7a0ba9679c>:2: SettingWithCopyWarning: \n",
      "A value is trying to be set on a copy of a slice from a DataFrame.\n",
      "Try using .loc[row_indexer,col_indexer] = value instead\n",
      "\n",
      "See the caveats in the documentation: https://pandas.pydata.org/pandas-docs/stable/user_guide/indexing.html#returning-a-view-versus-a-copy\n",
      "  X_train[col] = X_train[col][X_train[col].notnull()].astype('str')\n",
      "<ipython-input-16-6d7a0ba9679c>:3: SettingWithCopyWarning: \n",
      "A value is trying to be set on a copy of a slice from a DataFrame.\n",
      "Try using .loc[row_indexer,col_indexer] = value instead\n",
      "\n",
      "See the caveats in the documentation: https://pandas.pydata.org/pandas-docs/stable/user_guide/indexing.html#returning-a-view-versus-a-copy\n",
      "  X_train[col] = X_train[col].astype('category')\n",
      "<ipython-input-16-6d7a0ba9679c>:4: SettingWithCopyWarning: \n",
      "A value is trying to be set on a copy of a slice from a DataFrame.\n",
      "Try using .loc[row_indexer,col_indexer] = value instead\n",
      "\n",
      "See the caveats in the documentation: https://pandas.pydata.org/pandas-docs/stable/user_guide/indexing.html#returning-a-view-versus-a-copy\n",
      "  X_test[col] = X_test[col][X_test[col].notnull()].astype('str')\n",
      "<ipython-input-16-6d7a0ba9679c>:5: SettingWithCopyWarning: \n",
      "A value is trying to be set on a copy of a slice from a DataFrame.\n",
      "Try using .loc[row_indexer,col_indexer] = value instead\n",
      "\n",
      "See the caveats in the documentation: https://pandas.pydata.org/pandas-docs/stable/user_guide/indexing.html#returning-a-view-versus-a-copy\n",
      "  X_test[col] = X_test[col].astype('category')\n"
     ]
    }
   ],
   "source": [
    "for col in cat_col:\n",
    "    X_train[col] = X_train[col][X_train[col].notnull()].astype('str')\n",
    "    X_train[col] = X_train[col].astype('category')\n",
    "    X_test[col] = X_test[col][X_test[col].notnull()].astype('str')\n",
    "    X_test[col] = X_test[col].astype('category')"
   ]
  },
  {
   "cell_type": "code",
   "execution_count": 17,
   "id": "735a5ba0",
   "metadata": {
    "scrolled": false
   },
   "outputs": [
    {
     "data": {
      "text/plain": [
       "[CategoricalDtype(categories=['fep', 'mse', 'mseprerelease', 'scep', 'win8defender',\n",
       "                   'windowsintune'],\n",
       " , ordered=False),\n",
       " CategoricalDtype(categories=['0.0', '1.0', '3.0', '35.0', '5.0', '7.0', '8.0'], ordered=False),\n",
       " CategoricalDtype(categories=['0.0', '1.0', '2.0', '3.0', '4.0', '5.0', '6.0', '7.0'], ordered=False),\n",
       " CategoricalDtype(categories=['0.0', '1.0', '2.0', '3.0', '4.0', '5.0'], ordered=False),\n",
       " CategoricalDtype(categories=['windows10', 'windows2016', 'windows7', 'windows8'], ordered=False),\n",
       " CategoricalDtype(categories=['arm64', 'x64', 'x86'], ordered=False),\n",
       " CategoricalDtype(categories=['10240', '10586', '14393', '15063', '16299', '17134', '7601',\n",
       "                   '9600', 'Other'],\n",
       " , ordered=False),\n",
       " CategoricalDtype(categories=['256', '768', 'Other'], ordered=False),\n",
       " CategoricalDtype(categories=['prers5', 'rs1', 'rs2', 'rs3', 'rs4', 'th1', 'th2',\n",
       "                   'windows7', 'windows8.1'],\n",
       " , ordered=False),\n",
       " CategoricalDtype(categories=['Cloud', 'Education', 'Enterprise', 'Enterprise LTSB',\n",
       "                   'Home', 'Invalid', 'Pro', 'Server'],\n",
       " , ordered=False),\n",
       " CategoricalDtype(categories=['Block', 'ExistsNotSet', 'Off', 'On', 'Other', 'Prompt',\n",
       "                   'RequireAdmin', 'Warn'],\n",
       " , ordered=False),\n",
       " CategoricalDtype(categories=['1.0', 'Other'], ordered=False),\n",
       " CategoricalDtype(categories=['AllInOne', 'Convertible', 'Desktop', 'Detachable',\n",
       "                   'LargeTablet', 'Notebook', 'Other', 'PCOther',\n",
       "                   'SmallTablet'],\n",
       " , ordered=False),\n",
       " CategoricalDtype(categories=['Windows', 'Windows.Desktop', 'Windows.Server'], ordered=False),\n",
       " CategoricalDtype(categories=['HDD', 'SSD', 'UNKNOWN', 'Unspecified'], ordered=False),\n",
       " CategoricalDtype(categories=['AllinOne', 'Convertible', 'Desktop', 'Laptop', 'MiniTower',\n",
       "                   'Notebook', 'Other', 'Portable'],\n",
       " , ordered=False),\n",
       " CategoricalDtype(categories=['AppliancePC', 'Desktop', 'EnterpriseServer', 'Mobile',\n",
       "                   'PerformanceServer', 'SOHOServer', 'Slate', 'UNKNOWN',\n",
       "                   'Unspecified', 'Workstation'],\n",
       " , ordered=False),\n",
       " CategoricalDtype(categories=['Max', 'None', 'Other'], ordered=False),\n",
       " CategoricalDtype(categories=['amd64', 'arm64', 'x86'], ordered=False),\n",
       " CategoricalDtype(categories=['Core', 'CoreSingleLanguage', 'Other', 'Professional'], ordered=False),\n",
       " CategoricalDtype(categories=['CORE', 'CORE_COUNTRYSPECIFIC', 'CORE_SINGLELANGUAGE',\n",
       "                   'EDUCATION', 'ENTERPRISE', 'Other', 'PROFESSIONAL',\n",
       "                   'PROFESSIONAL_N'],\n",
       " , ordered=False),\n",
       " CategoricalDtype(categories=['Clean', 'CleanPCRefresh', 'IBSClean', 'Other', 'Refresh',\n",
       "                   'Reset', 'UUPUpgrade', 'Update', 'Upgrade'],\n",
       " , ordered=False),\n",
       " CategoricalDtype(categories=['AutoInstallAndRebootAtMaintenanceTime', 'DownloadNotify',\n",
       "                   'FullAuto', 'Notify', 'Off', 'UNKNOWN'],\n",
       " , ordered=False),\n",
       " CategoricalDtype(categories=['INVALID_LICENSE', 'IS_GENUINE', 'OFFLINE', 'TAMPERED',\n",
       "                   'UNKNOWN'],\n",
       " , ordered=False),\n",
       " CategoricalDtype(categories=['OEM:DM', 'OEM:NONSLP', 'Retail', 'Retail:TB:Eval',\n",
       "                   'Volume:GVLK', 'Volume:MAK'],\n",
       " , ordered=False),\n",
       " CategoricalDtype(categories=['Canary', 'Disabled', 'Invalid', 'NOT_SET', 'OSG', 'RP',\n",
       "                   'Retail', 'Unknown', 'WIF', 'WIS'],\n",
       " , ordered=False),\n",
       " CategoricalDtype(categories=['273', '275', 'Other'], ordered=False),\n",
       " CategoricalDtype(categories=['10', '11', '12', '13', '14', '16', '18', '8', '9', 'Other'], ordered=False),\n",
       " CategoricalDtype(categories=['13504', '14104', '14600', '14800', '14901', '15000',\n",
       "                   '15100', '15200', '15300', 'Other'],\n",
       " , ordered=False),\n",
       " CategoricalDtype(categories=['10.0', '6.1', '6.3'], ordered=False),\n",
       " CategoricalDtype(categories=['Other', 'rs1_release', 'rs2_release', 'rs3_release',\n",
       "                   'rs4_release', 'th'],\n",
       " , ordered=False)]"
      ]
     },
     "execution_count": 17,
     "metadata": {},
     "output_type": "execute_result"
    }
   ],
   "source": [
    "[X_train[col].dtype for col in cat_col]"
   ]
  },
  {
   "cell_type": "code",
   "execution_count": 16,
   "id": "2ea7780c",
   "metadata": {},
   "outputs": [],
   "source": [
    "#for col in id_col:\n",
    "#    X_train[col] = X_train[col][X_train[col].notnull()].astype('str')\n",
    "#    X_train[col] = X_train[col].astype('category')\n",
    "#    X_test[col] = X_test[col][X_test[col].notnull()].astype('str')\n",
    "#    X_test[col] = X_test[col].astype('category')"
   ]
  },
  {
   "cell_type": "code",
   "execution_count": 19,
   "id": "1cf1c30f",
   "metadata": {},
   "outputs": [],
   "source": [
    "# Preprocessing for numerical data\n",
    "numerical_transformer = SimpleImputer()\n",
    "\n",
    "# Preprocessing for binary data\n",
    "binary_transformer = SimpleImputer()\n",
    "\n",
    "# Preprocessing for categorical data encoded as numerical ID's\n",
    "id_transformer = SimpleImputer() #TargetEncoder(smoothing=10000)\n",
    "\n",
    "# Preprocessing for categorical data\n",
    "categorical_transformer = Pipeline(steps=[\n",
    "    ('imputer', SimpleImputer()),\n",
    "    ('onehot', OneHotEncoder(handle_unknown='ignore'))\n",
    "])\n",
    "\n",
    "\n",
    "# Bundle preprocessing for numerical and categorical data\n",
    "preprocessor = ColumnTransformer(\n",
    "    transformers=[\n",
    "        ('num', numerical_transformer, num_col),\n",
    "        ('bin', binary_transformer, binary_col),\n",
    "        ('id', id_transformer, id_col),\n",
    "        ('cat', categorical_transformer, cat_col)\n",
    "    ])"
   ]
  },
  {
   "cell_type": "code",
   "execution_count": 20,
   "id": "cf770a39",
   "metadata": {},
   "outputs": [],
   "source": [
    "# Define model\n",
    "xgb_clf = xgb.XGBClassifier(objective = 'binary:logistic', \n",
    "                            eval_metric='logloss', \n",
    "                            use_label_encoder =False,\n",
    "                            verbosity=0)\n",
    "\n",
    "VarThresh = VarianceThreshold()\n",
    "#selector = SelectKBest(f_classif)\n",
    "\n",
    "# Bundle preprocessing and modeling code in a pipeline\n",
    "pipeline = Pipeline(steps=[('preprocessor', preprocessor),\n",
    "                            ('VarThresh', VarThresh),\n",
    "                            #('selector', selector),\n",
    "                            ('classifier', xgb_clf)\n",
    "                            ])"
   ]
  },
  {
   "cell_type": "code",
   "execution_count": 21,
   "id": "2ce15c60",
   "metadata": {},
   "outputs": [
    {
     "data": {
      "text/html": [
       "<style>#sk-d657392e-c0f9-4f25-8973-d9af3eb868b2 {color: black;background-color: white;}#sk-d657392e-c0f9-4f25-8973-d9af3eb868b2 pre{padding: 0;}#sk-d657392e-c0f9-4f25-8973-d9af3eb868b2 div.sk-toggleable {background-color: white;}#sk-d657392e-c0f9-4f25-8973-d9af3eb868b2 label.sk-toggleable__label {cursor: pointer;display: block;width: 100%;margin-bottom: 0;padding: 0.2em 0.3em;box-sizing: border-box;text-align: center;}#sk-d657392e-c0f9-4f25-8973-d9af3eb868b2 div.sk-toggleable__content {max-height: 0;max-width: 0;overflow: hidden;text-align: left;background-color: #f0f8ff;}#sk-d657392e-c0f9-4f25-8973-d9af3eb868b2 div.sk-toggleable__content pre {margin: 0.2em;color: black;border-radius: 0.25em;background-color: #f0f8ff;}#sk-d657392e-c0f9-4f25-8973-d9af3eb868b2 input.sk-toggleable__control:checked~div.sk-toggleable__content {max-height: 200px;max-width: 100%;overflow: auto;}#sk-d657392e-c0f9-4f25-8973-d9af3eb868b2 div.sk-estimator input.sk-toggleable__control:checked~label.sk-toggleable__label {background-color: #d4ebff;}#sk-d657392e-c0f9-4f25-8973-d9af3eb868b2 div.sk-label input.sk-toggleable__control:checked~label.sk-toggleable__label {background-color: #d4ebff;}#sk-d657392e-c0f9-4f25-8973-d9af3eb868b2 input.sk-hidden--visually {border: 0;clip: rect(1px 1px 1px 1px);clip: rect(1px, 1px, 1px, 1px);height: 1px;margin: -1px;overflow: hidden;padding: 0;position: absolute;width: 1px;}#sk-d657392e-c0f9-4f25-8973-d9af3eb868b2 div.sk-estimator {font-family: monospace;background-color: #f0f8ff;margin: 0.25em 0.25em;border: 1px dotted black;border-radius: 0.25em;box-sizing: border-box;}#sk-d657392e-c0f9-4f25-8973-d9af3eb868b2 div.sk-estimator:hover {background-color: #d4ebff;}#sk-d657392e-c0f9-4f25-8973-d9af3eb868b2 div.sk-parallel-item::after {content: \"\";width: 100%;border-bottom: 1px solid gray;flex-grow: 1;}#sk-d657392e-c0f9-4f25-8973-d9af3eb868b2 div.sk-label:hover label.sk-toggleable__label {background-color: #d4ebff;}#sk-d657392e-c0f9-4f25-8973-d9af3eb868b2 div.sk-serial::before {content: \"\";position: absolute;border-left: 1px solid gray;box-sizing: border-box;top: 2em;bottom: 0;left: 50%;}#sk-d657392e-c0f9-4f25-8973-d9af3eb868b2 div.sk-serial {display: flex;flex-direction: column;align-items: center;background-color: white;}#sk-d657392e-c0f9-4f25-8973-d9af3eb868b2 div.sk-item {z-index: 1;}#sk-d657392e-c0f9-4f25-8973-d9af3eb868b2 div.sk-parallel {display: flex;align-items: stretch;justify-content: center;background-color: white;}#sk-d657392e-c0f9-4f25-8973-d9af3eb868b2 div.sk-parallel-item {display: flex;flex-direction: column;position: relative;background-color: white;}#sk-d657392e-c0f9-4f25-8973-d9af3eb868b2 div.sk-parallel-item:first-child::after {align-self: flex-end;width: 50%;}#sk-d657392e-c0f9-4f25-8973-d9af3eb868b2 div.sk-parallel-item:last-child::after {align-self: flex-start;width: 50%;}#sk-d657392e-c0f9-4f25-8973-d9af3eb868b2 div.sk-parallel-item:only-child::after {width: 0;}#sk-d657392e-c0f9-4f25-8973-d9af3eb868b2 div.sk-dashed-wrapped {border: 1px dashed gray;margin: 0.2em;box-sizing: border-box;padding-bottom: 0.1em;background-color: white;position: relative;}#sk-d657392e-c0f9-4f25-8973-d9af3eb868b2 div.sk-label label {font-family: monospace;font-weight: bold;background-color: white;display: inline-block;line-height: 1.2em;}#sk-d657392e-c0f9-4f25-8973-d9af3eb868b2 div.sk-label-container {position: relative;z-index: 2;text-align: center;}#sk-d657392e-c0f9-4f25-8973-d9af3eb868b2 div.sk-container {display: inline-block;position: relative;}</style><div id=\"sk-d657392e-c0f9-4f25-8973-d9af3eb868b2\" class\"sk-top-container\"><div class=\"sk-container\"><div class=\"sk-item sk-dashed-wrapped\"><div class=\"sk-label-container\"><div class=\"sk-label sk-toggleable\"><input class=\"sk-toggleable__control sk-hidden--visually\" id=\"3ebf4f3a-b3d6-48fa-b5be-4c9cc532150b\" type=\"checkbox\" ><label class=\"sk-toggleable__label\" for=\"3ebf4f3a-b3d6-48fa-b5be-4c9cc532150b\">Pipeline</label><div class=\"sk-toggleable__content\"><pre>Pipeline(steps=[('preprocessor',\n",
       "                 ColumnTransformer(transformers=[('num', SimpleImputer(),\n",
       "                                                  ['Census_ProcessorCoreCount',\n",
       "                                                   'Census_PrimaryDiskTotalCapacity',\n",
       "                                                   'Census_SystemVolumeTotalCapacity',\n",
       "                                                   'Census_TotalPhysicalRAM',\n",
       "                                                   'Census_InternalPrimaryDiagonalDisplaySizeInInches',\n",
       "                                                   'Census_InternalPrimaryDisplayResolutionHorizontal',\n",
       "                                                   'Census_InternalPrimaryDisplayResol...\n",
       "                               interaction_constraints=None, learning_rate=None,\n",
       "                               max_delta_step=None, max_depth=None,\n",
       "                               min_child_weight=None, missing=nan,\n",
       "                               monotone_constraints=None, n_estimators=100,\n",
       "                               n_jobs=None, num_parallel_tree=None,\n",
       "                               random_state=None, reg_alpha=None,\n",
       "                               reg_lambda=None, scale_pos_weight=None,\n",
       "                               subsample=None, tree_method=None,\n",
       "                               use_label_encoder=False,\n",
       "                               validate_parameters=None, verbosity=0))])</pre></div></div></div><div class=\"sk-serial\"><div class=\"sk-item sk-dashed-wrapped\"><div class=\"sk-label-container\"><div class=\"sk-label sk-toggleable\"><input class=\"sk-toggleable__control sk-hidden--visually\" id=\"96844627-acef-49f2-a2dc-892f62ddd06d\" type=\"checkbox\" ><label class=\"sk-toggleable__label\" for=\"96844627-acef-49f2-a2dc-892f62ddd06d\">preprocessor: ColumnTransformer</label><div class=\"sk-toggleable__content\"><pre>ColumnTransformer(transformers=[('num', SimpleImputer(),\n",
       "                                 ['Census_ProcessorCoreCount',\n",
       "                                  'Census_PrimaryDiskTotalCapacity',\n",
       "                                  'Census_SystemVolumeTotalCapacity',\n",
       "                                  'Census_TotalPhysicalRAM',\n",
       "                                  'Census_InternalPrimaryDiagonalDisplaySizeInInches',\n",
       "                                  'Census_InternalPrimaryDisplayResolutionHorizontal',\n",
       "                                  'Census_InternalPrimaryDisplayResolutionVertical',\n",
       "                                  'Census_OSBuildRe...\n",
       "                                  'Census_PowerPlatformRoleName',\n",
       "                                  'Census_InternalBatteryNumberOfCharges',\n",
       "                                  'Census_OSArchitecture',\n",
       "                                  'Census_OSEdition_encoded',\n",
       "                                  'Census_OSSkuName_encoded',\n",
       "                                  'Census_OSInstallTypeName',\n",
       "                                  'Census_OSWUAutoUpdateOptionsName',\n",
       "                                  'Census_GenuineStateName',\n",
       "                                  'Census_ActivationChannel',\n",
       "                                  'Census_FlightRing', 'AvSigVersion_encoded',\n",
       "                                  'AppVersion_encoded', 'EngineVersion_encoded',\n",
       "                                  'OsVer_encoded', ...])])</pre></div></div></div><div class=\"sk-parallel\"><div class=\"sk-parallel-item\"><div class=\"sk-item\"><div class=\"sk-label-container\"><div class=\"sk-label sk-toggleable\"><input class=\"sk-toggleable__control sk-hidden--visually\" id=\"1da64c6a-d21c-42a4-a157-7d9ab4fd6ce2\" type=\"checkbox\" ><label class=\"sk-toggleable__label\" for=\"1da64c6a-d21c-42a4-a157-7d9ab4fd6ce2\">num</label><div class=\"sk-toggleable__content\"><pre>['Census_ProcessorCoreCount', 'Census_PrimaryDiskTotalCapacity', 'Census_SystemVolumeTotalCapacity', 'Census_TotalPhysicalRAM', 'Census_InternalPrimaryDiagonalDisplaySizeInInches', 'Census_InternalPrimaryDisplayResolutionHorizontal', 'Census_InternalPrimaryDisplayResolutionVertical', 'Census_OSBuildRevision']</pre></div></div></div><div class=\"sk-serial\"><div class=\"sk-item\"><div class=\"sk-estimator sk-toggleable\"><input class=\"sk-toggleable__control sk-hidden--visually\" id=\"13cd7a47-fb49-4b94-a784-d1b550ef1e27\" type=\"checkbox\" ><label class=\"sk-toggleable__label\" for=\"13cd7a47-fb49-4b94-a784-d1b550ef1e27\">SimpleImputer</label><div class=\"sk-toggleable__content\"><pre>SimpleImputer()</pre></div></div></div></div></div></div><div class=\"sk-parallel-item\"><div class=\"sk-item\"><div class=\"sk-label-container\"><div class=\"sk-label sk-toggleable\"><input class=\"sk-toggleable__control sk-hidden--visually\" id=\"165e83af-5b67-423a-b922-c56c05e488c9\" type=\"checkbox\" ><label class=\"sk-toggleable__label\" for=\"165e83af-5b67-423a-b922-c56c05e488c9\">bin</label><div class=\"sk-toggleable__content\"><pre>['IsSxsPassiveMode', 'HasTpm', 'AutoSampleOptIn', 'SMode', 'Firewall', 'Census_HasOpticalDiskDrive', 'Census_IsPortableOperatingSystem', 'Census_IsFlightsDisabled', 'Census_IsSecureBootEnabled', 'Census_IsVirtualDevice', 'Census_IsTouchEnabled', 'Census_IsPenCapable', 'Census_IsAlwaysOnAlwaysConnectedCapable', 'Wdft_IsGamer', 'IsProtected_encoded']</pre></div></div></div><div class=\"sk-serial\"><div class=\"sk-item\"><div class=\"sk-estimator sk-toggleable\"><input class=\"sk-toggleable__control sk-hidden--visually\" id=\"571fd161-746c-44c5-9bef-fb2c157b1cbc\" type=\"checkbox\" ><label class=\"sk-toggleable__label\" for=\"571fd161-746c-44c5-9bef-fb2c157b1cbc\">SimpleImputer</label><div class=\"sk-toggleable__content\"><pre>SimpleImputer()</pre></div></div></div></div></div></div><div class=\"sk-parallel-item\"><div class=\"sk-item\"><div class=\"sk-label-container\"><div class=\"sk-label sk-toggleable\"><input class=\"sk-toggleable__control sk-hidden--visually\" id=\"88b52935-9d70-426d-a957-60ba29c70722\" type=\"checkbox\" ><label class=\"sk-toggleable__label\" for=\"88b52935-9d70-426d-a957-60ba29c70722\">id</label><div class=\"sk-toggleable__content\"><pre>['AVProductStatesIdentifier', 'CountryIdentifier', 'CityIdentifier', 'OrganizationIdentifier', 'GeoNameIdentifier', 'LocaleEnglishNameIdentifier', 'IeVerIdentifier', 'Census_OEMNameIdentifier', 'Census_OEMModelIdentifier', 'Census_ProcessorManufacturerIdentifier', 'Census_ProcessorModelIdentifier', 'Census_OSInstallLanguageIdentifier', 'Census_OSUILocaleIdentifier', 'Census_FirmwareManufacturerIdentifier', 'Census_FirmwareVersionIdentifier', 'Wdft_RegionIdentifier']</pre></div></div></div><div class=\"sk-serial\"><div class=\"sk-item\"><div class=\"sk-estimator sk-toggleable\"><input class=\"sk-toggleable__control sk-hidden--visually\" id=\"b21f2c63-e748-4477-ba06-35671b878a64\" type=\"checkbox\" ><label class=\"sk-toggleable__label\" for=\"b21f2c63-e748-4477-ba06-35671b878a64\">SimpleImputer</label><div class=\"sk-toggleable__content\"><pre>SimpleImputer()</pre></div></div></div></div></div></div><div class=\"sk-parallel-item\"><div class=\"sk-item\"><div class=\"sk-label-container\"><div class=\"sk-label sk-toggleable\"><input class=\"sk-toggleable__control sk-hidden--visually\" id=\"841ac4e9-c633-45b3-8de9-59fbf0e0b32f\" type=\"checkbox\" ><label class=\"sk-toggleable__label\" for=\"841ac4e9-c633-45b3-8de9-59fbf0e0b32f\">cat</label><div class=\"sk-toggleable__content\"><pre>['ProductName', 'RtpStateBitfield', 'AVProductsInstalled', 'AVProductsEnabled', 'Platform', 'Processor', 'OsBuild_encoded', 'OsSuite_encoded', 'OsPlatformSubRelease', 'SkuEdition', 'SmartScreen_encoded', 'UacLuaenable_encoded', 'Census_MDC2FormFactor_encoded', 'Census_DeviceFamily', 'Census_PrimaryDiskTypeName', 'Census_ChassisTypeName_encoded', 'Census_PowerPlatformRoleName', 'Census_InternalBatteryNumberOfCharges', 'Census_OSArchitecture', 'Census_OSEdition_encoded', 'Census_OSSkuName_encoded', 'Census_OSInstallTypeName', 'Census_OSWUAutoUpdateOptionsName', 'Census_GenuineStateName', 'Census_ActivationChannel', 'Census_FlightRing', 'AvSigVersion_encoded', 'AppVersion_encoded', 'EngineVersion_encoded', 'OsVer_encoded', 'Census_OSBranch_release_encoded']</pre></div></div></div><div class=\"sk-serial\"><div class=\"sk-item\"><div class=\"sk-serial\"><div class=\"sk-item\"><div class=\"sk-estimator sk-toggleable\"><input class=\"sk-toggleable__control sk-hidden--visually\" id=\"416567c8-f463-433a-97da-39e695a32bf6\" type=\"checkbox\" ><label class=\"sk-toggleable__label\" for=\"416567c8-f463-433a-97da-39e695a32bf6\">SimpleImputer</label><div class=\"sk-toggleable__content\"><pre>SimpleImputer()</pre></div></div></div><div class=\"sk-item\"><div class=\"sk-estimator sk-toggleable\"><input class=\"sk-toggleable__control sk-hidden--visually\" id=\"4aa30631-9de0-4ba3-a1b2-5d98cbe86598\" type=\"checkbox\" ><label class=\"sk-toggleable__label\" for=\"4aa30631-9de0-4ba3-a1b2-5d98cbe86598\">OneHotEncoder</label><div class=\"sk-toggleable__content\"><pre>OneHotEncoder(handle_unknown='ignore')</pre></div></div></div></div></div></div></div></div></div></div><div class=\"sk-item\"><div class=\"sk-estimator sk-toggleable\"><input class=\"sk-toggleable__control sk-hidden--visually\" id=\"ffacf5f5-03a5-4478-9b11-d9d1dbd53ce2\" type=\"checkbox\" ><label class=\"sk-toggleable__label\" for=\"ffacf5f5-03a5-4478-9b11-d9d1dbd53ce2\">VarianceThreshold</label><div class=\"sk-toggleable__content\"><pre>VarianceThreshold()</pre></div></div></div><div class=\"sk-item\"><div class=\"sk-estimator sk-toggleable\"><input class=\"sk-toggleable__control sk-hidden--visually\" id=\"bb1bb246-af1c-4233-bffc-f34e79623a91\" type=\"checkbox\" ><label class=\"sk-toggleable__label\" for=\"bb1bb246-af1c-4233-bffc-f34e79623a91\">XGBClassifier</label><div class=\"sk-toggleable__content\"><pre>XGBClassifier(base_score=None, booster=None, colsample_bylevel=None,\n",
       "              colsample_bynode=None, colsample_bytree=None,\n",
       "              eval_metric='logloss', gamma=None, gpu_id=None,\n",
       "              importance_type='gain', interaction_constraints=None,\n",
       "              learning_rate=None, max_delta_step=None, max_depth=None,\n",
       "              min_child_weight=None, missing=nan, monotone_constraints=None,\n",
       "              n_estimators=100, n_jobs=None, num_parallel_tree=None,\n",
       "              random_state=None, reg_alpha=None, reg_lambda=None,\n",
       "              scale_pos_weight=None, subsample=None, tree_method=None,\n",
       "              use_label_encoder=False, validate_parameters=None, verbosity=0)</pre></div></div></div></div></div></div></div>"
      ],
      "text/plain": [
       "<IPython.core.display.HTML object>"
      ]
     },
     "metadata": {},
     "output_type": "display_data"
    }
   ],
   "source": [
    "set_config(display='diagram')\n",
    "display(HTML(estimator_html_repr(pipeline)))"
   ]
  },
  {
   "cell_type": "code",
   "execution_count": 24,
   "id": "b6f66a8d",
   "metadata": {},
   "outputs": [
    {
     "name": "stdout",
     "output_type": "stream",
     "text": [
      "Fitting 3 folds for each of 5 candidates, totalling 15 fits\n"
     ]
    },
    {
     "ename": "KeyboardInterrupt",
     "evalue": "",
     "output_type": "error",
     "traceback": [
      "\u001b[1;31m---------------------------------------------------------------------------\u001b[0m",
      "\u001b[1;31mKeyboardInterrupt\u001b[0m                         Traceback (most recent call last)",
      "\u001b[1;32m<ipython-input-24-b6472ae3d502>\u001b[0m in \u001b[0;36m<module>\u001b[1;34m\u001b[0m\n\u001b[0;32m     25\u001b[0m \u001b[1;33m\u001b[0m\u001b[0m\n\u001b[0;32m     26\u001b[0m \u001b[1;31m# Preprocessing of training data, fit model\u001b[0m\u001b[1;33m\u001b[0m\u001b[1;33m\u001b[0m\u001b[1;33m\u001b[0m\u001b[0m\n\u001b[1;32m---> 27\u001b[1;33m \u001b[0msearch\u001b[0m\u001b[1;33m.\u001b[0m\u001b[0mfit\u001b[0m\u001b[1;33m(\u001b[0m\u001b[0mX_train\u001b[0m\u001b[1;33m,\u001b[0m \u001b[0my_train\u001b[0m\u001b[1;33m)\u001b[0m\u001b[1;33m\u001b[0m\u001b[1;33m\u001b[0m\u001b[0m\n\u001b[0m",
      "\u001b[1;32m~\\anaconda3\\envs\\capstone2env\\lib\\site-packages\\sklearn\\utils\\validation.py\u001b[0m in \u001b[0;36minner_f\u001b[1;34m(*args, **kwargs)\u001b[0m\n\u001b[0;32m     61\u001b[0m             \u001b[0mextra_args\u001b[0m \u001b[1;33m=\u001b[0m \u001b[0mlen\u001b[0m\u001b[1;33m(\u001b[0m\u001b[0margs\u001b[0m\u001b[1;33m)\u001b[0m \u001b[1;33m-\u001b[0m \u001b[0mlen\u001b[0m\u001b[1;33m(\u001b[0m\u001b[0mall_args\u001b[0m\u001b[1;33m)\u001b[0m\u001b[1;33m\u001b[0m\u001b[1;33m\u001b[0m\u001b[0m\n\u001b[0;32m     62\u001b[0m             \u001b[1;32mif\u001b[0m \u001b[0mextra_args\u001b[0m \u001b[1;33m<=\u001b[0m \u001b[1;36m0\u001b[0m\u001b[1;33m:\u001b[0m\u001b[1;33m\u001b[0m\u001b[1;33m\u001b[0m\u001b[0m\n\u001b[1;32m---> 63\u001b[1;33m                 \u001b[1;32mreturn\u001b[0m \u001b[0mf\u001b[0m\u001b[1;33m(\u001b[0m\u001b[1;33m*\u001b[0m\u001b[0margs\u001b[0m\u001b[1;33m,\u001b[0m \u001b[1;33m**\u001b[0m\u001b[0mkwargs\u001b[0m\u001b[1;33m)\u001b[0m\u001b[1;33m\u001b[0m\u001b[1;33m\u001b[0m\u001b[0m\n\u001b[0m\u001b[0;32m     64\u001b[0m \u001b[1;33m\u001b[0m\u001b[0m\n\u001b[0;32m     65\u001b[0m             \u001b[1;31m# extra_args > 0\u001b[0m\u001b[1;33m\u001b[0m\u001b[1;33m\u001b[0m\u001b[1;33m\u001b[0m\u001b[0m\n",
      "\u001b[1;32m~\\anaconda3\\envs\\capstone2env\\lib\\site-packages\\sklearn\\model_selection\\_search.py\u001b[0m in \u001b[0;36mfit\u001b[1;34m(self, X, y, groups, **fit_params)\u001b[0m\n\u001b[0;32m    839\u001b[0m                 \u001b[1;32mreturn\u001b[0m \u001b[0mresults\u001b[0m\u001b[1;33m\u001b[0m\u001b[1;33m\u001b[0m\u001b[0m\n\u001b[0;32m    840\u001b[0m \u001b[1;33m\u001b[0m\u001b[0m\n\u001b[1;32m--> 841\u001b[1;33m             \u001b[0mself\u001b[0m\u001b[1;33m.\u001b[0m\u001b[0m_run_search\u001b[0m\u001b[1;33m(\u001b[0m\u001b[0mevaluate_candidates\u001b[0m\u001b[1;33m)\u001b[0m\u001b[1;33m\u001b[0m\u001b[1;33m\u001b[0m\u001b[0m\n\u001b[0m\u001b[0;32m    842\u001b[0m \u001b[1;33m\u001b[0m\u001b[0m\n\u001b[0;32m    843\u001b[0m             \u001b[1;31m# multimetric is determined here because in the case of a callable\u001b[0m\u001b[1;33m\u001b[0m\u001b[1;33m\u001b[0m\u001b[1;33m\u001b[0m\u001b[0m\n",
      "\u001b[1;32m~\\anaconda3\\envs\\capstone2env\\lib\\site-packages\\sklearn\\model_selection\\_search.py\u001b[0m in \u001b[0;36m_run_search\u001b[1;34m(self, evaluate_candidates)\u001b[0m\n\u001b[0;32m   1631\u001b[0m     \u001b[1;32mdef\u001b[0m \u001b[0m_run_search\u001b[0m\u001b[1;33m(\u001b[0m\u001b[0mself\u001b[0m\u001b[1;33m,\u001b[0m \u001b[0mevaluate_candidates\u001b[0m\u001b[1;33m)\u001b[0m\u001b[1;33m:\u001b[0m\u001b[1;33m\u001b[0m\u001b[1;33m\u001b[0m\u001b[0m\n\u001b[0;32m   1632\u001b[0m         \u001b[1;34m\"\"\"Search n_iter candidates from param_distributions\"\"\"\u001b[0m\u001b[1;33m\u001b[0m\u001b[1;33m\u001b[0m\u001b[0m\n\u001b[1;32m-> 1633\u001b[1;33m         evaluate_candidates(ParameterSampler(\n\u001b[0m\u001b[0;32m   1634\u001b[0m             \u001b[0mself\u001b[0m\u001b[1;33m.\u001b[0m\u001b[0mparam_distributions\u001b[0m\u001b[1;33m,\u001b[0m \u001b[0mself\u001b[0m\u001b[1;33m.\u001b[0m\u001b[0mn_iter\u001b[0m\u001b[1;33m,\u001b[0m\u001b[1;33m\u001b[0m\u001b[1;33m\u001b[0m\u001b[0m\n\u001b[0;32m   1635\u001b[0m             random_state=self.random_state))\n",
      "\u001b[1;32m~\\anaconda3\\envs\\capstone2env\\lib\\site-packages\\sklearn\\model_selection\\_search.py\u001b[0m in \u001b[0;36mevaluate_candidates\u001b[1;34m(candidate_params, cv, more_results)\u001b[0m\n\u001b[0;32m    793\u001b[0m                               n_splits, n_candidates, n_candidates * n_splits))\n\u001b[0;32m    794\u001b[0m \u001b[1;33m\u001b[0m\u001b[0m\n\u001b[1;32m--> 795\u001b[1;33m                 out = parallel(delayed(_fit_and_score)(clone(base_estimator),\n\u001b[0m\u001b[0;32m    796\u001b[0m                                                        \u001b[0mX\u001b[0m\u001b[1;33m,\u001b[0m \u001b[0my\u001b[0m\u001b[1;33m,\u001b[0m\u001b[1;33m\u001b[0m\u001b[1;33m\u001b[0m\u001b[0m\n\u001b[0;32m    797\u001b[0m                                                        \u001b[0mtrain\u001b[0m\u001b[1;33m=\u001b[0m\u001b[0mtrain\u001b[0m\u001b[1;33m,\u001b[0m \u001b[0mtest\u001b[0m\u001b[1;33m=\u001b[0m\u001b[0mtest\u001b[0m\u001b[1;33m,\u001b[0m\u001b[1;33m\u001b[0m\u001b[1;33m\u001b[0m\u001b[0m\n",
      "\u001b[1;32m~\\anaconda3\\envs\\capstone2env\\lib\\site-packages\\joblib\\parallel.py\u001b[0m in \u001b[0;36m__call__\u001b[1;34m(self, iterable)\u001b[0m\n\u001b[0;32m   1039\u001b[0m             \u001b[1;31m# remaining jobs.\u001b[0m\u001b[1;33m\u001b[0m\u001b[1;33m\u001b[0m\u001b[1;33m\u001b[0m\u001b[0m\n\u001b[0;32m   1040\u001b[0m             \u001b[0mself\u001b[0m\u001b[1;33m.\u001b[0m\u001b[0m_iterating\u001b[0m \u001b[1;33m=\u001b[0m \u001b[1;32mFalse\u001b[0m\u001b[1;33m\u001b[0m\u001b[1;33m\u001b[0m\u001b[0m\n\u001b[1;32m-> 1041\u001b[1;33m             \u001b[1;32mif\u001b[0m \u001b[0mself\u001b[0m\u001b[1;33m.\u001b[0m\u001b[0mdispatch_one_batch\u001b[0m\u001b[1;33m(\u001b[0m\u001b[0miterator\u001b[0m\u001b[1;33m)\u001b[0m\u001b[1;33m:\u001b[0m\u001b[1;33m\u001b[0m\u001b[1;33m\u001b[0m\u001b[0m\n\u001b[0m\u001b[0;32m   1042\u001b[0m                 \u001b[0mself\u001b[0m\u001b[1;33m.\u001b[0m\u001b[0m_iterating\u001b[0m \u001b[1;33m=\u001b[0m \u001b[0mself\u001b[0m\u001b[1;33m.\u001b[0m\u001b[0m_original_iterator\u001b[0m \u001b[1;32mis\u001b[0m \u001b[1;32mnot\u001b[0m \u001b[1;32mNone\u001b[0m\u001b[1;33m\u001b[0m\u001b[1;33m\u001b[0m\u001b[0m\n\u001b[0;32m   1043\u001b[0m \u001b[1;33m\u001b[0m\u001b[0m\n",
      "\u001b[1;32m~\\anaconda3\\envs\\capstone2env\\lib\\site-packages\\joblib\\parallel.py\u001b[0m in \u001b[0;36mdispatch_one_batch\u001b[1;34m(self, iterator)\u001b[0m\n\u001b[0;32m    857\u001b[0m                 \u001b[1;32mreturn\u001b[0m \u001b[1;32mFalse\u001b[0m\u001b[1;33m\u001b[0m\u001b[1;33m\u001b[0m\u001b[0m\n\u001b[0;32m    858\u001b[0m             \u001b[1;32melse\u001b[0m\u001b[1;33m:\u001b[0m\u001b[1;33m\u001b[0m\u001b[1;33m\u001b[0m\u001b[0m\n\u001b[1;32m--> 859\u001b[1;33m                 \u001b[0mself\u001b[0m\u001b[1;33m.\u001b[0m\u001b[0m_dispatch\u001b[0m\u001b[1;33m(\u001b[0m\u001b[0mtasks\u001b[0m\u001b[1;33m)\u001b[0m\u001b[1;33m\u001b[0m\u001b[1;33m\u001b[0m\u001b[0m\n\u001b[0m\u001b[0;32m    860\u001b[0m                 \u001b[1;32mreturn\u001b[0m \u001b[1;32mTrue\u001b[0m\u001b[1;33m\u001b[0m\u001b[1;33m\u001b[0m\u001b[0m\n\u001b[0;32m    861\u001b[0m \u001b[1;33m\u001b[0m\u001b[0m\n",
      "\u001b[1;32m~\\anaconda3\\envs\\capstone2env\\lib\\site-packages\\joblib\\parallel.py\u001b[0m in \u001b[0;36m_dispatch\u001b[1;34m(self, batch)\u001b[0m\n\u001b[0;32m    775\u001b[0m         \u001b[1;32mwith\u001b[0m \u001b[0mself\u001b[0m\u001b[1;33m.\u001b[0m\u001b[0m_lock\u001b[0m\u001b[1;33m:\u001b[0m\u001b[1;33m\u001b[0m\u001b[1;33m\u001b[0m\u001b[0m\n\u001b[0;32m    776\u001b[0m             \u001b[0mjob_idx\u001b[0m \u001b[1;33m=\u001b[0m \u001b[0mlen\u001b[0m\u001b[1;33m(\u001b[0m\u001b[0mself\u001b[0m\u001b[1;33m.\u001b[0m\u001b[0m_jobs\u001b[0m\u001b[1;33m)\u001b[0m\u001b[1;33m\u001b[0m\u001b[1;33m\u001b[0m\u001b[0m\n\u001b[1;32m--> 777\u001b[1;33m             \u001b[0mjob\u001b[0m \u001b[1;33m=\u001b[0m \u001b[0mself\u001b[0m\u001b[1;33m.\u001b[0m\u001b[0m_backend\u001b[0m\u001b[1;33m.\u001b[0m\u001b[0mapply_async\u001b[0m\u001b[1;33m(\u001b[0m\u001b[0mbatch\u001b[0m\u001b[1;33m,\u001b[0m \u001b[0mcallback\u001b[0m\u001b[1;33m=\u001b[0m\u001b[0mcb\u001b[0m\u001b[1;33m)\u001b[0m\u001b[1;33m\u001b[0m\u001b[1;33m\u001b[0m\u001b[0m\n\u001b[0m\u001b[0;32m    778\u001b[0m             \u001b[1;31m# A job can complete so quickly than its callback is\u001b[0m\u001b[1;33m\u001b[0m\u001b[1;33m\u001b[0m\u001b[1;33m\u001b[0m\u001b[0m\n\u001b[0;32m    779\u001b[0m             \u001b[1;31m# called before we get here, causing self._jobs to\u001b[0m\u001b[1;33m\u001b[0m\u001b[1;33m\u001b[0m\u001b[1;33m\u001b[0m\u001b[0m\n",
      "\u001b[1;32m~\\anaconda3\\envs\\capstone2env\\lib\\site-packages\\joblib\\_parallel_backends.py\u001b[0m in \u001b[0;36mapply_async\u001b[1;34m(self, func, callback)\u001b[0m\n\u001b[0;32m    206\u001b[0m     \u001b[1;32mdef\u001b[0m \u001b[0mapply_async\u001b[0m\u001b[1;33m(\u001b[0m\u001b[0mself\u001b[0m\u001b[1;33m,\u001b[0m \u001b[0mfunc\u001b[0m\u001b[1;33m,\u001b[0m \u001b[0mcallback\u001b[0m\u001b[1;33m=\u001b[0m\u001b[1;32mNone\u001b[0m\u001b[1;33m)\u001b[0m\u001b[1;33m:\u001b[0m\u001b[1;33m\u001b[0m\u001b[1;33m\u001b[0m\u001b[0m\n\u001b[0;32m    207\u001b[0m         \u001b[1;34m\"\"\"Schedule a func to be run\"\"\"\u001b[0m\u001b[1;33m\u001b[0m\u001b[1;33m\u001b[0m\u001b[0m\n\u001b[1;32m--> 208\u001b[1;33m         \u001b[0mresult\u001b[0m \u001b[1;33m=\u001b[0m \u001b[0mImmediateResult\u001b[0m\u001b[1;33m(\u001b[0m\u001b[0mfunc\u001b[0m\u001b[1;33m)\u001b[0m\u001b[1;33m\u001b[0m\u001b[1;33m\u001b[0m\u001b[0m\n\u001b[0m\u001b[0;32m    209\u001b[0m         \u001b[1;32mif\u001b[0m \u001b[0mcallback\u001b[0m\u001b[1;33m:\u001b[0m\u001b[1;33m\u001b[0m\u001b[1;33m\u001b[0m\u001b[0m\n\u001b[0;32m    210\u001b[0m             \u001b[0mcallback\u001b[0m\u001b[1;33m(\u001b[0m\u001b[0mresult\u001b[0m\u001b[1;33m)\u001b[0m\u001b[1;33m\u001b[0m\u001b[1;33m\u001b[0m\u001b[0m\n",
      "\u001b[1;32m~\\anaconda3\\envs\\capstone2env\\lib\\site-packages\\joblib\\_parallel_backends.py\u001b[0m in \u001b[0;36m__init__\u001b[1;34m(self, batch)\u001b[0m\n\u001b[0;32m    570\u001b[0m         \u001b[1;31m# Don't delay the application, to avoid keeping the input\u001b[0m\u001b[1;33m\u001b[0m\u001b[1;33m\u001b[0m\u001b[1;33m\u001b[0m\u001b[0m\n\u001b[0;32m    571\u001b[0m         \u001b[1;31m# arguments in memory\u001b[0m\u001b[1;33m\u001b[0m\u001b[1;33m\u001b[0m\u001b[1;33m\u001b[0m\u001b[0m\n\u001b[1;32m--> 572\u001b[1;33m         \u001b[0mself\u001b[0m\u001b[1;33m.\u001b[0m\u001b[0mresults\u001b[0m \u001b[1;33m=\u001b[0m \u001b[0mbatch\u001b[0m\u001b[1;33m(\u001b[0m\u001b[1;33m)\u001b[0m\u001b[1;33m\u001b[0m\u001b[1;33m\u001b[0m\u001b[0m\n\u001b[0m\u001b[0;32m    573\u001b[0m \u001b[1;33m\u001b[0m\u001b[0m\n\u001b[0;32m    574\u001b[0m     \u001b[1;32mdef\u001b[0m \u001b[0mget\u001b[0m\u001b[1;33m(\u001b[0m\u001b[0mself\u001b[0m\u001b[1;33m)\u001b[0m\u001b[1;33m:\u001b[0m\u001b[1;33m\u001b[0m\u001b[1;33m\u001b[0m\u001b[0m\n",
      "\u001b[1;32m~\\anaconda3\\envs\\capstone2env\\lib\\site-packages\\joblib\\parallel.py\u001b[0m in \u001b[0;36m__call__\u001b[1;34m(self)\u001b[0m\n\u001b[0;32m    260\u001b[0m         \u001b[1;31m# change the default number of processes to -1\u001b[0m\u001b[1;33m\u001b[0m\u001b[1;33m\u001b[0m\u001b[1;33m\u001b[0m\u001b[0m\n\u001b[0;32m    261\u001b[0m         \u001b[1;32mwith\u001b[0m \u001b[0mparallel_backend\u001b[0m\u001b[1;33m(\u001b[0m\u001b[0mself\u001b[0m\u001b[1;33m.\u001b[0m\u001b[0m_backend\u001b[0m\u001b[1;33m,\u001b[0m \u001b[0mn_jobs\u001b[0m\u001b[1;33m=\u001b[0m\u001b[0mself\u001b[0m\u001b[1;33m.\u001b[0m\u001b[0m_n_jobs\u001b[0m\u001b[1;33m)\u001b[0m\u001b[1;33m:\u001b[0m\u001b[1;33m\u001b[0m\u001b[1;33m\u001b[0m\u001b[0m\n\u001b[1;32m--> 262\u001b[1;33m             return [func(*args, **kwargs)\n\u001b[0m\u001b[0;32m    263\u001b[0m                     for func, args, kwargs in self.items]\n\u001b[0;32m    264\u001b[0m \u001b[1;33m\u001b[0m\u001b[0m\n",
      "\u001b[1;32m~\\anaconda3\\envs\\capstone2env\\lib\\site-packages\\joblib\\parallel.py\u001b[0m in \u001b[0;36m<listcomp>\u001b[1;34m(.0)\u001b[0m\n\u001b[0;32m    260\u001b[0m         \u001b[1;31m# change the default number of processes to -1\u001b[0m\u001b[1;33m\u001b[0m\u001b[1;33m\u001b[0m\u001b[1;33m\u001b[0m\u001b[0m\n\u001b[0;32m    261\u001b[0m         \u001b[1;32mwith\u001b[0m \u001b[0mparallel_backend\u001b[0m\u001b[1;33m(\u001b[0m\u001b[0mself\u001b[0m\u001b[1;33m.\u001b[0m\u001b[0m_backend\u001b[0m\u001b[1;33m,\u001b[0m \u001b[0mn_jobs\u001b[0m\u001b[1;33m=\u001b[0m\u001b[0mself\u001b[0m\u001b[1;33m.\u001b[0m\u001b[0m_n_jobs\u001b[0m\u001b[1;33m)\u001b[0m\u001b[1;33m:\u001b[0m\u001b[1;33m\u001b[0m\u001b[1;33m\u001b[0m\u001b[0m\n\u001b[1;32m--> 262\u001b[1;33m             return [func(*args, **kwargs)\n\u001b[0m\u001b[0;32m    263\u001b[0m                     for func, args, kwargs in self.items]\n\u001b[0;32m    264\u001b[0m \u001b[1;33m\u001b[0m\u001b[0m\n",
      "\u001b[1;32m~\\anaconda3\\envs\\capstone2env\\lib\\site-packages\\sklearn\\utils\\fixes.py\u001b[0m in \u001b[0;36m__call__\u001b[1;34m(self, *args, **kwargs)\u001b[0m\n\u001b[0;32m    220\u001b[0m     \u001b[1;32mdef\u001b[0m \u001b[0m__call__\u001b[0m\u001b[1;33m(\u001b[0m\u001b[0mself\u001b[0m\u001b[1;33m,\u001b[0m \u001b[1;33m*\u001b[0m\u001b[0margs\u001b[0m\u001b[1;33m,\u001b[0m \u001b[1;33m**\u001b[0m\u001b[0mkwargs\u001b[0m\u001b[1;33m)\u001b[0m\u001b[1;33m:\u001b[0m\u001b[1;33m\u001b[0m\u001b[1;33m\u001b[0m\u001b[0m\n\u001b[0;32m    221\u001b[0m         \u001b[1;32mwith\u001b[0m \u001b[0mconfig_context\u001b[0m\u001b[1;33m(\u001b[0m\u001b[1;33m**\u001b[0m\u001b[0mself\u001b[0m\u001b[1;33m.\u001b[0m\u001b[0mconfig\u001b[0m\u001b[1;33m)\u001b[0m\u001b[1;33m:\u001b[0m\u001b[1;33m\u001b[0m\u001b[1;33m\u001b[0m\u001b[0m\n\u001b[1;32m--> 222\u001b[1;33m             \u001b[1;32mreturn\u001b[0m \u001b[0mself\u001b[0m\u001b[1;33m.\u001b[0m\u001b[0mfunction\u001b[0m\u001b[1;33m(\u001b[0m\u001b[1;33m*\u001b[0m\u001b[0margs\u001b[0m\u001b[1;33m,\u001b[0m \u001b[1;33m**\u001b[0m\u001b[0mkwargs\u001b[0m\u001b[1;33m)\u001b[0m\u001b[1;33m\u001b[0m\u001b[1;33m\u001b[0m\u001b[0m\n\u001b[0m",
      "\u001b[1;32m~\\anaconda3\\envs\\capstone2env\\lib\\site-packages\\sklearn\\model_selection\\_validation.py\u001b[0m in \u001b[0;36m_fit_and_score\u001b[1;34m(estimator, X, y, scorer, train, test, verbose, parameters, fit_params, return_train_score, return_parameters, return_n_test_samples, return_times, return_estimator, split_progress, candidate_progress, error_score)\u001b[0m\n\u001b[0;32m    596\u001b[0m             \u001b[0mestimator\u001b[0m\u001b[1;33m.\u001b[0m\u001b[0mfit\u001b[0m\u001b[1;33m(\u001b[0m\u001b[0mX_train\u001b[0m\u001b[1;33m,\u001b[0m \u001b[1;33m**\u001b[0m\u001b[0mfit_params\u001b[0m\u001b[1;33m)\u001b[0m\u001b[1;33m\u001b[0m\u001b[1;33m\u001b[0m\u001b[0m\n\u001b[0;32m    597\u001b[0m         \u001b[1;32melse\u001b[0m\u001b[1;33m:\u001b[0m\u001b[1;33m\u001b[0m\u001b[1;33m\u001b[0m\u001b[0m\n\u001b[1;32m--> 598\u001b[1;33m             \u001b[0mestimator\u001b[0m\u001b[1;33m.\u001b[0m\u001b[0mfit\u001b[0m\u001b[1;33m(\u001b[0m\u001b[0mX_train\u001b[0m\u001b[1;33m,\u001b[0m \u001b[0my_train\u001b[0m\u001b[1;33m,\u001b[0m \u001b[1;33m**\u001b[0m\u001b[0mfit_params\u001b[0m\u001b[1;33m)\u001b[0m\u001b[1;33m\u001b[0m\u001b[1;33m\u001b[0m\u001b[0m\n\u001b[0m\u001b[0;32m    599\u001b[0m \u001b[1;33m\u001b[0m\u001b[0m\n\u001b[0;32m    600\u001b[0m     \u001b[1;32mexcept\u001b[0m \u001b[0mException\u001b[0m \u001b[1;32mas\u001b[0m \u001b[0me\u001b[0m\u001b[1;33m:\u001b[0m\u001b[1;33m\u001b[0m\u001b[1;33m\u001b[0m\u001b[0m\n",
      "\u001b[1;32m~\\anaconda3\\envs\\capstone2env\\lib\\site-packages\\sklearn\\pipeline.py\u001b[0m in \u001b[0;36mfit\u001b[1;34m(self, X, y, **fit_params)\u001b[0m\n\u001b[0;32m    339\u001b[0m         \"\"\"\n\u001b[0;32m    340\u001b[0m         \u001b[0mfit_params_steps\u001b[0m \u001b[1;33m=\u001b[0m \u001b[0mself\u001b[0m\u001b[1;33m.\u001b[0m\u001b[0m_check_fit_params\u001b[0m\u001b[1;33m(\u001b[0m\u001b[1;33m**\u001b[0m\u001b[0mfit_params\u001b[0m\u001b[1;33m)\u001b[0m\u001b[1;33m\u001b[0m\u001b[1;33m\u001b[0m\u001b[0m\n\u001b[1;32m--> 341\u001b[1;33m         \u001b[0mXt\u001b[0m \u001b[1;33m=\u001b[0m \u001b[0mself\u001b[0m\u001b[1;33m.\u001b[0m\u001b[0m_fit\u001b[0m\u001b[1;33m(\u001b[0m\u001b[0mX\u001b[0m\u001b[1;33m,\u001b[0m \u001b[0my\u001b[0m\u001b[1;33m,\u001b[0m \u001b[1;33m**\u001b[0m\u001b[0mfit_params_steps\u001b[0m\u001b[1;33m)\u001b[0m\u001b[1;33m\u001b[0m\u001b[1;33m\u001b[0m\u001b[0m\n\u001b[0m\u001b[0;32m    342\u001b[0m         with _print_elapsed_time('Pipeline',\n\u001b[0;32m    343\u001b[0m                                  self._log_message(len(self.steps) - 1)):\n",
      "\u001b[1;32m~\\anaconda3\\envs\\capstone2env\\lib\\site-packages\\sklearn\\pipeline.py\u001b[0m in \u001b[0;36m_fit\u001b[1;34m(self, X, y, **fit_params_steps)\u001b[0m\n\u001b[0;32m    301\u001b[0m                 \u001b[0mcloned_transformer\u001b[0m \u001b[1;33m=\u001b[0m \u001b[0mclone\u001b[0m\u001b[1;33m(\u001b[0m\u001b[0mtransformer\u001b[0m\u001b[1;33m)\u001b[0m\u001b[1;33m\u001b[0m\u001b[1;33m\u001b[0m\u001b[0m\n\u001b[0;32m    302\u001b[0m             \u001b[1;31m# Fit or load from cache the current transformer\u001b[0m\u001b[1;33m\u001b[0m\u001b[1;33m\u001b[0m\u001b[1;33m\u001b[0m\u001b[0m\n\u001b[1;32m--> 303\u001b[1;33m             X, fitted_transformer = fit_transform_one_cached(\n\u001b[0m\u001b[0;32m    304\u001b[0m                 \u001b[0mcloned_transformer\u001b[0m\u001b[1;33m,\u001b[0m \u001b[0mX\u001b[0m\u001b[1;33m,\u001b[0m \u001b[0my\u001b[0m\u001b[1;33m,\u001b[0m \u001b[1;32mNone\u001b[0m\u001b[1;33m,\u001b[0m\u001b[1;33m\u001b[0m\u001b[1;33m\u001b[0m\u001b[0m\n\u001b[0;32m    305\u001b[0m                 \u001b[0mmessage_clsname\u001b[0m\u001b[1;33m=\u001b[0m\u001b[1;34m'Pipeline'\u001b[0m\u001b[1;33m,\u001b[0m\u001b[1;33m\u001b[0m\u001b[1;33m\u001b[0m\u001b[0m\n",
      "\u001b[1;32m~\\anaconda3\\envs\\capstone2env\\lib\\site-packages\\joblib\\memory.py\u001b[0m in \u001b[0;36m__call__\u001b[1;34m(self, *args, **kwargs)\u001b[0m\n\u001b[0;32m    350\u001b[0m \u001b[1;33m\u001b[0m\u001b[0m\n\u001b[0;32m    351\u001b[0m     \u001b[1;32mdef\u001b[0m \u001b[0m__call__\u001b[0m\u001b[1;33m(\u001b[0m\u001b[0mself\u001b[0m\u001b[1;33m,\u001b[0m \u001b[1;33m*\u001b[0m\u001b[0margs\u001b[0m\u001b[1;33m,\u001b[0m \u001b[1;33m**\u001b[0m\u001b[0mkwargs\u001b[0m\u001b[1;33m)\u001b[0m\u001b[1;33m:\u001b[0m\u001b[1;33m\u001b[0m\u001b[1;33m\u001b[0m\u001b[0m\n\u001b[1;32m--> 352\u001b[1;33m         \u001b[1;32mreturn\u001b[0m \u001b[0mself\u001b[0m\u001b[1;33m.\u001b[0m\u001b[0mfunc\u001b[0m\u001b[1;33m(\u001b[0m\u001b[1;33m*\u001b[0m\u001b[0margs\u001b[0m\u001b[1;33m,\u001b[0m \u001b[1;33m**\u001b[0m\u001b[0mkwargs\u001b[0m\u001b[1;33m)\u001b[0m\u001b[1;33m\u001b[0m\u001b[1;33m\u001b[0m\u001b[0m\n\u001b[0m\u001b[0;32m    353\u001b[0m \u001b[1;33m\u001b[0m\u001b[0m\n\u001b[0;32m    354\u001b[0m     \u001b[1;32mdef\u001b[0m \u001b[0mcall_and_shelve\u001b[0m\u001b[1;33m(\u001b[0m\u001b[0mself\u001b[0m\u001b[1;33m,\u001b[0m \u001b[1;33m*\u001b[0m\u001b[0margs\u001b[0m\u001b[1;33m,\u001b[0m \u001b[1;33m**\u001b[0m\u001b[0mkwargs\u001b[0m\u001b[1;33m)\u001b[0m\u001b[1;33m:\u001b[0m\u001b[1;33m\u001b[0m\u001b[1;33m\u001b[0m\u001b[0m\n",
      "\u001b[1;32m~\\anaconda3\\envs\\capstone2env\\lib\\site-packages\\sklearn\\pipeline.py\u001b[0m in \u001b[0;36m_fit_transform_one\u001b[1;34m(transformer, X, y, weight, message_clsname, message, **fit_params)\u001b[0m\n\u001b[0;32m    752\u001b[0m     \u001b[1;32mwith\u001b[0m \u001b[0m_print_elapsed_time\u001b[0m\u001b[1;33m(\u001b[0m\u001b[0mmessage_clsname\u001b[0m\u001b[1;33m,\u001b[0m \u001b[0mmessage\u001b[0m\u001b[1;33m)\u001b[0m\u001b[1;33m:\u001b[0m\u001b[1;33m\u001b[0m\u001b[1;33m\u001b[0m\u001b[0m\n\u001b[0;32m    753\u001b[0m         \u001b[1;32mif\u001b[0m \u001b[0mhasattr\u001b[0m\u001b[1;33m(\u001b[0m\u001b[0mtransformer\u001b[0m\u001b[1;33m,\u001b[0m \u001b[1;34m'fit_transform'\u001b[0m\u001b[1;33m)\u001b[0m\u001b[1;33m:\u001b[0m\u001b[1;33m\u001b[0m\u001b[1;33m\u001b[0m\u001b[0m\n\u001b[1;32m--> 754\u001b[1;33m             \u001b[0mres\u001b[0m \u001b[1;33m=\u001b[0m \u001b[0mtransformer\u001b[0m\u001b[1;33m.\u001b[0m\u001b[0mfit_transform\u001b[0m\u001b[1;33m(\u001b[0m\u001b[0mX\u001b[0m\u001b[1;33m,\u001b[0m \u001b[0my\u001b[0m\u001b[1;33m,\u001b[0m \u001b[1;33m**\u001b[0m\u001b[0mfit_params\u001b[0m\u001b[1;33m)\u001b[0m\u001b[1;33m\u001b[0m\u001b[1;33m\u001b[0m\u001b[0m\n\u001b[0m\u001b[0;32m    755\u001b[0m         \u001b[1;32melse\u001b[0m\u001b[1;33m:\u001b[0m\u001b[1;33m\u001b[0m\u001b[1;33m\u001b[0m\u001b[0m\n\u001b[0;32m    756\u001b[0m             \u001b[0mres\u001b[0m \u001b[1;33m=\u001b[0m \u001b[0mtransformer\u001b[0m\u001b[1;33m.\u001b[0m\u001b[0mfit\u001b[0m\u001b[1;33m(\u001b[0m\u001b[0mX\u001b[0m\u001b[1;33m,\u001b[0m \u001b[0my\u001b[0m\u001b[1;33m,\u001b[0m \u001b[1;33m**\u001b[0m\u001b[0mfit_params\u001b[0m\u001b[1;33m)\u001b[0m\u001b[1;33m.\u001b[0m\u001b[0mtransform\u001b[0m\u001b[1;33m(\u001b[0m\u001b[0mX\u001b[0m\u001b[1;33m)\u001b[0m\u001b[1;33m\u001b[0m\u001b[1;33m\u001b[0m\u001b[0m\n",
      "\u001b[1;32m~\\anaconda3\\envs\\capstone2env\\lib\\site-packages\\sklearn\\compose\\_column_transformer.py\u001b[0m in \u001b[0;36mfit_transform\u001b[1;34m(self, X, y)\u001b[0m\n\u001b[0;32m    505\u001b[0m         \u001b[0mself\u001b[0m\u001b[1;33m.\u001b[0m\u001b[0m_validate_remainder\u001b[0m\u001b[1;33m(\u001b[0m\u001b[0mX\u001b[0m\u001b[1;33m)\u001b[0m\u001b[1;33m\u001b[0m\u001b[1;33m\u001b[0m\u001b[0m\n\u001b[0;32m    506\u001b[0m \u001b[1;33m\u001b[0m\u001b[0m\n\u001b[1;32m--> 507\u001b[1;33m         \u001b[0mresult\u001b[0m \u001b[1;33m=\u001b[0m \u001b[0mself\u001b[0m\u001b[1;33m.\u001b[0m\u001b[0m_fit_transform\u001b[0m\u001b[1;33m(\u001b[0m\u001b[0mX\u001b[0m\u001b[1;33m,\u001b[0m \u001b[0my\u001b[0m\u001b[1;33m,\u001b[0m \u001b[0m_fit_transform_one\u001b[0m\u001b[1;33m)\u001b[0m\u001b[1;33m\u001b[0m\u001b[1;33m\u001b[0m\u001b[0m\n\u001b[0m\u001b[0;32m    508\u001b[0m \u001b[1;33m\u001b[0m\u001b[0m\n\u001b[0;32m    509\u001b[0m         \u001b[1;32mif\u001b[0m \u001b[1;32mnot\u001b[0m \u001b[0mresult\u001b[0m\u001b[1;33m:\u001b[0m\u001b[1;33m\u001b[0m\u001b[1;33m\u001b[0m\u001b[0m\n",
      "\u001b[1;32m~\\anaconda3\\envs\\capstone2env\\lib\\site-packages\\sklearn\\compose\\_column_transformer.py\u001b[0m in \u001b[0;36m_fit_transform\u001b[1;34m(self, X, y, func, fitted)\u001b[0m\n\u001b[0;32m    432\u001b[0m             self._iter(fitted=fitted, replace_strings=True))\n\u001b[0;32m    433\u001b[0m         \u001b[1;32mtry\u001b[0m\u001b[1;33m:\u001b[0m\u001b[1;33m\u001b[0m\u001b[1;33m\u001b[0m\u001b[0m\n\u001b[1;32m--> 434\u001b[1;33m             return Parallel(n_jobs=self.n_jobs)(\n\u001b[0m\u001b[0;32m    435\u001b[0m                 delayed(func)(\n\u001b[0;32m    436\u001b[0m                     \u001b[0mtransformer\u001b[0m\u001b[1;33m=\u001b[0m\u001b[0mclone\u001b[0m\u001b[1;33m(\u001b[0m\u001b[0mtrans\u001b[0m\u001b[1;33m)\u001b[0m \u001b[1;32mif\u001b[0m \u001b[1;32mnot\u001b[0m \u001b[0mfitted\u001b[0m \u001b[1;32melse\u001b[0m \u001b[0mtrans\u001b[0m\u001b[1;33m,\u001b[0m\u001b[1;33m\u001b[0m\u001b[1;33m\u001b[0m\u001b[0m\n",
      "\u001b[1;32m~\\anaconda3\\envs\\capstone2env\\lib\\site-packages\\joblib\\parallel.py\u001b[0m in \u001b[0;36m__call__\u001b[1;34m(self, iterable)\u001b[0m\n\u001b[0;32m   1042\u001b[0m                 \u001b[0mself\u001b[0m\u001b[1;33m.\u001b[0m\u001b[0m_iterating\u001b[0m \u001b[1;33m=\u001b[0m \u001b[0mself\u001b[0m\u001b[1;33m.\u001b[0m\u001b[0m_original_iterator\u001b[0m \u001b[1;32mis\u001b[0m \u001b[1;32mnot\u001b[0m \u001b[1;32mNone\u001b[0m\u001b[1;33m\u001b[0m\u001b[1;33m\u001b[0m\u001b[0m\n\u001b[0;32m   1043\u001b[0m \u001b[1;33m\u001b[0m\u001b[0m\n\u001b[1;32m-> 1044\u001b[1;33m             \u001b[1;32mwhile\u001b[0m \u001b[0mself\u001b[0m\u001b[1;33m.\u001b[0m\u001b[0mdispatch_one_batch\u001b[0m\u001b[1;33m(\u001b[0m\u001b[0miterator\u001b[0m\u001b[1;33m)\u001b[0m\u001b[1;33m:\u001b[0m\u001b[1;33m\u001b[0m\u001b[1;33m\u001b[0m\u001b[0m\n\u001b[0m\u001b[0;32m   1045\u001b[0m                 \u001b[1;32mpass\u001b[0m\u001b[1;33m\u001b[0m\u001b[1;33m\u001b[0m\u001b[0m\n\u001b[0;32m   1046\u001b[0m \u001b[1;33m\u001b[0m\u001b[0m\n",
      "\u001b[1;32m~\\anaconda3\\envs\\capstone2env\\lib\\site-packages\\joblib\\parallel.py\u001b[0m in \u001b[0;36mdispatch_one_batch\u001b[1;34m(self, iterator)\u001b[0m\n\u001b[0;32m    857\u001b[0m                 \u001b[1;32mreturn\u001b[0m \u001b[1;32mFalse\u001b[0m\u001b[1;33m\u001b[0m\u001b[1;33m\u001b[0m\u001b[0m\n\u001b[0;32m    858\u001b[0m             \u001b[1;32melse\u001b[0m\u001b[1;33m:\u001b[0m\u001b[1;33m\u001b[0m\u001b[1;33m\u001b[0m\u001b[0m\n\u001b[1;32m--> 859\u001b[1;33m                 \u001b[0mself\u001b[0m\u001b[1;33m.\u001b[0m\u001b[0m_dispatch\u001b[0m\u001b[1;33m(\u001b[0m\u001b[0mtasks\u001b[0m\u001b[1;33m)\u001b[0m\u001b[1;33m\u001b[0m\u001b[1;33m\u001b[0m\u001b[0m\n\u001b[0m\u001b[0;32m    860\u001b[0m                 \u001b[1;32mreturn\u001b[0m \u001b[1;32mTrue\u001b[0m\u001b[1;33m\u001b[0m\u001b[1;33m\u001b[0m\u001b[0m\n\u001b[0;32m    861\u001b[0m \u001b[1;33m\u001b[0m\u001b[0m\n",
      "\u001b[1;32m~\\anaconda3\\envs\\capstone2env\\lib\\site-packages\\joblib\\parallel.py\u001b[0m in \u001b[0;36m_dispatch\u001b[1;34m(self, batch)\u001b[0m\n\u001b[0;32m    775\u001b[0m         \u001b[1;32mwith\u001b[0m \u001b[0mself\u001b[0m\u001b[1;33m.\u001b[0m\u001b[0m_lock\u001b[0m\u001b[1;33m:\u001b[0m\u001b[1;33m\u001b[0m\u001b[1;33m\u001b[0m\u001b[0m\n\u001b[0;32m    776\u001b[0m             \u001b[0mjob_idx\u001b[0m \u001b[1;33m=\u001b[0m \u001b[0mlen\u001b[0m\u001b[1;33m(\u001b[0m\u001b[0mself\u001b[0m\u001b[1;33m.\u001b[0m\u001b[0m_jobs\u001b[0m\u001b[1;33m)\u001b[0m\u001b[1;33m\u001b[0m\u001b[1;33m\u001b[0m\u001b[0m\n\u001b[1;32m--> 777\u001b[1;33m             \u001b[0mjob\u001b[0m \u001b[1;33m=\u001b[0m \u001b[0mself\u001b[0m\u001b[1;33m.\u001b[0m\u001b[0m_backend\u001b[0m\u001b[1;33m.\u001b[0m\u001b[0mapply_async\u001b[0m\u001b[1;33m(\u001b[0m\u001b[0mbatch\u001b[0m\u001b[1;33m,\u001b[0m \u001b[0mcallback\u001b[0m\u001b[1;33m=\u001b[0m\u001b[0mcb\u001b[0m\u001b[1;33m)\u001b[0m\u001b[1;33m\u001b[0m\u001b[1;33m\u001b[0m\u001b[0m\n\u001b[0m\u001b[0;32m    778\u001b[0m             \u001b[1;31m# A job can complete so quickly than its callback is\u001b[0m\u001b[1;33m\u001b[0m\u001b[1;33m\u001b[0m\u001b[1;33m\u001b[0m\u001b[0m\n\u001b[0;32m    779\u001b[0m             \u001b[1;31m# called before we get here, causing self._jobs to\u001b[0m\u001b[1;33m\u001b[0m\u001b[1;33m\u001b[0m\u001b[1;33m\u001b[0m\u001b[0m\n",
      "\u001b[1;32m~\\anaconda3\\envs\\capstone2env\\lib\\site-packages\\joblib\\_parallel_backends.py\u001b[0m in \u001b[0;36mapply_async\u001b[1;34m(self, func, callback)\u001b[0m\n\u001b[0;32m    206\u001b[0m     \u001b[1;32mdef\u001b[0m \u001b[0mapply_async\u001b[0m\u001b[1;33m(\u001b[0m\u001b[0mself\u001b[0m\u001b[1;33m,\u001b[0m \u001b[0mfunc\u001b[0m\u001b[1;33m,\u001b[0m \u001b[0mcallback\u001b[0m\u001b[1;33m=\u001b[0m\u001b[1;32mNone\u001b[0m\u001b[1;33m)\u001b[0m\u001b[1;33m:\u001b[0m\u001b[1;33m\u001b[0m\u001b[1;33m\u001b[0m\u001b[0m\n\u001b[0;32m    207\u001b[0m         \u001b[1;34m\"\"\"Schedule a func to be run\"\"\"\u001b[0m\u001b[1;33m\u001b[0m\u001b[1;33m\u001b[0m\u001b[0m\n\u001b[1;32m--> 208\u001b[1;33m         \u001b[0mresult\u001b[0m \u001b[1;33m=\u001b[0m \u001b[0mImmediateResult\u001b[0m\u001b[1;33m(\u001b[0m\u001b[0mfunc\u001b[0m\u001b[1;33m)\u001b[0m\u001b[1;33m\u001b[0m\u001b[1;33m\u001b[0m\u001b[0m\n\u001b[0m\u001b[0;32m    209\u001b[0m         \u001b[1;32mif\u001b[0m \u001b[0mcallback\u001b[0m\u001b[1;33m:\u001b[0m\u001b[1;33m\u001b[0m\u001b[1;33m\u001b[0m\u001b[0m\n\u001b[0;32m    210\u001b[0m             \u001b[0mcallback\u001b[0m\u001b[1;33m(\u001b[0m\u001b[0mresult\u001b[0m\u001b[1;33m)\u001b[0m\u001b[1;33m\u001b[0m\u001b[1;33m\u001b[0m\u001b[0m\n",
      "\u001b[1;32m~\\anaconda3\\envs\\capstone2env\\lib\\site-packages\\joblib\\_parallel_backends.py\u001b[0m in \u001b[0;36m__init__\u001b[1;34m(self, batch)\u001b[0m\n\u001b[0;32m    570\u001b[0m         \u001b[1;31m# Don't delay the application, to avoid keeping the input\u001b[0m\u001b[1;33m\u001b[0m\u001b[1;33m\u001b[0m\u001b[1;33m\u001b[0m\u001b[0m\n\u001b[0;32m    571\u001b[0m         \u001b[1;31m# arguments in memory\u001b[0m\u001b[1;33m\u001b[0m\u001b[1;33m\u001b[0m\u001b[1;33m\u001b[0m\u001b[0m\n\u001b[1;32m--> 572\u001b[1;33m         \u001b[0mself\u001b[0m\u001b[1;33m.\u001b[0m\u001b[0mresults\u001b[0m \u001b[1;33m=\u001b[0m \u001b[0mbatch\u001b[0m\u001b[1;33m(\u001b[0m\u001b[1;33m)\u001b[0m\u001b[1;33m\u001b[0m\u001b[1;33m\u001b[0m\u001b[0m\n\u001b[0m\u001b[0;32m    573\u001b[0m \u001b[1;33m\u001b[0m\u001b[0m\n\u001b[0;32m    574\u001b[0m     \u001b[1;32mdef\u001b[0m \u001b[0mget\u001b[0m\u001b[1;33m(\u001b[0m\u001b[0mself\u001b[0m\u001b[1;33m)\u001b[0m\u001b[1;33m:\u001b[0m\u001b[1;33m\u001b[0m\u001b[1;33m\u001b[0m\u001b[0m\n",
      "\u001b[1;32m~\\anaconda3\\envs\\capstone2env\\lib\\site-packages\\joblib\\parallel.py\u001b[0m in \u001b[0;36m__call__\u001b[1;34m(self)\u001b[0m\n\u001b[0;32m    260\u001b[0m         \u001b[1;31m# change the default number of processes to -1\u001b[0m\u001b[1;33m\u001b[0m\u001b[1;33m\u001b[0m\u001b[1;33m\u001b[0m\u001b[0m\n\u001b[0;32m    261\u001b[0m         \u001b[1;32mwith\u001b[0m \u001b[0mparallel_backend\u001b[0m\u001b[1;33m(\u001b[0m\u001b[0mself\u001b[0m\u001b[1;33m.\u001b[0m\u001b[0m_backend\u001b[0m\u001b[1;33m,\u001b[0m \u001b[0mn_jobs\u001b[0m\u001b[1;33m=\u001b[0m\u001b[0mself\u001b[0m\u001b[1;33m.\u001b[0m\u001b[0m_n_jobs\u001b[0m\u001b[1;33m)\u001b[0m\u001b[1;33m:\u001b[0m\u001b[1;33m\u001b[0m\u001b[1;33m\u001b[0m\u001b[0m\n\u001b[1;32m--> 262\u001b[1;33m             return [func(*args, **kwargs)\n\u001b[0m\u001b[0;32m    263\u001b[0m                     for func, args, kwargs in self.items]\n\u001b[0;32m    264\u001b[0m \u001b[1;33m\u001b[0m\u001b[0m\n",
      "\u001b[1;32m~\\anaconda3\\envs\\capstone2env\\lib\\site-packages\\joblib\\parallel.py\u001b[0m in \u001b[0;36m<listcomp>\u001b[1;34m(.0)\u001b[0m\n\u001b[0;32m    260\u001b[0m         \u001b[1;31m# change the default number of processes to -1\u001b[0m\u001b[1;33m\u001b[0m\u001b[1;33m\u001b[0m\u001b[1;33m\u001b[0m\u001b[0m\n\u001b[0;32m    261\u001b[0m         \u001b[1;32mwith\u001b[0m \u001b[0mparallel_backend\u001b[0m\u001b[1;33m(\u001b[0m\u001b[0mself\u001b[0m\u001b[1;33m.\u001b[0m\u001b[0m_backend\u001b[0m\u001b[1;33m,\u001b[0m \u001b[0mn_jobs\u001b[0m\u001b[1;33m=\u001b[0m\u001b[0mself\u001b[0m\u001b[1;33m.\u001b[0m\u001b[0m_n_jobs\u001b[0m\u001b[1;33m)\u001b[0m\u001b[1;33m:\u001b[0m\u001b[1;33m\u001b[0m\u001b[1;33m\u001b[0m\u001b[0m\n\u001b[1;32m--> 262\u001b[1;33m             return [func(*args, **kwargs)\n\u001b[0m\u001b[0;32m    263\u001b[0m                     for func, args, kwargs in self.items]\n\u001b[0;32m    264\u001b[0m \u001b[1;33m\u001b[0m\u001b[0m\n",
      "\u001b[1;32m~\\anaconda3\\envs\\capstone2env\\lib\\site-packages\\sklearn\\utils\\fixes.py\u001b[0m in \u001b[0;36m__call__\u001b[1;34m(self, *args, **kwargs)\u001b[0m\n\u001b[0;32m    220\u001b[0m     \u001b[1;32mdef\u001b[0m \u001b[0m__call__\u001b[0m\u001b[1;33m(\u001b[0m\u001b[0mself\u001b[0m\u001b[1;33m,\u001b[0m \u001b[1;33m*\u001b[0m\u001b[0margs\u001b[0m\u001b[1;33m,\u001b[0m \u001b[1;33m**\u001b[0m\u001b[0mkwargs\u001b[0m\u001b[1;33m)\u001b[0m\u001b[1;33m:\u001b[0m\u001b[1;33m\u001b[0m\u001b[1;33m\u001b[0m\u001b[0m\n\u001b[0;32m    221\u001b[0m         \u001b[1;32mwith\u001b[0m \u001b[0mconfig_context\u001b[0m\u001b[1;33m(\u001b[0m\u001b[1;33m**\u001b[0m\u001b[0mself\u001b[0m\u001b[1;33m.\u001b[0m\u001b[0mconfig\u001b[0m\u001b[1;33m)\u001b[0m\u001b[1;33m:\u001b[0m\u001b[1;33m\u001b[0m\u001b[1;33m\u001b[0m\u001b[0m\n\u001b[1;32m--> 222\u001b[1;33m             \u001b[1;32mreturn\u001b[0m \u001b[0mself\u001b[0m\u001b[1;33m.\u001b[0m\u001b[0mfunction\u001b[0m\u001b[1;33m(\u001b[0m\u001b[1;33m*\u001b[0m\u001b[0margs\u001b[0m\u001b[1;33m,\u001b[0m \u001b[1;33m**\u001b[0m\u001b[0mkwargs\u001b[0m\u001b[1;33m)\u001b[0m\u001b[1;33m\u001b[0m\u001b[1;33m\u001b[0m\u001b[0m\n\u001b[0m",
      "\u001b[1;32m~\\anaconda3\\envs\\capstone2env\\lib\\site-packages\\sklearn\\pipeline.py\u001b[0m in \u001b[0;36m_fit_transform_one\u001b[1;34m(transformer, X, y, weight, message_clsname, message, **fit_params)\u001b[0m\n\u001b[0;32m    752\u001b[0m     \u001b[1;32mwith\u001b[0m \u001b[0m_print_elapsed_time\u001b[0m\u001b[1;33m(\u001b[0m\u001b[0mmessage_clsname\u001b[0m\u001b[1;33m,\u001b[0m \u001b[0mmessage\u001b[0m\u001b[1;33m)\u001b[0m\u001b[1;33m:\u001b[0m\u001b[1;33m\u001b[0m\u001b[1;33m\u001b[0m\u001b[0m\n\u001b[0;32m    753\u001b[0m         \u001b[1;32mif\u001b[0m \u001b[0mhasattr\u001b[0m\u001b[1;33m(\u001b[0m\u001b[0mtransformer\u001b[0m\u001b[1;33m,\u001b[0m \u001b[1;34m'fit_transform'\u001b[0m\u001b[1;33m)\u001b[0m\u001b[1;33m:\u001b[0m\u001b[1;33m\u001b[0m\u001b[1;33m\u001b[0m\u001b[0m\n\u001b[1;32m--> 754\u001b[1;33m             \u001b[0mres\u001b[0m \u001b[1;33m=\u001b[0m \u001b[0mtransformer\u001b[0m\u001b[1;33m.\u001b[0m\u001b[0mfit_transform\u001b[0m\u001b[1;33m(\u001b[0m\u001b[0mX\u001b[0m\u001b[1;33m,\u001b[0m \u001b[0my\u001b[0m\u001b[1;33m,\u001b[0m \u001b[1;33m**\u001b[0m\u001b[0mfit_params\u001b[0m\u001b[1;33m)\u001b[0m\u001b[1;33m\u001b[0m\u001b[1;33m\u001b[0m\u001b[0m\n\u001b[0m\u001b[0;32m    755\u001b[0m         \u001b[1;32melse\u001b[0m\u001b[1;33m:\u001b[0m\u001b[1;33m\u001b[0m\u001b[1;33m\u001b[0m\u001b[0m\n\u001b[0;32m    756\u001b[0m             \u001b[0mres\u001b[0m \u001b[1;33m=\u001b[0m \u001b[0mtransformer\u001b[0m\u001b[1;33m.\u001b[0m\u001b[0mfit\u001b[0m\u001b[1;33m(\u001b[0m\u001b[0mX\u001b[0m\u001b[1;33m,\u001b[0m \u001b[0my\u001b[0m\u001b[1;33m,\u001b[0m \u001b[1;33m**\u001b[0m\u001b[0mfit_params\u001b[0m\u001b[1;33m)\u001b[0m\u001b[1;33m.\u001b[0m\u001b[0mtransform\u001b[0m\u001b[1;33m(\u001b[0m\u001b[0mX\u001b[0m\u001b[1;33m)\u001b[0m\u001b[1;33m\u001b[0m\u001b[1;33m\u001b[0m\u001b[0m\n",
      "\u001b[1;32m~\\anaconda3\\envs\\capstone2env\\lib\\site-packages\\sklearn\\pipeline.py\u001b[0m in \u001b[0;36mfit_transform\u001b[1;34m(self, X, y, **fit_params)\u001b[0m\n\u001b[0;32m    376\u001b[0m         \"\"\"\n\u001b[0;32m    377\u001b[0m         \u001b[0mfit_params_steps\u001b[0m \u001b[1;33m=\u001b[0m \u001b[0mself\u001b[0m\u001b[1;33m.\u001b[0m\u001b[0m_check_fit_params\u001b[0m\u001b[1;33m(\u001b[0m\u001b[1;33m**\u001b[0m\u001b[0mfit_params\u001b[0m\u001b[1;33m)\u001b[0m\u001b[1;33m\u001b[0m\u001b[1;33m\u001b[0m\u001b[0m\n\u001b[1;32m--> 378\u001b[1;33m         \u001b[0mXt\u001b[0m \u001b[1;33m=\u001b[0m \u001b[0mself\u001b[0m\u001b[1;33m.\u001b[0m\u001b[0m_fit\u001b[0m\u001b[1;33m(\u001b[0m\u001b[0mX\u001b[0m\u001b[1;33m,\u001b[0m \u001b[0my\u001b[0m\u001b[1;33m,\u001b[0m \u001b[1;33m**\u001b[0m\u001b[0mfit_params_steps\u001b[0m\u001b[1;33m)\u001b[0m\u001b[1;33m\u001b[0m\u001b[1;33m\u001b[0m\u001b[0m\n\u001b[0m\u001b[0;32m    379\u001b[0m \u001b[1;33m\u001b[0m\u001b[0m\n\u001b[0;32m    380\u001b[0m         \u001b[0mlast_step\u001b[0m \u001b[1;33m=\u001b[0m \u001b[0mself\u001b[0m\u001b[1;33m.\u001b[0m\u001b[0m_final_estimator\u001b[0m\u001b[1;33m\u001b[0m\u001b[1;33m\u001b[0m\u001b[0m\n",
      "\u001b[1;32m~\\anaconda3\\envs\\capstone2env\\lib\\site-packages\\sklearn\\pipeline.py\u001b[0m in \u001b[0;36m_fit\u001b[1;34m(self, X, y, **fit_params_steps)\u001b[0m\n\u001b[0;32m    301\u001b[0m                 \u001b[0mcloned_transformer\u001b[0m \u001b[1;33m=\u001b[0m \u001b[0mclone\u001b[0m\u001b[1;33m(\u001b[0m\u001b[0mtransformer\u001b[0m\u001b[1;33m)\u001b[0m\u001b[1;33m\u001b[0m\u001b[1;33m\u001b[0m\u001b[0m\n\u001b[0;32m    302\u001b[0m             \u001b[1;31m# Fit or load from cache the current transformer\u001b[0m\u001b[1;33m\u001b[0m\u001b[1;33m\u001b[0m\u001b[1;33m\u001b[0m\u001b[0m\n\u001b[1;32m--> 303\u001b[1;33m             X, fitted_transformer = fit_transform_one_cached(\n\u001b[0m\u001b[0;32m    304\u001b[0m                 \u001b[0mcloned_transformer\u001b[0m\u001b[1;33m,\u001b[0m \u001b[0mX\u001b[0m\u001b[1;33m,\u001b[0m \u001b[0my\u001b[0m\u001b[1;33m,\u001b[0m \u001b[1;32mNone\u001b[0m\u001b[1;33m,\u001b[0m\u001b[1;33m\u001b[0m\u001b[1;33m\u001b[0m\u001b[0m\n\u001b[0;32m    305\u001b[0m                 \u001b[0mmessage_clsname\u001b[0m\u001b[1;33m=\u001b[0m\u001b[1;34m'Pipeline'\u001b[0m\u001b[1;33m,\u001b[0m\u001b[1;33m\u001b[0m\u001b[1;33m\u001b[0m\u001b[0m\n",
      "\u001b[1;32m~\\anaconda3\\envs\\capstone2env\\lib\\site-packages\\joblib\\memory.py\u001b[0m in \u001b[0;36m__call__\u001b[1;34m(self, *args, **kwargs)\u001b[0m\n\u001b[0;32m    350\u001b[0m \u001b[1;33m\u001b[0m\u001b[0m\n\u001b[0;32m    351\u001b[0m     \u001b[1;32mdef\u001b[0m \u001b[0m__call__\u001b[0m\u001b[1;33m(\u001b[0m\u001b[0mself\u001b[0m\u001b[1;33m,\u001b[0m \u001b[1;33m*\u001b[0m\u001b[0margs\u001b[0m\u001b[1;33m,\u001b[0m \u001b[1;33m**\u001b[0m\u001b[0mkwargs\u001b[0m\u001b[1;33m)\u001b[0m\u001b[1;33m:\u001b[0m\u001b[1;33m\u001b[0m\u001b[1;33m\u001b[0m\u001b[0m\n\u001b[1;32m--> 352\u001b[1;33m         \u001b[1;32mreturn\u001b[0m \u001b[0mself\u001b[0m\u001b[1;33m.\u001b[0m\u001b[0mfunc\u001b[0m\u001b[1;33m(\u001b[0m\u001b[1;33m*\u001b[0m\u001b[0margs\u001b[0m\u001b[1;33m,\u001b[0m \u001b[1;33m**\u001b[0m\u001b[0mkwargs\u001b[0m\u001b[1;33m)\u001b[0m\u001b[1;33m\u001b[0m\u001b[1;33m\u001b[0m\u001b[0m\n\u001b[0m\u001b[0;32m    353\u001b[0m \u001b[1;33m\u001b[0m\u001b[0m\n\u001b[0;32m    354\u001b[0m     \u001b[1;32mdef\u001b[0m \u001b[0mcall_and_shelve\u001b[0m\u001b[1;33m(\u001b[0m\u001b[0mself\u001b[0m\u001b[1;33m,\u001b[0m \u001b[1;33m*\u001b[0m\u001b[0margs\u001b[0m\u001b[1;33m,\u001b[0m \u001b[1;33m**\u001b[0m\u001b[0mkwargs\u001b[0m\u001b[1;33m)\u001b[0m\u001b[1;33m:\u001b[0m\u001b[1;33m\u001b[0m\u001b[1;33m\u001b[0m\u001b[0m\n",
      "\u001b[1;32m~\\anaconda3\\envs\\capstone2env\\lib\\site-packages\\sklearn\\pipeline.py\u001b[0m in \u001b[0;36m_fit_transform_one\u001b[1;34m(transformer, X, y, weight, message_clsname, message, **fit_params)\u001b[0m\n\u001b[0;32m    752\u001b[0m     \u001b[1;32mwith\u001b[0m \u001b[0m_print_elapsed_time\u001b[0m\u001b[1;33m(\u001b[0m\u001b[0mmessage_clsname\u001b[0m\u001b[1;33m,\u001b[0m \u001b[0mmessage\u001b[0m\u001b[1;33m)\u001b[0m\u001b[1;33m:\u001b[0m\u001b[1;33m\u001b[0m\u001b[1;33m\u001b[0m\u001b[0m\n\u001b[0;32m    753\u001b[0m         \u001b[1;32mif\u001b[0m \u001b[0mhasattr\u001b[0m\u001b[1;33m(\u001b[0m\u001b[0mtransformer\u001b[0m\u001b[1;33m,\u001b[0m \u001b[1;34m'fit_transform'\u001b[0m\u001b[1;33m)\u001b[0m\u001b[1;33m:\u001b[0m\u001b[1;33m\u001b[0m\u001b[1;33m\u001b[0m\u001b[0m\n\u001b[1;32m--> 754\u001b[1;33m             \u001b[0mres\u001b[0m \u001b[1;33m=\u001b[0m \u001b[0mtransformer\u001b[0m\u001b[1;33m.\u001b[0m\u001b[0mfit_transform\u001b[0m\u001b[1;33m(\u001b[0m\u001b[0mX\u001b[0m\u001b[1;33m,\u001b[0m \u001b[0my\u001b[0m\u001b[1;33m,\u001b[0m \u001b[1;33m**\u001b[0m\u001b[0mfit_params\u001b[0m\u001b[1;33m)\u001b[0m\u001b[1;33m\u001b[0m\u001b[1;33m\u001b[0m\u001b[0m\n\u001b[0m\u001b[0;32m    755\u001b[0m         \u001b[1;32melse\u001b[0m\u001b[1;33m:\u001b[0m\u001b[1;33m\u001b[0m\u001b[1;33m\u001b[0m\u001b[0m\n\u001b[0;32m    756\u001b[0m             \u001b[0mres\u001b[0m \u001b[1;33m=\u001b[0m \u001b[0mtransformer\u001b[0m\u001b[1;33m.\u001b[0m\u001b[0mfit\u001b[0m\u001b[1;33m(\u001b[0m\u001b[0mX\u001b[0m\u001b[1;33m,\u001b[0m \u001b[0my\u001b[0m\u001b[1;33m,\u001b[0m \u001b[1;33m**\u001b[0m\u001b[0mfit_params\u001b[0m\u001b[1;33m)\u001b[0m\u001b[1;33m.\u001b[0m\u001b[0mtransform\u001b[0m\u001b[1;33m(\u001b[0m\u001b[0mX\u001b[0m\u001b[1;33m)\u001b[0m\u001b[1;33m\u001b[0m\u001b[1;33m\u001b[0m\u001b[0m\n",
      "\u001b[1;32m~\\anaconda3\\envs\\capstone2env\\lib\\site-packages\\sklearn\\base.py\u001b[0m in \u001b[0;36mfit_transform\u001b[1;34m(self, X, y, **fit_params)\u001b[0m\n\u001b[0;32m    700\u001b[0m         \u001b[1;32melse\u001b[0m\u001b[1;33m:\u001b[0m\u001b[1;33m\u001b[0m\u001b[1;33m\u001b[0m\u001b[0m\n\u001b[0;32m    701\u001b[0m             \u001b[1;31m# fit method of arity 2 (supervised transformation)\u001b[0m\u001b[1;33m\u001b[0m\u001b[1;33m\u001b[0m\u001b[1;33m\u001b[0m\u001b[0m\n\u001b[1;32m--> 702\u001b[1;33m             \u001b[1;32mreturn\u001b[0m \u001b[0mself\u001b[0m\u001b[1;33m.\u001b[0m\u001b[0mfit\u001b[0m\u001b[1;33m(\u001b[0m\u001b[0mX\u001b[0m\u001b[1;33m,\u001b[0m \u001b[0my\u001b[0m\u001b[1;33m,\u001b[0m \u001b[1;33m**\u001b[0m\u001b[0mfit_params\u001b[0m\u001b[1;33m)\u001b[0m\u001b[1;33m.\u001b[0m\u001b[0mtransform\u001b[0m\u001b[1;33m(\u001b[0m\u001b[0mX\u001b[0m\u001b[1;33m)\u001b[0m\u001b[1;33m\u001b[0m\u001b[1;33m\u001b[0m\u001b[0m\n\u001b[0m\u001b[0;32m    703\u001b[0m \u001b[1;33m\u001b[0m\u001b[0m\n\u001b[0;32m    704\u001b[0m \u001b[1;33m\u001b[0m\u001b[0m\n",
      "\u001b[1;32m~\\anaconda3\\envs\\capstone2env\\lib\\site-packages\\sklearn\\impute\\_base.py\u001b[0m in \u001b[0;36mtransform\u001b[1;34m(self, X)\u001b[0m\n\u001b[0;32m    438\u001b[0m \u001b[1;33m\u001b[0m\u001b[0m\n\u001b[0;32m    439\u001b[0m         \u001b[1;31m# compute mask before eliminating invalid features\u001b[0m\u001b[1;33m\u001b[0m\u001b[1;33m\u001b[0m\u001b[1;33m\u001b[0m\u001b[0m\n\u001b[1;32m--> 440\u001b[1;33m         \u001b[0mmissing_mask\u001b[0m \u001b[1;33m=\u001b[0m \u001b[0m_get_mask\u001b[0m\u001b[1;33m(\u001b[0m\u001b[0mX\u001b[0m\u001b[1;33m,\u001b[0m \u001b[0mself\u001b[0m\u001b[1;33m.\u001b[0m\u001b[0mmissing_values\u001b[0m\u001b[1;33m)\u001b[0m\u001b[1;33m\u001b[0m\u001b[1;33m\u001b[0m\u001b[0m\n\u001b[0m\u001b[0;32m    441\u001b[0m \u001b[1;33m\u001b[0m\u001b[0m\n\u001b[0;32m    442\u001b[0m         \u001b[1;31m# Delete the invalid columns if strategy is not constant\u001b[0m\u001b[1;33m\u001b[0m\u001b[1;33m\u001b[0m\u001b[1;33m\u001b[0m\u001b[0m\n",
      "\u001b[1;32m~\\anaconda3\\envs\\capstone2env\\lib\\site-packages\\sklearn\\utils\\_mask.py\u001b[0m in \u001b[0;36m_get_mask\u001b[1;34m(X, value_to_mask)\u001b[0m\n\u001b[0;32m     42\u001b[0m         \u001b[1;31m# For all cases apart of a sparse input where we need to reconstruct\u001b[0m\u001b[1;33m\u001b[0m\u001b[1;33m\u001b[0m\u001b[1;33m\u001b[0m\u001b[0m\n\u001b[0;32m     43\u001b[0m         \u001b[1;31m# a sparse output\u001b[0m\u001b[1;33m\u001b[0m\u001b[1;33m\u001b[0m\u001b[1;33m\u001b[0m\u001b[0m\n\u001b[1;32m---> 44\u001b[1;33m         \u001b[1;32mreturn\u001b[0m \u001b[0m_get_dense_mask\u001b[0m\u001b[1;33m(\u001b[0m\u001b[0mX\u001b[0m\u001b[1;33m,\u001b[0m \u001b[0mvalue_to_mask\u001b[0m\u001b[1;33m)\u001b[0m\u001b[1;33m\u001b[0m\u001b[1;33m\u001b[0m\u001b[0m\n\u001b[0m\u001b[0;32m     45\u001b[0m \u001b[1;33m\u001b[0m\u001b[0m\n\u001b[0;32m     46\u001b[0m     \u001b[0mXt\u001b[0m \u001b[1;33m=\u001b[0m \u001b[0m_get_dense_mask\u001b[0m\u001b[1;33m(\u001b[0m\u001b[0mX\u001b[0m\u001b[1;33m.\u001b[0m\u001b[0mdata\u001b[0m\u001b[1;33m,\u001b[0m \u001b[0mvalue_to_mask\u001b[0m\u001b[1;33m)\u001b[0m\u001b[1;33m\u001b[0m\u001b[1;33m\u001b[0m\u001b[0m\n",
      "\u001b[1;32m~\\anaconda3\\envs\\capstone2env\\lib\\site-packages\\sklearn\\utils\\_mask.py\u001b[0m in \u001b[0;36m_get_dense_mask\u001b[1;34m(X, value_to_mask)\u001b[0m\n\u001b[0;32m     15\u001b[0m         \u001b[1;32melse\u001b[0m\u001b[1;33m:\u001b[0m\u001b[1;33m\u001b[0m\u001b[1;33m\u001b[0m\u001b[0m\n\u001b[0;32m     16\u001b[0m             \u001b[1;31m# np.isnan does not work on object dtypes.\u001b[0m\u001b[1;33m\u001b[0m\u001b[1;33m\u001b[0m\u001b[1;33m\u001b[0m\u001b[0m\n\u001b[1;32m---> 17\u001b[1;33m             \u001b[0mXt\u001b[0m \u001b[1;33m=\u001b[0m \u001b[0m_object_dtype_isnan\u001b[0m\u001b[1;33m(\u001b[0m\u001b[0mX\u001b[0m\u001b[1;33m)\u001b[0m\u001b[1;33m\u001b[0m\u001b[1;33m\u001b[0m\u001b[0m\n\u001b[0m\u001b[0;32m     18\u001b[0m     \u001b[1;32melse\u001b[0m\u001b[1;33m:\u001b[0m\u001b[1;33m\u001b[0m\u001b[1;33m\u001b[0m\u001b[0m\n\u001b[0;32m     19\u001b[0m         \u001b[0mXt\u001b[0m \u001b[1;33m=\u001b[0m \u001b[0mX\u001b[0m \u001b[1;33m==\u001b[0m \u001b[0mvalue_to_mask\u001b[0m\u001b[1;33m\u001b[0m\u001b[1;33m\u001b[0m\u001b[0m\n",
      "\u001b[1;31mKeyboardInterrupt\u001b[0m: "
     ]
    }
   ],
   "source": [
    "parameters ={'preprocessor__num__strategy': ['mean'],\n",
    "              'preprocessor__bin__strategy': ['most_frequent'],\n",
    "              'preprocessor__id__strategy': ['most_frequent'],\n",
    "              'preprocessor__cat__imputer__strategy': ['most_frequent'],\n",
    "              'classifier__learning_rate': [0.1, 0.3, 0.5],\n",
    "              'classifier__gamma' : [0, 2, 5],\n",
    "              'classifier__max_depth': range(1, 9, 2),\n",
    "              #'classifier__colsample_bytree': [0.8, 1.0],\n",
    "              'classifier__subsample': [0.5, 1],\n",
    "              #'classifier__reg_alpha': [0, 0.5, 1, 10, 100],\n",
    "              #'classifier__reg_lambda': [0, 0.5, 1, 1.5],\n",
    "              'classifier__min_child_weight': [0.5, 1, 3],\n",
    "              'classifier__n_estimators': [500, 1000, 1500]}\n",
    "\n",
    "# Grid search\n",
    "search = RandomizedSearchCV(estimator=pipeline, \n",
    "                             param_distributions=parameters,\n",
    "                             n_iter = 5,\n",
    "                             cv=3,\n",
    "                             scoring = 'roc_auc',\n",
    "                             return_train_score=True,\n",
    "                             random_state=42,\n",
    "                             #n_jobs = -1,\n",
    "                             verbose=3)\n",
    "\n",
    "# Preprocessing of training data, fit model \n",
    "search.fit(X_train, y_train)"
   ]
  },
  {
   "cell_type": "code",
   "execution_count": null,
   "id": "a2d32a63",
   "metadata": {},
   "outputs": [],
   "source": [
    "# optimized model\n",
    "opt_xgb_clf = search.best_estimator_\n",
    "search.best_params_"
   ]
  },
  {
   "cell_type": "code",
   "execution_count": 38,
   "id": "ba65310d",
   "metadata": {},
   "outputs": [],
   "source": [
    "# Predictions\n",
    "y_pred_train = opt_xgb_clf.predict(X_train)\n",
    "y_pred_test = opt_xgb_clf.predict(X_test)\n",
    "y_pred_proba_train = opt_xgb_clf.predict_proba(X_train)\n",
    "y_pred_proba_test = opt_xgb_clf.predict_proba(X_test)"
   ]
  },
  {
   "cell_type": "code",
   "execution_count": 81,
   "id": "11c11e4e",
   "metadata": {},
   "outputs": [
    {
     "name": "stdout",
     "output_type": "stream",
     "text": [
      "Train Set roc auc: 0.75\n",
      "Test Set roc auc: 0.73\n"
     ]
    }
   ],
   "source": [
    "# ROC_AUC evaluation\n",
    "print('Train Set roc auc:', round(roc_auc_score(y_train, y_pred_proba_train[:, 1]), 2)) \n",
    "print('Test Set roc auc:', round(roc_auc_score(y_test, y_pred_proba_test[:, 1]), 2))"
   ]
  },
  {
   "cell_type": "code",
   "execution_count": 82,
   "id": "0f5f4136",
   "metadata": {},
   "outputs": [
    {
     "name": "stdout",
     "output_type": "stream",
     "text": [
      "              precision    recall  f1-score   support\n",
      "\n",
      "           0       0.66      0.68      0.67    420978\n",
      "           1       0.67      0.66      0.66    418557\n",
      "\n",
      "    accuracy                           0.67    839535\n",
      "   macro avg       0.67      0.67      0.67    839535\n",
      "weighted avg       0.67      0.67      0.67    839535\n",
      "\n"
     ]
    }
   ],
   "source": [
    "# classification report\n",
    "print(classification_report(y_test, y_pred_test))"
   ]
  },
  {
   "cell_type": "code",
   "execution_count": 83,
   "id": "358d96b1",
   "metadata": {},
   "outputs": [
    {
     "data": {
      "image/png": "[encoded data removed]",
      "text/plain": [
       "<Figure size 576x432 with 1 Axes>"
      ]
     },
     "metadata": {},
     "output_type": "display_data"
    }
   ],
   "source": [
    "# plot ROC_AUC\n",
    "fpr, tpr, thresholds = metrics.roc_curve(y_test, y_pred_proba_test[:,1])\n",
    "\n",
    "plt.figure(figsize=(8,6))\n",
    "plt.plot(fpr, tpr, label='ROC curve (area = 0.73)')\n",
    "plt.plot([0,1], [0,1], '--', color = 'black')\n",
    "plt.xlabel('FPR')\n",
    "plt.ylabel('TPR')\n",
    "plt.legend(loc=4)\n",
    "plt.tight_layout()"
   ]
  },
  {
   "cell_type": "code",
   "execution_count": 84,
   "id": "096d2772",
   "metadata": {},
   "outputs": [
    {
     "data": {
      "image/png": "[encoded data removed]",
      "text/plain": [
       "<Figure size 576x432 with 1 Axes>"
      ]
     },
     "metadata": {},
     "output_type": "display_data"
    }
   ],
   "source": [
    "conf_matrix = confusion_matrix(y_test, y_pred_test)\n",
    "\n",
    "lables = {'Negative': 0, 'Positive': 1} \n",
    "\n",
    "plt.figure(figsize=(8,6))\n",
    "sns.heatmap(conf_matrix, \n",
    "            annot=True,\n",
    "            annot_kws={'size':18},\n",
    "            fmt='d',\n",
    "            square=True,\n",
    "            xticklabels=lables.keys(), \n",
    "            yticklabels=lables.keys(),\n",
    "            cbar=False,\n",
    "            cmap='Blues')\n",
    "plt.ylabel('Actual')\n",
    "plt.xlabel('Predicted')\n",
    "plt.title('Confusion matrix')\n",
    "plt.tight_layout()"
   ]
  },
  {
   "cell_type": "code",
   "execution_count": 85,
   "id": "01cfdfb4",
   "metadata": {},
   "outputs": [
    {
     "data": {
      "image/png": "[encoded data removed]",
      "text/plain": [
       "<Figure size 576x432 with 1 Axes>"
      ]
     },
     "metadata": {},
     "output_type": "display_data"
    }
   ],
   "source": [
    "# plot precision - recall curve\n",
    "precision, recall, thresholds = precision_recall_curve(y_test, y_pred_proba_test[:,1])\n",
    "plt.figure(figsize=(8,6))\n",
    "plt.plot(recall, precision)\n",
    "plt.plot([0, 1], [0.5, 0.5], '--', color = 'black')\n",
    "plt.title('Precision-Recall Curve for Optimized Logistic Regression')\n",
    "plt.xlabel('Recall')\n",
    "plt.ylabel('Precision')\n",
    "plt.tight_layout()"
   ]
  },
  {
   "cell_type": "code",
   "execution_count": 86,
   "id": "45372325",
   "metadata": {},
   "outputs": [
    {
     "data": {
      "text/plain": [
       "{'preprocessor__num__strategy': 'mean',\n",
       " 'preprocessor__id__strategy': 'most_frequent',\n",
       " 'preprocessor__cat__imputer__strategy': 'most_frequent',\n",
       " 'preprocessor__bin__strategy': 'most_frequent',\n",
       " 'classifier__subsample': 1,\n",
       " 'classifier__n_estimators': 1500,\n",
       " 'classifier__min_child_weight': 3,\n",
       " 'classifier__max_depth': 7,\n",
       " 'classifier__learning_rate': 0.1,\n",
       " 'classifier__gamma': 0}"
      ]
     },
     "execution_count": 86,
     "metadata": {},
     "output_type": "execute_result"
    }
   ],
   "source": [
    "search.best_params_"
   ]
  },
  {
   "cell_type": "code",
   "execution_count": 87,
   "id": "4a59afa0",
   "metadata": {},
   "outputs": [],
   "source": [
    "# Preprocessing for numerical data\n",
    "numerical_transformer_rev = SimpleImputer(strategy=search.best_params_['preprocessor__num__strategy'])\n",
    "\n",
    "# Preprocessing for binary data\n",
    "binary_transformer_rev = SimpleImputer(strategy=search.best_params_['preprocessor__bin__strategy'])\n",
    "\n",
    "# Preprocessing for categorical data encoded as numerical ID's\n",
    "id_transformer_rev = SimpleImputer(strategy=search.best_params_['preprocessor__id__strategy'])\n",
    "\n",
    "# Preprocessing for categorical data\n",
    "categorical_transformer_rev = Pipeline(steps=[\n",
    "    ('imputer', SimpleImputer(strategy=search.best_params_['preprocessor__cat__imputer__strategy'])),\n",
    "    ('onehot', OneHotEncoder(handle_unknown='ignore'))\n",
    "])\n",
    "\n",
    "\n",
    "# Bundle preprocessing for numerical and categorical data\n",
    "preprocessor_rev = ColumnTransformer(\n",
    "    transformers=[\n",
    "        ('num', numerical_transformer_rev, num_col),\n",
    "        ('bin', binary_transformer_rev, binary_col),\n",
    "        ('id', id_transformer_rev, id_col),\n",
    "        ('cat', categorical_transformer_rev, cat_col)\n",
    "    ])\n",
    "\n",
    "# Bundle preprocessing and modeling code in a pipeline\n",
    "pipeline_rev = Pipeline(steps=[('preprocessor', preprocessor_rev)])"
   ]
  },
  {
   "cell_type": "code",
   "execution_count": 88,
   "id": "699f9907",
   "metadata": {},
   "outputs": [
    {
     "data": {
      "text/plain": [
       "[(0, True),\n",
       " (1, True),\n",
       " (2, True),\n",
       " (3, True),\n",
       " (4, True),\n",
       " (5, True),\n",
       " (6, True),\n",
       " (7, True),\n",
       " (8, True),\n",
       " (9, True),\n",
       " (10, True),\n",
       " (11, True),\n",
       " (12, True),\n",
       " (13, True),\n",
       " (14, True),\n",
       " (15, True),\n",
       " (16, True),\n",
       " (17, True),\n",
       " (18, True),\n",
       " (19, True),\n",
       " (20, True),\n",
       " (21, True),\n",
       " (22, True),\n",
       " (23, True),\n",
       " (24, True),\n",
       " (25, True),\n",
       " (26, True),\n",
       " (27, True),\n",
       " (28, True),\n",
       " (29, True),\n",
       " (30, True),\n",
       " (31, True),\n",
       " (32, True),\n",
       " (33, True),\n",
       " (34, True),\n",
       " (35, True),\n",
       " (36, True),\n",
       " (37, True),\n",
       " (38, True),\n",
       " (39, True),\n",
       " (40, True),\n",
       " (41, True),\n",
       " (42, True),\n",
       " (43, True),\n",
       " (44, True),\n",
       " (45, True),\n",
       " (46, True),\n",
       " (47, True),\n",
       " (48, True),\n",
       " (49, True),\n",
       " (50, True),\n",
       " (51, True),\n",
       " (52, True),\n",
       " (53, True),\n",
       " (54, True),\n",
       " (55, True),\n",
       " (56, True),\n",
       " (57, True),\n",
       " (58, True),\n",
       " (59, True),\n",
       " (60, True),\n",
       " (61, True),\n",
       " (62, True),\n",
       " (63, True),\n",
       " (64, True),\n",
       " (65, True),\n",
       " (66, True),\n",
       " (67, True),\n",
       " (68, True),\n",
       " (69, True),\n",
       " (70, True),\n",
       " (71, True),\n",
       " (72, True),\n",
       " (73, True),\n",
       " (74, True),\n",
       " (75, True),\n",
       " (76, True),\n",
       " (77, True),\n",
       " (78, True),\n",
       " (79, True),\n",
       " (80, True),\n",
       " (81, True),\n",
       " (82, True),\n",
       " (83, True),\n",
       " (84, True),\n",
       " (85, True),\n",
       " (86, True),\n",
       " (87, True),\n",
       " (88, True),\n",
       " (89, True),\n",
       " (90, True),\n",
       " (91, True),\n",
       " (92, True),\n",
       " (93, True),\n",
       " (94, True),\n",
       " (95, True),\n",
       " (96, True),\n",
       " (97, True),\n",
       " (98, True),\n",
       " (99, True),\n",
       " (100, True),\n",
       " (101, True),\n",
       " (102, True),\n",
       " (103, True),\n",
       " (104, True),\n",
       " (105, True),\n",
       " (106, True),\n",
       " (107, True),\n",
       " (108, True),\n",
       " (109, True),\n",
       " (110, True),\n",
       " (111, True),\n",
       " (112, True),\n",
       " (113, True),\n",
       " (114, True),\n",
       " (115, True),\n",
       " (116, True),\n",
       " (117, True),\n",
       " (118, True),\n",
       " (119, True),\n",
       " (120, True),\n",
       " (121, True),\n",
       " (122, True),\n",
       " (123, True),\n",
       " (124, True),\n",
       " (125, True),\n",
       " (126, True),\n",
       " (127, True),\n",
       " (128, True),\n",
       " (129, True),\n",
       " (130, True),\n",
       " (131, True),\n",
       " (132, True),\n",
       " (133, True),\n",
       " (134, True),\n",
       " (135, True),\n",
       " (136, True),\n",
       " (137, True),\n",
       " (138, True),\n",
       " (139, True),\n",
       " (140, True),\n",
       " (141, True),\n",
       " (142, True),\n",
       " (143, True),\n",
       " (144, True),\n",
       " (145, True),\n",
       " (146, True),\n",
       " (147, True),\n",
       " (148, True),\n",
       " (149, True),\n",
       " (150, True),\n",
       " (151, True),\n",
       " (152, True),\n",
       " (153, True),\n",
       " (154, True),\n",
       " (155, True),\n",
       " (156, True),\n",
       " (157, True),\n",
       " (158, True),\n",
       " (159, True),\n",
       " (160, True),\n",
       " (161, True),\n",
       " (162, True),\n",
       " (163, True),\n",
       " (164, True),\n",
       " (165, True),\n",
       " (166, True),\n",
       " (167, True),\n",
       " (168, True),\n",
       " (169, True),\n",
       " (170, True),\n",
       " (171, True),\n",
       " (172, True),\n",
       " (173, True),\n",
       " (174, True),\n",
       " (175, True),\n",
       " (176, True),\n",
       " (177, True),\n",
       " (178, True),\n",
       " (179, True),\n",
       " (180, True),\n",
       " (181, True),\n",
       " (182, True),\n",
       " (183, True),\n",
       " (184, True),\n",
       " (185, True),\n",
       " (186, True),\n",
       " (187, True),\n",
       " (188, True),\n",
       " (189, True),\n",
       " (190, True),\n",
       " (191, True),\n",
       " (192, True),\n",
       " (193, True),\n",
       " (194, True),\n",
       " (195, True),\n",
       " (196, True),\n",
       " (197, True),\n",
       " (198, True),\n",
       " (199, True),\n",
       " (200, True),\n",
       " (201, True),\n",
       " (202, True),\n",
       " (203, True),\n",
       " (204, True),\n",
       " (205, True),\n",
       " (206, True),\n",
       " (207, True),\n",
       " (208, True),\n",
       " (209, True),\n",
       " (210, True),\n",
       " (211, True),\n",
       " (212, True),\n",
       " (213, True),\n",
       " (214, True),\n",
       " (215, True),\n",
       " (216, True),\n",
       " (217, True),\n",
       " (218, True),\n",
       " (219, True),\n",
       " (220, True),\n",
       " (221, True),\n",
       " (222, True),\n",
       " (223, True),\n",
       " (224, True),\n",
       " (225, True),\n",
       " (226, True),\n",
       " (227, True),\n",
       " (228, True),\n",
       " (229, True),\n",
       " (230, True),\n",
       " (231, True),\n",
       " (232, True),\n",
       " (233, True),\n",
       " (234, True),\n",
       " (235, True),\n",
       " (236, True),\n",
       " (237, True),\n",
       " (238, True)]"
      ]
     },
     "execution_count": 88,
     "metadata": {},
     "output_type": "execute_result"
    }
   ],
   "source": [
    "chosen_feat = opt_xgb_clf.named_steps['VarThresh'].get_support()\n",
    "list(enumerate(chosen_feat))"
   ]
  },
  {
   "cell_type": "code",
   "execution_count": 89,
   "id": "fb95b034",
   "metadata": {
    "scrolled": true
   },
   "outputs": [],
   "source": [
    "X_values = preprocessor_rev.fit_transform(X_train)\n",
    "onehot_col = pipeline_rev.named_steps['preprocessor'].named_transformers_['cat'].named_steps['onehot'].get_feature_names(input_features=cat_col)\n",
    "columns_tot = num_col + binary_col + id_col + onehot_col.tolist()\n",
    "columns_tot = [feat for bool_, feat in zip(chosen_feat, columns_tot) if bool_]\n",
    "\n",
    "feature_importance = pd.Series(data=opt_xgb_clf.named_steps['classifier'].feature_importances_,\n",
    "                               index = np.array(columns_tot))"
   ]
  },
  {
   "cell_type": "code",
   "execution_count": 90,
   "id": "478fe457",
   "metadata": {},
   "outputs": [],
   "source": [
    "feature_importance = feature_importance.sort_values(ascending=False)"
   ]
  },
  {
   "cell_type": "code",
   "execution_count": 91,
   "id": "96bc3903",
   "metadata": {},
   "outputs": [
    {
     "data": {
      "image/png": "[encoded data removed]",
      "text/plain": [
       "<Figure size 864x576 with 1 Axes>"
      ]
     },
     "metadata": {},
     "output_type": "display_data"
    }
   ],
   "source": [
    "plt.figure(figsize=(12, 8))\n",
    "sns.barplot(y=feature_importance.index[:20], \n",
    "            x=feature_importance.values[:20],\n",
    "            color='blue',\n",
    "            alpha=.5,\n",
    "            orient='h')\n",
    "plt.tight_layout()"
   ]
  },
  {
   "cell_type": "markdown",
   "id": "98687594",
   "metadata": {},
   "source": [
    "# Learning curve\n",
    "opt_xgb_clf_rev = opt_xgb_clf\n",
    "train_sizes, train_scores, test_scores = learning_curve(opt_xgb_clf_rev, \n",
    "                                                        X_train, \n",
    "                                                        y_train, \n",
    "                                                        cv=3, \n",
    "                                                        scoring='roc_auc',\n",
    "                                                        n_jobs=1,\n",
    "                                                        train_sizes=np.linspace(.01, 1.0, 4), \n",
    "                                                        verbose=3)"
   ]
  },
  {
   "cell_type": "markdown",
   "id": "029bb41b",
   "metadata": {},
   "source": [
    "# Plot learning curve\n",
    "train_scores_mean = np.mean(train_scores, axis=1)\n",
    "train_scores_std = np.std(train_scores, axis=1)\n",
    "test_scores_mean = np.mean(test_scores, axis=1)\n",
    "test_scores_std = np.std(test_scores, axis=1)\n",
    "\n",
    "plt.figure(figsize=(10,8))\n",
    "plt.fill_between(train_sizes, train_scores_mean - train_scores_std,\n",
    "                 train_scores_mean + train_scores_std, alpha=0.1,\n",
    "                 color='r')\n",
    "plt.fill_between(train_sizes, test_scores_mean - test_scores_std,\n",
    "                 test_scores_mean + test_scores_std, alpha=0.1,\n",
    "                 color='g')\n",
    "plt.plot(train_sizes, train_scores_mean, 'd-', color='r', label='Training score')\n",
    "plt.plot(train_sizes, test_scores_mean, 'o-', color='g', label='Cross-validation score')\n",
    "    \n",
    "plt.ylim(0.5, 1.01)\n",
    "   \n",
    "    \n",
    "plt.legend(loc='best')\n",
    "plt.xlabel('Training examples')\n",
    "plt.ylabel('ROC_AUC Score')\n",
    "plt.title('Learning Curve (XGB)')"
   ]
  },
  {
   "cell_type": "code",
   "execution_count": null,
   "id": "b827950b",
   "metadata": {},
   "outputs": [],
   "source": []
  },
  {
   "cell_type": "code",
   "execution_count": 92,
   "id": "f7db6713",
   "metadata": {},
   "outputs": [],
   "source": [
    "# Retrain on full dataset"
   ]
  },
  {
   "cell_type": "code",
   "execution_count": 93,
   "id": "20c42714",
   "metadata": {},
   "outputs": [],
   "source": [
    "#X_train_full =\n",
    "#y_train_full ="
   ]
  },
  {
   "cell_type": "code",
   "execution_count": 94,
   "id": "31b0ddde",
   "metadata": {},
   "outputs": [],
   "source": [
    "#opt_xgb_clf.fit(X_train_full, y_train_full)"
   ]
  },
  {
   "cell_type": "code",
   "execution_count": 95,
   "id": "2be50f80",
   "metadata": {},
   "outputs": [],
   "source": [
    "with open('../models/optimized_XGB.pickle', 'wb') as handle:\n",
    "    pickle.dump(opt_xgb_clf, handle)"
   ]
  },
  {
   "cell_type": "code",
   "execution_count": null,
   "id": "b9416213",
   "metadata": {},
   "outputs": [],
   "source": []
  },
  {
   "cell_type": "code",
   "execution_count": null,
   "id": "540ccd65",
   "metadata": {},
   "outputs": [],
   "source": []
  }
 ],
 "metadata": {
  "kernelspec": {
   "display_name": "Python 3",
   "language": "python",
   "name": "python3"
  },
  "language_info": {
   "codemirror_mode": {
    "name": "ipython",
    "version": 3
   },
   "file_extension": ".py",
   "mimetype": "text/x-python",
   "name": "python",
   "nbconvert_exporter": "python",
   "pygments_lexer": "ipython3",
   "version": "3.9.2"
  }
 },
 "nbformat": 4,
 "nbformat_minor": 5
}
