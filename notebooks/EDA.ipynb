{
 "cells": [
  {
   "cell_type": "code",
   "execution_count": 1,
   "id": "f7806bce",
   "metadata": {},
   "outputs": [],
   "source": [
    "import pandas as pd\n",
    "pd.options.display.max_rows = 999\n",
    "import numpy as np\n",
    "from scipy import stats\n",
    "from scipy.stats import chisquare, chi2_contingency\n",
    "from sklearn.feature_selection import f_classif, chi2\n",
    "from sklearn import preprocessing\n",
    "import matplotlib.pyplot as plt\n",
    "import seaborn as sns\n",
    "sns.set(style='whitegrid')\n",
    "import pickle\n",
    "%matplotlib inline"
   ]
  },
  {
   "cell_type": "code",
   "execution_count": 2,
   "id": "86974262",
   "metadata": {},
   "outputs": [
    {
     "data": {
      "text/html": [
       "<div>\n",
       "<style scoped>\n",
       "    .dataframe tbody tr th:only-of-type {\n",
       "        vertical-align: middle;\n",
       "    }\n",
       "\n",
       "    .dataframe tbody tr th {\n",
       "        vertical-align: top;\n",
       "    }\n",
       "\n",
       "    .dataframe thead th {\n",
       "        text-align: right;\n",
       "    }\n",
       "</style>\n",
       "<table border=\"1\" class=\"dataframe\">\n",
       "  <thead>\n",
       "    <tr style=\"text-align: right;\">\n",
       "      <th></th>\n",
       "      <th>ProductName</th>\n",
       "      <th>RtpStateBitfield</th>\n",
       "      <th>IsSxsPassiveMode</th>\n",
       "      <th>AVProductStatesIdentifier</th>\n",
       "      <th>AVProductsInstalled</th>\n",
       "      <th>AVProductsEnabled</th>\n",
       "      <th>HasTpm</th>\n",
       "      <th>CountryIdentifier</th>\n",
       "      <th>CityIdentifier</th>\n",
       "      <th>OrganizationIdentifier</th>\n",
       "      <th>...</th>\n",
       "      <th>Wdft_IsGamer</th>\n",
       "      <th>Wdft_RegionIdentifier</th>\n",
       "      <th>HasDetections</th>\n",
       "      <th>AvSigVersion_extracted</th>\n",
       "      <th>AppVersion_extracted</th>\n",
       "      <th>EngineVersion_extracted</th>\n",
       "      <th>OsVer_encoded</th>\n",
       "      <th>Census_OSBranch_release_extracted</th>\n",
       "      <th>IsProtected_encoded</th>\n",
       "      <th>RAM_bins</th>\n",
       "    </tr>\n",
       "  </thead>\n",
       "  <tbody>\n",
       "    <tr>\n",
       "      <th>0</th>\n",
       "      <td>win8defender</td>\n",
       "      <td>7.0</td>\n",
       "      <td>0</td>\n",
       "      <td>53447.0</td>\n",
       "      <td>1.0</td>\n",
       "      <td>1.0</td>\n",
       "      <td>1</td>\n",
       "      <td>29</td>\n",
       "      <td>128035.0</td>\n",
       "      <td>18.0</td>\n",
       "      <td>...</td>\n",
       "      <td>0</td>\n",
       "      <td>10.0</td>\n",
       "      <td>0</td>\n",
       "      <td>273</td>\n",
       "      <td>18</td>\n",
       "      <td>15100</td>\n",
       "      <td>10.0</td>\n",
       "      <td>rs4_release</td>\n",
       "      <td>2.0</td>\n",
       "      <td>4-8 GB</td>\n",
       "    </tr>\n",
       "    <tr>\n",
       "      <th>1</th>\n",
       "      <td>win8defender</td>\n",
       "      <td>7.0</td>\n",
       "      <td>0</td>\n",
       "      <td>53447.0</td>\n",
       "      <td>1.0</td>\n",
       "      <td>1.0</td>\n",
       "      <td>1</td>\n",
       "      <td>93</td>\n",
       "      <td>1482.0</td>\n",
       "      <td>18.0</td>\n",
       "      <td>...</td>\n",
       "      <td>0</td>\n",
       "      <td>8.0</td>\n",
       "      <td>0</td>\n",
       "      <td>263</td>\n",
       "      <td>13</td>\n",
       "      <td>14600</td>\n",
       "      <td>10.0</td>\n",
       "      <td>rs4_release</td>\n",
       "      <td>2.0</td>\n",
       "      <td>4-8 GB</td>\n",
       "    </tr>\n",
       "    <tr>\n",
       "      <th>2</th>\n",
       "      <td>win8defender</td>\n",
       "      <td>7.0</td>\n",
       "      <td>0</td>\n",
       "      <td>53447.0</td>\n",
       "      <td>1.0</td>\n",
       "      <td>1.0</td>\n",
       "      <td>1</td>\n",
       "      <td>86</td>\n",
       "      <td>153579.0</td>\n",
       "      <td>18.0</td>\n",
       "      <td>...</td>\n",
       "      <td>0</td>\n",
       "      <td>3.0</td>\n",
       "      <td>0</td>\n",
       "      <td>273</td>\n",
       "      <td>18</td>\n",
       "      <td>15100</td>\n",
       "      <td>10.0</td>\n",
       "      <td>rs4_release</td>\n",
       "      <td>2.0</td>\n",
       "      <td>4-8 GB</td>\n",
       "    </tr>\n",
       "    <tr>\n",
       "      <th>3</th>\n",
       "      <td>win8defender</td>\n",
       "      <td>7.0</td>\n",
       "      <td>0</td>\n",
       "      <td>53447.0</td>\n",
       "      <td>1.0</td>\n",
       "      <td>1.0</td>\n",
       "      <td>1</td>\n",
       "      <td>88</td>\n",
       "      <td>20710.0</td>\n",
       "      <td>NaN</td>\n",
       "      <td>...</td>\n",
       "      <td>0</td>\n",
       "      <td>3.0</td>\n",
       "      <td>1</td>\n",
       "      <td>273</td>\n",
       "      <td>18</td>\n",
       "      <td>15100</td>\n",
       "      <td>10.0</td>\n",
       "      <td>rs4_release</td>\n",
       "      <td>2.0</td>\n",
       "      <td>4-8 GB</td>\n",
       "    </tr>\n",
       "    <tr>\n",
       "      <th>4</th>\n",
       "      <td>win8defender</td>\n",
       "      <td>7.0</td>\n",
       "      <td>0</td>\n",
       "      <td>53447.0</td>\n",
       "      <td>1.0</td>\n",
       "      <td>1.0</td>\n",
       "      <td>1</td>\n",
       "      <td>18</td>\n",
       "      <td>37376.0</td>\n",
       "      <td>NaN</td>\n",
       "      <td>...</td>\n",
       "      <td>0</td>\n",
       "      <td>1.0</td>\n",
       "      <td>1</td>\n",
       "      <td>273</td>\n",
       "      <td>18</td>\n",
       "      <td>15100</td>\n",
       "      <td>10.0</td>\n",
       "      <td>rs4_release</td>\n",
       "      <td>2.0</td>\n",
       "      <td>4-8 GB</td>\n",
       "    </tr>\n",
       "  </tbody>\n",
       "</table>\n",
       "<p>5 rows × 72 columns</p>\n",
       "</div>"
      ],
      "text/plain": [
       "    ProductName RtpStateBitfield  IsSxsPassiveMode AVProductStatesIdentifier  \\\n",
       "0  win8defender              7.0                 0                   53447.0   \n",
       "1  win8defender              7.0                 0                   53447.0   \n",
       "2  win8defender              7.0                 0                   53447.0   \n",
       "3  win8defender              7.0                 0                   53447.0   \n",
       "4  win8defender              7.0                 0                   53447.0   \n",
       "\n",
       "  AVProductsInstalled AVProductsEnabled  HasTpm CountryIdentifier  \\\n",
       "0                 1.0               1.0       1                29   \n",
       "1                 1.0               1.0       1                93   \n",
       "2                 1.0               1.0       1                86   \n",
       "3                 1.0               1.0       1                88   \n",
       "4                 1.0               1.0       1                18   \n",
       "\n",
       "  CityIdentifier OrganizationIdentifier  ... Wdft_IsGamer  \\\n",
       "0       128035.0                   18.0  ...            0   \n",
       "1         1482.0                   18.0  ...            0   \n",
       "2       153579.0                   18.0  ...            0   \n",
       "3        20710.0                    NaN  ...            0   \n",
       "4        37376.0                    NaN  ...            0   \n",
       "\n",
       "  Wdft_RegionIdentifier HasDetections AvSigVersion_extracted  \\\n",
       "0                  10.0             0                    273   \n",
       "1                   8.0             0                    263   \n",
       "2                   3.0             0                    273   \n",
       "3                   3.0             1                    273   \n",
       "4                   1.0             1                    273   \n",
       "\n",
       "  AppVersion_extracted EngineVersion_extracted OsVer_encoded  \\\n",
       "0                   18                   15100          10.0   \n",
       "1                   13                   14600          10.0   \n",
       "2                   18                   15100          10.0   \n",
       "3                   18                   15100          10.0   \n",
       "4                   18                   15100          10.0   \n",
       "\n",
       "  Census_OSBranch_release_extracted  IsProtected_encoded  RAM_bins  \n",
       "0                       rs4_release                  2.0    4-8 GB  \n",
       "1                       rs4_release                  2.0    4-8 GB  \n",
       "2                       rs4_release                  2.0    4-8 GB  \n",
       "3                       rs4_release                  2.0    4-8 GB  \n",
       "4                       rs4_release                  2.0    4-8 GB  \n",
       "\n",
       "[5 rows x 72 columns]"
      ]
     },
     "execution_count": 2,
     "metadata": {},
     "output_type": "execute_result"
    }
   ],
   "source": [
    "df = pd.read_pickle('../data/interim/train_clean.pickle')\n",
    "df.head()"
   ]
  },
  {
   "cell_type": "code",
   "execution_count": 3,
   "id": "87ebdae3",
   "metadata": {},
   "outputs": [
    {
     "data": {
      "text/plain": [
       "(8921483, 72)"
      ]
     },
     "execution_count": 3,
     "metadata": {},
     "output_type": "execute_result"
    }
   ],
   "source": [
    "df.shape"
   ]
  },
  {
   "cell_type": "code",
   "execution_count": 4,
   "id": "ef11ac46",
   "metadata": {},
   "outputs": [
    {
     "name": "stdout",
     "output_type": "stream",
     "text": [
      "<class 'pandas.core.frame.DataFrame'>\n",
      "RangeIndex: 8921483 entries, 0 to 8921482\n",
      "Data columns (total 72 columns):\n",
      " #   Column                                             Dtype   \n",
      "---  ------                                             -----   \n",
      " 0   ProductName                                        category\n",
      " 1   RtpStateBitfield                                   category\n",
      " 2   IsSxsPassiveMode                                   Int64   \n",
      " 3   AVProductStatesIdentifier                          category\n",
      " 4   AVProductsInstalled                                category\n",
      " 5   AVProductsEnabled                                  category\n",
      " 6   HasTpm                                             Int64   \n",
      " 7   CountryIdentifier                                  category\n",
      " 8   CityIdentifier                                     category\n",
      " 9   OrganizationIdentifier                             category\n",
      " 10  GeoNameIdentifier                                  category\n",
      " 11  LocaleEnglishNameIdentifier                        category\n",
      " 12  Platform                                           category\n",
      " 13  Processor                                          category\n",
      " 14  OsBuild                                            category\n",
      " 15  OsSuite                                            category\n",
      " 16  OsPlatformSubRelease                               category\n",
      " 17  SkuEdition                                         category\n",
      " 18  AutoSampleOptIn                                    Int64   \n",
      " 19  SMode                                              Int64   \n",
      " 20  IeVerIdentifier                                    category\n",
      " 21  SmartScreen                                        category\n",
      " 22  Firewall                                           Int64   \n",
      " 23  UacLuaenable                                       category\n",
      " 24  Census_MDC2FormFactor                              category\n",
      " 25  Census_DeviceFamily                                category\n",
      " 26  Census_OEMNameIdentifier                           category\n",
      " 27  Census_OEMModelIdentifier                          category\n",
      " 28  Census_ProcessorCoreCount                          float32 \n",
      " 29  Census_ProcessorManufacturerIdentifier             category\n",
      " 30  Census_ProcessorModelIdentifier                    category\n",
      " 31  Census_PrimaryDiskTotalCapacity                    float32 \n",
      " 32  Census_PrimaryDiskTypeName                         category\n",
      " 33  Census_SystemVolumeTotalCapacity                   float32 \n",
      " 34  Census_HasOpticalDiskDrive                         Int64   \n",
      " 35  Census_TotalPhysicalRAM                            float32 \n",
      " 36  Census_ChassisTypeName                             category\n",
      " 37  Census_InternalPrimaryDiagonalDisplaySizeInInches  float32 \n",
      " 38  Census_InternalPrimaryDisplayResolutionHorizontal  float32 \n",
      " 39  Census_InternalPrimaryDisplayResolutionVertical    float32 \n",
      " 40  Census_PowerPlatformRoleName                       category\n",
      " 41  Census_InternalBatteryNumberOfCharges              float32 \n",
      " 42  Census_OSArchitecture                              category\n",
      " 43  Census_OSBuildRevision                             category\n",
      " 44  Census_OSEdition                                   category\n",
      " 45  Census_OSSkuName                                   category\n",
      " 46  Census_OSInstallTypeName                           category\n",
      " 47  Census_OSInstallLanguageIdentifier                 category\n",
      " 48  Census_OSUILocaleIdentifier                        category\n",
      " 49  Census_OSWUAutoUpdateOptionsName                   category\n",
      " 50  Census_IsPortableOperatingSystem                   Int64   \n",
      " 51  Census_GenuineStateName                            category\n",
      " 52  Census_ActivationChannel                           category\n",
      " 53  Census_IsFlightsDisabled                           Int64   \n",
      " 54  Census_FlightRing                                  category\n",
      " 55  Census_FirmwareManufacturerIdentifier              category\n",
      " 56  Census_FirmwareVersionIdentifier                   category\n",
      " 57  Census_IsSecureBootEnabled                         Int64   \n",
      " 58  Census_IsVirtualDevice                             Int64   \n",
      " 59  Census_IsTouchEnabled                              Int64   \n",
      " 60  Census_IsPenCapable                                Int64   \n",
      " 61  Census_IsAlwaysOnAlwaysConnectedCapable            Int64   \n",
      " 62  Wdft_IsGamer                                       Int64   \n",
      " 63  Wdft_RegionIdentifier                              category\n",
      " 64  HasDetections                                      Int64   \n",
      " 65  AvSigVersion_extracted                             category\n",
      " 66  AppVersion_extracted                               category\n",
      " 67  EngineVersion_extracted                            category\n",
      " 68  OsVer_encoded                                      category\n",
      " 69  Census_OSBranch_release_extracted                  category\n",
      " 70  IsProtected_encoded                                category\n",
      " 71  RAM_bins                                           category\n",
      "dtypes: Int64(15), category(49), float32(8)\n",
      "memory usage: 2.0 GB\n"
     ]
    }
   ],
   "source": [
    "df.info()"
   ]
  },
  {
   "cell_type": "code",
   "execution_count": 5,
   "id": "27da844a",
   "metadata": {},
   "outputs": [],
   "source": [
    "cat_col = df.select_dtypes('category').columns.tolist()\n",
    "binary_col = df.select_dtypes('Int64').columns.tolist()\n",
    "num_col = [col for col in df.columns \n",
    "           if col not in cat_col\n",
    "           if col not in binary_col]"
   ]
  },
  {
   "cell_type": "markdown",
   "id": "10154202",
   "metadata": {},
   "source": [
    "## Numerical data"
   ]
  },
  {
   "cell_type": "markdown",
   "id": "45a5258c",
   "metadata": {},
   "source": [
    "**Univariate Analysis**"
   ]
  },
  {
   "cell_type": "code",
   "execution_count": 6,
   "id": "f3ad144d",
   "metadata": {
    "scrolled": false
   },
   "outputs": [
    {
     "data": {
      "text/html": [
       "<div>\n",
       "<style scoped>\n",
       "    .dataframe tbody tr th:only-of-type {\n",
       "        vertical-align: middle;\n",
       "    }\n",
       "\n",
       "    .dataframe tbody tr th {\n",
       "        vertical-align: top;\n",
       "    }\n",
       "\n",
       "    .dataframe thead th {\n",
       "        text-align: right;\n",
       "    }\n",
       "</style>\n",
       "<table border=\"1\" class=\"dataframe\">\n",
       "  <thead>\n",
       "    <tr style=\"text-align: right;\">\n",
       "      <th></th>\n",
       "      <th>Census_ProcessorCoreCount</th>\n",
       "      <th>Census_PrimaryDiskTotalCapacity</th>\n",
       "      <th>Census_SystemVolumeTotalCapacity</th>\n",
       "      <th>Census_TotalPhysicalRAM</th>\n",
       "      <th>Census_InternalPrimaryDiagonalDisplaySizeInInches</th>\n",
       "      <th>Census_InternalPrimaryDisplayResolutionHorizontal</th>\n",
       "      <th>Census_InternalPrimaryDisplayResolutionVertical</th>\n",
       "      <th>Census_InternalBatteryNumberOfCharges</th>\n",
       "    </tr>\n",
       "  </thead>\n",
       "  <tbody>\n",
       "    <tr>\n",
       "      <th>0</th>\n",
       "      <td>4.0</td>\n",
       "      <td>476940.0</td>\n",
       "      <td>299451.0</td>\n",
       "      <td>4096.0</td>\n",
       "      <td>18.900000</td>\n",
       "      <td>1440.0</td>\n",
       "      <td>900.0</td>\n",
       "      <td>4.294967e+09</td>\n",
       "    </tr>\n",
       "    <tr>\n",
       "      <th>1</th>\n",
       "      <td>4.0</td>\n",
       "      <td>476940.0</td>\n",
       "      <td>102385.0</td>\n",
       "      <td>4096.0</td>\n",
       "      <td>13.900000</td>\n",
       "      <td>1366.0</td>\n",
       "      <td>768.0</td>\n",
       "      <td>1.000000e+00</td>\n",
       "    </tr>\n",
       "    <tr>\n",
       "      <th>2</th>\n",
       "      <td>4.0</td>\n",
       "      <td>114473.0</td>\n",
       "      <td>113907.0</td>\n",
       "      <td>4096.0</td>\n",
       "      <td>21.500000</td>\n",
       "      <td>1920.0</td>\n",
       "      <td>1080.0</td>\n",
       "      <td>4.294967e+09</td>\n",
       "    </tr>\n",
       "    <tr>\n",
       "      <th>3</th>\n",
       "      <td>4.0</td>\n",
       "      <td>238475.0</td>\n",
       "      <td>227116.0</td>\n",
       "      <td>4096.0</td>\n",
       "      <td>18.500000</td>\n",
       "      <td>1366.0</td>\n",
       "      <td>768.0</td>\n",
       "      <td>4.294967e+09</td>\n",
       "    </tr>\n",
       "    <tr>\n",
       "      <th>4</th>\n",
       "      <td>4.0</td>\n",
       "      <td>476940.0</td>\n",
       "      <td>101900.0</td>\n",
       "      <td>6144.0</td>\n",
       "      <td>14.000000</td>\n",
       "      <td>1366.0</td>\n",
       "      <td>768.0</td>\n",
       "      <td>0.000000e+00</td>\n",
       "    </tr>\n",
       "    <tr>\n",
       "      <th>5</th>\n",
       "      <td>2.0</td>\n",
       "      <td>114473.0</td>\n",
       "      <td>113671.0</td>\n",
       "      <td>8192.0</td>\n",
       "      <td>21.500000</td>\n",
       "      <td>1920.0</td>\n",
       "      <td>1080.0</td>\n",
       "      <td>4.294967e+09</td>\n",
       "    </tr>\n",
       "    <tr>\n",
       "      <th>6</th>\n",
       "      <td>2.0</td>\n",
       "      <td>476940.0</td>\n",
       "      <td>458702.0</td>\n",
       "      <td>4096.0</td>\n",
       "      <td>17.200001</td>\n",
       "      <td>1600.0</td>\n",
       "      <td>900.0</td>\n",
       "      <td>0.000000e+00</td>\n",
       "    </tr>\n",
       "    <tr>\n",
       "      <th>7</th>\n",
       "      <td>2.0</td>\n",
       "      <td>305245.0</td>\n",
       "      <td>290807.0</td>\n",
       "      <td>4096.0</td>\n",
       "      <td>15.500000</td>\n",
       "      <td>1366.0</td>\n",
       "      <td>768.0</td>\n",
       "      <td>0.000000e+00</td>\n",
       "    </tr>\n",
       "    <tr>\n",
       "      <th>8</th>\n",
       "      <td>4.0</td>\n",
       "      <td>305245.0</td>\n",
       "      <td>303892.0</td>\n",
       "      <td>4096.0</td>\n",
       "      <td>15.600000</td>\n",
       "      <td>1920.0</td>\n",
       "      <td>1080.0</td>\n",
       "      <td>0.000000e+00</td>\n",
       "    </tr>\n",
       "    <tr>\n",
       "      <th>9</th>\n",
       "      <td>4.0</td>\n",
       "      <td>953869.0</td>\n",
       "      <td>203252.0</td>\n",
       "      <td>8192.0</td>\n",
       "      <td>15.500000</td>\n",
       "      <td>1366.0</td>\n",
       "      <td>768.0</td>\n",
       "      <td>0.000000e+00</td>\n",
       "    </tr>\n",
       "  </tbody>\n",
       "</table>\n",
       "</div>"
      ],
      "text/plain": [
       "   Census_ProcessorCoreCount  Census_PrimaryDiskTotalCapacity  \\\n",
       "0                        4.0                         476940.0   \n",
       "1                        4.0                         476940.0   \n",
       "2                        4.0                         114473.0   \n",
       "3                        4.0                         238475.0   \n",
       "4                        4.0                         476940.0   \n",
       "5                        2.0                         114473.0   \n",
       "6                        2.0                         476940.0   \n",
       "7                        2.0                         305245.0   \n",
       "8                        4.0                         305245.0   \n",
       "9                        4.0                         953869.0   \n",
       "\n",
       "   Census_SystemVolumeTotalCapacity  Census_TotalPhysicalRAM  \\\n",
       "0                          299451.0                   4096.0   \n",
       "1                          102385.0                   4096.0   \n",
       "2                          113907.0                   4096.0   \n",
       "3                          227116.0                   4096.0   \n",
       "4                          101900.0                   6144.0   \n",
       "5                          113671.0                   8192.0   \n",
       "6                          458702.0                   4096.0   \n",
       "7                          290807.0                   4096.0   \n",
       "8                          303892.0                   4096.0   \n",
       "9                          203252.0                   8192.0   \n",
       "\n",
       "   Census_InternalPrimaryDiagonalDisplaySizeInInches  \\\n",
       "0                                          18.900000   \n",
       "1                                          13.900000   \n",
       "2                                          21.500000   \n",
       "3                                          18.500000   \n",
       "4                                          14.000000   \n",
       "5                                          21.500000   \n",
       "6                                          17.200001   \n",
       "7                                          15.500000   \n",
       "8                                          15.600000   \n",
       "9                                          15.500000   \n",
       "\n",
       "   Census_InternalPrimaryDisplayResolutionHorizontal  \\\n",
       "0                                             1440.0   \n",
       "1                                             1366.0   \n",
       "2                                             1920.0   \n",
       "3                                             1366.0   \n",
       "4                                             1366.0   \n",
       "5                                             1920.0   \n",
       "6                                             1600.0   \n",
       "7                                             1366.0   \n",
       "8                                             1920.0   \n",
       "9                                             1366.0   \n",
       "\n",
       "   Census_InternalPrimaryDisplayResolutionVertical  \\\n",
       "0                                            900.0   \n",
       "1                                            768.0   \n",
       "2                                           1080.0   \n",
       "3                                            768.0   \n",
       "4                                            768.0   \n",
       "5                                           1080.0   \n",
       "6                                            900.0   \n",
       "7                                            768.0   \n",
       "8                                           1080.0   \n",
       "9                                            768.0   \n",
       "\n",
       "   Census_InternalBatteryNumberOfCharges  \n",
       "0                           4.294967e+09  \n",
       "1                           1.000000e+00  \n",
       "2                           4.294967e+09  \n",
       "3                           4.294967e+09  \n",
       "4                           0.000000e+00  \n",
       "5                           4.294967e+09  \n",
       "6                           0.000000e+00  \n",
       "7                           0.000000e+00  \n",
       "8                           0.000000e+00  \n",
       "9                           0.000000e+00  "
      ]
     },
     "execution_count": 6,
     "metadata": {},
     "output_type": "execute_result"
    }
   ],
   "source": [
    "df[num_col].head(10)"
   ]
  },
  {
   "cell_type": "code",
   "execution_count": 7,
   "id": "822a7c14",
   "metadata": {
    "scrolled": true
   },
   "outputs": [
    {
     "data": {
      "text/html": [
       "<div>\n",
       "<style scoped>\n",
       "    .dataframe tbody tr th:only-of-type {\n",
       "        vertical-align: middle;\n",
       "    }\n",
       "\n",
       "    .dataframe tbody tr th {\n",
       "        vertical-align: top;\n",
       "    }\n",
       "\n",
       "    .dataframe thead th {\n",
       "        text-align: right;\n",
       "    }\n",
       "</style>\n",
       "<table border=\"1\" class=\"dataframe\">\n",
       "  <thead>\n",
       "    <tr style=\"text-align: right;\">\n",
       "      <th></th>\n",
       "      <th>count</th>\n",
       "      <th>mean</th>\n",
       "      <th>std</th>\n",
       "      <th>min</th>\n",
       "      <th>25%</th>\n",
       "      <th>50%</th>\n",
       "      <th>75%</th>\n",
       "      <th>max</th>\n",
       "    </tr>\n",
       "  </thead>\n",
       "  <tbody>\n",
       "    <tr>\n",
       "      <th>Census_ProcessorCoreCount</th>\n",
       "      <td>8880177.0</td>\n",
       "      <td>3.989696e+00</td>\n",
       "      <td>2.082553e+00</td>\n",
       "      <td>1.0</td>\n",
       "      <td>2.0</td>\n",
       "      <td>4.0</td>\n",
       "      <td>4.000000e+00</td>\n",
       "      <td>1.920000e+02</td>\n",
       "    </tr>\n",
       "    <tr>\n",
       "      <th>Census_PrimaryDiskTotalCapacity</th>\n",
       "      <td>8868431.0</td>\n",
       "      <td>5.129776e+05</td>\n",
       "      <td>3.564779e+05</td>\n",
       "      <td>0.0</td>\n",
       "      <td>239372.0</td>\n",
       "      <td>476940.0</td>\n",
       "      <td>9.538690e+05</td>\n",
       "      <td>1.526074e+07</td>\n",
       "    </tr>\n",
       "    <tr>\n",
       "      <th>Census_SystemVolumeTotalCapacity</th>\n",
       "      <td>8864221.0</td>\n",
       "      <td>3.761297e+05</td>\n",
       "      <td>3.187795e+05</td>\n",
       "      <td>0.0</td>\n",
       "      <td>120775.0</td>\n",
       "      <td>249497.0</td>\n",
       "      <td>4.759700e+05</td>\n",
       "      <td>2.000000e+06</td>\n",
       "    </tr>\n",
       "    <tr>\n",
       "      <th>Census_TotalPhysicalRAM</th>\n",
       "      <td>8840950.0</td>\n",
       "      <td>6.115257e+03</td>\n",
       "      <td>5.115821e+03</td>\n",
       "      <td>255.0</td>\n",
       "      <td>4096.0</td>\n",
       "      <td>4096.0</td>\n",
       "      <td>8.192000e+03</td>\n",
       "      <td>1.572864e+06</td>\n",
       "    </tr>\n",
       "    <tr>\n",
       "      <th>Census_InternalPrimaryDiagonalDisplaySizeInInches</th>\n",
       "      <td>8874349.0</td>\n",
       "      <td>1.667620e+01</td>\n",
       "      <td>5.892932e+00</td>\n",
       "      <td>0.7</td>\n",
       "      <td>13.9</td>\n",
       "      <td>15.5</td>\n",
       "      <td>1.720000e+01</td>\n",
       "      <td>1.823000e+02</td>\n",
       "    </tr>\n",
       "    <tr>\n",
       "      <th>Census_InternalPrimaryDisplayResolutionHorizontal</th>\n",
       "      <td>8874341.0</td>\n",
       "      <td>1.547743e+03</td>\n",
       "      <td>3.683176e+02</td>\n",
       "      <td>144.0</td>\n",
       "      <td>1366.0</td>\n",
       "      <td>1366.0</td>\n",
       "      <td>1.920000e+03</td>\n",
       "      <td>1.228800e+04</td>\n",
       "    </tr>\n",
       "    <tr>\n",
       "      <th>Census_InternalPrimaryDisplayResolutionVertical</th>\n",
       "      <td>8874341.0</td>\n",
       "      <td>8.975861e+02</td>\n",
       "      <td>2.145927e+02</td>\n",
       "      <td>171.0</td>\n",
       "      <td>768.0</td>\n",
       "      <td>768.0</td>\n",
       "      <td>1.080000e+03</td>\n",
       "      <td>8.640000e+03</td>\n",
       "    </tr>\n",
       "    <tr>\n",
       "      <th>Census_InternalBatteryNumberOfCharges</th>\n",
       "      <td>8652728.0</td>\n",
       "      <td>1.123782e+09</td>\n",
       "      <td>1.887782e+09</td>\n",
       "      <td>0.0</td>\n",
       "      <td>0.0</td>\n",
       "      <td>0.0</td>\n",
       "      <td>4.294967e+09</td>\n",
       "      <td>4.294967e+09</td>\n",
       "    </tr>\n",
       "  </tbody>\n",
       "</table>\n",
       "</div>"
      ],
      "text/plain": [
       "                                                       count          mean  \\\n",
       "Census_ProcessorCoreCount                          8880177.0  3.989696e+00   \n",
       "Census_PrimaryDiskTotalCapacity                    8868431.0  5.129776e+05   \n",
       "Census_SystemVolumeTotalCapacity                   8864221.0  3.761297e+05   \n",
       "Census_TotalPhysicalRAM                            8840950.0  6.115257e+03   \n",
       "Census_InternalPrimaryDiagonalDisplaySizeInInches  8874349.0  1.667620e+01   \n",
       "Census_InternalPrimaryDisplayResolutionHorizontal  8874341.0  1.547743e+03   \n",
       "Census_InternalPrimaryDisplayResolutionVertical    8874341.0  8.975861e+02   \n",
       "Census_InternalBatteryNumberOfCharges              8652728.0  1.123782e+09   \n",
       "\n",
       "                                                            std    min  \\\n",
       "Census_ProcessorCoreCount                          2.082553e+00    1.0   \n",
       "Census_PrimaryDiskTotalCapacity                    3.564779e+05    0.0   \n",
       "Census_SystemVolumeTotalCapacity                   3.187795e+05    0.0   \n",
       "Census_TotalPhysicalRAM                            5.115821e+03  255.0   \n",
       "Census_InternalPrimaryDiagonalDisplaySizeInInches  5.892932e+00    0.7   \n",
       "Census_InternalPrimaryDisplayResolutionHorizontal  3.683176e+02  144.0   \n",
       "Census_InternalPrimaryDisplayResolutionVertical    2.145927e+02  171.0   \n",
       "Census_InternalBatteryNumberOfCharges              1.887782e+09    0.0   \n",
       "\n",
       "                                                        25%       50%  \\\n",
       "Census_ProcessorCoreCount                               2.0       4.0   \n",
       "Census_PrimaryDiskTotalCapacity                    239372.0  476940.0   \n",
       "Census_SystemVolumeTotalCapacity                   120775.0  249497.0   \n",
       "Census_TotalPhysicalRAM                              4096.0    4096.0   \n",
       "Census_InternalPrimaryDiagonalDisplaySizeInInches      13.9      15.5   \n",
       "Census_InternalPrimaryDisplayResolutionHorizontal    1366.0    1366.0   \n",
       "Census_InternalPrimaryDisplayResolutionVertical       768.0     768.0   \n",
       "Census_InternalBatteryNumberOfCharges                   0.0       0.0   \n",
       "\n",
       "                                                            75%           max  \n",
       "Census_ProcessorCoreCount                          4.000000e+00  1.920000e+02  \n",
       "Census_PrimaryDiskTotalCapacity                    9.538690e+05  1.526074e+07  \n",
       "Census_SystemVolumeTotalCapacity                   4.759700e+05  2.000000e+06  \n",
       "Census_TotalPhysicalRAM                            8.192000e+03  1.572864e+06  \n",
       "Census_InternalPrimaryDiagonalDisplaySizeInInches  1.720000e+01  1.823000e+02  \n",
       "Census_InternalPrimaryDisplayResolutionHorizontal  1.920000e+03  1.228800e+04  \n",
       "Census_InternalPrimaryDisplayResolutionVertical    1.080000e+03  8.640000e+03  \n",
       "Census_InternalBatteryNumberOfCharges              4.294967e+09  4.294967e+09  "
      ]
     },
     "execution_count": 7,
     "metadata": {},
     "output_type": "execute_result"
    }
   ],
   "source": [
    "df[num_col].describe().T"
   ]
  },
  {
   "cell_type": "markdown",
   "id": "f5564cdd",
   "metadata": {},
   "source": [
    "Census_InternalPrimaryDiagonalDisplaySizeInInches is continuous, the other variables are discrete, however we may treat them as continuous given the number of counts and dimension of dataset."
   ]
  },
  {
   "cell_type": "markdown",
   "id": "e8eecec9",
   "metadata": {},
   "source": [
    "**Census_InternalPrimaryDiagonalDisplaySizeInInches**"
   ]
  },
  {
   "cell_type": "code",
   "execution_count": 8,
   "id": "4bf6a97b",
   "metadata": {},
   "outputs": [],
   "source": [
    "def cont_var_subplots(var_name, df, xlabel, figsize=(16, 6), log_scale=False):\n",
    "    \n",
    "    \"\"\"\n",
    "    Plots the boxplot and histogram of var_name (string)\n",
    "    in a pandas df and sets the x label to xlabel (string).\n",
    "    \"\"\"\n",
    "    \n",
    "    fig, axes = plt.subplots(2, 1, figsize=figsize, sharex=True)\n",
    "    sns.boxplot(ax=axes[0], x=var_name, data=df)\n",
    "    axes[0].set_xlabel('')\n",
    "    sns.histplot(ax=axes[1], x=var_name, data=df, bins=100)\n",
    "    axes[1].set_xlabel(xlabel)\n",
    "    if log_scale:\n",
    "        axes[0].set(xscale=\"log\")\n",
    "        axes[1].set(xscale=\"log\")\n",
    "\n",
    "    plt.tight_layout()"
   ]
  },
  {
   "cell_type": "code",
   "execution_count": 9,
   "id": "b7b47ff4",
   "metadata": {},
   "outputs": [
    {
     "data": {
      "image/png": "[encoded data removed]",
      "text/plain": [
       "<Figure size 1152x432 with 2 Axes>"
      ]
     },
     "metadata": {
      "needs_background": "light"
     },
     "output_type": "display_data"
    }
   ],
   "source": [
    "cont_var_subplots('Census_InternalPrimaryDiagonalDisplaySizeInInches', df, 'Diagonal Display Size (in)')"
   ]
  },
  {
   "cell_type": "markdown",
   "id": "c64bf678",
   "metadata": {},
   "source": [
    "Outlier will be removed based on Z-score."
   ]
  },
  {
   "cell_type": "code",
   "execution_count": 10,
   "id": "1e49ed46",
   "metadata": {},
   "outputs": [],
   "source": [
    "outlier_list = ['Census_InternalPrimaryDiagonalDisplaySizeInInches']"
   ]
  },
  {
   "cell_type": "markdown",
   "id": "f3c4320b",
   "metadata": {},
   "source": [
    "**Census_ProcessorCoreCount**"
   ]
  },
  {
   "cell_type": "code",
   "execution_count": 11,
   "id": "98a67763",
   "metadata": {},
   "outputs": [
    {
     "data": {
      "text/plain": [
       "45"
      ]
     },
     "execution_count": 11,
     "metadata": {},
     "output_type": "execute_result"
    }
   ],
   "source": [
    "df['Census_ProcessorCoreCount'].nunique()"
   ]
  },
  {
   "cell_type": "code",
   "execution_count": 12,
   "id": "f3943add",
   "metadata": {
    "scrolled": true
   },
   "outputs": [
    {
     "data": {
      "text/html": [
       "<div>\n",
       "<style scoped>\n",
       "    .dataframe tbody tr th:only-of-type {\n",
       "        vertical-align: middle;\n",
       "    }\n",
       "\n",
       "    .dataframe tbody tr th {\n",
       "        vertical-align: top;\n",
       "    }\n",
       "\n",
       "    .dataframe thead th {\n",
       "        text-align: right;\n",
       "    }\n",
       "</style>\n",
       "<table border=\"1\" class=\"dataframe\">\n",
       "  <thead>\n",
       "    <tr style=\"text-align: right;\">\n",
       "      <th></th>\n",
       "      <th>Core</th>\n",
       "      <th>HasDetections</th>\n",
       "    </tr>\n",
       "  </thead>\n",
       "  <tbody>\n",
       "    <tr>\n",
       "      <th>0</th>\n",
       "      <td>1.0</td>\n",
       "      <td>0.295042</td>\n",
       "    </tr>\n",
       "    <tr>\n",
       "      <th>1</th>\n",
       "      <td>2.0</td>\n",
       "      <td>0.459875</td>\n",
       "    </tr>\n",
       "    <tr>\n",
       "      <th>2</th>\n",
       "      <td>3.0</td>\n",
       "      <td>0.456038</td>\n",
       "    </tr>\n",
       "    <tr>\n",
       "      <th>3</th>\n",
       "      <td>4.0</td>\n",
       "      <td>0.507915</td>\n",
       "    </tr>\n",
       "    <tr>\n",
       "      <th>4</th>\n",
       "      <td>5.0</td>\n",
       "      <td>0.458333</td>\n",
       "    </tr>\n",
       "  </tbody>\n",
       "</table>\n",
       "</div>"
      ],
      "text/plain": [
       "   Core  HasDetections\n",
       "0   1.0       0.295042\n",
       "1   2.0       0.459875\n",
       "2   3.0       0.456038\n",
       "3   4.0       0.507915\n",
       "4   5.0       0.458333"
      ]
     },
     "execution_count": 12,
     "metadata": {},
     "output_type": "execute_result"
    }
   ],
   "source": [
    "CoreCount_prob = pd.DataFrame(df['Census_ProcessorCoreCount'].value_counts(normalize=True)).reset_index()    \n",
    "CoreCount_prob.columns = ['Core', 'Probability']\n",
    "CoreCount_HasDetections_prob = df.groupby('Census_ProcessorCoreCount')['HasDetections'].mean().reset_index()\n",
    "CoreCount_HasDetections_prob.columns = ['Core', 'HasDetections']\n",
    "CoreCount_HasDetections_prob.head()"
   ]
  },
  {
   "cell_type": "code",
   "execution_count": 13,
   "id": "2db36f94",
   "metadata": {},
   "outputs": [],
   "source": [
    "CoreCount_prob = CoreCount_prob.merge(CoreCount_HasDetections_prob,  \n",
    "                     left_on='Core',\n",
    "                     right_on='Core')\n",
    "CoreCount_prob.Core = CoreCount_prob.Core.astype('int')"
   ]
  },
  {
   "cell_type": "code",
   "execution_count": 14,
   "id": "18f9d995",
   "metadata": {
    "scrolled": true
   },
   "outputs": [
    {
     "data": {
      "image/png": "[encoded data removed]",
      "text/plain": [
       "<Figure size 864x432 with 3 Axes>"
      ]
     },
     "metadata": {
      "needs_background": "light"
     },
     "output_type": "display_data"
    }
   ],
   "source": [
    "fig, axes = plt.subplots(3, 1, figsize=(12, 6), sharex=True)\n",
    "\n",
    "sns.boxplot(ax=axes[0],\n",
    "             x='Census_ProcessorCoreCount', \n",
    "             data=df)\n",
    "axes[0].set_xlabel('');\n",
    "\n",
    "sns.barplot(ax=axes[1],\n",
    "            x='Core', \n",
    "            y='Probability',\n",
    "            data=CoreCount_prob,\n",
    "            color='blue',\n",
    "            alpha=0.5)\n",
    "axes[1].set_xlabel('')\n",
    "axes[1].set_ylabel('PMF')\n",
    "\n",
    "sns.barplot(ax=axes[2],\n",
    "            x='Core', \n",
    "            y='HasDetections',\n",
    "            data=CoreCount_prob,\n",
    "            color='red',\n",
    "            alpha=0.7)\n",
    "axes[2].set_xlabel('Number of Cores');\n",
    "axes[2].set_ylabel('HasDetections Probability')\n",
    "axes[2].set_xticklabels(axes[2].get_xticklabels(), rotation=45, horizontalalignment='center')\n",
    "plt.tight_layout()"
   ]
  },
  {
   "cell_type": "code",
   "execution_count": 15,
   "id": "94e3d093",
   "metadata": {},
   "outputs": [],
   "source": [
    "outlier_list.append('Census_ProcessorCoreCount')"
   ]
  },
  {
   "cell_type": "markdown",
   "id": "ffe2c2df",
   "metadata": {},
   "source": [
    "**Census_PrimaryDiskTotalCapacity**"
   ]
  },
  {
   "cell_type": "code",
   "execution_count": 16,
   "id": "ab34f7db",
   "metadata": {},
   "outputs": [
    {
     "data": {
      "text/plain": [
       "5707"
      ]
     },
     "execution_count": 16,
     "metadata": {},
     "output_type": "execute_result"
    }
   ],
   "source": [
    "df.Census_PrimaryDiskTotalCapacity.nunique()"
   ]
  },
  {
   "cell_type": "code",
   "execution_count": 17,
   "id": "c3a2abc4",
   "metadata": {},
   "outputs": [
    {
     "data": {
      "text/plain": [
       "476940.0     2841530\n",
       "953869.0     2175780\n",
       "305245.0      474616\n",
       "122104.0      469060\n",
       "244198.0      452284\n",
       "238475.0      312093\n",
       "29820.0       303493\n",
       "114473.0      259542\n",
       "715404.0      245946\n",
       "228936.0      159491\n",
       "152627.0      117362\n",
       "1907729.0      98160\n",
       "488386.0       96985\n",
       "59640.0        95669\n",
       "29824.0        88731\n",
       "610480.0       84850\n",
       "29600.0        43855\n",
       "76319.0        27882\n",
       "457862.0       25321\n",
       "59648.0        21240\n",
       "119276.0       19967\n",
       "114480.0       18888\n",
       "61057.0        18379\n",
       "239372.0       16983\n",
       "29184.0        16183\n",
       "476938.0       15611\n",
       "228944.0       15259\n",
       "115712.0       14021\n",
       "57241.0        12829\n",
       "61440.0        12358\n",
       "Name: Census_PrimaryDiskTotalCapacity, dtype: int64"
      ]
     },
     "execution_count": 17,
     "metadata": {},
     "output_type": "execute_result"
    }
   ],
   "source": [
    "df.Census_PrimaryDiskTotalCapacity.value_counts().iloc[:30]"
   ]
  },
  {
   "cell_type": "markdown",
   "id": "2415f745",
   "metadata": {},
   "source": [
    "I will treat this as a continuous variable."
   ]
  },
  {
   "cell_type": "code",
   "execution_count": 18,
   "id": "ccdafdf3",
   "metadata": {
    "scrolled": false
   },
   "outputs": [
    {
     "data": {
      "image/png": "[encoded data removed]",
      "text/plain": [
       "<Figure size 1152x432 with 2 Axes>"
      ]
     },
     "metadata": {
      "needs_background": "light"
     },
     "output_type": "display_data"
    }
   ],
   "source": [
    "cont_var_subplots('Census_PrimaryDiskTotalCapacity', df, 'Primary Disk Total Capacity (MB)')"
   ]
  },
  {
   "cell_type": "markdown",
   "id": "e42ac86d",
   "metadata": {},
   "source": [
    "Outlier will be removed based on Z-score."
   ]
  },
  {
   "cell_type": "code",
   "execution_count": 19,
   "id": "822c571b",
   "metadata": {},
   "outputs": [],
   "source": [
    "outlier_list.append('Census_PrimaryDiskTotalCapacity') "
   ]
  },
  {
   "cell_type": "markdown",
   "id": "09bf27fd",
   "metadata": {},
   "source": [
    "**Census_SystemVolumeTotalCapacity**"
   ]
  },
  {
   "cell_type": "code",
   "execution_count": 20,
   "id": "02e2bfb2",
   "metadata": {},
   "outputs": [
    {
     "data": {
      "text/plain": [
       "535313"
      ]
     },
     "execution_count": 20,
     "metadata": {},
     "output_type": "execute_result"
    }
   ],
   "source": [
    "df.Census_SystemVolumeTotalCapacity.nunique()"
   ]
  },
  {
   "cell_type": "code",
   "execution_count": 21,
   "id": "f284c3bc",
   "metadata": {},
   "outputs": [
    {
     "data": {
      "text/plain": [
       "28542.0     51998\n",
       "926992.0    50430\n",
       "476389.0    44435\n",
       "953253.0    41572\n",
       "102400.0    41257\n",
       "476324.0    40925\n",
       "952728.0    38251\n",
       "476323.0    35410\n",
       "475799.0    33723\n",
       "952727.0    33714\n",
       "952792.0    32698\n",
       "28558.0     31740\n",
       "476438.0    30906\n",
       "243582.0    28784\n",
       "476373.0    27279\n",
       "380772.0    26999\n",
       "476388.0    26770\n",
       "381546.0    26688\n",
       "121488.0    26600\n",
       "190001.0    26059\n",
       "953318.0    25690\n",
       "113922.0    25621\n",
       "190774.0    25189\n",
       "113857.0    23288\n",
       "29043.0     23084\n",
       "102401.0    21876\n",
       "99500.0     21319\n",
       "953093.0    21064\n",
       "953302.0    20782\n",
       "28557.0     20699\n",
       "Name: Census_SystemVolumeTotalCapacity, dtype: int64"
      ]
     },
     "execution_count": 21,
     "metadata": {},
     "output_type": "execute_result"
    }
   ],
   "source": [
    "df.Census_SystemVolumeTotalCapacity.value_counts().iloc[:30]"
   ]
  },
  {
   "cell_type": "code",
   "execution_count": 22,
   "id": "02804e1e",
   "metadata": {},
   "outputs": [
    {
     "data": {
      "image/png": "[encoded data removed]",
      "text/plain": [
       "<Figure size 1152x432 with 2 Axes>"
      ]
     },
     "metadata": {
      "needs_background": "light"
     },
     "output_type": "display_data"
    }
   ],
   "source": [
    "cont_var_subplots('Census_SystemVolumeTotalCapacity', df, 'System Volume Total Capacity (MB)')"
   ]
  },
  {
   "cell_type": "markdown",
   "id": "4afec0c9",
   "metadata": {},
   "source": [
    "I will treat this as a continuous variable."
   ]
  },
  {
   "cell_type": "markdown",
   "id": "da311ada",
   "metadata": {},
   "source": [
    "Outlier will be removed based on Z-score."
   ]
  },
  {
   "cell_type": "code",
   "execution_count": 23,
   "id": "e566d215",
   "metadata": {},
   "outputs": [],
   "source": [
    "outlier_list.append('Census_SystemVolumeTotalCapacity') "
   ]
  },
  {
   "cell_type": "markdown",
   "id": "0ef920be",
   "metadata": {},
   "source": [
    "**Census_TotalPhysicalRAM**"
   ]
  },
  {
   "cell_type": "code",
   "execution_count": 24,
   "id": "89455a79",
   "metadata": {},
   "outputs": [
    {
     "data": {
      "text/plain": [
       "3446"
      ]
     },
     "execution_count": 24,
     "metadata": {},
     "output_type": "execute_result"
    }
   ],
   "source": [
    "df.Census_TotalPhysicalRAM.nunique()"
   ]
  },
  {
   "cell_type": "code",
   "execution_count": 25,
   "id": "7d2a10db",
   "metadata": {},
   "outputs": [
    {
     "data": {
      "text/plain": [
       "4096.0      4094512\n",
       "8192.0      2196505\n",
       "2048.0      1097474\n",
       "16384.0      531558\n",
       "6144.0       398671\n",
       "12288.0      159894\n",
       "3072.0       152070\n",
       "1024.0        66054\n",
       "32768.0       58107\n",
       "24576.0       11572\n",
       "10240.0       10579\n",
       "5120.0         7393\n",
       "65536.0        6606\n",
       "1536.0         4905\n",
       "2560.0         4316\n",
       "4095.0         4106\n",
       "20480.0        3960\n",
       "2047.0         3814\n",
       "8191.0         1706\n",
       "14336.0        1513\n",
       "7168.0         1425\n",
       "49152.0        1028\n",
       "131072.0        936\n",
       "3071.0          780\n",
       "3584.0          714\n",
       "18432.0         600\n",
       "9216.0          551\n",
       "6143.0          350\n",
       "28672.0         317\n",
       "3583.0          313\n",
       "Name: Census_TotalPhysicalRAM, dtype: int64"
      ]
     },
     "execution_count": 25,
     "metadata": {},
     "output_type": "execute_result"
    }
   ],
   "source": [
    "df.Census_TotalPhysicalRAM.value_counts().iloc[:30]"
   ]
  },
  {
   "cell_type": "markdown",
   "id": "4b29c05a",
   "metadata": {},
   "source": [
    "I will treat this as a continuous variable."
   ]
  },
  {
   "cell_type": "code",
   "execution_count": 26,
   "id": "72f2ff0d",
   "metadata": {},
   "outputs": [
    {
     "data": {
      "image/png": "[encoded data removed]",
      "text/plain": [
       "<Figure size 1152x432 with 2 Axes>"
      ]
     },
     "metadata": {
      "needs_background": "light"
     },
     "output_type": "display_data"
    }
   ],
   "source": [
    "cont_var_subplots('Census_TotalPhysicalRAM', df, 'Total Pysical RAM (MB)')"
   ]
  },
  {
   "cell_type": "markdown",
   "id": "0ab9d771",
   "metadata": {},
   "source": [
    "Outlier will be removed based on Z-score."
   ]
  },
  {
   "cell_type": "code",
   "execution_count": 27,
   "id": "7eded64a",
   "metadata": {},
   "outputs": [],
   "source": [
    "outlier_list.append('Census_TotalPhysicalRAM')"
   ]
  },
  {
   "cell_type": "markdown",
   "id": "c104d7c4",
   "metadata": {},
   "source": [
    "**Census_InternalPrimaryDisplayResolutionHorizontal**"
   ]
  },
  {
   "cell_type": "code",
   "execution_count": 28,
   "id": "4faa115a",
   "metadata": {},
   "outputs": [
    {
     "data": {
      "text/plain": [
       "2179"
      ]
     },
     "execution_count": 28,
     "metadata": {},
     "output_type": "execute_result"
    }
   ],
   "source": [
    "df.Census_InternalPrimaryDisplayResolutionHorizontal.nunique()"
   ]
  },
  {
   "cell_type": "code",
   "execution_count": 29,
   "id": "8b3e77d4",
   "metadata": {},
   "outputs": [
    {
     "data": {
      "text/plain": [
       "1366.0    4515064\n",
       "1920.0    2220648\n",
       "1280.0     527430\n",
       "1600.0     501288\n",
       "1024.0     342620\n",
       "1440.0     167131\n",
       "1360.0     128010\n",
       "1680.0     109716\n",
       "2560.0      70120\n",
       "2736.0      57640\n",
       "3840.0      44668\n",
       "800.0       31940\n",
       "2160.0      31667\n",
       "3200.0      17335\n",
       "3000.0      11071\n",
       "2880.0      10107\n",
       "640.0        8796\n",
       "1368.0       8398\n",
       "1152.0       7784\n",
       "2256.0       5470\n",
       "3440.0       5269\n",
       "2048.0       5028\n",
       "1400.0       4263\n",
       "1200.0       3484\n",
       "1080.0       3288\n",
       "768.0        3159\n",
       "1768.0       2004\n",
       "2304.0       1969\n",
       "4096.0       1930\n",
       "1800.0       1777\n",
       "Name: Census_InternalPrimaryDisplayResolutionHorizontal, dtype: int64"
      ]
     },
     "execution_count": 29,
     "metadata": {},
     "output_type": "execute_result"
    }
   ],
   "source": [
    "df.Census_InternalPrimaryDisplayResolutionHorizontal.value_counts().iloc[:30]"
   ]
  },
  {
   "cell_type": "markdown",
   "id": "ab67b609",
   "metadata": {},
   "source": [
    "I will treat this as a continuous variable."
   ]
  },
  {
   "cell_type": "code",
   "execution_count": 30,
   "id": "ce73af17",
   "metadata": {
    "scrolled": false
   },
   "outputs": [
    {
     "data": {
      "image/png": "[encoded data removed]",
      "text/plain": [
       "<Figure size 1152x432 with 2 Axes>"
      ]
     },
     "metadata": {
      "needs_background": "light"
     },
     "output_type": "display_data"
    }
   ],
   "source": [
    "cont_var_subplots('Census_InternalPrimaryDisplayResolutionHorizontal', df, 'Display Horizontal Resolution (px)')"
   ]
  },
  {
   "cell_type": "markdown",
   "id": "4f188829",
   "metadata": {},
   "source": [
    "Outlier will be removed based on Z-score."
   ]
  },
  {
   "cell_type": "code",
   "execution_count": 31,
   "id": "78cd320a",
   "metadata": {},
   "outputs": [],
   "source": [
    "outlier_list.append('Census_InternalPrimaryDisplayResolutionHorizontal')"
   ]
  },
  {
   "cell_type": "markdown",
   "id": "fa0de295",
   "metadata": {},
   "source": [
    "**Census_InternalPrimaryDisplayResolutionVertical**"
   ]
  },
  {
   "cell_type": "code",
   "execution_count": 32,
   "id": "3d8ec8c6",
   "metadata": {},
   "outputs": [
    {
     "data": {
      "text/plain": [
       "1559"
      ]
     },
     "execution_count": 32,
     "metadata": {},
     "output_type": "execute_result"
    }
   ],
   "source": [
    "df.Census_InternalPrimaryDisplayResolutionVertical.nunique()"
   ]
  },
  {
   "cell_type": "code",
   "execution_count": 33,
   "id": "357824ee",
   "metadata": {},
   "outputs": [
    {
     "data": {
      "text/plain": [
       "768.0     4973621\n",
       "1080.0    2148402\n",
       "900.0      655155\n",
       "800.0      262058\n",
       "1024.0     186322\n",
       "1050.0     112220\n",
       "1440.0      81251\n",
       "1200.0      79397\n",
       "600.0       63806\n",
       "1824.0      57630\n",
       "720.0       48483\n",
       "2160.0      46777\n",
       "1280.0      28870\n",
       "1800.0      25532\n",
       "1600.0      16009\n",
       "2000.0      11066\n",
       "480.0        8972\n",
       "1920.0       8143\n",
       "864.0        7550\n",
       "960.0        6479\n",
       "1504.0       5466\n",
       "1152.0       2529\n",
       "1536.0       2348\n",
       "1366.0       2225\n",
       "992.0        2018\n",
       "1000.0       1641\n",
       "2880.0       1588\n",
       "945.0        1560\n",
       "2736.0       1089\n",
       "2100.0       1051\n",
       "Name: Census_InternalPrimaryDisplayResolutionVertical, dtype: int64"
      ]
     },
     "execution_count": 33,
     "metadata": {},
     "output_type": "execute_result"
    }
   ],
   "source": [
    "df.Census_InternalPrimaryDisplayResolutionVertical.value_counts().iloc[:30]"
   ]
  },
  {
   "cell_type": "markdown",
   "id": "bc01f9bf",
   "metadata": {},
   "source": [
    "I will treat this as a continuous variable."
   ]
  },
  {
   "cell_type": "code",
   "execution_count": 34,
   "id": "d0a0a7be",
   "metadata": {
    "scrolled": false
   },
   "outputs": [
    {
     "data": {
      "image/png": "[encoded data removed]",
      "text/plain": [
       "<Figure size 1152x432 with 2 Axes>"
      ]
     },
     "metadata": {
      "needs_background": "light"
     },
     "output_type": "display_data"
    }
   ],
   "source": [
    "cont_var_subplots('Census_InternalPrimaryDisplayResolutionVertical', df, 'Display Vertical Resolution (px)')"
   ]
  },
  {
   "cell_type": "markdown",
   "id": "1ae91e53",
   "metadata": {},
   "source": [
    "Outlier will be removed based on Z-score."
   ]
  },
  {
   "cell_type": "code",
   "execution_count": 35,
   "id": "4962c102",
   "metadata": {},
   "outputs": [],
   "source": [
    "outlier_list.append('Census_InternalPrimaryDisplayResolutionVertical')"
   ]
  },
  {
   "cell_type": "markdown",
   "id": "b7ff3142",
   "metadata": {},
   "source": [
    "**Census_InternalBatteryNumberOfCharges**"
   ]
  },
  {
   "cell_type": "code",
   "execution_count": 36,
   "id": "7f116374",
   "metadata": {},
   "outputs": [
    {
     "data": {
      "text/plain": [
       "41087"
      ]
     },
     "execution_count": 36,
     "metadata": {},
     "output_type": "execute_result"
    }
   ],
   "source": [
    "df.Census_InternalBatteryNumberOfCharges.nunique()"
   ]
  },
  {
   "cell_type": "code",
   "execution_count": 37,
   "id": "05bd2904",
   "metadata": {},
   "outputs": [
    {
     "data": {
      "text/plain": [
       "0.000000e+00    0.584024\n",
       "4.294967e+09    0.261651\n",
       "1.000000e+00    0.006219\n",
       "2.000000e+00    0.003251\n",
       "1.600000e+01    0.003161\n",
       "3.000000e+00    0.002489\n",
       "3.300000e+01    0.002279\n",
       "4.000000e+00    0.002083\n",
       "5.000000e+00    0.001871\n",
       "6.000000e+00    0.001673\n",
       "7.000000e+00    0.001561\n",
       "8.000000e+00    0.001501\n",
       "9.000000e+00    0.001389\n",
       "3.740000e+02    0.001344\n",
       "1.000000e+01    0.001331\n",
       "1.100000e+01    0.001281\n",
       "4.380000e+02    0.001237\n",
       "1.200000e+01    0.001221\n",
       "1.300000e+01    0.001152\n",
       "1.400000e+01    0.001133\n",
       "3.770000e+02    0.001123\n",
       "1.500000e+01    0.001112\n",
       "2.560000e+02    0.001107\n",
       "2.600000e+01    0.001068\n",
       "1.700000e+01    0.001033\n",
       "1.800000e+01    0.001019\n",
       "3.840000e+02    0.001004\n",
       "1.900000e+01    0.000979\n",
       "2.000000e+01    0.000962\n",
       "2.100000e+01    0.000947\n",
       "Name: Census_InternalBatteryNumberOfCharges, dtype: float64"
      ]
     },
     "execution_count": 37,
     "metadata": {},
     "output_type": "execute_result"
    }
   ],
   "source": [
    "df.Census_InternalBatteryNumberOfCharges.value_counts(normalize=True).iloc[:30]"
   ]
  },
  {
   "cell_type": "code",
   "execution_count": 38,
   "id": "5826d917",
   "metadata": {},
   "outputs": [
    {
     "data": {
      "text/plain": [
       "4294967300.0"
      ]
     },
     "execution_count": 38,
     "metadata": {},
     "output_type": "execute_result"
    }
   ],
   "source": [
    "df.Census_InternalBatteryNumberOfCharges.max()"
   ]
  },
  {
   "cell_type": "code",
   "execution_count": 39,
   "id": "393d6c0c",
   "metadata": {},
   "outputs": [
    {
     "data": {
      "text/plain": [
       "<AxesSubplot:>"
      ]
     },
     "execution_count": 39,
     "metadata": {},
     "output_type": "execute_result"
    },
    {
     "data": {
      "image/png": "[encoded data removed]",
      "text/plain": [
       "<Figure size 432x288 with 1 Axes>"
      ]
     },
     "metadata": {
      "needs_background": "light"
     },
     "output_type": "display_data"
    }
   ],
   "source": [
    "df.Census_InternalBatteryNumberOfCharges.hist()"
   ]
  },
  {
   "cell_type": "code",
   "execution_count": 40,
   "id": "46f6e1a3",
   "metadata": {},
   "outputs": [
    {
     "data": {
      "text/html": [
       "<div>\n",
       "<style scoped>\n",
       "    .dataframe tbody tr th:only-of-type {\n",
       "        vertical-align: middle;\n",
       "    }\n",
       "\n",
       "    .dataframe tbody tr th {\n",
       "        vertical-align: top;\n",
       "    }\n",
       "\n",
       "    .dataframe thead th {\n",
       "        text-align: right;\n",
       "    }\n",
       "</style>\n",
       "<table border=\"1\" class=\"dataframe\">\n",
       "  <thead>\n",
       "    <tr style=\"text-align: right;\">\n",
       "      <th>HasDetections</th>\n",
       "      <th>0</th>\n",
       "      <th>1</th>\n",
       "    </tr>\n",
       "    <tr>\n",
       "      <th>Census_InternalBatteryNumberOfCharges</th>\n",
       "      <th></th>\n",
       "      <th></th>\n",
       "    </tr>\n",
       "  </thead>\n",
       "  <tbody>\n",
       "    <tr>\n",
       "      <th>0.000000e+00</th>\n",
       "      <td>2541587</td>\n",
       "      <td>2511817</td>\n",
       "    </tr>\n",
       "    <tr>\n",
       "      <th>1.000000e+00</th>\n",
       "      <td>31203</td>\n",
       "      <td>22607</td>\n",
       "    </tr>\n",
       "    <tr>\n",
       "      <th>2.000000e+00</th>\n",
       "      <td>16455</td>\n",
       "      <td>11673</td>\n",
       "    </tr>\n",
       "    <tr>\n",
       "      <th>3.000000e+00</th>\n",
       "      <td>12580</td>\n",
       "      <td>8957</td>\n",
       "    </tr>\n",
       "    <tr>\n",
       "      <th>4.000000e+00</th>\n",
       "      <td>10615</td>\n",
       "      <td>7405</td>\n",
       "    </tr>\n",
       "    <tr>\n",
       "      <th>...</th>\n",
       "      <td>...</td>\n",
       "      <td>...</td>\n",
       "    </tr>\n",
       "    <tr>\n",
       "      <th>6.550900e+04</th>\n",
       "      <td>1</td>\n",
       "      <td>0</td>\n",
       "    </tr>\n",
       "    <tr>\n",
       "      <th>6.551600e+04</th>\n",
       "      <td>1</td>\n",
       "      <td>0</td>\n",
       "    </tr>\n",
       "    <tr>\n",
       "      <th>6.551900e+04</th>\n",
       "      <td>1</td>\n",
       "      <td>0</td>\n",
       "    </tr>\n",
       "    <tr>\n",
       "      <th>6.553500e+04</th>\n",
       "      <td>99</td>\n",
       "      <td>49</td>\n",
       "    </tr>\n",
       "    <tr>\n",
       "      <th>4.294967e+09</th>\n",
       "      <td>1096688</td>\n",
       "      <td>1167305</td>\n",
       "    </tr>\n",
       "  </tbody>\n",
       "</table>\n",
       "<p>41087 rows × 2 columns</p>\n",
       "</div>"
      ],
      "text/plain": [
       "HasDetections                                0        1\n",
       "Census_InternalBatteryNumberOfCharges                  \n",
       "0.000000e+00                           2541587  2511817\n",
       "1.000000e+00                             31203    22607\n",
       "2.000000e+00                             16455    11673\n",
       "3.000000e+00                             12580     8957\n",
       "4.000000e+00                             10615     7405\n",
       "...                                        ...      ...\n",
       "6.550900e+04                                 1        0\n",
       "6.551600e+04                                 1        0\n",
       "6.551900e+04                                 1        0\n",
       "6.553500e+04                                99       49\n",
       "4.294967e+09                           1096688  1167305\n",
       "\n",
       "[41087 rows x 2 columns]"
      ]
     },
     "execution_count": 40,
     "metadata": {},
     "output_type": "execute_result"
    }
   ],
   "source": [
    "int_battery_charge_contingency = pd.crosstab(df.Census_InternalBatteryNumberOfCharges, df.HasDetections)\n",
    "int_battery_charge_contingency"
   ]
  },
  {
   "cell_type": "markdown",
   "id": "23a6a972",
   "metadata": {},
   "source": [
    "This might mean som values are missing (0's), others are actual values - even though small numbers like 1, 2, 3 .., and it seems caped to the max value of 4.3e9."
   ]
  },
  {
   "cell_type": "code",
   "execution_count": 41,
   "id": "06ee8fe9",
   "metadata": {
    "scrolled": true
   },
   "outputs": [
    {
     "data": {
      "text/plain": [
       "None     5053404\n",
       "Max      2263993\n",
       "Other    1604086\n",
       "Name: Census_InternalBatteryNumberOfCharges, dtype: int64"
      ]
     },
     "execution_count": 41,
     "metadata": {},
     "output_type": "execute_result"
    }
   ],
   "source": [
    "df.loc[df.Census_InternalBatteryNumberOfCharges == 0, 'Census_InternalBatteryNumberOfCharges'] = 0\n",
    "df.loc[(df.Census_InternalBatteryNumberOfCharges != 0) &\n",
    "       (df.Census_InternalBatteryNumberOfCharges != df.Census_InternalBatteryNumberOfCharges.max()), \n",
    "       'Census_InternalBatteryNumberOfCharges'] = 'Other'\n",
    "df.Census_InternalBatteryNumberOfCharges = df.Census_InternalBatteryNumberOfCharges.map({0.0:'None',\n",
    "                                                                                        4294967296.0: 'Max',\n",
    "                                                                                        'Other':'Other'}).astype('category')\n",
    "df.Census_InternalBatteryNumberOfCharges.value_counts()"
   ]
  },
  {
   "cell_type": "code",
   "execution_count": 44,
   "id": "74120a8a",
   "metadata": {},
   "outputs": [
    {
     "data": {
      "text/plain": [
       "CategoricalDtype(categories=['Max', 'None', 'Other'], ordered=False)"
      ]
     },
     "execution_count": 44,
     "metadata": {},
     "output_type": "execute_result"
    }
   ],
   "source": [
    "df.Census_InternalBatteryNumberOfCharges.dtype"
   ]
  },
  {
   "cell_type": "code",
   "execution_count": 42,
   "id": "839deebf",
   "metadata": {},
   "outputs": [
    {
     "data": {
      "text/html": [
       "<div>\n",
       "<style scoped>\n",
       "    .dataframe tbody tr th:only-of-type {\n",
       "        vertical-align: middle;\n",
       "    }\n",
       "\n",
       "    .dataframe tbody tr th {\n",
       "        vertical-align: top;\n",
       "    }\n",
       "\n",
       "    .dataframe thead th {\n",
       "        text-align: right;\n",
       "    }\n",
       "</style>\n",
       "<table border=\"1\" class=\"dataframe\">\n",
       "  <thead>\n",
       "    <tr style=\"text-align: right;\">\n",
       "      <th>HasDetections</th>\n",
       "      <th>0</th>\n",
       "      <th>1</th>\n",
       "    </tr>\n",
       "    <tr>\n",
       "      <th>Census_InternalBatteryNumberOfCharges</th>\n",
       "      <th></th>\n",
       "      <th></th>\n",
       "    </tr>\n",
       "  </thead>\n",
       "  <tbody>\n",
       "    <tr>\n",
       "      <th>Max</th>\n",
       "      <td>1096688</td>\n",
       "      <td>1167305</td>\n",
       "    </tr>\n",
       "    <tr>\n",
       "      <th>None</th>\n",
       "      <td>2541587</td>\n",
       "      <td>2511817</td>\n",
       "    </tr>\n",
       "    <tr>\n",
       "      <th>Other</th>\n",
       "      <td>824316</td>\n",
       "      <td>779770</td>\n",
       "    </tr>\n",
       "  </tbody>\n",
       "</table>\n",
       "</div>"
      ],
      "text/plain": [
       "HasDetections                                0        1\n",
       "Census_InternalBatteryNumberOfCharges                  \n",
       "Max                                    1096688  1167305\n",
       "None                                   2541587  2511817\n",
       "Other                                   824316   779770"
      ]
     },
     "execution_count": 42,
     "metadata": {},
     "output_type": "execute_result"
    }
   ],
   "source": [
    "battery_charge_contingency = pd.crosstab(df.Census_InternalBatteryNumberOfCharges, df.HasDetections)\n",
    "battery_charge_contingency"
   ]
  },
  {
   "cell_type": "code",
   "execution_count": 43,
   "id": "01a8cd98",
   "metadata": {},
   "outputs": [
    {
     "data": {
      "text/plain": [
       "(3613.54117241781,\n",
       " 0.0,\n",
       " 2,\n",
       " array([[1132465.84518101, 1131527.15481899],\n",
       "        [2527749.61402314, 2525654.38597686],\n",
       "        [ 802375.54079585,  801710.45920415]]))"
      ]
     },
     "execution_count": 43,
     "metadata": {},
     "output_type": "execute_result"
    }
   ],
   "source": [
    "chi2_contingency(battery_charge_contingency)"
   ]
  },
  {
   "cell_type": "markdown",
   "id": "34708a35",
   "metadata": {},
   "source": [
    "## Remove outliers"
   ]
  },
  {
   "cell_type": "code",
   "execution_count": 45,
   "id": "19e84059",
   "metadata": {},
   "outputs": [
    {
     "data": {
      "text/plain": [
       "['Census_InternalPrimaryDiagonalDisplaySizeInInches',\n",
       " 'Census_ProcessorCoreCount',\n",
       " 'Census_PrimaryDiskTotalCapacity',\n",
       " 'Census_SystemVolumeTotalCapacity',\n",
       " 'Census_TotalPhysicalRAM',\n",
       " 'Census_InternalPrimaryDisplayResolutionHorizontal',\n",
       " 'Census_InternalPrimaryDisplayResolutionVertical']"
      ]
     },
     "execution_count": 45,
     "metadata": {},
     "output_type": "execute_result"
    }
   ],
   "source": [
    "outlier_list"
   ]
  },
  {
   "cell_type": "code",
   "execution_count": 46,
   "id": "7cc2c6f9",
   "metadata": {
    "scrolled": true
   },
   "outputs": [
    {
     "data": {
      "text/plain": [
       "array([[0.37736872, 0.00494788, 0.10109194, ..., 0.39471024, 0.29252398,\n",
       "        0.0112461 ],\n",
       "       [0.4711053 , 0.00494788, 0.10109194, ..., 0.39471024, 0.4934376 ,\n",
       "        0.60387266],\n",
       "       [0.81857526, 0.00494788, 1.117893  , ..., 0.39471024, 1.0106995 ,\n",
       "        0.85004437],\n",
       "       ...,\n",
       "       [0.19959356, 1.9256675 , 0.7539853 , ..., 0.4059436 , 1.0106995 ,\n",
       "        0.85004437],\n",
       "       [0.67473906, 0.95541185, 0.10109194, ..., 0.39471024, 1.4219843 ,\n",
       "        0.60387266],\n",
       "       [0.19959356, 0.00494788, 1.2368006 , ..., 0.00561667, 1.0106995 ,\n",
       "        0.85004437]], dtype=float32)"
      ]
     },
     "execution_count": 46,
     "metadata": {},
     "output_type": "execute_result"
    }
   ],
   "source": [
    "z_score = np.abs(stats.zscore(df[outlier_list], nan_policy='omit'))\n",
    "z_score"
   ]
  },
  {
   "cell_type": "code",
   "execution_count": 47,
   "id": "7ba8c02d",
   "metadata": {},
   "outputs": [
    {
     "data": {
      "text/plain": [
       "array([1.22248734, 1.33069805, 1.23296766, 0.78336752, 0.90009699,\n",
       "       1.72831131, 1.95568383])"
      ]
     },
     "execution_count": 47,
     "metadata": {},
     "output_type": "execute_result"
    }
   ],
   "source": [
    "sum(z_score>3)/df.shape[0]*100"
   ]
  },
  {
   "cell_type": "code",
   "execution_count": 48,
   "id": "ff69a715",
   "metadata": {},
   "outputs": [
    {
     "data": {
      "text/plain": [
       "Int64Index([     18,      21,      34,      34,      35,      49,      63,\n",
       "                 79,      79,      87,\n",
       "            ...\n",
       "            8921400, 8921405, 8921405, 8921420, 8921425, 8921425, 8921444,\n",
       "            8921444, 8921444, 8921476],\n",
       "           dtype='int64', length=816638)"
      ]
     },
     "execution_count": 48,
     "metadata": {},
     "output_type": "execute_result"
    }
   ],
   "source": [
    "outlier_indices = df[outlier_list][z_score > 3].index\n",
    "outlier_indices"
   ]
  },
  {
   "cell_type": "code",
   "execution_count": 49,
   "id": "96c75170",
   "metadata": {},
   "outputs": [
    {
     "data": {
      "text/plain": [
       "(8395341, 72)"
      ]
     },
     "execution_count": 49,
     "metadata": {},
     "output_type": "execute_result"
    }
   ],
   "source": [
    "clean_df = df.iloc[~df.index.isin(outlier_indices), :]\n",
    "clean_df.shape"
   ]
  },
  {
   "cell_type": "code",
   "execution_count": 50,
   "id": "3c719551",
   "metadata": {
    "scrolled": true
   },
   "outputs": [
    {
     "data": {
      "text/plain": [
       "Census_InternalPrimaryDiagonalDisplaySizeInInches    45442\n",
       "Census_ProcessorCoreCount                            39731\n",
       "Census_PrimaryDiskTotalCapacity                      50415\n",
       "Census_SystemVolumeTotalCapacity                     50389\n",
       "Census_TotalPhysicalRAM                              76593\n",
       "Census_InternalPrimaryDisplayResolutionHorizontal    45450\n",
       "Census_InternalPrimaryDisplayResolutionVertical      45450\n",
       "dtype: int64"
      ]
     },
     "execution_count": 50,
     "metadata": {},
     "output_type": "execute_result"
    }
   ],
   "source": [
    "clean_df[outlier_list].isnull().sum()"
   ]
  },
  {
   "cell_type": "code",
   "execution_count": 51,
   "id": "89813a87",
   "metadata": {},
   "outputs": [],
   "source": [
    "cat_col = clean_df.select_dtypes('category').columns.tolist()\n",
    "binary_col = clean_df.select_dtypes('Int64').columns.tolist()\n",
    "num_col = [col for col in clean_df.columns \n",
    "           if col not in cat_col\n",
    "           if col not in binary_col]"
   ]
  },
  {
   "cell_type": "markdown",
   "id": "bd61af61",
   "metadata": {},
   "source": [
    "**Multivariate Analysis**"
   ]
  },
  {
   "cell_type": "code",
   "execution_count": 52,
   "id": "b3eb9399",
   "metadata": {},
   "outputs": [
    {
     "data": {
      "text/plain": [
       "['Census_ProcessorCoreCount',\n",
       " 'Census_PrimaryDiskTotalCapacity',\n",
       " 'Census_SystemVolumeTotalCapacity',\n",
       " 'Census_TotalPhysicalRAM',\n",
       " 'Census_InternalPrimaryDiagonalDisplaySizeInInches',\n",
       " 'Census_InternalPrimaryDisplayResolutionHorizontal',\n",
       " 'Census_InternalPrimaryDisplayResolutionVertical',\n",
       " 'IsSxsPassiveMode',\n",
       " 'HasTpm',\n",
       " 'AutoSampleOptIn',\n",
       " 'SMode',\n",
       " 'Firewall',\n",
       " 'Census_HasOpticalDiskDrive',\n",
       " 'Census_IsPortableOperatingSystem',\n",
       " 'Census_IsFlightsDisabled',\n",
       " 'Census_IsSecureBootEnabled',\n",
       " 'Census_IsVirtualDevice',\n",
       " 'Census_IsTouchEnabled',\n",
       " 'Census_IsPenCapable',\n",
       " 'Census_IsAlwaysOnAlwaysConnectedCapable',\n",
       " 'Wdft_IsGamer',\n",
       " 'HasDetections']"
      ]
     },
     "execution_count": 52,
     "metadata": {},
     "output_type": "execute_result"
    }
   ],
   "source": [
    "num_col + binary_col"
   ]
  },
  {
   "cell_type": "code",
   "execution_count": 53,
   "id": "ddb4d381",
   "metadata": {
    "scrolled": true
   },
   "outputs": [],
   "source": [
    "num_col_name_dict = {'Census_PrimaryDiskTotalCapacity':'Disk Capacity (MB)',\n",
    "                     'Census_SystemVolumeTotalCapacity':'System Capacity (MB)',\n",
    "                     'Census_TotalPhysicalRAM': 'RAM (MB)',\n",
    "                     'Census_InternalPrimaryDiagonalDisplaySizeInInches':'Display Size (in)',\n",
    "                     'Census_InternalPrimaryDisplayResolutionHorizontal':'Horizontal Resolution (px)',\n",
    "                     'Census_InternalPrimaryDisplayResolutionVertical':'Vertical Resolution (px)',\n",
    "                     }\n",
    "bin_col_name_dict = {'IsSxsPassiveMode':'Passive Mode',\n",
    "                     'HasTpm':'Tpm',\n",
    "                     'AutoSampleOptIn':'Auto Sample',\n",
    "                     'SMode':'SMode',\n",
    "                     'Firewall':'Firewall',\n",
    "                     'Census_HasOpticalDiskDrive':'Optical Disk Drive',\n",
    "                     'Census_IsPortableOperatingSystem':'Portable OS',\n",
    "                     'Census_IsFlightsDisabled':'Flights Disabled',\n",
    "                     'Census_IsSecureBootEnabled':'Secure Boot',\n",
    "                     'Census_IsVirtualDevice':'Virtual Device',\n",
    "                     'Census_IsTouchEnabled':'Touch Enabled',\n",
    "                     'Census_IsPenCapable':'Pen Capable',\n",
    "                     'Census_IsAlwaysOnAlwaysConnectedCapable':'Always Connected Capable',\n",
    "                     'Wdft_IsGamer':'Gamer',\n",
    "                     'HasDetections':'HasDetections',\n",
    "                     'IsProtected_encoded':'Protected'}"
   ]
  },
  {
   "cell_type": "code",
   "execution_count": 54,
   "id": "817d38ac",
   "metadata": {},
   "outputs": [
    {
     "ename": "KeyboardInterrupt",
     "evalue": "",
     "output_type": "error",
     "traceback": [
      "\u001b[1;31m---------------------------------------------------------------------------\u001b[0m",
      "\u001b[1;31mKeyboardInterrupt\u001b[0m                         Traceback (most recent call last)",
      "\u001b[1;32m<ipython-input-54-2806c2a4ee3d>\u001b[0m in \u001b[0;36m<module>\u001b[1;34m\u001b[0m\n\u001b[0;32m      1\u001b[0m \u001b[0mdf_sample\u001b[0m \u001b[1;33m=\u001b[0m \u001b[0mclean_df\u001b[0m\u001b[1;33m[\u001b[0m\u001b[0mnum_col\u001b[0m\u001b[1;33m+\u001b[0m\u001b[1;33m[\u001b[0m\u001b[1;34m'HasDetections'\u001b[0m\u001b[1;33m]\u001b[0m\u001b[1;33m]\u001b[0m\u001b[1;33m.\u001b[0m\u001b[0mrename\u001b[0m\u001b[1;33m(\u001b[0m\u001b[0mcolumns\u001b[0m\u001b[1;33m=\u001b[0m\u001b[0mnum_col_name_dict\u001b[0m\u001b[1;33m)\u001b[0m\u001b[1;33m.\u001b[0m\u001b[0msample\u001b[0m\u001b[1;33m(\u001b[0m\u001b[0mfrac\u001b[0m\u001b[1;33m=\u001b[0m\u001b[1;36m0.01\u001b[0m\u001b[1;33m)\u001b[0m\u001b[1;33m\u001b[0m\u001b[1;33m\u001b[0m\u001b[0m\n\u001b[0;32m      2\u001b[0m \u001b[0mplt\u001b[0m\u001b[1;33m.\u001b[0m\u001b[0mfigure\u001b[0m\u001b[1;33m(\u001b[0m\u001b[0mfigsize\u001b[0m\u001b[1;33m=\u001b[0m\u001b[1;33m(\u001b[0m\u001b[1;36m15\u001b[0m\u001b[1;33m,\u001b[0m\u001b[1;36m15\u001b[0m\u001b[1;33m)\u001b[0m\u001b[1;33m)\u001b[0m\u001b[1;33m\u001b[0m\u001b[1;33m\u001b[0m\u001b[0m\n\u001b[1;32m----> 3\u001b[1;33m \u001b[0msns\u001b[0m\u001b[1;33m.\u001b[0m\u001b[0mpairplot\u001b[0m\u001b[1;33m(\u001b[0m\u001b[0mdf_sample\u001b[0m\u001b[1;33m,\u001b[0m \u001b[0mhue\u001b[0m\u001b[1;33m=\u001b[0m\u001b[1;34m'HasDetections'\u001b[0m\u001b[1;33m,\u001b[0m \u001b[0mkind\u001b[0m\u001b[1;33m=\u001b[0m\u001b[1;34m'reg'\u001b[0m\u001b[1;33m,\u001b[0m \u001b[0mplot_kws\u001b[0m\u001b[1;33m=\u001b[0m\u001b[1;33m{\u001b[0m \u001b[1;34m'scatter_kws'\u001b[0m\u001b[1;33m:\u001b[0m \u001b[1;33m{\u001b[0m\u001b[1;34m'alpha'\u001b[0m\u001b[1;33m:\u001b[0m \u001b[1;36m0.1\u001b[0m\u001b[1;33m}\u001b[0m\u001b[1;33m}\u001b[0m\u001b[1;33m)\u001b[0m\u001b[1;33m\u001b[0m\u001b[1;33m\u001b[0m\u001b[0m\n\u001b[0m\u001b[0;32m      4\u001b[0m \u001b[0mplt\u001b[0m\u001b[1;33m.\u001b[0m\u001b[0msubplots_adjust\u001b[0m\u001b[1;33m(\u001b[0m\u001b[0mhspace\u001b[0m\u001b[1;33m=\u001b[0m\u001b[1;36m.2\u001b[0m\u001b[1;33m,\u001b[0m \u001b[0mwspace\u001b[0m\u001b[1;33m=\u001b[0m\u001b[1;36m.2\u001b[0m\u001b[1;33m)\u001b[0m\u001b[1;33m\u001b[0m\u001b[1;33m\u001b[0m\u001b[0m\n\u001b[0;32m      5\u001b[0m \u001b[0mplt\u001b[0m\u001b[1;33m.\u001b[0m\u001b[0mtight_layout\u001b[0m\u001b[1;33m(\u001b[0m\u001b[1;33m)\u001b[0m\u001b[1;33m;\u001b[0m\u001b[1;33m\u001b[0m\u001b[1;33m\u001b[0m\u001b[0m\n",
      "\u001b[1;32m~\\anaconda3\\envs\\capstone2env\\lib\\site-packages\\seaborn\\_decorators.py\u001b[0m in \u001b[0;36minner_f\u001b[1;34m(*args, **kwargs)\u001b[0m\n\u001b[0;32m     44\u001b[0m             )\n\u001b[0;32m     45\u001b[0m         \u001b[0mkwargs\u001b[0m\u001b[1;33m.\u001b[0m\u001b[0mupdate\u001b[0m\u001b[1;33m(\u001b[0m\u001b[1;33m{\u001b[0m\u001b[0mk\u001b[0m\u001b[1;33m:\u001b[0m \u001b[0marg\u001b[0m \u001b[1;32mfor\u001b[0m \u001b[0mk\u001b[0m\u001b[1;33m,\u001b[0m \u001b[0marg\u001b[0m \u001b[1;32min\u001b[0m \u001b[0mzip\u001b[0m\u001b[1;33m(\u001b[0m\u001b[0msig\u001b[0m\u001b[1;33m.\u001b[0m\u001b[0mparameters\u001b[0m\u001b[1;33m,\u001b[0m \u001b[0margs\u001b[0m\u001b[1;33m)\u001b[0m\u001b[1;33m}\u001b[0m\u001b[1;33m)\u001b[0m\u001b[1;33m\u001b[0m\u001b[1;33m\u001b[0m\u001b[0m\n\u001b[1;32m---> 46\u001b[1;33m         \u001b[1;32mreturn\u001b[0m \u001b[0mf\u001b[0m\u001b[1;33m(\u001b[0m\u001b[1;33m**\u001b[0m\u001b[0mkwargs\u001b[0m\u001b[1;33m)\u001b[0m\u001b[1;33m\u001b[0m\u001b[1;33m\u001b[0m\u001b[0m\n\u001b[0m\u001b[0;32m     47\u001b[0m     \u001b[1;32mreturn\u001b[0m \u001b[0minner_f\u001b[0m\u001b[1;33m\u001b[0m\u001b[1;33m\u001b[0m\u001b[0m\n\u001b[0;32m     48\u001b[0m \u001b[1;33m\u001b[0m\u001b[0m\n",
      "\u001b[1;32m~\\anaconda3\\envs\\capstone2env\\lib\\site-packages\\seaborn\\axisgrid.py\u001b[0m in \u001b[0;36mpairplot\u001b[1;34m(data, hue, hue_order, palette, vars, x_vars, y_vars, kind, diag_kind, markers, height, aspect, corner, dropna, plot_kws, diag_kws, grid_kws, size)\u001b[0m\n\u001b[0;32m   2020\u001b[0m     \u001b[1;32melif\u001b[0m \u001b[0mdiag_kind\u001b[0m \u001b[1;33m==\u001b[0m \u001b[1;34m\"kde\"\u001b[0m\u001b[1;33m:\u001b[0m\u001b[1;33m\u001b[0m\u001b[1;33m\u001b[0m\u001b[0m\n\u001b[0;32m   2021\u001b[0m         \u001b[0mdiag_kws\u001b[0m\u001b[1;33m.\u001b[0m\u001b[0msetdefault\u001b[0m\u001b[1;33m(\u001b[0m\u001b[1;34m\"fill\"\u001b[0m\u001b[1;33m,\u001b[0m \u001b[1;32mTrue\u001b[0m\u001b[1;33m)\u001b[0m\u001b[1;33m\u001b[0m\u001b[1;33m\u001b[0m\u001b[0m\n\u001b[1;32m-> 2022\u001b[1;33m         \u001b[0mgrid\u001b[0m\u001b[1;33m.\u001b[0m\u001b[0mmap_diag\u001b[0m\u001b[1;33m(\u001b[0m\u001b[0mkdeplot\u001b[0m\u001b[1;33m,\u001b[0m \u001b[1;33m**\u001b[0m\u001b[0mdiag_kws\u001b[0m\u001b[1;33m)\u001b[0m\u001b[1;33m\u001b[0m\u001b[1;33m\u001b[0m\u001b[0m\n\u001b[0m\u001b[0;32m   2023\u001b[0m \u001b[1;33m\u001b[0m\u001b[0m\n\u001b[0;32m   2024\u001b[0m     \u001b[1;31m# Maybe plot on the off-diagonals\u001b[0m\u001b[1;33m\u001b[0m\u001b[1;33m\u001b[0m\u001b[1;33m\u001b[0m\u001b[0m\n",
      "\u001b[1;32m~\\anaconda3\\envs\\capstone2env\\lib\\site-packages\\seaborn\\axisgrid.py\u001b[0m in \u001b[0;36mmap_diag\u001b[1;34m(self, func, **kwargs)\u001b[0m\n\u001b[0;32m   1400\u001b[0m             \u001b[0mplot_kwargs\u001b[0m\u001b[1;33m.\u001b[0m\u001b[0msetdefault\u001b[0m\u001b[1;33m(\u001b[0m\u001b[1;34m\"hue_order\"\u001b[0m\u001b[1;33m,\u001b[0m \u001b[0mself\u001b[0m\u001b[1;33m.\u001b[0m\u001b[0m_hue_order\u001b[0m\u001b[1;33m)\u001b[0m\u001b[1;33m\u001b[0m\u001b[1;33m\u001b[0m\u001b[0m\n\u001b[0;32m   1401\u001b[0m             \u001b[0mplot_kwargs\u001b[0m\u001b[1;33m.\u001b[0m\u001b[0msetdefault\u001b[0m\u001b[1;33m(\u001b[0m\u001b[1;34m\"palette\"\u001b[0m\u001b[1;33m,\u001b[0m \u001b[0mself\u001b[0m\u001b[1;33m.\u001b[0m\u001b[0m_orig_palette\u001b[0m\u001b[1;33m)\u001b[0m\u001b[1;33m\u001b[0m\u001b[1;33m\u001b[0m\u001b[0m\n\u001b[1;32m-> 1402\u001b[1;33m             \u001b[0mfunc\u001b[0m\u001b[1;33m(\u001b[0m\u001b[0mx\u001b[0m\u001b[1;33m=\u001b[0m\u001b[0mvector\u001b[0m\u001b[1;33m,\u001b[0m \u001b[1;33m**\u001b[0m\u001b[0mplot_kwargs\u001b[0m\u001b[1;33m)\u001b[0m\u001b[1;33m\u001b[0m\u001b[1;33m\u001b[0m\u001b[0m\n\u001b[0m\u001b[0;32m   1403\u001b[0m             \u001b[0mself\u001b[0m\u001b[1;33m.\u001b[0m\u001b[0m_clean_axis\u001b[0m\u001b[1;33m(\u001b[0m\u001b[0max\u001b[0m\u001b[1;33m)\u001b[0m\u001b[1;33m\u001b[0m\u001b[1;33m\u001b[0m\u001b[0m\n\u001b[0;32m   1404\u001b[0m \u001b[1;33m\u001b[0m\u001b[0m\n",
      "\u001b[1;32m~\\anaconda3\\envs\\capstone2env\\lib\\site-packages\\seaborn\\_decorators.py\u001b[0m in \u001b[0;36minner_f\u001b[1;34m(*args, **kwargs)\u001b[0m\n\u001b[0;32m     44\u001b[0m             )\n\u001b[0;32m     45\u001b[0m         \u001b[0mkwargs\u001b[0m\u001b[1;33m.\u001b[0m\u001b[0mupdate\u001b[0m\u001b[1;33m(\u001b[0m\u001b[1;33m{\u001b[0m\u001b[0mk\u001b[0m\u001b[1;33m:\u001b[0m \u001b[0marg\u001b[0m \u001b[1;32mfor\u001b[0m \u001b[0mk\u001b[0m\u001b[1;33m,\u001b[0m \u001b[0marg\u001b[0m \u001b[1;32min\u001b[0m \u001b[0mzip\u001b[0m\u001b[1;33m(\u001b[0m\u001b[0msig\u001b[0m\u001b[1;33m.\u001b[0m\u001b[0mparameters\u001b[0m\u001b[1;33m,\u001b[0m \u001b[0margs\u001b[0m\u001b[1;33m)\u001b[0m\u001b[1;33m}\u001b[0m\u001b[1;33m)\u001b[0m\u001b[1;33m\u001b[0m\u001b[1;33m\u001b[0m\u001b[0m\n\u001b[1;32m---> 46\u001b[1;33m         \u001b[1;32mreturn\u001b[0m \u001b[0mf\u001b[0m\u001b[1;33m(\u001b[0m\u001b[1;33m**\u001b[0m\u001b[0mkwargs\u001b[0m\u001b[1;33m)\u001b[0m\u001b[1;33m\u001b[0m\u001b[1;33m\u001b[0m\u001b[0m\n\u001b[0m\u001b[0;32m     47\u001b[0m     \u001b[1;32mreturn\u001b[0m \u001b[0minner_f\u001b[0m\u001b[1;33m\u001b[0m\u001b[1;33m\u001b[0m\u001b[0m\n\u001b[0;32m     48\u001b[0m \u001b[1;33m\u001b[0m\u001b[0m\n",
      "\u001b[1;32m~\\anaconda3\\envs\\capstone2env\\lib\\site-packages\\seaborn\\distributions.py\u001b[0m in \u001b[0;36mkdeplot\u001b[1;34m(x, y, shade, vertical, kernel, bw, gridsize, cut, clip, legend, cumulative, shade_lowest, cbar, cbar_ax, cbar_kws, ax, weights, hue, palette, hue_order, hue_norm, multiple, common_norm, common_grid, levels, thresh, bw_method, bw_adjust, log_scale, color, fill, data, data2, **kwargs)\u001b[0m\n\u001b[0;32m   1726\u001b[0m             \u001b[0mplot_kws\u001b[0m\u001b[1;33m[\u001b[0m\u001b[1;34m\"color\"\u001b[0m\u001b[1;33m]\u001b[0m \u001b[1;33m=\u001b[0m \u001b[0mcolor\u001b[0m\u001b[1;33m\u001b[0m\u001b[1;33m\u001b[0m\u001b[0m\n\u001b[0;32m   1727\u001b[0m \u001b[1;33m\u001b[0m\u001b[0m\n\u001b[1;32m-> 1728\u001b[1;33m         p.plot_univariate_density(\n\u001b[0m\u001b[0;32m   1729\u001b[0m             \u001b[0mmultiple\u001b[0m\u001b[1;33m=\u001b[0m\u001b[0mmultiple\u001b[0m\u001b[1;33m,\u001b[0m\u001b[1;33m\u001b[0m\u001b[1;33m\u001b[0m\u001b[0m\n\u001b[0;32m   1730\u001b[0m             \u001b[0mcommon_norm\u001b[0m\u001b[1;33m=\u001b[0m\u001b[0mcommon_norm\u001b[0m\u001b[1;33m,\u001b[0m\u001b[1;33m\u001b[0m\u001b[1;33m\u001b[0m\u001b[0m\n",
      "\u001b[1;32m~\\anaconda3\\envs\\capstone2env\\lib\\site-packages\\seaborn\\distributions.py\u001b[0m in \u001b[0;36mplot_univariate_density\u001b[1;34m(self, multiple, common_norm, common_grid, fill, legend, estimate_kws, **plot_kws)\u001b[0m\n\u001b[0;32m    909\u001b[0m \u001b[1;33m\u001b[0m\u001b[0m\n\u001b[0;32m    910\u001b[0m         \u001b[1;31m# Do the computation\u001b[0m\u001b[1;33m\u001b[0m\u001b[1;33m\u001b[0m\u001b[1;33m\u001b[0m\u001b[0m\n\u001b[1;32m--> 911\u001b[1;33m         densities = self._compute_univariate_density(\n\u001b[0m\u001b[0;32m    912\u001b[0m             \u001b[0mself\u001b[0m\u001b[1;33m.\u001b[0m\u001b[0mdata_variable\u001b[0m\u001b[1;33m,\u001b[0m\u001b[1;33m\u001b[0m\u001b[1;33m\u001b[0m\u001b[0m\n\u001b[0;32m    913\u001b[0m             \u001b[0mcommon_norm\u001b[0m\u001b[1;33m,\u001b[0m\u001b[1;33m\u001b[0m\u001b[1;33m\u001b[0m\u001b[0m\n",
      "\u001b[1;32m~\\anaconda3\\envs\\capstone2env\\lib\\site-packages\\seaborn\\distributions.py\u001b[0m in \u001b[0;36m_compute_univariate_density\u001b[1;34m(self, data_variable, common_norm, common_grid, estimate_kws, log_scale)\u001b[0m\n\u001b[0;32m    314\u001b[0m \u001b[1;33m\u001b[0m\u001b[0m\n\u001b[0;32m    315\u001b[0m             \u001b[1;31m# Estimate the density of observations at this level\u001b[0m\u001b[1;33m\u001b[0m\u001b[1;33m\u001b[0m\u001b[1;33m\u001b[0m\u001b[0m\n\u001b[1;32m--> 316\u001b[1;33m             \u001b[0mdensity\u001b[0m\u001b[1;33m,\u001b[0m \u001b[0msupport\u001b[0m \u001b[1;33m=\u001b[0m \u001b[0mestimator\u001b[0m\u001b[1;33m(\u001b[0m\u001b[0mobservations\u001b[0m\u001b[1;33m,\u001b[0m \u001b[0mweights\u001b[0m\u001b[1;33m=\u001b[0m\u001b[0mweights\u001b[0m\u001b[1;33m)\u001b[0m\u001b[1;33m\u001b[0m\u001b[1;33m\u001b[0m\u001b[0m\n\u001b[0m\u001b[0;32m    317\u001b[0m \u001b[1;33m\u001b[0m\u001b[0m\n\u001b[0;32m    318\u001b[0m             \u001b[1;32mif\u001b[0m \u001b[0mlog_scale\u001b[0m\u001b[1;33m:\u001b[0m\u001b[1;33m\u001b[0m\u001b[1;33m\u001b[0m\u001b[0m\n",
      "\u001b[1;32m~\\anaconda3\\envs\\capstone2env\\lib\\site-packages\\seaborn\\_statistics.py\u001b[0m in \u001b[0;36m__call__\u001b[1;34m(self, x1, x2, weights)\u001b[0m\n\u001b[0;32m    185\u001b[0m         \u001b[1;34m\"\"\"Fit and evaluate on univariate or bivariate data.\"\"\"\u001b[0m\u001b[1;33m\u001b[0m\u001b[1;33m\u001b[0m\u001b[0m\n\u001b[0;32m    186\u001b[0m         \u001b[1;32mif\u001b[0m \u001b[0mx2\u001b[0m \u001b[1;32mis\u001b[0m \u001b[1;32mNone\u001b[0m\u001b[1;33m:\u001b[0m\u001b[1;33m\u001b[0m\u001b[1;33m\u001b[0m\u001b[0m\n\u001b[1;32m--> 187\u001b[1;33m             \u001b[1;32mreturn\u001b[0m \u001b[0mself\u001b[0m\u001b[1;33m.\u001b[0m\u001b[0m_eval_univariate\u001b[0m\u001b[1;33m(\u001b[0m\u001b[0mx1\u001b[0m\u001b[1;33m,\u001b[0m \u001b[0mweights\u001b[0m\u001b[1;33m)\u001b[0m\u001b[1;33m\u001b[0m\u001b[1;33m\u001b[0m\u001b[0m\n\u001b[0m\u001b[0;32m    188\u001b[0m         \u001b[1;32melse\u001b[0m\u001b[1;33m:\u001b[0m\u001b[1;33m\u001b[0m\u001b[1;33m\u001b[0m\u001b[0m\n\u001b[0;32m    189\u001b[0m             \u001b[1;32mreturn\u001b[0m \u001b[0mself\u001b[0m\u001b[1;33m.\u001b[0m\u001b[0m_eval_bivariate\u001b[0m\u001b[1;33m(\u001b[0m\u001b[0mx1\u001b[0m\u001b[1;33m,\u001b[0m \u001b[0mx2\u001b[0m\u001b[1;33m,\u001b[0m \u001b[0mweights\u001b[0m\u001b[1;33m)\u001b[0m\u001b[1;33m\u001b[0m\u001b[1;33m\u001b[0m\u001b[0m\n",
      "\u001b[1;32m~\\anaconda3\\envs\\capstone2env\\lib\\site-packages\\seaborn\\_statistics.py\u001b[0m in \u001b[0;36m_eval_univariate\u001b[1;34m(self, x, weights)\u001b[0m\n\u001b[0;32m    154\u001b[0m             ])\n\u001b[0;32m    155\u001b[0m         \u001b[1;32melse\u001b[0m\u001b[1;33m:\u001b[0m\u001b[1;33m\u001b[0m\u001b[1;33m\u001b[0m\u001b[0m\n\u001b[1;32m--> 156\u001b[1;33m             \u001b[0mdensity\u001b[0m \u001b[1;33m=\u001b[0m \u001b[0mkde\u001b[0m\u001b[1;33m(\u001b[0m\u001b[0msupport\u001b[0m\u001b[1;33m)\u001b[0m\u001b[1;33m\u001b[0m\u001b[1;33m\u001b[0m\u001b[0m\n\u001b[0m\u001b[0;32m    157\u001b[0m \u001b[1;33m\u001b[0m\u001b[0m\n\u001b[0;32m    158\u001b[0m         \u001b[1;32mreturn\u001b[0m \u001b[0mdensity\u001b[0m\u001b[1;33m,\u001b[0m \u001b[0msupport\u001b[0m\u001b[1;33m\u001b[0m\u001b[1;33m\u001b[0m\u001b[0m\n",
      "\u001b[1;32m~\\anaconda3\\envs\\capstone2env\\lib\\site-packages\\scipy\\stats\\kde.py\u001b[0m in \u001b[0;36mevaluate\u001b[1;34m(self, points)\u001b[0m\n\u001b[0;32m    250\u001b[0m             raise TypeError('%s has unexpected item size %d' %\n\u001b[0;32m    251\u001b[0m                             (output_dtype, itemsize))\n\u001b[1;32m--> 252\u001b[1;33m         result = gaussian_kernel_estimate[spec](self.dataset.T, self.weights[:, None],\n\u001b[0m\u001b[0;32m    253\u001b[0m                                                 points.T, self.inv_cov, output_dtype)\n\u001b[0;32m    254\u001b[0m         \u001b[1;32mreturn\u001b[0m \u001b[0mresult\u001b[0m\u001b[1;33m[\u001b[0m\u001b[1;33m:\u001b[0m\u001b[1;33m,\u001b[0m \u001b[1;36m0\u001b[0m\u001b[1;33m]\u001b[0m\u001b[1;33m\u001b[0m\u001b[1;33m\u001b[0m\u001b[0m\n",
      "\u001b[1;32m_stats.pyx\u001b[0m in \u001b[0;36mscipy.stats._stats.gaussian_kernel_estimate\u001b[1;34m()\u001b[0m\n",
      "\u001b[1;32m~\\anaconda3\\envs\\capstone2env\\lib\\site-packages\\numpy\\core\\_asarray.py\u001b[0m in \u001b[0;36masarray\u001b[1;34m(a, dtype, order, like)\u001b[0m\n\u001b[0;32m    100\u001b[0m         \u001b[1;32mreturn\u001b[0m \u001b[0m_asarray_with_like\u001b[0m\u001b[1;33m(\u001b[0m\u001b[0ma\u001b[0m\u001b[1;33m,\u001b[0m \u001b[0mdtype\u001b[0m\u001b[1;33m=\u001b[0m\u001b[0mdtype\u001b[0m\u001b[1;33m,\u001b[0m \u001b[0morder\u001b[0m\u001b[1;33m=\u001b[0m\u001b[0morder\u001b[0m\u001b[1;33m,\u001b[0m \u001b[0mlike\u001b[0m\u001b[1;33m=\u001b[0m\u001b[0mlike\u001b[0m\u001b[1;33m)\u001b[0m\u001b[1;33m\u001b[0m\u001b[1;33m\u001b[0m\u001b[0m\n\u001b[0;32m    101\u001b[0m \u001b[1;33m\u001b[0m\u001b[0m\n\u001b[1;32m--> 102\u001b[1;33m     \u001b[1;32mreturn\u001b[0m \u001b[0marray\u001b[0m\u001b[1;33m(\u001b[0m\u001b[0ma\u001b[0m\u001b[1;33m,\u001b[0m \u001b[0mdtype\u001b[0m\u001b[1;33m,\u001b[0m \u001b[0mcopy\u001b[0m\u001b[1;33m=\u001b[0m\u001b[1;32mFalse\u001b[0m\u001b[1;33m,\u001b[0m \u001b[0morder\u001b[0m\u001b[1;33m=\u001b[0m\u001b[0morder\u001b[0m\u001b[1;33m)\u001b[0m\u001b[1;33m\u001b[0m\u001b[1;33m\u001b[0m\u001b[0m\n\u001b[0m\u001b[0;32m    103\u001b[0m \u001b[1;33m\u001b[0m\u001b[0m\n\u001b[0;32m    104\u001b[0m \u001b[1;33m\u001b[0m\u001b[0m\n",
      "\u001b[1;31mKeyboardInterrupt\u001b[0m: "
     ]
    },
    {
     "data": {
      "text/plain": [
       "<Figure size 1080x1080 with 0 Axes>"
      ]
     },
     "metadata": {},
     "output_type": "display_data"
    },
    {
     "data": {
      "image/png": "[encoded data removed]",
      "text/plain": [
       "<Figure size 1260x1260 with 56 Axes>"
      ]
     },
     "metadata": {
      "needs_background": "light"
     },
     "output_type": "display_data"
    }
   ],
   "source": [
    "df_sample = clean_df[num_col+['HasDetections']].rename(columns=num_col_name_dict).sample(frac=0.01)\n",
    "plt.figure(figsize=(15,15))\n",
    "sns.pairplot(df_sample, hue='HasDetections', kind='reg', plot_kws={ 'scatter_kws': {'alpha': 0.1}})\n",
    "plt.subplots_adjust(hspace=.2, wspace=.2)\n",
    "plt.tight_layout();"
   ]
  },
  {
   "cell_type": "code",
   "execution_count": null,
   "id": "c13c7365",
   "metadata": {},
   "outputs": [],
   "source": [
    "m = df['Census_PrimaryDiskTotalCapacity'].mean()\n",
    "s = df['Census_PrimaryDiskTotalCapacity'].std()\n",
    "x = np.random.normal(m, s, clean_df.shape[0])\n",
    "y = clean_df['Census_PrimaryDiskTotalCapacity']\n",
    "data = pd.DataFrame({'x':x, 'y':y})\n",
    "from seaborn_qqplot import pplot\n",
    "pplot(x='x', y='y', data=data, kind='qq');"
   ]
  },
  {
   "cell_type": "code",
   "execution_count": null,
   "id": "37097ddf",
   "metadata": {
    "scrolled": false
   },
   "outputs": [],
   "source": [
    "corr_matrix = clean_df[num_col+['HasDetections']].rename(columns=num_col_name_dict).corr()\n",
    "mask = np.triu(np.ones_like(corr_matrix, dtype=bool))\n",
    "cmap = sns.diverging_palette(230, 20, as_cmap=True)\n",
    "f, ax = plt.subplots(figsize=(6,6))\n",
    "sns.heatmap(corr_matrix, vmin=-1, vmax=1, mask=mask, cmap=cmap, \n",
    "            square=True, linewidths=.5, cbar_kws={\"shrink\": .7})"
   ]
  },
  {
   "cell_type": "code",
   "execution_count": null,
   "id": "c10a0e0a",
   "metadata": {},
   "outputs": [],
   "source": [
    "corr_matrix = clean_df[num_col+['HasDetections']].rename(columns=num_col_name_dict).corr('spearman')\n",
    "mask = np.triu(np.ones_like(corr_matrix, dtype=bool))\n",
    "cmap = sns.diverging_palette(230, 20, as_cmap=True)\n",
    "f, ax = plt.subplots(figsize=(6,6))\n",
    "sns.heatmap(corr_matrix, vmin=-1, vmax=1, mask=mask, cmap=cmap, \n",
    "            square=True, linewidths=.5, cbar_kws={\"shrink\": .7})"
   ]
  },
  {
   "cell_type": "markdown",
   "id": "22bb2ff9",
   "metadata": {},
   "source": [
    "As axpected the vertical and horizontal resolutions are correlated. Also the disk capacity and system capacity as one is a fraction of the other."
   ]
  },
  {
   "cell_type": "markdown",
   "id": "3126b2a4",
   "metadata": {},
   "source": [
    "Relationship with target (boxplots and t-test)"
   ]
  },
  {
   "cell_type": "code",
   "execution_count": null,
   "id": "968a8e10",
   "metadata": {
    "scrolled": true
   },
   "outputs": [],
   "source": [
    "for col in num_col:\n",
    "    plt.figure(figsize=(4,6))\n",
    "    sns.boxplot(x='HasDetections', y=col, data=clean_df)\n",
    "    r, pval = stats.pointbiserialr(clean_df[col].dropna(), clean_df.loc[clean_df[col].dropna().index, 'HasDetections'])\n",
    "    print(f'{col} Point biserial correlation coefficient: r={round(r,2)}, p-value={pval}.')"
   ]
  },
  {
   "cell_type": "code",
   "execution_count": null,
   "id": "321ab854",
   "metadata": {},
   "outputs": [],
   "source": [
    "#f_stat, p_val = f_classif(clean_df[num_col].dropna(), clean_df.loc[clean_df[num_col].dropna().index, 'HasDetections'])\n",
    "#t_test = pd.DataFrame({'F-statistics':f_stat, 'p-value':p_val}, index=num_col)    \n",
    "#t_test"
   ]
  },
  {
   "cell_type": "markdown",
   "id": "c95981be",
   "metadata": {},
   "source": [
    "### Binary features"
   ]
  },
  {
   "cell_type": "code",
   "execution_count": null,
   "id": "035028c3",
   "metadata": {},
   "outputs": [],
   "source": [
    "binary_df = clean_df[binary_col].copy().astype('float')"
   ]
  },
  {
   "cell_type": "code",
   "execution_count": null,
   "id": "02d709dd",
   "metadata": {
    "scrolled": false
   },
   "outputs": [],
   "source": [
    "for col in binary_col:\n",
    "    if col != 'HasDetections':\n",
    "        plt.figure(figsize=(8, 6))\n",
    "        sns.countplot(x=col, hue='HasDetections', data=binary_df, alpha=.7)"
   ]
  },
  {
   "cell_type": "markdown",
   "id": "f84726a9",
   "metadata": {},
   "source": [
    "IsSxsPassiveMode, SMode, Census_IsTouchEnabled, Census_IsAlwaysOnAlwaysConnectedCapable, Wdft_IsGamer show less detections for the positive class. 'Census_HasOpticalDiskDrive' has more detections for the positive class. The other features' classes are equally distribited among detection and no detection.  "
   ]
  },
  {
   "cell_type": "code",
   "execution_count": null,
   "id": "1532000c",
   "metadata": {},
   "outputs": [],
   "source": [
    "chi2_stat, p_val = chi2(clean_df[binary_col].dropna().astype('float'),\n",
    "                        clean_df.loc[clean_df[binary_col].dropna().index, 'HasDetections'].astype('float'))\n",
    "chi2_test = pd.DataFrame({'Chi2':chi2_stat, 'p-value':p_val}, index=binary_col)    \n",
    "chi2_test.drop('HasDetections', axis=0).sort_values('Chi2', ascending=False)"
   ]
  },
  {
   "cell_type": "markdown",
   "id": "e4fb88ec",
   "metadata": {},
   "source": [
    "## Categorical Features"
   ]
  },
  {
   "cell_type": "code",
   "execution_count": 55,
   "id": "0bcf9c58",
   "metadata": {
    "scrolled": true
   },
   "outputs": [],
   "source": [
    "cardinality = clean_df[cat_col].nunique().sort_values(ascending=False)\n",
    "high_cardinality = cardinality[cardinality > 10].index\n",
    "low_cardinality = cardinality[cardinality <= 10].index"
   ]
  },
  {
   "cell_type": "code",
   "execution_count": 56,
   "id": "eef03f41",
   "metadata": {},
   "outputs": [
    {
     "name": "stdout",
     "output_type": "stream",
     "text": [
      "Feature: Census_FlightRing \n",
      "Unique Values Count: 10\n",
      "\n",
      "Feature: Census_PowerPlatformRoleName \n",
      "Unique Values Count: 10\n",
      "\n",
      "Feature: Census_OSInstallTypeName \n",
      "Unique Values Count: 9\n",
      "\n",
      "Feature: OsPlatformSubRelease \n",
      "Unique Values Count: 9\n",
      "\n",
      "Feature: SkuEdition \n",
      "Unique Values Count: 8\n",
      "\n",
      "Feature: AVProductsInstalled \n",
      "Unique Values Count: 8\n",
      "\n",
      "Feature: RtpStateBitfield \n",
      "Unique Values Count: 7\n",
      "\n",
      "Feature: Census_ProcessorManufacturerIdentifier \n",
      "Unique Values Count: 7\n",
      "\n",
      "Feature: AVProductsEnabled \n",
      "Unique Values Count: 6\n",
      "\n",
      "Feature: Census_OSWUAutoUpdateOptionsName \n",
      "Unique Values Count: 6\n",
      "\n",
      "Feature: Census_ActivationChannel \n",
      "Unique Values Count: 6\n",
      "\n",
      "Feature: ProductName \n",
      "Unique Values Count: 6\n",
      "\n",
      "Feature: RAM_bins \n",
      "Unique Values Count: 5\n",
      "\n",
      "Feature: Census_GenuineStateName \n",
      "Unique Values Count: 5\n",
      "\n",
      "Feature: Platform \n",
      "Unique Values Count: 4\n",
      "\n",
      "Feature: Census_PrimaryDiskTypeName \n",
      "Unique Values Count: 4\n",
      "\n",
      "Feature: Census_OSArchitecture \n",
      "Unique Values Count: 3\n",
      "\n",
      "Feature: Census_InternalBatteryNumberOfCharges \n",
      "Unique Values Count: 3\n",
      "\n",
      "Feature: Census_DeviceFamily \n",
      "Unique Values Count: 3\n",
      "\n",
      "Feature: Processor \n",
      "Unique Values Count: 3\n",
      "\n",
      "Feature: OsVer_encoded \n",
      "Unique Values Count: 3\n",
      "\n",
      "Feature: IsProtected_encoded \n",
      "Unique Values Count: 3\n",
      "\n"
     ]
    }
   ],
   "source": [
    "for col in low_cardinality:\n",
    "    print(f'Feature: {col} \\nUnique Values Count: {clean_df[col].nunique()}\\n')   "
   ]
  },
  {
   "cell_type": "code",
   "execution_count": 57,
   "id": "b94aa077",
   "metadata": {},
   "outputs": [],
   "source": [
    "## barplots of categorical with"
   ]
  },
  {
   "cell_type": "code",
   "execution_count": null,
   "id": "e093bbdd",
   "metadata": {},
   "outputs": [],
   "source": []
  },
  {
   "cell_type": "code",
   "execution_count": null,
   "id": "6c8f8942",
   "metadata": {},
   "outputs": [],
   "source": []
  },
  {
   "cell_type": "code",
   "execution_count": null,
   "id": "cb7d1efc",
   "metadata": {},
   "outputs": [],
   "source": []
  },
  {
   "cell_type": "code",
   "execution_count": null,
   "id": "537f5160",
   "metadata": {},
   "outputs": [],
   "source": []
  },
  {
   "cell_type": "code",
   "execution_count": null,
   "id": "a0992a69",
   "metadata": {},
   "outputs": [],
   "source": []
  },
  {
   "cell_type": "code",
   "execution_count": null,
   "id": "0eb650e6",
   "metadata": {},
   "outputs": [],
   "source": []
  },
  {
   "cell_type": "code",
   "execution_count": 58,
   "id": "c4466a02",
   "metadata": {},
   "outputs": [
    {
     "name": "stdout",
     "output_type": "stream",
     "text": [
      "Feature: Census_OEMModelIdentifier \n",
      "Unique Values Count: 168399\n",
      "\n",
      "Feature: CityIdentifier \n",
      "Unique Values Count: 105411\n",
      "\n",
      "Feature: Census_FirmwareVersionIdentifier \n",
      "Unique Values Count: 48139\n",
      "\n",
      "Feature: AVProductStatesIdentifier \n",
      "Unique Values Count: 28241\n",
      "\n",
      "Feature: Census_OEMNameIdentifier \n",
      "Unique Values Count: 3678\n",
      "\n",
      "Feature: Census_ProcessorModelIdentifier \n",
      "Unique Values Count: 3262\n",
      "\n",
      "Feature: Census_FirmwareManufacturerIdentifier \n",
      "Unique Values Count: 678\n",
      "\n",
      "Feature: IeVerIdentifier \n",
      "Unique Values Count: 297\n",
      "\n",
      "Feature: GeoNameIdentifier \n",
      "Unique Values Count: 291\n",
      "\n",
      "Feature: Census_OSBuildRevision \n",
      "Unique Values Count: 280\n",
      "\n",
      "Feature: LocaleEnglishNameIdentifier \n",
      "Unique Values Count: 252\n",
      "\n",
      "Feature: CountryIdentifier \n",
      "Unique Values Count: 222\n",
      "\n",
      "Feature: Census_OSUILocaleIdentifier \n",
      "Unique Values Count: 146\n",
      "\n",
      "Feature: OsBuild \n",
      "Unique Values Count: 73\n",
      "\n",
      "Feature: EngineVersion_extracted \n",
      "Unique Values Count: 63\n",
      "\n",
      "Feature: AvSigVersion_extracted \n",
      "Unique Values Count: 51\n",
      "\n",
      "Feature: Census_OSBranch_release_extracted \n",
      "Unique Values Count: 51\n",
      "\n",
      "Feature: Census_ChassisTypeName \n",
      "Unique Values Count: 50\n",
      "\n",
      "Feature: OrganizationIdentifier \n",
      "Unique Values Count: 49\n",
      "\n",
      "Feature: Census_OSInstallLanguageIdentifier \n",
      "Unique Values Count: 39\n",
      "\n",
      "Feature: Census_OSEdition \n",
      "Unique Values Count: 32\n",
      "\n",
      "Feature: Census_OSSkuName \n",
      "Unique Values Count: 30\n",
      "\n",
      "Feature: AppVersion_extracted \n",
      "Unique Values Count: 15\n",
      "\n",
      "Feature: Wdft_RegionIdentifier \n",
      "Unique Values Count: 15\n",
      "\n",
      "Feature: Census_MDC2FormFactor \n",
      "Unique Values Count: 13\n",
      "\n",
      "Feature: SmartScreen \n",
      "Unique Values Count: 13\n",
      "\n",
      "Feature: OsSuite \n",
      "Unique Values Count: 13\n",
      "\n",
      "Feature: UacLuaenable \n",
      "Unique Values Count: 11\n",
      "\n"
     ]
    }
   ],
   "source": [
    "for col in high_cardinality:\n",
    "    print(f'Feature: {col} \\nUnique Values Count: {clean_df[col].nunique()}\\n')   "
   ]
  },
  {
   "cell_type": "code",
   "execution_count": 59,
   "id": "e12e1080",
   "metadata": {
    "scrolled": true
   },
   "outputs": [
    {
     "data": {
      "text/plain": [
       "['AVProductStatesIdentifier',\n",
       " 'CountryIdentifier',\n",
       " 'CityIdentifier',\n",
       " 'OrganizationIdentifier',\n",
       " 'GeoNameIdentifier',\n",
       " 'LocaleEnglishNameIdentifier',\n",
       " 'IeVerIdentifier',\n",
       " 'Census_OEMNameIdentifier',\n",
       " 'Census_OEMModelIdentifier',\n",
       " 'Census_ProcessorManufacturerIdentifier',\n",
       " 'Census_ProcessorModelIdentifier',\n",
       " 'Census_OSInstallLanguageIdentifier',\n",
       " 'Census_OSUILocaleIdentifier',\n",
       " 'Census_FirmwareManufacturerIdentifier',\n",
       " 'Census_FirmwareVersionIdentifier',\n",
       " 'Wdft_RegionIdentifier']"
      ]
     },
     "execution_count": 59,
     "metadata": {},
     "output_type": "execute_result"
    }
   ],
   "source": [
    "id_col = [col for col in cat_col if 'Identifier' in col]\n",
    "id_col"
   ]
  },
  {
   "cell_type": "markdown",
   "id": "7928fa6c",
   "metadata": {},
   "source": [
    "These columns will be encoded with target encoding (mean encoding).\n",
    "Let's implement roll-up on the others."
   ]
  },
  {
   "cell_type": "code",
   "execution_count": 60,
   "id": "0821f4e2",
   "metadata": {},
   "outputs": [],
   "source": [
    "mean_encoding_list = id_col"
   ]
  },
  {
   "cell_type": "code",
   "execution_count": 61,
   "id": "8998cea4",
   "metadata": {
    "scrolled": false
   },
   "outputs": [
    {
     "data": {
      "text/plain": [
       "['OsBuild',\n",
       " 'OsSuite',\n",
       " 'SmartScreen',\n",
       " 'UacLuaenable',\n",
       " 'Census_MDC2FormFactor',\n",
       " 'Census_ChassisTypeName',\n",
       " 'Census_OSBuildRevision',\n",
       " 'Census_OSEdition',\n",
       " 'Census_OSSkuName',\n",
       " 'AvSigVersion_extracted',\n",
       " 'AppVersion_extracted',\n",
       " 'EngineVersion_extracted',\n",
       " 'Census_OSBranch_release_extracted']"
      ]
     },
     "execution_count": 61,
     "metadata": {},
     "output_type": "execute_result"
    }
   ],
   "source": [
    "[col for col in cat_col if 'Identifier' not in col if clean_df[col].nunique()>10]"
   ]
  },
  {
   "cell_type": "markdown",
   "id": "45eefb58",
   "metadata": {},
   "source": [
    "Let's perform roll up to reduce cardinality."
   ]
  },
  {
   "cell_type": "markdown",
   "id": "ef437709",
   "metadata": {},
   "source": [
    "**OsBuild**"
   ]
  },
  {
   "cell_type": "code",
   "execution_count": 62,
   "id": "69acccf4",
   "metadata": {},
   "outputs": [
    {
     "data": {
      "text/html": [
       "<div>\n",
       "<style scoped>\n",
       "    .dataframe tbody tr th:only-of-type {\n",
       "        vertical-align: middle;\n",
       "    }\n",
       "\n",
       "    .dataframe tbody tr th {\n",
       "        vertical-align: top;\n",
       "    }\n",
       "\n",
       "    .dataframe thead th {\n",
       "        text-align: right;\n",
       "    }\n",
       "</style>\n",
       "<table border=\"1\" class=\"dataframe\">\n",
       "  <thead>\n",
       "    <tr style=\"text-align: right;\">\n",
       "      <th></th>\n",
       "      <th>Count</th>\n",
       "      <th>%</th>\n",
       "    </tr>\n",
       "  </thead>\n",
       "  <tbody>\n",
       "    <tr>\n",
       "      <th>17134</th>\n",
       "      <td>3586679</td>\n",
       "      <td>42.722255</td>\n",
       "    </tr>\n",
       "    <tr>\n",
       "      <th>16299</th>\n",
       "      <td>2390955</td>\n",
       "      <td>28.479546</td>\n",
       "    </tr>\n",
       "    <tr>\n",
       "      <th>15063</th>\n",
       "      <td>748195</td>\n",
       "      <td>8.912026</td>\n",
       "    </tr>\n",
       "    <tr>\n",
       "      <th>14393</th>\n",
       "      <td>704699</td>\n",
       "      <td>8.393929</td>\n",
       "    </tr>\n",
       "    <tr>\n",
       "      <th>10586</th>\n",
       "      <td>401700</td>\n",
       "      <td>4.784797</td>\n",
       "    </tr>\n",
       "    <tr>\n",
       "      <th>10240</th>\n",
       "      <td>264207</td>\n",
       "      <td>3.147067</td>\n",
       "    </tr>\n",
       "    <tr>\n",
       "      <th>9600</th>\n",
       "      <td>189321</td>\n",
       "      <td>2.255072</td>\n",
       "    </tr>\n",
       "    <tr>\n",
       "      <th>7601</th>\n",
       "      <td>91065</td>\n",
       "      <td>1.084709</td>\n",
       "    </tr>\n",
       "    <tr>\n",
       "      <th>17692</th>\n",
       "      <td>2838</td>\n",
       "      <td>0.033804</td>\n",
       "    </tr>\n",
       "    <tr>\n",
       "      <th>17738</th>\n",
       "      <td>2093</td>\n",
       "      <td>0.024930</td>\n",
       "    </tr>\n",
       "  </tbody>\n",
       "</table>\n",
       "</div>"
      ],
      "text/plain": [
       "         Count          %\n",
       "17134  3586679  42.722255\n",
       "16299  2390955  28.479546\n",
       "15063   748195   8.912026\n",
       "14393   704699   8.393929\n",
       "10586   401700   4.784797\n",
       "10240   264207   3.147067\n",
       "9600    189321   2.255072\n",
       "7601     91065   1.084709\n",
       "17692     2838   0.033804\n",
       "17738     2093   0.024930"
      ]
     },
     "execution_count": 62,
     "metadata": {},
     "output_type": "execute_result"
    }
   ],
   "source": [
    "os_build = pd.concat([clean_df['OsBuild'].value_counts(), \n",
    "                      clean_df['OsBuild'].value_counts(normalize=True)*100], \n",
    "                      axis=1)\n",
    "os_build.columns=['Count', '%']\n",
    "os_build.head(10)"
   ]
  },
  {
   "cell_type": "code",
   "execution_count": 65,
   "id": "e215e1e4",
   "metadata": {
    "scrolled": false
   },
   "outputs": [
    {
     "data": {
      "image/png": "[encoded data removed]",
      "text/plain": [
       "<Figure size 576x432 with 1 Axes>"
      ]
     },
     "metadata": {
      "needs_background": "light"
     },
     "output_type": "display_data"
    }
   ],
   "source": [
    "plt.figure(figsize=(8, 6))\n",
    "sns.countplot(x='OsBuild',\n",
    "            hue='HasDetections',\n",
    "            data=clean_df,\n",
    "            order = clean_df['OsBuild'].value_counts().index[:10],\n",
    "            color='blue',\n",
    "            edgecolor=sns.color_palette('dark', 1),\n",
    "            alpha=0.8)\n",
    "plt.legend(loc=1, title='HasDetections')\n",
    "plt.xticks(rotation = 45)\n",
    "plt.tight_layout()"
   ]
  },
  {
   "cell_type": "code",
   "execution_count": 66,
   "id": "7b160513",
   "metadata": {},
   "outputs": [
    {
     "data": {
      "text/plain": [
       "CategoricalDtype(categories=[ 7600,  7601,  9600, 10240, 10586, 14393, 15063, 16299,\n",
       "                  17133, 17134, 17604, 17618, 17623, 17627, 17634, 17639,\n",
       "                  17643, 17650, 17655, 17661, 17666, 17672, 17677, 17682,\n",
       "                  17686, 17689, 17692, 17694, 17704, 17711, 17713, 17718,\n",
       "                  17723, 17725, 17728, 17730, 17733, 17734, 17735, 17738,\n",
       "                  17740, 17741, 17744, 17746, 17747, 17749, 17750, 17751,\n",
       "                  17752, 17753, 17754, 17755, 17756, 17757, 17758, 17759,\n",
       "                  17760, 17761, 17763, 18201, 18204, 18214, 18219, 18224,\n",
       "                  18226, 18227, 18230, 18233, 18234, 18236, 18237, 18238,\n",
       "                  18240, 18241, 18242, 18244],\n",
       ", ordered=False)"
      ]
     },
     "execution_count": 66,
     "metadata": {},
     "output_type": "execute_result"
    }
   ],
   "source": [
    "clean_df['OsBuild'].dtype"
   ]
  },
  {
   "cell_type": "code",
   "execution_count": 69,
   "id": "5ab0c927",
   "metadata": {},
   "outputs": [
    {
     "name": "stderr",
     "output_type": "stream",
     "text": [
      "<ipython-input-69-7ed910747f83>:1: SettingWithCopyWarning: \n",
      "A value is trying to be set on a copy of a slice from a DataFrame.\n",
      "Try using .loc[row_indexer,col_indexer] = value instead\n",
      "\n",
      "See the caveats in the documentation: https://pandas.pydata.org/pandas-docs/stable/user_guide/indexing.html#returning-a-view-versus-a-copy\n",
      "  clean_df['OsBuild'] = clean_df['OsBuild'][clean_df['OsBuild'].notnull()].astype('str')\n"
     ]
    },
    {
     "data": {
      "text/plain": [
       "array(['17134', '14393', '16299', '7601', '9600', '15063', '10586',\n",
       "       '10240', '17744', '17738', '17751', '17755', '17730', '17733',\n",
       "       '17746', '17735', '17754', '17741', '17713', '17672', '17758',\n",
       "       '17763', '7600', '17666', '17677', '17686', '17692', '17759',\n",
       "       '17682', '17761', '17661', '17643', '17760', '18234', '17747',\n",
       "       '18204', '17639', '17634', '18237', '18242', '17133', '17723',\n",
       "       '17650', '17711', '17704', '18240', '17728', '17655', '18219',\n",
       "       '18214', '17627', '18201', '17604', '17618', '17740', '18224',\n",
       "       '18241', '17689', '17718', '17753', '18227', '18238', '17725',\n",
       "       '17694', '17757', '18233', '17623', '17756', '17749', '17734',\n",
       "       '17752', '18244', '17750'], dtype=object)"
      ]
     },
     "execution_count": 69,
     "metadata": {},
     "output_type": "execute_result"
    }
   ],
   "source": [
    "clean_df['OsBuild'] = clean_df['OsBuild'][clean_df['OsBuild'].notnull()].astype('str')\n",
    "clean_df['OsBuild'].unique()"
   ]
  },
  {
   "cell_type": "code",
   "execution_count": 70,
   "id": "1353efbe",
   "metadata": {},
   "outputs": [
    {
     "name": "stderr",
     "output_type": "stream",
     "text": [
      "<ipython-input-70-d81c2c9dc59a>:1: SettingWithCopyWarning: \n",
      "A value is trying to be set on a copy of a slice from a DataFrame.\n",
      "Try using .loc[row_indexer,col_indexer] = value instead\n",
      "\n",
      "See the caveats in the documentation: https://pandas.pydata.org/pandas-docs/stable/user_guide/indexing.html#returning-a-view-versus-a-copy\n",
      "  clean_df['OsBuild'] = clean_df['OsBuild'].astype('category')\n",
      "C:\\Users\\marco\\anaconda3\\envs\\capstone2env\\lib\\site-packages\\pandas\\core\\indexing.py:1720: SettingWithCopyWarning: \n",
      "A value is trying to be set on a copy of a slice from a DataFrame.\n",
      "Try using .loc[row_indexer,col_indexer] = value instead\n",
      "\n",
      "See the caveats in the documentation: https://pandas.pydata.org/pandas-docs/stable/user_guide/indexing.html#returning-a-view-versus-a-copy\n",
      "  self._setitem_single_column(loc, value, pi)\n",
      "C:\\Users\\marco\\anaconda3\\envs\\capstone2env\\lib\\site-packages\\pandas\\core\\arrays\\categorical.py:2487: FutureWarning: The `inplace` parameter in pandas.Categorical.remove_unused_categories is deprecated and will be removed in a future version.\n",
      "  res = method(*args, **kwargs)\n",
      "C:\\Users\\marco\\anaconda3\\envs\\capstone2env\\lib\\site-packages\\pandas\\core\\frame.py:4441: SettingWithCopyWarning: \n",
      "A value is trying to be set on a copy of a slice from a DataFrame\n",
      "\n",
      "See the caveats in the documentation: https://pandas.pydata.org/pandas-docs/stable/user_guide/indexing.html#returning-a-view-versus-a-copy\n",
      "  return super().rename(\n"
     ]
    },
    {
     "data": {
      "text/plain": [
       "17134    0.427223\n",
       "16299    0.284795\n",
       "15063    0.089120\n",
       "14393    0.083939\n",
       "10586    0.047848\n",
       "10240    0.031471\n",
       "9600     0.022551\n",
       "7601     0.010847\n",
       "Other    0.002206\n",
       "Name: OsBuild_encoded, dtype: float64"
      ]
     },
     "execution_count": 70,
     "metadata": {},
     "output_type": "execute_result"
    }
   ],
   "source": [
    "clean_df['OsBuild'] = clean_df['OsBuild'].astype('category')\n",
    "clean_df['OsBuild'].cat.add_categories('Other', inplace=True)\n",
    "clean_df.loc[(clean_df['OsBuild'] != '17134') & \n",
    "             (clean_df['OsBuild'] != '16299') &\n",
    "             (clean_df['OsBuild'] != '15063') &\n",
    "             (clean_df['OsBuild'] != '14393') &\n",
    "             (clean_df['OsBuild'] != '10586') &\n",
    "             (clean_df['OsBuild'] != '10240') &\n",
    "             (clean_df['OsBuild'] != '9600') &\n",
    "             (clean_df['OsBuild'] != '7601'),\n",
    "             'OsBuild'] = 'Other'\n",
    "clean_df['OsBuild'].cat.remove_unused_categories(inplace=True)\n",
    "clean_df.rename(columns={'OsBuild':'OsBuild_encoded'}, inplace=True)\n",
    "clean_df['OsBuild_encoded'].value_counts(normalize=True)"
   ]
  },
  {
   "cell_type": "markdown",
   "id": "533397bc",
   "metadata": {},
   "source": [
    "**OsSuite**"
   ]
  },
  {
   "cell_type": "code",
   "execution_count": 71,
   "id": "53b21375",
   "metadata": {},
   "outputs": [
    {
     "data": {
      "text/html": [
       "<div>\n",
       "<style scoped>\n",
       "    .dataframe tbody tr th:only-of-type {\n",
       "        vertical-align: middle;\n",
       "    }\n",
       "\n",
       "    .dataframe tbody tr th {\n",
       "        vertical-align: top;\n",
       "    }\n",
       "\n",
       "    .dataframe thead th {\n",
       "        text-align: right;\n",
       "    }\n",
       "</style>\n",
       "<table border=\"1\" class=\"dataframe\">\n",
       "  <thead>\n",
       "    <tr style=\"text-align: right;\">\n",
       "      <th></th>\n",
       "      <th>Count</th>\n",
       "      <th>%</th>\n",
       "    </tr>\n",
       "  </thead>\n",
       "  <tbody>\n",
       "    <tr>\n",
       "      <th>768</th>\n",
       "      <td>5330433</td>\n",
       "      <td>63.492752</td>\n",
       "    </tr>\n",
       "    <tr>\n",
       "      <th>256</th>\n",
       "      <td>3055651</td>\n",
       "      <td>36.396985</td>\n",
       "    </tr>\n",
       "    <tr>\n",
       "      <th>272</th>\n",
       "      <td>7602</td>\n",
       "      <td>0.090550</td>\n",
       "    </tr>\n",
       "    <tr>\n",
       "      <th>400</th>\n",
       "      <td>536</td>\n",
       "      <td>0.006384</td>\n",
       "    </tr>\n",
       "    <tr>\n",
       "      <th>305</th>\n",
       "      <td>456</td>\n",
       "      <td>0.005432</td>\n",
       "    </tr>\n",
       "    <tr>\n",
       "      <th>16</th>\n",
       "      <td>414</td>\n",
       "      <td>0.004931</td>\n",
       "    </tr>\n",
       "    <tr>\n",
       "      <th>784</th>\n",
       "      <td>184</td>\n",
       "      <td>0.002192</td>\n",
       "    </tr>\n",
       "    <tr>\n",
       "      <th>274</th>\n",
       "      <td>24</td>\n",
       "      <td>0.000286</td>\n",
       "    </tr>\n",
       "    <tr>\n",
       "      <th>144</th>\n",
       "      <td>23</td>\n",
       "      <td>0.000274</td>\n",
       "    </tr>\n",
       "    <tr>\n",
       "      <th>49</th>\n",
       "      <td>14</td>\n",
       "      <td>0.000167</td>\n",
       "    </tr>\n",
       "  </tbody>\n",
       "</table>\n",
       "</div>"
      ],
      "text/plain": [
       "       Count          %\n",
       "768  5330433  63.492752\n",
       "256  3055651  36.396985\n",
       "272     7602   0.090550\n",
       "400      536   0.006384\n",
       "305      456   0.005432\n",
       "16       414   0.004931\n",
       "784      184   0.002192\n",
       "274       24   0.000286\n",
       "144       23   0.000274\n",
       "49        14   0.000167"
      ]
     },
     "execution_count": 71,
     "metadata": {},
     "output_type": "execute_result"
    }
   ],
   "source": [
    "os_suite = pd.concat([clean_df['OsSuite'].value_counts(), \n",
    "                      clean_df['OsSuite'].value_counts(normalize=True)*100], \n",
    "                      axis=1)\n",
    "os_suite.columns=['Count', '%']\n",
    "os_suite.head(10)"
   ]
  },
  {
   "cell_type": "code",
   "execution_count": 72,
   "id": "00b07549",
   "metadata": {
    "scrolled": true
   },
   "outputs": [
    {
     "data": {
      "image/png": "[encoded data removed]",
      "text/plain": [
       "<Figure size 576x432 with 1 Axes>"
      ]
     },
     "metadata": {
      "needs_background": "light"
     },
     "output_type": "display_data"
    }
   ],
   "source": [
    "plt.figure(figsize=(8, 6))\n",
    "sns.countplot(x='OsSuite',\n",
    "            hue='HasDetections',\n",
    "            data=clean_df,\n",
    "            order = clean_df['OsSuite'].value_counts().index[:10],\n",
    "            color='blue',\n",
    "            edgecolor=sns.color_palette('dark', 1),\n",
    "            alpha=0.8)\n",
    "plt.legend(loc=1, title='HasDetections')\n",
    "plt.xticks(rotation = 45)\n",
    "plt.tight_layout()"
   ]
  },
  {
   "cell_type": "code",
   "execution_count": 73,
   "id": "a709514c",
   "metadata": {},
   "outputs": [
    {
     "data": {
      "text/plain": [
       "CategoricalDtype(categories=[16, 18, 49, 144, 256, 272, 274, 305, 307, 400, 402, 528, 768,\n",
       "                  784],\n",
       ", ordered=False)"
      ]
     },
     "execution_count": 73,
     "metadata": {},
     "output_type": "execute_result"
    }
   ],
   "source": [
    "clean_df['OsSuite'].dtype"
   ]
  },
  {
   "cell_type": "code",
   "execution_count": 74,
   "id": "1ca07575",
   "metadata": {},
   "outputs": [
    {
     "name": "stderr",
     "output_type": "stream",
     "text": [
      "<ipython-input-74-799284c07b60>:1: SettingWithCopyWarning: \n",
      "A value is trying to be set on a copy of a slice from a DataFrame.\n",
      "Try using .loc[row_indexer,col_indexer] = value instead\n",
      "\n",
      "See the caveats in the documentation: https://pandas.pydata.org/pandas-docs/stable/user_guide/indexing.html#returning-a-view-versus-a-copy\n",
      "  clean_df['OsSuite'] = clean_df['OsSuite'][clean_df['OsSuite'].notnull()].astype('str')\n"
     ]
    },
    {
     "data": {
      "text/plain": [
       "array(['256', '768', '272', '400', '784', '305', '16', '274', '144', '49',\n",
       "       '528', '307', '18'], dtype=object)"
      ]
     },
     "execution_count": 74,
     "metadata": {},
     "output_type": "execute_result"
    }
   ],
   "source": [
    "clean_df['OsSuite'] = clean_df['OsSuite'][clean_df['OsSuite'].notnull()].astype('str')\n",
    "clean_df['OsSuite'].unique()"
   ]
  },
  {
   "cell_type": "code",
   "execution_count": 75,
   "id": "d47bc010",
   "metadata": {
    "scrolled": true
   },
   "outputs": [
    {
     "name": "stderr",
     "output_type": "stream",
     "text": [
      "<ipython-input-75-5b5dfbe7d08e>:1: SettingWithCopyWarning: \n",
      "A value is trying to be set on a copy of a slice from a DataFrame.\n",
      "Try using .loc[row_indexer,col_indexer] = value instead\n",
      "\n",
      "See the caveats in the documentation: https://pandas.pydata.org/pandas-docs/stable/user_guide/indexing.html#returning-a-view-versus-a-copy\n",
      "  clean_df['OsSuite'] = clean_df['OsSuite'].astype('category')\n",
      "C:\\Users\\marco\\anaconda3\\envs\\capstone2env\\lib\\site-packages\\pandas\\core\\indexing.py:1720: SettingWithCopyWarning: \n",
      "A value is trying to be set on a copy of a slice from a DataFrame.\n",
      "Try using .loc[row_indexer,col_indexer] = value instead\n",
      "\n",
      "See the caveats in the documentation: https://pandas.pydata.org/pandas-docs/stable/user_guide/indexing.html#returning-a-view-versus-a-copy\n",
      "  self._setitem_single_column(loc, value, pi)\n",
      "C:\\Users\\marco\\anaconda3\\envs\\capstone2env\\lib\\site-packages\\pandas\\core\\arrays\\categorical.py:2487: FutureWarning: The `inplace` parameter in pandas.Categorical.remove_unused_categories is deprecated and will be removed in a future version.\n",
      "  res = method(*args, **kwargs)\n",
      "C:\\Users\\marco\\anaconda3\\envs\\capstone2env\\lib\\site-packages\\pandas\\core\\frame.py:4441: SettingWithCopyWarning: \n",
      "A value is trying to be set on a copy of a slice from a DataFrame\n",
      "\n",
      "See the caveats in the documentation: https://pandas.pydata.org/pandas-docs/stable/user_guide/indexing.html#returning-a-view-versus-a-copy\n",
      "  return super().rename(\n"
     ]
    },
    {
     "data": {
      "text/plain": [
       "768      0.634928\n",
       "256      0.363970\n",
       "Other    0.001103\n",
       "Name: OsSuite_encoded, dtype: float64"
      ]
     },
     "execution_count": 75,
     "metadata": {},
     "output_type": "execute_result"
    }
   ],
   "source": [
    "clean_df['OsSuite'] = clean_df['OsSuite'].astype('category')\n",
    "clean_df['OsSuite'].cat.add_categories('Other', inplace=True)\n",
    "clean_df.loc[(clean_df['OsSuite'] != '768') & \n",
    "             (clean_df['OsSuite'] != '256'),\n",
    "             'OsSuite'] = 'Other'\n",
    "clean_df['OsSuite'].cat.remove_unused_categories(inplace=True)\n",
    "clean_df.rename(columns={'OsSuite':'OsSuite_encoded'}, inplace=True)\n",
    "clean_df['OsSuite_encoded'].value_counts(normalize=True)"
   ]
  },
  {
   "cell_type": "markdown",
   "id": "ebae90a1",
   "metadata": {},
   "source": [
    "**SmartScreen**"
   ]
  },
  {
   "cell_type": "code",
   "execution_count": 76,
   "id": "dce84788",
   "metadata": {
    "scrolled": true
   },
   "outputs": [
    {
     "data": {
      "text/html": [
       "<div>\n",
       "<style scoped>\n",
       "    .dataframe tbody tr th:only-of-type {\n",
       "        vertical-align: middle;\n",
       "    }\n",
       "\n",
       "    .dataframe tbody tr th {\n",
       "        vertical-align: top;\n",
       "    }\n",
       "\n",
       "    .dataframe thead th {\n",
       "        text-align: right;\n",
       "    }\n",
       "</style>\n",
       "<table border=\"1\" class=\"dataframe\">\n",
       "  <thead>\n",
       "    <tr style=\"text-align: right;\">\n",
       "      <th></th>\n",
       "      <th>Count</th>\n",
       "      <th>%</th>\n",
       "    </tr>\n",
       "  </thead>\n",
       "  <tbody>\n",
       "    <tr>\n",
       "      <th>RequireAdmin</th>\n",
       "      <td>4142850</td>\n",
       "      <td>75.364160</td>\n",
       "    </tr>\n",
       "    <tr>\n",
       "      <th>ExistsNotSet</th>\n",
       "      <td>1006222</td>\n",
       "      <td>18.304567</td>\n",
       "    </tr>\n",
       "    <tr>\n",
       "      <th>Off</th>\n",
       "      <td>170794</td>\n",
       "      <td>3.106979</td>\n",
       "    </tr>\n",
       "    <tr>\n",
       "      <th>Warn</th>\n",
       "      <td>123020</td>\n",
       "      <td>2.237904</td>\n",
       "    </tr>\n",
       "    <tr>\n",
       "      <th>Prompt</th>\n",
       "      <td>31566</td>\n",
       "      <td>0.574229</td>\n",
       "    </tr>\n",
       "    <tr>\n",
       "      <th>Block</th>\n",
       "      <td>21148</td>\n",
       "      <td>0.384711</td>\n",
       "    </tr>\n",
       "    <tr>\n",
       "      <th>On</th>\n",
       "      <td>800</td>\n",
       "      <td>0.014553</td>\n",
       "    </tr>\n",
       "    <tr>\n",
       "      <th>&amp;#x02;</th>\n",
       "      <td>392</td>\n",
       "      <td>0.007131</td>\n",
       "    </tr>\n",
       "    <tr>\n",
       "      <th>&amp;#x01;</th>\n",
       "      <td>311</td>\n",
       "      <td>0.005658</td>\n",
       "    </tr>\n",
       "    <tr>\n",
       "      <th>0</th>\n",
       "      <td>3</td>\n",
       "      <td>0.000055</td>\n",
       "    </tr>\n",
       "    <tr>\n",
       "      <th>Enabled</th>\n",
       "      <td>1</td>\n",
       "      <td>0.000018</td>\n",
       "    </tr>\n",
       "    <tr>\n",
       "      <th>00000000</th>\n",
       "      <td>1</td>\n",
       "      <td>0.000018</td>\n",
       "    </tr>\n",
       "    <tr>\n",
       "      <th>&amp;#x03;</th>\n",
       "      <td>1</td>\n",
       "      <td>0.000018</td>\n",
       "    </tr>\n",
       "  </tbody>\n",
       "</table>\n",
       "</div>"
      ],
      "text/plain": [
       "                Count          %\n",
       "RequireAdmin  4142850  75.364160\n",
       "ExistsNotSet  1006222  18.304567\n",
       "Off            170794   3.106979\n",
       "Warn           123020   2.237904\n",
       "Prompt          31566   0.574229\n",
       "Block           21148   0.384711\n",
       "On                800   0.014553\n",
       "&#x02;            392   0.007131\n",
       "&#x01;            311   0.005658\n",
       "0                   3   0.000055\n",
       "Enabled             1   0.000018\n",
       "00000000            1   0.000018\n",
       "&#x03;              1   0.000018"
      ]
     },
     "execution_count": 76,
     "metadata": {},
     "output_type": "execute_result"
    }
   ],
   "source": [
    "smart_screen = pd.concat([clean_df['SmartScreen'].value_counts(), \n",
    "                          clean_df['SmartScreen'].value_counts(normalize=True)*100],\n",
    "                         axis=1)\n",
    "smart_screen.columns=['Count', '%']\n",
    "smart_screen.head(15)"
   ]
  },
  {
   "cell_type": "code",
   "execution_count": 77,
   "id": "e545bdba",
   "metadata": {
    "scrolled": true
   },
   "outputs": [
    {
     "data": {
      "image/png": "[encoded data removed]",
      "text/plain": [
       "<Figure size 576x432 with 1 Axes>"
      ]
     },
     "metadata": {
      "needs_background": "light"
     },
     "output_type": "display_data"
    }
   ],
   "source": [
    "plt.figure(figsize=(8, 6))\n",
    "sns.countplot(x='SmartScreen',\n",
    "            hue='HasDetections',\n",
    "            data=clean_df,\n",
    "            order = clean_df['SmartScreen'].value_counts().index,\n",
    "            color='blue',\n",
    "            edgecolor=sns.color_palette('dark', 1),\n",
    "            alpha=0.8)\n",
    "plt.legend(loc=1, title='HasDetections')\n",
    "plt.xticks(rotation = 45)\n",
    "plt.tight_layout()"
   ]
  },
  {
   "cell_type": "code",
   "execution_count": 78,
   "id": "ce03358a",
   "metadata": {},
   "outputs": [
    {
     "data": {
      "text/plain": [
       "CategoricalDtype(categories=['Block', 'ExistsNotSet', 'Off', 'On', 'Prompt',\n",
       "                  'RequireAdmin', 'Warn', '&#x01;', '&#x02;', '0', 'Enabled',\n",
       "                  '00000000', '&#x03;'],\n",
       ", ordered=False)"
      ]
     },
     "execution_count": 78,
     "metadata": {},
     "output_type": "execute_result"
    }
   ],
   "source": [
    "clean_df['SmartScreen'].dtype"
   ]
  },
  {
   "cell_type": "code",
   "execution_count": 79,
   "id": "213cbd3f",
   "metadata": {},
   "outputs": [
    {
     "name": "stderr",
     "output_type": "stream",
     "text": [
      "C:\\Users\\marco\\anaconda3\\envs\\capstone2env\\lib\\site-packages\\pandas\\core\\indexing.py:1720: SettingWithCopyWarning: \n",
      "A value is trying to be set on a copy of a slice from a DataFrame.\n",
      "Try using .loc[row_indexer,col_indexer] = value instead\n",
      "\n",
      "See the caveats in the documentation: https://pandas.pydata.org/pandas-docs/stable/user_guide/indexing.html#returning-a-view-versus-a-copy\n",
      "  self._setitem_single_column(loc, value, pi)\n",
      "C:\\Users\\marco\\anaconda3\\envs\\capstone2env\\lib\\site-packages\\pandas\\core\\arrays\\categorical.py:2487: FutureWarning: The `inplace` parameter in pandas.Categorical.remove_unused_categories is deprecated and will be removed in a future version.\n",
      "  res = method(*args, **kwargs)\n",
      "C:\\Users\\marco\\anaconda3\\envs\\capstone2env\\lib\\site-packages\\pandas\\core\\frame.py:4441: SettingWithCopyWarning: \n",
      "A value is trying to be set on a copy of a slice from a DataFrame\n",
      "\n",
      "See the caveats in the documentation: https://pandas.pydata.org/pandas-docs/stable/user_guide/indexing.html#returning-a-view-versus-a-copy\n",
      "  return super().rename(\n"
     ]
    },
    {
     "data": {
      "text/plain": [
       "RequireAdmin    0.753642\n",
       "ExistsNotSet    0.183046\n",
       "Off             0.031070\n",
       "Warn            0.022379\n",
       "Prompt          0.005742\n",
       "Block           0.003847\n",
       "On              0.000146\n",
       "Other           0.000129\n",
       "Name: SmartScreen_encoded, dtype: float64"
      ]
     },
     "execution_count": 79,
     "metadata": {},
     "output_type": "execute_result"
    }
   ],
   "source": [
    "clean_df['SmartScreen'].cat.add_categories('Other', inplace=True)\n",
    "clean_df.loc[(clean_df['SmartScreen'] == '&#x02;') | \n",
    "             (clean_df['SmartScreen'] == '&#x01;') |\n",
    "             (clean_df['SmartScreen'] == '&#x03;') |\n",
    "             (clean_df['SmartScreen'] == '0') |\n",
    "             (clean_df['SmartScreen'] == 'Enabled') |\n",
    "             (clean_df['SmartScreen'] == '00000000'),\n",
    "             'SmartScreen'] = 'Other'\n",
    "clean_df['SmartScreen'].cat.remove_unused_categories(inplace=True)\n",
    "clean_df.rename(columns={'SmartScreen':'SmartScreen_encoded'}, inplace=True)\n",
    "clean_df['SmartScreen_encoded'].value_counts(normalize=True)"
   ]
  },
  {
   "cell_type": "markdown",
   "id": "5fe5378b",
   "metadata": {},
   "source": [
    "**UacLuaenable**"
   ]
  },
  {
   "cell_type": "code",
   "execution_count": 80,
   "id": "9b791341",
   "metadata": {
    "scrolled": true
   },
   "outputs": [
    {
     "data": {
      "text/html": [
       "<div>\n",
       "<style scoped>\n",
       "    .dataframe tbody tr th:only-of-type {\n",
       "        vertical-align: middle;\n",
       "    }\n",
       "\n",
       "    .dataframe tbody tr th {\n",
       "        vertical-align: top;\n",
       "    }\n",
       "\n",
       "    .dataframe thead th {\n",
       "        text-align: right;\n",
       "    }\n",
       "</style>\n",
       "<table border=\"1\" class=\"dataframe\">\n",
       "  <thead>\n",
       "    <tr style=\"text-align: right;\">\n",
       "      <th></th>\n",
       "      <th>Count</th>\n",
       "      <th>%</th>\n",
       "    </tr>\n",
       "  </thead>\n",
       "  <tbody>\n",
       "    <tr>\n",
       "      <th>1.0</th>\n",
       "      <td>8334964</td>\n",
       "      <td>99.404287</td>\n",
       "    </tr>\n",
       "    <tr>\n",
       "      <th>0.0</th>\n",
       "      <td>49685</td>\n",
       "      <td>0.592552</td>\n",
       "    </tr>\n",
       "    <tr>\n",
       "      <th>48.0</th>\n",
       "      <td>199</td>\n",
       "      <td>0.002373</td>\n",
       "    </tr>\n",
       "    <tr>\n",
       "      <th>2.0</th>\n",
       "      <td>29</td>\n",
       "      <td>0.000346</td>\n",
       "    </tr>\n",
       "    <tr>\n",
       "      <th>49.0</th>\n",
       "      <td>15</td>\n",
       "      <td>0.000179</td>\n",
       "    </tr>\n",
       "    <tr>\n",
       "      <th>6357062.0</th>\n",
       "      <td>13</td>\n",
       "      <td>0.000155</td>\n",
       "    </tr>\n",
       "    <tr>\n",
       "      <th>3.0</th>\n",
       "      <td>5</td>\n",
       "      <td>0.000060</td>\n",
       "    </tr>\n",
       "    <tr>\n",
       "      <th>5.0</th>\n",
       "      <td>1</td>\n",
       "      <td>0.000012</td>\n",
       "    </tr>\n",
       "    <tr>\n",
       "      <th>255.0</th>\n",
       "      <td>1</td>\n",
       "      <td>0.000012</td>\n",
       "    </tr>\n",
       "    <tr>\n",
       "      <th>7798884.0</th>\n",
       "      <td>1</td>\n",
       "      <td>0.000012</td>\n",
       "    </tr>\n",
       "    <tr>\n",
       "      <th>16777216.0</th>\n",
       "      <td>1</td>\n",
       "      <td>0.000012</td>\n",
       "    </tr>\n",
       "  </tbody>\n",
       "</table>\n",
       "</div>"
      ],
      "text/plain": [
       "              Count          %\n",
       "1.0         8334964  99.404287\n",
       "0.0           49685   0.592552\n",
       "48.0            199   0.002373\n",
       "2.0              29   0.000346\n",
       "49.0             15   0.000179\n",
       "6357062.0        13   0.000155\n",
       "3.0               5   0.000060\n",
       "5.0               1   0.000012\n",
       "255.0             1   0.000012\n",
       "7798884.0         1   0.000012\n",
       "16777216.0        1   0.000012"
      ]
     },
     "execution_count": 80,
     "metadata": {},
     "output_type": "execute_result"
    }
   ],
   "source": [
    "uac_luaenable = pd.concat([clean_df['UacLuaenable'].value_counts(), \n",
    "                          clean_df['UacLuaenable'].value_counts(normalize=True)*100],\n",
    "                         axis=1)\n",
    "uac_luaenable.columns=['Count', '%']\n",
    "uac_luaenable.head(15)"
   ]
  },
  {
   "cell_type": "code",
   "execution_count": 81,
   "id": "85df4dee",
   "metadata": {
    "scrolled": true
   },
   "outputs": [
    {
     "data": {
      "text/plain": [
       "CategoricalDtype(categories=[0.0, 1.0, 2.0, 3.0, 5.0, 48.0, 49.0, 255.0, 6357062.0,\n",
       "                  7798884.0, 16777216.0],\n",
       ", ordered=False)"
      ]
     },
     "execution_count": 81,
     "metadata": {},
     "output_type": "execute_result"
    }
   ],
   "source": [
    "clean_df['UacLuaenable'].dtype"
   ]
  },
  {
   "cell_type": "code",
   "execution_count": 82,
   "id": "106430a9",
   "metadata": {},
   "outputs": [
    {
     "name": "stderr",
     "output_type": "stream",
     "text": [
      "<ipython-input-82-112371dffe3e>:1: SettingWithCopyWarning: \n",
      "A value is trying to be set on a copy of a slice from a DataFrame.\n",
      "Try using .loc[row_indexer,col_indexer] = value instead\n",
      "\n",
      "See the caveats in the documentation: https://pandas.pydata.org/pandas-docs/stable/user_guide/indexing.html#returning-a-view-versus-a-copy\n",
      "  clean_df['UacLuaenable'] = clean_df['UacLuaenable'][clean_df['UacLuaenable'].notnull()].astype('str')\n"
     ]
    },
    {
     "data": {
      "text/plain": [
       "array(['1.0', '0.0', nan, '48.0', '3.0', '2.0', '6357062.0', '49.0',\n",
       "       '16777216.0', '255.0', '5.0', '7798884.0'], dtype=object)"
      ]
     },
     "execution_count": 82,
     "metadata": {},
     "output_type": "execute_result"
    }
   ],
   "source": [
    "clean_df['UacLuaenable'] = clean_df['UacLuaenable'][clean_df['UacLuaenable'].notnull()].astype('str')\n",
    "clean_df['UacLuaenable'].unique()"
   ]
  },
  {
   "cell_type": "code",
   "execution_count": 83,
   "id": "a00bb03f",
   "metadata": {
    "scrolled": true
   },
   "outputs": [
    {
     "name": "stderr",
     "output_type": "stream",
     "text": [
      "<ipython-input-83-635d71ee09e2>:1: SettingWithCopyWarning: \n",
      "A value is trying to be set on a copy of a slice from a DataFrame.\n",
      "Try using .loc[row_indexer,col_indexer] = value instead\n",
      "\n",
      "See the caveats in the documentation: https://pandas.pydata.org/pandas-docs/stable/user_guide/indexing.html#returning-a-view-versus-a-copy\n",
      "  clean_df['UacLuaenable'] = clean_df['UacLuaenable'].astype('category')\n",
      "C:\\Users\\marco\\anaconda3\\envs\\capstone2env\\lib\\site-packages\\pandas\\core\\indexing.py:1720: SettingWithCopyWarning: \n",
      "A value is trying to be set on a copy of a slice from a DataFrame.\n",
      "Try using .loc[row_indexer,col_indexer] = value instead\n",
      "\n",
      "See the caveats in the documentation: https://pandas.pydata.org/pandas-docs/stable/user_guide/indexing.html#returning-a-view-versus-a-copy\n",
      "  self._setitem_single_column(loc, value, pi)\n",
      "C:\\Users\\marco\\anaconda3\\envs\\capstone2env\\lib\\site-packages\\pandas\\core\\arrays\\categorical.py:2487: FutureWarning: The `inplace` parameter in pandas.Categorical.remove_unused_categories is deprecated and will be removed in a future version.\n",
      "  res = method(*args, **kwargs)\n",
      "C:\\Users\\marco\\anaconda3\\envs\\capstone2env\\lib\\site-packages\\pandas\\core\\frame.py:4441: SettingWithCopyWarning: \n",
      "A value is trying to be set on a copy of a slice from a DataFrame\n",
      "\n",
      "See the caveats in the documentation: https://pandas.pydata.org/pandas-docs/stable/user_guide/indexing.html#returning-a-view-versus-a-copy\n",
      "  return super().rename(\n"
     ]
    },
    {
     "data": {
      "text/plain": [
       "1.0      0.992808\n",
       "Other    0.007192\n",
       "Name: UacLuaenable_encoded, dtype: float64"
      ]
     },
     "execution_count": 83,
     "metadata": {},
     "output_type": "execute_result"
    }
   ],
   "source": [
    "clean_df['UacLuaenable'] = clean_df['UacLuaenable'].astype('category')\n",
    "clean_df['UacLuaenable'].cat.add_categories('Other', inplace=True)\n",
    "clean_df.loc[clean_df['UacLuaenable'] != '1.0', 'UacLuaenable'] = 'Other'\n",
    "clean_df['UacLuaenable'].cat.remove_unused_categories(inplace=True)\n",
    "clean_df.rename(columns={'UacLuaenable':'UacLuaenable_encoded'}, inplace=True)\n",
    "clean_df['UacLuaenable_encoded'].value_counts(normalize=True)"
   ]
  },
  {
   "cell_type": "markdown",
   "id": "95ae2d11",
   "metadata": {},
   "source": [
    "**Census_MDC2FormFactor**"
   ]
  },
  {
   "cell_type": "code",
   "execution_count": 84,
   "id": "080d432e",
   "metadata": {},
   "outputs": [
    {
     "data": {
      "text/html": [
       "<div>\n",
       "<style scoped>\n",
       "    .dataframe tbody tr th:only-of-type {\n",
       "        vertical-align: middle;\n",
       "    }\n",
       "\n",
       "    .dataframe tbody tr th {\n",
       "        vertical-align: top;\n",
       "    }\n",
       "\n",
       "    .dataframe thead th {\n",
       "        text-align: right;\n",
       "    }\n",
       "</style>\n",
       "<table border=\"1\" class=\"dataframe\">\n",
       "  <thead>\n",
       "    <tr style=\"text-align: right;\">\n",
       "      <th></th>\n",
       "      <th>Count</th>\n",
       "      <th>%</th>\n",
       "    </tr>\n",
       "  </thead>\n",
       "  <tbody>\n",
       "    <tr>\n",
       "      <th>Notebook</th>\n",
       "      <td>5573978</td>\n",
       "      <td>66.393706</td>\n",
       "    </tr>\n",
       "    <tr>\n",
       "      <th>Desktop</th>\n",
       "      <td>1689186</td>\n",
       "      <td>20.120517</td>\n",
       "    </tr>\n",
       "    <tr>\n",
       "      <th>Convertible</th>\n",
       "      <td>384786</td>\n",
       "      <td>4.583328</td>\n",
       "    </tr>\n",
       "    <tr>\n",
       "      <th>AllInOne</th>\n",
       "      <td>277433</td>\n",
       "      <td>3.304607</td>\n",
       "    </tr>\n",
       "    <tr>\n",
       "      <th>Detachable</th>\n",
       "      <td>236642</td>\n",
       "      <td>2.818730</td>\n",
       "    </tr>\n",
       "    <tr>\n",
       "      <th>PCOther</th>\n",
       "      <td>134098</td>\n",
       "      <td>1.597291</td>\n",
       "    </tr>\n",
       "    <tr>\n",
       "      <th>LargeTablet</th>\n",
       "      <td>61574</td>\n",
       "      <td>0.733431</td>\n",
       "    </tr>\n",
       "    <tr>\n",
       "      <th>SmallTablet</th>\n",
       "      <td>29788</td>\n",
       "      <td>0.354816</td>\n",
       "    </tr>\n",
       "    <tr>\n",
       "      <th>SmallServer</th>\n",
       "      <td>5895</td>\n",
       "      <td>0.070218</td>\n",
       "    </tr>\n",
       "    <tr>\n",
       "      <th>MediumServer</th>\n",
       "      <td>1264</td>\n",
       "      <td>0.015056</td>\n",
       "    </tr>\n",
       "    <tr>\n",
       "      <th>LargeServer</th>\n",
       "      <td>674</td>\n",
       "      <td>0.008028</td>\n",
       "    </tr>\n",
       "    <tr>\n",
       "      <th>ServerOther</th>\n",
       "      <td>22</td>\n",
       "      <td>0.000262</td>\n",
       "    </tr>\n",
       "    <tr>\n",
       "      <th>IoTOther</th>\n",
       "      <td>1</td>\n",
       "      <td>0.000012</td>\n",
       "    </tr>\n",
       "  </tbody>\n",
       "</table>\n",
       "</div>"
      ],
      "text/plain": [
       "                Count          %\n",
       "Notebook      5573978  66.393706\n",
       "Desktop       1689186  20.120517\n",
       "Convertible    384786   4.583328\n",
       "AllInOne       277433   3.304607\n",
       "Detachable     236642   2.818730\n",
       "PCOther        134098   1.597291\n",
       "LargeTablet     61574   0.733431\n",
       "SmallTablet     29788   0.354816\n",
       "SmallServer      5895   0.070218\n",
       "MediumServer     1264   0.015056\n",
       "LargeServer       674   0.008028\n",
       "ServerOther        22   0.000262\n",
       "IoTOther            1   0.000012"
      ]
     },
     "execution_count": 84,
     "metadata": {},
     "output_type": "execute_result"
    }
   ],
   "source": [
    "mdc2 = pd.concat([clean_df['Census_MDC2FormFactor'].value_counts(), \n",
    "                          clean_df['Census_MDC2FormFactor'].value_counts(normalize=True)*100],\n",
    "                         axis=1)\n",
    "mdc2.columns=['Count', '%']\n",
    "mdc2.head(15)"
   ]
  },
  {
   "cell_type": "code",
   "execution_count": 85,
   "id": "4bd90e4f",
   "metadata": {
    "scrolled": true
   },
   "outputs": [
    {
     "data": {
      "image/png": "[encoded data removed]",
      "text/plain": [
       "<Figure size 576x432 with 1 Axes>"
      ]
     },
     "metadata": {
      "needs_background": "light"
     },
     "output_type": "display_data"
    }
   ],
   "source": [
    "plt.figure(figsize=(8, 6))\n",
    "sns.countplot(x='Census_MDC2FormFactor',\n",
    "            hue='HasDetections',\n",
    "            data=clean_df,\n",
    "            order = clean_df['Census_MDC2FormFactor'].value_counts().index,\n",
    "            color='blue',\n",
    "            edgecolor=sns.color_palette('dark', 1),\n",
    "            alpha=0.8)\n",
    "plt.legend(loc=1, title='HasDetections')\n",
    "plt.xticks(rotation = 45)\n",
    "plt.tight_layout()"
   ]
  },
  {
   "cell_type": "code",
   "execution_count": 86,
   "id": "e28a6c4e",
   "metadata": {},
   "outputs": [
    {
     "data": {
      "text/plain": [
       "CategoricalDtype(categories=['AllInOne', 'Convertible', 'Desktop', 'Detachable',\n",
       "                  'LargeServer', 'LargeTablet', 'MediumServer', 'Notebook',\n",
       "                  'PCOther', 'SmallServer', 'SmallTablet', 'ServerOther',\n",
       "                  'IoTOther'],\n",
       ", ordered=False)"
      ]
     },
     "execution_count": 86,
     "metadata": {},
     "output_type": "execute_result"
    }
   ],
   "source": [
    "clean_df['Census_MDC2FormFactor'].dtype"
   ]
  },
  {
   "cell_type": "code",
   "execution_count": 87,
   "id": "b0b9d4b1",
   "metadata": {},
   "outputs": [
    {
     "name": "stderr",
     "output_type": "stream",
     "text": [
      "C:\\Users\\marco\\anaconda3\\envs\\capstone2env\\lib\\site-packages\\pandas\\core\\indexing.py:1720: SettingWithCopyWarning: \n",
      "A value is trying to be set on a copy of a slice from a DataFrame.\n",
      "Try using .loc[row_indexer,col_indexer] = value instead\n",
      "\n",
      "See the caveats in the documentation: https://pandas.pydata.org/pandas-docs/stable/user_guide/indexing.html#returning-a-view-versus-a-copy\n",
      "  self._setitem_single_column(loc, value, pi)\n",
      "C:\\Users\\marco\\anaconda3\\envs\\capstone2env\\lib\\site-packages\\pandas\\core\\arrays\\categorical.py:2487: FutureWarning: The `inplace` parameter in pandas.Categorical.remove_unused_categories is deprecated and will be removed in a future version.\n",
      "  res = method(*args, **kwargs)\n",
      "C:\\Users\\marco\\anaconda3\\envs\\capstone2env\\lib\\site-packages\\pandas\\core\\frame.py:4441: SettingWithCopyWarning: \n",
      "A value is trying to be set on a copy of a slice from a DataFrame\n",
      "\n",
      "See the caveats in the documentation: https://pandas.pydata.org/pandas-docs/stable/user_guide/indexing.html#returning-a-view-versus-a-copy\n",
      "  return super().rename(\n"
     ]
    },
    {
     "data": {
      "text/plain": [
       "Notebook       0.663937\n",
       "Desktop        0.201205\n",
       "Convertible    0.045833\n",
       "AllInOne       0.033046\n",
       "Detachable     0.028187\n",
       "PCOther        0.015973\n",
       "LargeTablet    0.007334\n",
       "SmallTablet    0.003548\n",
       "Other          0.000936\n",
       "Name: Census_MDC2FormFactor_encoded, dtype: float64"
      ]
     },
     "execution_count": 87,
     "metadata": {},
     "output_type": "execute_result"
    }
   ],
   "source": [
    "clean_df['Census_MDC2FormFactor'].cat.add_categories('Other', inplace=True)\n",
    "clean_df.loc[(clean_df['Census_MDC2FormFactor'] == 'SmallServer') | \n",
    "             (clean_df['Census_MDC2FormFactor'] == 'MediumServer') |\n",
    "             (clean_df['Census_MDC2FormFactor'] == 'LargeServer') |\n",
    "             (clean_df['Census_MDC2FormFactor'] == 'ServerOther') |\n",
    "             (clean_df['Census_MDC2FormFactor'] == 'IoTOther'),\n",
    "             'Census_MDC2FormFactor'] = 'Other'\n",
    "clean_df['Census_MDC2FormFactor'].cat.remove_unused_categories(inplace=True)\n",
    "clean_df.rename(columns={'Census_MDC2FormFactor':'Census_MDC2FormFactor_encoded'}, inplace=True)\n",
    "clean_df['Census_MDC2FormFactor_encoded'].value_counts(normalize=True)"
   ]
  },
  {
   "cell_type": "markdown",
   "id": "16afdc17",
   "metadata": {},
   "source": [
    "**Census_ChassisTypeName**"
   ]
  },
  {
   "cell_type": "code",
   "execution_count": 88,
   "id": "d0521c73",
   "metadata": {
    "scrolled": true
   },
   "outputs": [
    {
     "data": {
      "text/html": [
       "<div>\n",
       "<style scoped>\n",
       "    .dataframe tbody tr th:only-of-type {\n",
       "        vertical-align: middle;\n",
       "    }\n",
       "\n",
       "    .dataframe tbody tr th {\n",
       "        vertical-align: top;\n",
       "    }\n",
       "\n",
       "    .dataframe thead th {\n",
       "        text-align: right;\n",
       "    }\n",
       "</style>\n",
       "<table border=\"1\" class=\"dataframe\">\n",
       "  <thead>\n",
       "    <tr style=\"text-align: right;\">\n",
       "      <th></th>\n",
       "      <th>Count</th>\n",
       "      <th>%</th>\n",
       "    </tr>\n",
       "  </thead>\n",
       "  <tbody>\n",
       "    <tr>\n",
       "      <th>Notebook</th>\n",
       "      <td>5126231</td>\n",
       "      <td>61.064805</td>\n",
       "    </tr>\n",
       "    <tr>\n",
       "      <th>Desktop</th>\n",
       "      <td>1626903</td>\n",
       "      <td>19.380031</td>\n",
       "    </tr>\n",
       "    <tr>\n",
       "      <th>Laptop</th>\n",
       "      <td>579720</td>\n",
       "      <td>6.905754</td>\n",
       "    </tr>\n",
       "    <tr>\n",
       "      <th>Portable</th>\n",
       "      <td>356299</td>\n",
       "      <td>4.244313</td>\n",
       "    </tr>\n",
       "    <tr>\n",
       "      <th>AllinOne</th>\n",
       "      <td>193725</td>\n",
       "      <td>2.307695</td>\n",
       "    </tr>\n",
       "    <tr>\n",
       "      <th>Convertible</th>\n",
       "      <td>78991</td>\n",
       "      <td>0.940958</td>\n",
       "    </tr>\n",
       "    <tr>\n",
       "      <th>MiniTower</th>\n",
       "      <td>78607</td>\n",
       "      <td>0.936384</td>\n",
       "    </tr>\n",
       "    <tr>\n",
       "      <th>Other</th>\n",
       "      <td>71852</td>\n",
       "      <td>0.855917</td>\n",
       "    </tr>\n",
       "    <tr>\n",
       "      <th>UNKNOWN</th>\n",
       "      <td>64727</td>\n",
       "      <td>0.771042</td>\n",
       "    </tr>\n",
       "    <tr>\n",
       "      <th>Detachable</th>\n",
       "      <td>49880</td>\n",
       "      <td>0.594182</td>\n",
       "    </tr>\n",
       "  </tbody>\n",
       "</table>\n",
       "</div>"
      ],
      "text/plain": [
       "               Count          %\n",
       "Notebook     5126231  61.064805\n",
       "Desktop      1626903  19.380031\n",
       "Laptop        579720   6.905754\n",
       "Portable      356299   4.244313\n",
       "AllinOne      193725   2.307695\n",
       "Convertible    78991   0.940958\n",
       "MiniTower      78607   0.936384\n",
       "Other          71852   0.855917\n",
       "UNKNOWN        64727   0.771042\n",
       "Detachable     49880   0.594182"
      ]
     },
     "execution_count": 88,
     "metadata": {},
     "output_type": "execute_result"
    }
   ],
   "source": [
    "census_chassis = pd.concat([clean_df['Census_ChassisTypeName'].value_counts(),\n",
    "                            clean_df['Census_ChassisTypeName'].value_counts(normalize=True)*100],\n",
    "                            axis=1)\n",
    "census_chassis.columns=['Count', '%']\n",
    "census_chassis.head(10)"
   ]
  },
  {
   "cell_type": "code",
   "execution_count": 89,
   "id": "cd7d3a14",
   "metadata": {
    "scrolled": true
   },
   "outputs": [
    {
     "data": {
      "image/png": "[encoded data removed]",
      "text/plain": [
       "<Figure size 576x432 with 1 Axes>"
      ]
     },
     "metadata": {
      "needs_background": "light"
     },
     "output_type": "display_data"
    }
   ],
   "source": [
    "plt.figure(figsize=(8, 6))\n",
    "sns.countplot(x='Census_ChassisTypeName',\n",
    "            hue='HasDetections',\n",
    "            data=clean_df,\n",
    "            order = clean_df['Census_ChassisTypeName'].value_counts().index[:10],\n",
    "            color='blue',\n",
    "            edgecolor=sns.color_palette('dark', 1),\n",
    "            alpha=0.8)\n",
    "plt.legend(loc=1, title='HasDetections')\n",
    "plt.xticks(rotation = 45)\n",
    "plt.tight_layout()"
   ]
  },
  {
   "cell_type": "code",
   "execution_count": 90,
   "id": "37e7dba0",
   "metadata": {},
   "outputs": [
    {
     "data": {
      "text/plain": [
       "CategoricalDtype(categories=['30', 'AllinOne', 'Convertible', 'Desktop', 'Detachable',\n",
       "                  'HandHeld', 'Laptop', 'LowProfileDesktop', 'LunchBox',\n",
       "                  'MainServerChassis', 'MiniPC', 'MiniTower', 'Notebook',\n",
       "                  'Other', 'Portable', 'RackMountChassis', 'SpaceSaving',\n",
       "                  'StickPC', 'SubNotebook', 'Tablet', 'Tower', 'UNKNOWN',\n",
       "                  'Unknown', 'BusExpansionChassis', '36', '82', '35', '0',\n",
       "                  'Blade', 'IoTGateway', 'MultisystemChassis', 'SealedCasePC',\n",
       "                  '32', '31', 'ExpansionChassis', 'SubChassis', 'PizzaBox',\n",
       "                  '88', '25', '28', '44', '127', '76', 'DockingStation', '45',\n",
       "                  '49', 'CompactPCI', '112', 'BladeEnclosure', '81',\n",
       "                  'EmbeddedPC', '39'],\n",
       ", ordered=False)"
      ]
     },
     "execution_count": 90,
     "metadata": {},
     "output_type": "execute_result"
    }
   ],
   "source": [
    "clean_df['Census_ChassisTypeName'].dtype"
   ]
  },
  {
   "cell_type": "code",
   "execution_count": 91,
   "id": "352fd2ae",
   "metadata": {},
   "outputs": [
    {
     "name": "stderr",
     "output_type": "stream",
     "text": [
      "C:\\Users\\marco\\anaconda3\\envs\\capstone2env\\lib\\site-packages\\pandas\\core\\indexing.py:1720: SettingWithCopyWarning: \n",
      "A value is trying to be set on a copy of a slice from a DataFrame.\n",
      "Try using .loc[row_indexer,col_indexer] = value instead\n",
      "\n",
      "See the caveats in the documentation: https://pandas.pydata.org/pandas-docs/stable/user_guide/indexing.html#returning-a-view-versus-a-copy\n",
      "  self._setitem_single_column(loc, value, pi)\n",
      "C:\\Users\\marco\\anaconda3\\envs\\capstone2env\\lib\\site-packages\\pandas\\core\\arrays\\categorical.py:2487: FutureWarning: The `inplace` parameter in pandas.Categorical.remove_unused_categories is deprecated and will be removed in a future version.\n",
      "  res = method(*args, **kwargs)\n",
      "C:\\Users\\marco\\anaconda3\\envs\\capstone2env\\lib\\site-packages\\pandas\\core\\frame.py:4441: SettingWithCopyWarning: \n",
      "A value is trying to be set on a copy of a slice from a DataFrame\n",
      "\n",
      "See the caveats in the documentation: https://pandas.pydata.org/pandas-docs/stable/user_guide/indexing.html#returning-a-view-versus-a-copy\n",
      "  return super().rename(\n"
     ]
    },
    {
     "data": {
      "text/plain": [
       "Notebook       0.610604\n",
       "Desktop        0.193786\n",
       "Laptop         0.069053\n",
       "Portable       0.042440\n",
       "Other          0.042269\n",
       "AllinOne       0.023075\n",
       "Convertible    0.009409\n",
       "MiniTower      0.009363\n",
       "Name: Census_ChassisTypeName_encoded, dtype: float64"
      ]
     },
     "execution_count": 91,
     "metadata": {},
     "output_type": "execute_result"
    }
   ],
   "source": [
    "clean_df.loc[(clean_df['Census_ChassisTypeName'] != 'Notebook') &\n",
    "             (clean_df['Census_ChassisTypeName'] != 'Desktop') &\n",
    "             (clean_df['Census_ChassisTypeName'] != 'Laptop') &\n",
    "             (clean_df['Census_ChassisTypeName'] != 'Portable') &\n",
    "             (clean_df['Census_ChassisTypeName'] != 'AllinOne') &\n",
    "             (clean_df['Census_ChassisTypeName'] != 'MiniTower') &\n",
    "             (clean_df['Census_ChassisTypeName'] != 'Convertible'),\n",
    "             'Census_ChassisTypeName'] = 'Other'\n",
    "clean_df['Census_ChassisTypeName'].cat.remove_unused_categories(inplace=True)\n",
    "clean_df.rename(columns={'Census_ChassisTypeName':'Census_ChassisTypeName_encoded'}, inplace=True)\n",
    "clean_df['Census_ChassisTypeName_encoded'].value_counts(normalize=True)"
   ]
  },
  {
   "cell_type": "markdown",
   "id": "a6a2d8c8",
   "metadata": {},
   "source": [
    "**Census_OSBuildRevision**"
   ]
  },
  {
   "cell_type": "code",
   "execution_count": 92,
   "id": "8a430be4",
   "metadata": {},
   "outputs": [
    {
     "data": {
      "text/html": [
       "<div>\n",
       "<style scoped>\n",
       "    .dataframe tbody tr th:only-of-type {\n",
       "        vertical-align: middle;\n",
       "    }\n",
       "\n",
       "    .dataframe tbody tr th {\n",
       "        vertical-align: top;\n",
       "    }\n",
       "\n",
       "    .dataframe thead th {\n",
       "        text-align: right;\n",
       "    }\n",
       "</style>\n",
       "<table border=\"1\" class=\"dataframe\">\n",
       "  <thead>\n",
       "    <tr style=\"text-align: right;\">\n",
       "      <th></th>\n",
       "      <th>Count</th>\n",
       "      <th>%</th>\n",
       "    </tr>\n",
       "  </thead>\n",
       "  <tbody>\n",
       "    <tr>\n",
       "      <th>228</th>\n",
       "      <td>1294304</td>\n",
       "      <td>15.416932</td>\n",
       "    </tr>\n",
       "    <tr>\n",
       "      <th>165</th>\n",
       "      <td>829665</td>\n",
       "      <td>9.882446</td>\n",
       "    </tr>\n",
       "    <tr>\n",
       "      <th>431</th>\n",
       "      <td>530450</td>\n",
       "      <td>6.318385</td>\n",
       "    </tr>\n",
       "    <tr>\n",
       "      <th>285</th>\n",
       "      <td>428386</td>\n",
       "      <td>5.102663</td>\n",
       "    </tr>\n",
       "    <tr>\n",
       "      <th>547</th>\n",
       "      <td>329957</td>\n",
       "      <td>3.930239</td>\n",
       "    </tr>\n",
       "    <tr>\n",
       "      <th>112</th>\n",
       "      <td>324845</td>\n",
       "      <td>3.869348</td>\n",
       "    </tr>\n",
       "    <tr>\n",
       "      <th>371</th>\n",
       "      <td>310808</td>\n",
       "      <td>3.702149</td>\n",
       "    </tr>\n",
       "    <tr>\n",
       "      <th>2189</th>\n",
       "      <td>216968</td>\n",
       "      <td>2.584386</td>\n",
       "    </tr>\n",
       "    <tr>\n",
       "      <th>125</th>\n",
       "      <td>204485</td>\n",
       "      <td>2.435696</td>\n",
       "    </tr>\n",
       "    <tr>\n",
       "      <th>191</th>\n",
       "      <td>204430</td>\n",
       "      <td>2.435041</td>\n",
       "    </tr>\n",
       "    <tr>\n",
       "      <th>611</th>\n",
       "      <td>203948</td>\n",
       "      <td>2.429300</td>\n",
       "    </tr>\n",
       "    <tr>\n",
       "      <th>17443</th>\n",
       "      <td>202241</td>\n",
       "      <td>2.408967</td>\n",
       "    </tr>\n",
       "    <tr>\n",
       "      <th>1176</th>\n",
       "      <td>177508</td>\n",
       "      <td>2.114363</td>\n",
       "    </tr>\n",
       "    <tr>\n",
       "      <th>492</th>\n",
       "      <td>162579</td>\n",
       "      <td>1.936538</td>\n",
       "    </tr>\n",
       "    <tr>\n",
       "      <th>0</th>\n",
       "      <td>159909</td>\n",
       "      <td>1.904735</td>\n",
       "    </tr>\n",
       "    <tr>\n",
       "      <th>309</th>\n",
       "      <td>144606</td>\n",
       "      <td>1.722455</td>\n",
       "    </tr>\n",
       "    <tr>\n",
       "      <th>286</th>\n",
       "      <td>124799</td>\n",
       "      <td>1.486527</td>\n",
       "    </tr>\n",
       "    <tr>\n",
       "      <th>15</th>\n",
       "      <td>111708</td>\n",
       "      <td>1.330595</td>\n",
       "    </tr>\n",
       "    <tr>\n",
       "      <th>254</th>\n",
       "      <td>100230</td>\n",
       "      <td>1.193876</td>\n",
       "    </tr>\n",
       "    <tr>\n",
       "      <th>1</th>\n",
       "      <td>97410</td>\n",
       "      <td>1.160286</td>\n",
       "    </tr>\n",
       "    <tr>\n",
       "      <th>1206</th>\n",
       "      <td>97294</td>\n",
       "      <td>1.158905</td>\n",
       "    </tr>\n",
       "    <tr>\n",
       "      <th>1266</th>\n",
       "      <td>95542</td>\n",
       "      <td>1.138036</td>\n",
       "    </tr>\n",
       "    <tr>\n",
       "      <th>192</th>\n",
       "      <td>95010</td>\n",
       "      <td>1.131699</td>\n",
       "    </tr>\n",
       "    <tr>\n",
       "      <th>167</th>\n",
       "      <td>78886</td>\n",
       "      <td>0.939640</td>\n",
       "    </tr>\n",
       "    <tr>\n",
       "      <th>248</th>\n",
       "      <td>72705</td>\n",
       "      <td>0.866016</td>\n",
       "    </tr>\n",
       "    <tr>\n",
       "      <th>137</th>\n",
       "      <td>71601</td>\n",
       "      <td>0.852866</td>\n",
       "    </tr>\n",
       "    <tr>\n",
       "      <th>1088</th>\n",
       "      <td>61619</td>\n",
       "      <td>0.733967</td>\n",
       "    </tr>\n",
       "    <tr>\n",
       "      <th>48</th>\n",
       "      <td>61077</td>\n",
       "      <td>0.727511</td>\n",
       "    </tr>\n",
       "    <tr>\n",
       "      <th>81</th>\n",
       "      <td>50466</td>\n",
       "      <td>0.601119</td>\n",
       "    </tr>\n",
       "    <tr>\n",
       "      <th>693</th>\n",
       "      <td>49806</td>\n",
       "      <td>0.593258</td>\n",
       "    </tr>\n",
       "  </tbody>\n",
       "</table>\n",
       "</div>"
      ],
      "text/plain": [
       "         Count          %\n",
       "228    1294304  15.416932\n",
       "165     829665   9.882446\n",
       "431     530450   6.318385\n",
       "285     428386   5.102663\n",
       "547     329957   3.930239\n",
       "112     324845   3.869348\n",
       "371     310808   3.702149\n",
       "2189    216968   2.584386\n",
       "125     204485   2.435696\n",
       "191     204430   2.435041\n",
       "611     203948   2.429300\n",
       "17443   202241   2.408967\n",
       "1176    177508   2.114363\n",
       "492     162579   1.936538\n",
       "0       159909   1.904735\n",
       "309     144606   1.722455\n",
       "286     124799   1.486527\n",
       "15      111708   1.330595\n",
       "254     100230   1.193876\n",
       "1        97410   1.160286\n",
       "1206     97294   1.158905\n",
       "1266     95542   1.138036\n",
       "192      95010   1.131699\n",
       "167      78886   0.939640\n",
       "248      72705   0.866016\n",
       "137      71601   0.852866\n",
       "1088     61619   0.733967\n",
       "48       61077   0.727511\n",
       "81       50466   0.601119\n",
       "693      49806   0.593258"
      ]
     },
     "execution_count": 92,
     "metadata": {},
     "output_type": "execute_result"
    }
   ],
   "source": [
    "census_os_build_rev = pd.concat([clean_df['Census_OSBuildRevision'].value_counts(),\n",
    "                                 clean_df['Census_OSBuildRevision'].value_counts(normalize=True)*100],\n",
    "                                 axis=1)\n",
    "census_os_build_rev.columns=['Count', '%']\n",
    "census_os_build_rev.head(30)"
   ]
  },
  {
   "cell_type": "code",
   "execution_count": 93,
   "id": "92633564",
   "metadata": {
    "scrolled": true
   },
   "outputs": [
    {
     "data": {
      "image/png": "[encoded data removed]",
      "text/plain": [
       "<Figure size 1008x432 with 1 Axes>"
      ]
     },
     "metadata": {
      "needs_background": "light"
     },
     "output_type": "display_data"
    }
   ],
   "source": [
    "plt.figure(figsize=(14, 6))\n",
    "sns.countplot(x='Census_OSBuildRevision',\n",
    "            hue='HasDetections',\n",
    "            data=clean_df,\n",
    "            order = clean_df['Census_OSBuildRevision'].value_counts().index[:30],\n",
    "            color='blue',\n",
    "            edgecolor=sns.color_palette('dark', 1),\n",
    "            alpha=0.8)\n",
    "plt.legend(loc=1, title='HasDetections')\n",
    "plt.xticks(rotation = 45)\n",
    "plt.tight_layout()"
   ]
  },
  {
   "cell_type": "code",
   "execution_count": 94,
   "id": "2ac8c733",
   "metadata": {
    "scrolled": false
   },
   "outputs": [
    {
     "data": {
      "text/plain": [
       "CategoricalDtype(categories=[    0,     1,     3,     4,     5,    10,    11,    13,\n",
       "                     14,    15,\n",
       "                  ...\n",
       "                  18756, 18778, 19069, 19102, 21703, 23418, 24149, 24214,\n",
       "                  24241, 41736],\n",
       ", ordered=False)"
      ]
     },
     "execution_count": 94,
     "metadata": {},
     "output_type": "execute_result"
    }
   ],
   "source": [
    "clean_df['Census_OSBuildRevision'].dtype"
   ]
  },
  {
   "cell_type": "code",
   "execution_count": 95,
   "id": "f65020b3",
   "metadata": {},
   "outputs": [
    {
     "data": {
      "text/plain": [
       "['AVProductStatesIdentifier',\n",
       " 'CountryIdentifier',\n",
       " 'CityIdentifier',\n",
       " 'OrganizationIdentifier',\n",
       " 'GeoNameIdentifier',\n",
       " 'LocaleEnglishNameIdentifier',\n",
       " 'IeVerIdentifier',\n",
       " 'Census_OEMNameIdentifier',\n",
       " 'Census_OEMModelIdentifier',\n",
       " 'Census_ProcessorManufacturerIdentifier',\n",
       " 'Census_ProcessorModelIdentifier',\n",
       " 'Census_OSInstallLanguageIdentifier',\n",
       " 'Census_OSUILocaleIdentifier',\n",
       " 'Census_FirmwareManufacturerIdentifier',\n",
       " 'Census_FirmwareVersionIdentifier',\n",
       " 'Wdft_RegionIdentifier']"
      ]
     },
     "execution_count": 95,
     "metadata": {},
     "output_type": "execute_result"
    }
   ],
   "source": [
    "mean_encoding_list"
   ]
  },
  {
   "cell_type": "code",
   "execution_count": 96,
   "id": "de12aa73",
   "metadata": {},
   "outputs": [],
   "source": [
    "mean_encoding_list.append('Census_OSBuildRevision')"
   ]
  },
  {
   "cell_type": "markdown",
   "id": "2a17bc13",
   "metadata": {},
   "source": [
    "**Census_OSEdition**"
   ]
  },
  {
   "cell_type": "code",
   "execution_count": 97,
   "id": "5d3f2467",
   "metadata": {
    "scrolled": true
   },
   "outputs": [
    {
     "data": {
      "text/html": [
       "<div>\n",
       "<style scoped>\n",
       "    .dataframe tbody tr th:only-of-type {\n",
       "        vertical-align: middle;\n",
       "    }\n",
       "\n",
       "    .dataframe tbody tr th {\n",
       "        vertical-align: top;\n",
       "    }\n",
       "\n",
       "    .dataframe thead th {\n",
       "        text-align: right;\n",
       "    }\n",
       "</style>\n",
       "<table border=\"1\" class=\"dataframe\">\n",
       "  <thead>\n",
       "    <tr style=\"text-align: right;\">\n",
       "      <th></th>\n",
       "      <th>Count</th>\n",
       "      <th>%</th>\n",
       "    </tr>\n",
       "  </thead>\n",
       "  <tbody>\n",
       "    <tr>\n",
       "      <th>Core</th>\n",
       "      <td>3291667</td>\n",
       "      <td>39.208258</td>\n",
       "    </tr>\n",
       "    <tr>\n",
       "      <th>Professional</th>\n",
       "      <td>2852104</td>\n",
       "      <td>33.972462</td>\n",
       "    </tr>\n",
       "    <tr>\n",
       "      <th>CoreSingleLanguage</th>\n",
       "      <td>1901511</td>\n",
       "      <td>22.649598</td>\n",
       "    </tr>\n",
       "    <tr>\n",
       "      <th>CoreCountrySpecific</th>\n",
       "      <td>158038</td>\n",
       "      <td>1.882449</td>\n",
       "    </tr>\n",
       "    <tr>\n",
       "      <th>ProfessionalEducation</th>\n",
       "      <td>55946</td>\n",
       "      <td>0.666393</td>\n",
       "    </tr>\n",
       "    <tr>\n",
       "      <th>Education</th>\n",
       "      <td>34811</td>\n",
       "      <td>0.414647</td>\n",
       "    </tr>\n",
       "    <tr>\n",
       "      <th>Enterprise</th>\n",
       "      <td>34590</td>\n",
       "      <td>0.412014</td>\n",
       "    </tr>\n",
       "    <tr>\n",
       "      <th>ProfessionalN</th>\n",
       "      <td>26100</td>\n",
       "      <td>0.310887</td>\n",
       "    </tr>\n",
       "    <tr>\n",
       "      <th>EnterpriseS</th>\n",
       "      <td>18541</td>\n",
       "      <td>0.220849</td>\n",
       "    </tr>\n",
       "    <tr>\n",
       "      <th>Cloud</th>\n",
       "      <td>6269</td>\n",
       "      <td>0.074672</td>\n",
       "    </tr>\n",
       "    <tr>\n",
       "      <th>ServerStandard</th>\n",
       "      <td>5927</td>\n",
       "      <td>0.070599</td>\n",
       "    </tr>\n",
       "    <tr>\n",
       "      <th>CoreN</th>\n",
       "      <td>4354</td>\n",
       "      <td>0.051862</td>\n",
       "    </tr>\n",
       "    <tr>\n",
       "      <th>ServerStandardEval</th>\n",
       "      <td>2128</td>\n",
       "      <td>0.025347</td>\n",
       "    </tr>\n",
       "    <tr>\n",
       "      <th>EnterpriseSN</th>\n",
       "      <td>851</td>\n",
       "      <td>0.010137</td>\n",
       "    </tr>\n",
       "    <tr>\n",
       "      <th>EducationN</th>\n",
       "      <td>806</td>\n",
       "      <td>0.009601</td>\n",
       "    </tr>\n",
       "    <tr>\n",
       "      <th>ServerDatacenterEval</th>\n",
       "      <td>559</td>\n",
       "      <td>0.006658</td>\n",
       "    </tr>\n",
       "    <tr>\n",
       "      <th>ServerSolution</th>\n",
       "      <td>473</td>\n",
       "      <td>0.005634</td>\n",
       "    </tr>\n",
       "    <tr>\n",
       "      <th>EnterpriseN</th>\n",
       "      <td>334</td>\n",
       "      <td>0.003978</td>\n",
       "    </tr>\n",
       "    <tr>\n",
       "      <th>ProfessionalEducationN</th>\n",
       "      <td>174</td>\n",
       "      <td>0.002073</td>\n",
       "    </tr>\n",
       "    <tr>\n",
       "      <th>ProfessionalWorkstation</th>\n",
       "      <td>103</td>\n",
       "      <td>0.001227</td>\n",
       "    </tr>\n",
       "    <tr>\n",
       "      <th>ServerDatacenter</th>\n",
       "      <td>12</td>\n",
       "      <td>0.000143</td>\n",
       "    </tr>\n",
       "    <tr>\n",
       "      <th>ProfessionalWorkstationN</th>\n",
       "      <td>10</td>\n",
       "      <td>0.000119</td>\n",
       "    </tr>\n",
       "    <tr>\n",
       "      <th>CloudN</th>\n",
       "      <td>8</td>\n",
       "      <td>0.000095</td>\n",
       "    </tr>\n",
       "    <tr>\n",
       "      <th>ProfessionalCountrySpecific</th>\n",
       "      <td>5</td>\n",
       "      <td>0.000060</td>\n",
       "    </tr>\n",
       "    <tr>\n",
       "      <th>Ultimate</th>\n",
       "      <td>4</td>\n",
       "      <td>0.000048</td>\n",
       "    </tr>\n",
       "    <tr>\n",
       "      <th>ServerRdsh</th>\n",
       "      <td>4</td>\n",
       "      <td>0.000048</td>\n",
       "    </tr>\n",
       "    <tr>\n",
       "      <th>Home</th>\n",
       "      <td>4</td>\n",
       "      <td>0.000048</td>\n",
       "    </tr>\n",
       "    <tr>\n",
       "      <th>ProfessionalSingleLanguage</th>\n",
       "      <td>3</td>\n",
       "      <td>0.000036</td>\n",
       "    </tr>\n",
       "    <tr>\n",
       "      <th>HomePremium</th>\n",
       "      <td>2</td>\n",
       "      <td>0.000024</td>\n",
       "    </tr>\n",
       "    <tr>\n",
       "      <th>ServerDatacenterACor</th>\n",
       "      <td>1</td>\n",
       "      <td>0.000012</td>\n",
       "    </tr>\n",
       "  </tbody>\n",
       "</table>\n",
       "</div>"
      ],
      "text/plain": [
       "                               Count          %\n",
       "Core                         3291667  39.208258\n",
       "Professional                 2852104  33.972462\n",
       "CoreSingleLanguage           1901511  22.649598\n",
       "CoreCountrySpecific           158038   1.882449\n",
       "ProfessionalEducation          55946   0.666393\n",
       "Education                      34811   0.414647\n",
       "Enterprise                     34590   0.412014\n",
       "ProfessionalN                  26100   0.310887\n",
       "EnterpriseS                    18541   0.220849\n",
       "Cloud                           6269   0.074672\n",
       "ServerStandard                  5927   0.070599\n",
       "CoreN                           4354   0.051862\n",
       "ServerStandardEval              2128   0.025347\n",
       "EnterpriseSN                     851   0.010137\n",
       "EducationN                       806   0.009601\n",
       "ServerDatacenterEval             559   0.006658\n",
       "ServerSolution                   473   0.005634\n",
       "EnterpriseN                      334   0.003978\n",
       "ProfessionalEducationN           174   0.002073\n",
       "ProfessionalWorkstation          103   0.001227\n",
       "ServerDatacenter                  12   0.000143\n",
       "ProfessionalWorkstationN          10   0.000119\n",
       "CloudN                             8   0.000095\n",
       "ProfessionalCountrySpecific        5   0.000060\n",
       "Ultimate                           4   0.000048\n",
       "ServerRdsh                         4   0.000048\n",
       "Home                               4   0.000048\n",
       "ProfessionalSingleLanguage         3   0.000036\n",
       "HomePremium                        2   0.000024\n",
       "ServerDatacenterACor               1   0.000012"
      ]
     },
     "execution_count": 97,
     "metadata": {},
     "output_type": "execute_result"
    }
   ],
   "source": [
    "census_os_edition = pd.concat([clean_df['Census_OSEdition'].value_counts(),\n",
    "                               clean_df['Census_OSEdition'].value_counts(normalize=True)*100], \n",
    "                              axis=1)\n",
    "census_os_edition.columns=['Count', '%']\n",
    "census_os_edition.head(30)"
   ]
  },
  {
   "cell_type": "code",
   "execution_count": 98,
   "id": "f408e906",
   "metadata": {
    "scrolled": true
   },
   "outputs": [
    {
     "data": {
      "image/png": "[encoded data removed]",
      "text/plain": [
       "<Figure size 720x432 with 1 Axes>"
      ]
     },
     "metadata": {
      "needs_background": "light"
     },
     "output_type": "display_data"
    }
   ],
   "source": [
    "plt.figure(figsize=(10, 6))\n",
    "sns.countplot(x='Census_OSEdition',\n",
    "            hue='HasDetections',\n",
    "            data=clean_df,\n",
    "            order = clean_df['Census_OSEdition'].value_counts().index[:10],\n",
    "            color='blue',\n",
    "            edgecolor=sns.color_palette('dark', 1),\n",
    "            alpha=0.8)\n",
    "plt.legend(loc=1, title='HasDetections')\n",
    "plt.xticks(rotation = 45)\n",
    "plt.tight_layout()"
   ]
  },
  {
   "cell_type": "code",
   "execution_count": 99,
   "id": "7f9a52bd",
   "metadata": {},
   "outputs": [
    {
     "data": {
      "text/plain": [
       "CategoricalDtype(categories=['Cloud', 'Core', 'CoreCountrySpecific', 'CoreN',\n",
       "                  'CoreSingleLanguage', 'Education', 'EducationN',\n",
       "                  'Enterprise', 'EnterpriseS', 'EnterpriseSN', 'Professional',\n",
       "                  'ProfessionalEducation', 'ProfessionalN', 'ServerStandard',\n",
       "                  'ServerStandardEval', 'ServerDatacenterEval',\n",
       "                  'ProfessionalEducationN', 'ServerSolution', 'EnterpriseN',\n",
       "                  'ProfessionalWorkstationN', 'ProfessionalWorkstation',\n",
       "                  'Ultimate', 'CloudN', 'ProfessionalCountrySpecific',\n",
       "                  'ServerRdsh', 'ServerDatacenter', 'HomePremium',\n",
       "                  'ProfessionalSingleLanguage', 'ServerDatacenterACor', 'Pro',\n",
       "                  'Enterprise 2015 LTSB', 'Home'],\n",
       ", ordered=False)"
      ]
     },
     "execution_count": 99,
     "metadata": {},
     "output_type": "execute_result"
    }
   ],
   "source": [
    "clean_df['Census_OSEdition'].dtype"
   ]
  },
  {
   "cell_type": "code",
   "execution_count": 100,
   "id": "423b942c",
   "metadata": {},
   "outputs": [
    {
     "name": "stderr",
     "output_type": "stream",
     "text": [
      "C:\\Users\\marco\\anaconda3\\envs\\capstone2env\\lib\\site-packages\\pandas\\core\\indexing.py:1720: SettingWithCopyWarning: \n",
      "A value is trying to be set on a copy of a slice from a DataFrame.\n",
      "Try using .loc[row_indexer,col_indexer] = value instead\n",
      "\n",
      "See the caveats in the documentation: https://pandas.pydata.org/pandas-docs/stable/user_guide/indexing.html#returning-a-view-versus-a-copy\n",
      "  self._setitem_single_column(loc, value, pi)\n",
      "C:\\Users\\marco\\anaconda3\\envs\\capstone2env\\lib\\site-packages\\pandas\\core\\arrays\\categorical.py:2487: FutureWarning: The `inplace` parameter in pandas.Categorical.remove_unused_categories is deprecated and will be removed in a future version.\n",
      "  res = method(*args, **kwargs)\n",
      "C:\\Users\\marco\\anaconda3\\envs\\capstone2env\\lib\\site-packages\\pandas\\core\\frame.py:4441: SettingWithCopyWarning: \n",
      "A value is trying to be set on a copy of a slice from a DataFrame\n",
      "\n",
      "See the caveats in the documentation: https://pandas.pydata.org/pandas-docs/stable/user_guide/indexing.html#returning-a-view-versus-a-copy\n",
      "  return super().rename(\n"
     ]
    },
    {
     "data": {
      "text/plain": [
       "Core                  0.392083\n",
       "Professional          0.339725\n",
       "CoreSingleLanguage    0.226496\n",
       "Other                 0.041697\n",
       "Name: Census_OSEdition_encoded, dtype: float64"
      ]
     },
     "execution_count": 100,
     "metadata": {},
     "output_type": "execute_result"
    }
   ],
   "source": [
    "clean_df['Census_OSEdition'].cat.add_categories('Other', inplace=True)\n",
    "other_os_edition = ~clean_df['Census_OSEdition'].isin(['Core',\n",
    "                                                'Professional',\n",
    "                                                'CoreSingleLanguage'])\n",
    "clean_df.loc[other_os_edition, 'Census_OSEdition'] = 'Other'\n",
    "clean_df['Census_OSEdition'].cat.remove_unused_categories(inplace=True)\n",
    "clean_df.rename(columns={'Census_OSEdition':'Census_OSEdition_encoded'}, inplace=True)\n",
    "clean_df['Census_OSEdition_encoded'].value_counts(normalize=True)"
   ]
  },
  {
   "cell_type": "markdown",
   "id": "d355c329",
   "metadata": {},
   "source": [
    "**Census_OSSkuName**"
   ]
  },
  {
   "cell_type": "code",
   "execution_count": 101,
   "id": "f75addd5",
   "metadata": {},
   "outputs": [
    {
     "data": {
      "text/html": [
       "<div>\n",
       "<style scoped>\n",
       "    .dataframe tbody tr th:only-of-type {\n",
       "        vertical-align: middle;\n",
       "    }\n",
       "\n",
       "    .dataframe tbody tr th {\n",
       "        vertical-align: top;\n",
       "    }\n",
       "\n",
       "    .dataframe thead th {\n",
       "        text-align: right;\n",
       "    }\n",
       "</style>\n",
       "<table border=\"1\" class=\"dataframe\">\n",
       "  <thead>\n",
       "    <tr style=\"text-align: right;\">\n",
       "      <th></th>\n",
       "      <th>Count</th>\n",
       "      <th>%</th>\n",
       "    </tr>\n",
       "  </thead>\n",
       "  <tbody>\n",
       "    <tr>\n",
       "      <th>CORE</th>\n",
       "      <td>3291562</td>\n",
       "      <td>39.207008</td>\n",
       "    </tr>\n",
       "    <tr>\n",
       "      <th>PROFESSIONAL</th>\n",
       "      <td>2908636</td>\n",
       "      <td>34.645835</td>\n",
       "    </tr>\n",
       "    <tr>\n",
       "      <th>CORE_SINGLELANGUAGE</th>\n",
       "      <td>1901213</td>\n",
       "      <td>22.646049</td>\n",
       "    </tr>\n",
       "    <tr>\n",
       "      <th>CORE_COUNTRYSPECIFIC</th>\n",
       "      <td>157846</td>\n",
       "      <td>1.880162</td>\n",
       "    </tr>\n",
       "    <tr>\n",
       "      <th>EDUCATION</th>\n",
       "      <td>34919</td>\n",
       "      <td>0.415933</td>\n",
       "    </tr>\n",
       "    <tr>\n",
       "      <th>ENTERPRISE</th>\n",
       "      <td>34598</td>\n",
       "      <td>0.412110</td>\n",
       "    </tr>\n",
       "    <tr>\n",
       "      <th>PROFESSIONAL_N</th>\n",
       "      <td>26262</td>\n",
       "      <td>0.312816</td>\n",
       "    </tr>\n",
       "    <tr>\n",
       "      <th>ENTERPRISE_S</th>\n",
       "      <td>18543</td>\n",
       "      <td>0.220873</td>\n",
       "    </tr>\n",
       "    <tr>\n",
       "      <th>CLOUD</th>\n",
       "      <td>6161</td>\n",
       "      <td>0.073386</td>\n",
       "    </tr>\n",
       "    <tr>\n",
       "      <th>STANDARD_SERVER</th>\n",
       "      <td>5926</td>\n",
       "      <td>0.070587</td>\n",
       "    </tr>\n",
       "    <tr>\n",
       "      <th>CORE_N</th>\n",
       "      <td>4352</td>\n",
       "      <td>0.051838</td>\n",
       "    </tr>\n",
       "    <tr>\n",
       "      <th>STANDARD_EVALUATION_SERVER</th>\n",
       "      <td>2132</td>\n",
       "      <td>0.025395</td>\n",
       "    </tr>\n",
       "    <tr>\n",
       "      <th>ENTERPRISE_S_N</th>\n",
       "      <td>854</td>\n",
       "      <td>0.010172</td>\n",
       "    </tr>\n",
       "    <tr>\n",
       "      <th>EDUCATION_N</th>\n",
       "      <td>801</td>\n",
       "      <td>0.009541</td>\n",
       "    </tr>\n",
       "    <tr>\n",
       "      <th>DATACENTER_EVALUATION_SERVER</th>\n",
       "      <td>559</td>\n",
       "      <td>0.006658</td>\n",
       "    </tr>\n",
       "    <tr>\n",
       "      <th>SB_SOLUTION_SERVER</th>\n",
       "      <td>474</td>\n",
       "      <td>0.005646</td>\n",
       "    </tr>\n",
       "    <tr>\n",
       "      <th>ENTERPRISE_N</th>\n",
       "      <td>340</td>\n",
       "      <td>0.004050</td>\n",
       "    </tr>\n",
       "    <tr>\n",
       "      <th>PRO_WORKSTATION</th>\n",
       "      <td>99</td>\n",
       "      <td>0.001179</td>\n",
       "    </tr>\n",
       "    <tr>\n",
       "      <th>UNLICENSED</th>\n",
       "      <td>16</td>\n",
       "      <td>0.000191</td>\n",
       "    </tr>\n",
       "    <tr>\n",
       "      <th>DATACENTER_SERVER</th>\n",
       "      <td>12</td>\n",
       "      <td>0.000143</td>\n",
       "    </tr>\n",
       "    <tr>\n",
       "      <th>PRO_WORKSTATION_N</th>\n",
       "      <td>9</td>\n",
       "      <td>0.000107</td>\n",
       "    </tr>\n",
       "    <tr>\n",
       "      <th>CLOUDN</th>\n",
       "      <td>7</td>\n",
       "      <td>0.000083</td>\n",
       "    </tr>\n",
       "    <tr>\n",
       "      <th>PRO_CHINA</th>\n",
       "      <td>5</td>\n",
       "      <td>0.000060</td>\n",
       "    </tr>\n",
       "    <tr>\n",
       "      <th>ULTIMATE</th>\n",
       "      <td>4</td>\n",
       "      <td>0.000048</td>\n",
       "    </tr>\n",
       "    <tr>\n",
       "      <th>SERVERRDSH</th>\n",
       "      <td>4</td>\n",
       "      <td>0.000048</td>\n",
       "    </tr>\n",
       "    <tr>\n",
       "      <th>PRO_FOR_EDUCATION</th>\n",
       "      <td>2</td>\n",
       "      <td>0.000024</td>\n",
       "    </tr>\n",
       "    <tr>\n",
       "      <th>PRO_SINGLE_LANGUAGE</th>\n",
       "      <td>2</td>\n",
       "      <td>0.000024</td>\n",
       "    </tr>\n",
       "    <tr>\n",
       "      <th>ENTERPRISEG</th>\n",
       "      <td>1</td>\n",
       "      <td>0.000012</td>\n",
       "    </tr>\n",
       "    <tr>\n",
       "      <th>STARTER</th>\n",
       "      <td>1</td>\n",
       "      <td>0.000012</td>\n",
       "    </tr>\n",
       "    <tr>\n",
       "      <th>UNDEFINED</th>\n",
       "      <td>1</td>\n",
       "      <td>0.000012</td>\n",
       "    </tr>\n",
       "  </tbody>\n",
       "</table>\n",
       "</div>"
      ],
      "text/plain": [
       "                                Count          %\n",
       "CORE                          3291562  39.207008\n",
       "PROFESSIONAL                  2908636  34.645835\n",
       "CORE_SINGLELANGUAGE           1901213  22.646049\n",
       "CORE_COUNTRYSPECIFIC           157846   1.880162\n",
       "EDUCATION                       34919   0.415933\n",
       "ENTERPRISE                      34598   0.412110\n",
       "PROFESSIONAL_N                  26262   0.312816\n",
       "ENTERPRISE_S                    18543   0.220873\n",
       "CLOUD                            6161   0.073386\n",
       "STANDARD_SERVER                  5926   0.070587\n",
       "CORE_N                           4352   0.051838\n",
       "STANDARD_EVALUATION_SERVER       2132   0.025395\n",
       "ENTERPRISE_S_N                    854   0.010172\n",
       "EDUCATION_N                       801   0.009541\n",
       "DATACENTER_EVALUATION_SERVER      559   0.006658\n",
       "SB_SOLUTION_SERVER                474   0.005646\n",
       "ENTERPRISE_N                      340   0.004050\n",
       "PRO_WORKSTATION                    99   0.001179\n",
       "UNLICENSED                         16   0.000191\n",
       "DATACENTER_SERVER                  12   0.000143\n",
       "PRO_WORKSTATION_N                   9   0.000107\n",
       "CLOUDN                              7   0.000083\n",
       "PRO_CHINA                           5   0.000060\n",
       "ULTIMATE                            4   0.000048\n",
       "SERVERRDSH                          4   0.000048\n",
       "PRO_FOR_EDUCATION                   2   0.000024\n",
       "PRO_SINGLE_LANGUAGE                 2   0.000024\n",
       "ENTERPRISEG                         1   0.000012\n",
       "STARTER                             1   0.000012\n",
       "UNDEFINED                           1   0.000012"
      ]
     },
     "execution_count": 101,
     "metadata": {},
     "output_type": "execute_result"
    }
   ],
   "source": [
    "census_os_sku = pd.concat([clean_df['Census_OSSkuName'].value_counts(),\n",
    "                           clean_df['Census_OSSkuName'].value_counts(normalize=True)*100],\n",
    "                           axis=1)\n",
    "census_os_sku.columns=['Count', '%']\n",
    "census_os_sku.head(30)"
   ]
  },
  {
   "cell_type": "code",
   "execution_count": 102,
   "id": "aa632526",
   "metadata": {
    "scrolled": true
   },
   "outputs": [
    {
     "data": {
      "image/png": "[encoded data removed]",
      "text/plain": [
       "<Figure size 720x432 with 1 Axes>"
      ]
     },
     "metadata": {
      "needs_background": "light"
     },
     "output_type": "display_data"
    }
   ],
   "source": [
    "plt.figure(figsize=(10, 6))\n",
    "sns.countplot(x='Census_OSSkuName',\n",
    "            hue='HasDetections',\n",
    "            data=clean_df,\n",
    "            order = clean_df['Census_OSSkuName'].value_counts().index[:10],\n",
    "            color='blue',\n",
    "            edgecolor=sns.color_palette('dark', 1),\n",
    "            alpha=0.8)\n",
    "plt.legend(loc=1, title='HasDetections')\n",
    "plt.xticks(rotation = 45)\n",
    "plt.tight_layout()"
   ]
  },
  {
   "cell_type": "code",
   "execution_count": 103,
   "id": "cd89b51f",
   "metadata": {},
   "outputs": [
    {
     "data": {
      "text/plain": [
       "CategoricalDtype(categories=['CLOUD', 'CORE', 'CORE_COUNTRYSPECIFIC', 'CORE_N',\n",
       "                  'CORE_SINGLELANGUAGE', 'EDUCATION', 'EDUCATION_N',\n",
       "                  'ENTERPRISE', 'ENTERPRISE_S', 'ENTERPRISE_S_N',\n",
       "                  'PROFESSIONAL', 'PROFESSIONAL_N',\n",
       "                  'STANDARD_EVALUATION_SERVER', 'STANDARD_SERVER',\n",
       "                  'DATACENTER_EVALUATION_SERVER', 'SB_SOLUTION_SERVER',\n",
       "                  'ENTERPRISE_N', 'PRO_WORKSTATION_N', 'PRO_WORKSTATION',\n",
       "                  'UNLICENSED', 'ULTIMATE', 'CLOUDN', 'PRO_CHINA',\n",
       "                  'SERVERRDSH', 'DATACENTER_SERVER', 'ENTERPRISEG', 'STARTER',\n",
       "                  'PRO_FOR_EDUCATION', 'PRO_SINGLE_LANGUAGE', 'UNDEFINED'],\n",
       ", ordered=False)"
      ]
     },
     "execution_count": 103,
     "metadata": {},
     "output_type": "execute_result"
    }
   ],
   "source": [
    "clean_df['Census_OSSkuName'].dtype"
   ]
  },
  {
   "cell_type": "code",
   "execution_count": 104,
   "id": "b6028c5c",
   "metadata": {},
   "outputs": [
    {
     "name": "stderr",
     "output_type": "stream",
     "text": [
      "C:\\Users\\marco\\anaconda3\\envs\\capstone2env\\lib\\site-packages\\pandas\\core\\indexing.py:1720: SettingWithCopyWarning: \n",
      "A value is trying to be set on a copy of a slice from a DataFrame.\n",
      "Try using .loc[row_indexer,col_indexer] = value instead\n",
      "\n",
      "See the caveats in the documentation: https://pandas.pydata.org/pandas-docs/stable/user_guide/indexing.html#returning-a-view-versus-a-copy\n",
      "  self._setitem_single_column(loc, value, pi)\n",
      "C:\\Users\\marco\\anaconda3\\envs\\capstone2env\\lib\\site-packages\\pandas\\core\\arrays\\categorical.py:2487: FutureWarning: The `inplace` parameter in pandas.Categorical.remove_unused_categories is deprecated and will be removed in a future version.\n",
      "  res = method(*args, **kwargs)\n",
      "C:\\Users\\marco\\anaconda3\\envs\\capstone2env\\lib\\site-packages\\pandas\\core\\frame.py:4441: SettingWithCopyWarning: \n",
      "A value is trying to be set on a copy of a slice from a DataFrame\n",
      "\n",
      "See the caveats in the documentation: https://pandas.pydata.org/pandas-docs/stable/user_guide/indexing.html#returning-a-view-versus-a-copy\n",
      "  return super().rename(\n"
     ]
    },
    {
     "data": {
      "text/plain": [
       "CORE                    0.392070\n",
       "PROFESSIONAL            0.346458\n",
       "CORE_SINGLELANGUAGE     0.226460\n",
       "CORE_COUNTRYSPECIFIC    0.018802\n",
       "Other                   0.004801\n",
       "EDUCATION               0.004159\n",
       "ENTERPRISE              0.004121\n",
       "PROFESSIONAL_N          0.003128\n",
       "Name: Census_OSSkuName_encoded, dtype: float64"
      ]
     },
     "execution_count": 104,
     "metadata": {},
     "output_type": "execute_result"
    }
   ],
   "source": [
    "clean_df['Census_OSSkuName'].cat.add_categories('Other', inplace=True)\n",
    "clean_df.loc[(clean_df['Census_OSSkuName'] != 'CORE') & \n",
    "             (clean_df['Census_OSSkuName'] != 'PROFESSIONAL') &\n",
    "             (clean_df['Census_OSSkuName'] != 'CORE_SINGLELANGUAGE') &\n",
    "             (clean_df['Census_OSSkuName'] != 'CORE_COUNTRYSPECIFIC') &\n",
    "             (clean_df['Census_OSSkuName'] != 'EDUCATION') &\n",
    "             (clean_df['Census_OSSkuName'] != 'ENTERPRISE') &\n",
    "             (clean_df['Census_OSSkuName'] != 'PROFESSIONAL_N') &\n",
    "             (clean_df['Census_OSSkuName'] != 'PROFESSIONAL_S'),\n",
    "             'Census_OSSkuName'] = 'Other'\n",
    "clean_df['Census_OSSkuName'].cat.remove_unused_categories(inplace=True)\n",
    "clean_df.rename(columns={'Census_OSSkuName':'Census_OSSkuName_encoded'}, inplace=True)\n",
    "clean_df['Census_OSSkuName_encoded'].value_counts(normalize=True)"
   ]
  },
  {
   "cell_type": "markdown",
   "id": "7a8c831a",
   "metadata": {},
   "source": [
    "**AvSigVersion_extracted**"
   ]
  },
  {
   "cell_type": "code",
   "execution_count": 105,
   "id": "9052707c",
   "metadata": {},
   "outputs": [
    {
     "data": {
      "text/html": [
       "<div>\n",
       "<style scoped>\n",
       "    .dataframe tbody tr th:only-of-type {\n",
       "        vertical-align: middle;\n",
       "    }\n",
       "\n",
       "    .dataframe tbody tr th {\n",
       "        vertical-align: top;\n",
       "    }\n",
       "\n",
       "    .dataframe thead th {\n",
       "        text-align: right;\n",
       "    }\n",
       "</style>\n",
       "<table border=\"1\" class=\"dataframe\">\n",
       "  <thead>\n",
       "    <tr style=\"text-align: right;\">\n",
       "      <th></th>\n",
       "      <th>Count</th>\n",
       "      <th>%</th>\n",
       "    </tr>\n",
       "  </thead>\n",
       "  <tbody>\n",
       "    <tr>\n",
       "      <th>275</th>\n",
       "      <td>3644610</td>\n",
       "      <td>43.412293</td>\n",
       "    </tr>\n",
       "    <tr>\n",
       "      <th>273</th>\n",
       "      <td>3503529</td>\n",
       "      <td>41.731825</td>\n",
       "    </tr>\n",
       "    <tr>\n",
       "      <th>271</th>\n",
       "      <td>260795</td>\n",
       "      <td>3.106425</td>\n",
       "    </tr>\n",
       "    <tr>\n",
       "      <th>269</th>\n",
       "      <td>207924</td>\n",
       "      <td>2.476659</td>\n",
       "    </tr>\n",
       "    <tr>\n",
       "      <th>263</th>\n",
       "      <td>150943</td>\n",
       "      <td>1.797938</td>\n",
       "    </tr>\n",
       "    <tr>\n",
       "      <th>267</th>\n",
       "      <td>134920</td>\n",
       "      <td>1.607082</td>\n",
       "    </tr>\n",
       "    <tr>\n",
       "      <th>251</th>\n",
       "      <td>89405</td>\n",
       "      <td>1.064936</td>\n",
       "    </tr>\n",
       "    <tr>\n",
       "      <th>277</th>\n",
       "      <td>74190</td>\n",
       "      <td>0.883704</td>\n",
       "    </tr>\n",
       "    <tr>\n",
       "      <th>237</th>\n",
       "      <td>67742</td>\n",
       "      <td>0.806900</td>\n",
       "    </tr>\n",
       "    <tr>\n",
       "      <th>261</th>\n",
       "      <td>47542</td>\n",
       "      <td>0.566290</td>\n",
       "    </tr>\n",
       "    <tr>\n",
       "      <th>265</th>\n",
       "      <td>46255</td>\n",
       "      <td>0.550960</td>\n",
       "    </tr>\n",
       "    <tr>\n",
       "      <th>259</th>\n",
       "      <td>35441</td>\n",
       "      <td>0.422151</td>\n",
       "    </tr>\n",
       "    <tr>\n",
       "      <th>257</th>\n",
       "      <td>23626</td>\n",
       "      <td>0.281418</td>\n",
       "    </tr>\n",
       "    <tr>\n",
       "      <th>253</th>\n",
       "      <td>15235</td>\n",
       "      <td>0.181470</td>\n",
       "    </tr>\n",
       "    <tr>\n",
       "      <th>249</th>\n",
       "      <td>14208</td>\n",
       "      <td>0.169237</td>\n",
       "    </tr>\n",
       "    <tr>\n",
       "      <th>247</th>\n",
       "      <td>9497</td>\n",
       "      <td>0.113122</td>\n",
       "    </tr>\n",
       "    <tr>\n",
       "      <th>245</th>\n",
       "      <td>9243</td>\n",
       "      <td>0.110097</td>\n",
       "    </tr>\n",
       "    <tr>\n",
       "      <th>233</th>\n",
       "      <td>9099</td>\n",
       "      <td>0.108382</td>\n",
       "    </tr>\n",
       "    <tr>\n",
       "      <th>235</th>\n",
       "      <td>8621</td>\n",
       "      <td>0.102688</td>\n",
       "    </tr>\n",
       "    <tr>\n",
       "      <th>239</th>\n",
       "      <td>7010</td>\n",
       "      <td>0.083499</td>\n",
       "    </tr>\n",
       "    <tr>\n",
       "      <th>225</th>\n",
       "      <td>5443</td>\n",
       "      <td>0.064834</td>\n",
       "    </tr>\n",
       "    <tr>\n",
       "      <th>255</th>\n",
       "      <td>4917</td>\n",
       "      <td>0.058568</td>\n",
       "    </tr>\n",
       "    <tr>\n",
       "      <th>243</th>\n",
       "      <td>4850</td>\n",
       "      <td>0.057770</td>\n",
       "    </tr>\n",
       "    <tr>\n",
       "      <th>241</th>\n",
       "      <td>4833</td>\n",
       "      <td>0.057568</td>\n",
       "    </tr>\n",
       "    <tr>\n",
       "      <th>231</th>\n",
       "      <td>4559</td>\n",
       "      <td>0.054304</td>\n",
       "    </tr>\n",
       "    <tr>\n",
       "      <th>229</th>\n",
       "      <td>4172</td>\n",
       "      <td>0.049694</td>\n",
       "    </tr>\n",
       "    <tr>\n",
       "      <th>227</th>\n",
       "      <td>3801</td>\n",
       "      <td>0.045275</td>\n",
       "    </tr>\n",
       "    <tr>\n",
       "      <th>223</th>\n",
       "      <td>1813</td>\n",
       "      <td>0.021595</td>\n",
       "    </tr>\n",
       "    <tr>\n",
       "      <th>221</th>\n",
       "      <td>740</td>\n",
       "      <td>0.008814</td>\n",
       "    </tr>\n",
       "    <tr>\n",
       "      <th>199</th>\n",
       "      <td>85</td>\n",
       "      <td>0.001012</td>\n",
       "    </tr>\n",
       "  </tbody>\n",
       "</table>\n",
       "</div>"
      ],
      "text/plain": [
       "       Count          %\n",
       "275  3644610  43.412293\n",
       "273  3503529  41.731825\n",
       "271   260795   3.106425\n",
       "269   207924   2.476659\n",
       "263   150943   1.797938\n",
       "267   134920   1.607082\n",
       "251    89405   1.064936\n",
       "277    74190   0.883704\n",
       "237    67742   0.806900\n",
       "261    47542   0.566290\n",
       "265    46255   0.550960\n",
       "259    35441   0.422151\n",
       "257    23626   0.281418\n",
       "253    15235   0.181470\n",
       "249    14208   0.169237\n",
       "247     9497   0.113122\n",
       "245     9243   0.110097\n",
       "233     9099   0.108382\n",
       "235     8621   0.102688\n",
       "239     7010   0.083499\n",
       "225     5443   0.064834\n",
       "255     4917   0.058568\n",
       "243     4850   0.057770\n",
       "241     4833   0.057568\n",
       "231     4559   0.054304\n",
       "229     4172   0.049694\n",
       "227     3801   0.045275\n",
       "223     1813   0.021595\n",
       "221      740   0.008814\n",
       "199       85   0.001012"
      ]
     },
     "execution_count": 105,
     "metadata": {},
     "output_type": "execute_result"
    }
   ],
   "source": [
    "av_sig_ver = pd.concat([clean_df['AvSigVersion_extracted'].value_counts(),\n",
    "                        clean_df['AvSigVersion_extracted'].value_counts(normalize=True)*100], \n",
    "                        axis=1)\n",
    "av_sig_ver.columns=['Count', '%']\n",
    "av_sig_ver.head(30)"
   ]
  },
  {
   "cell_type": "code",
   "execution_count": 106,
   "id": "38604e01",
   "metadata": {
    "scrolled": true
   },
   "outputs": [
    {
     "data": {
      "image/png": "[encoded data removed]",
      "text/plain": [
       "<Figure size 720x432 with 1 Axes>"
      ]
     },
     "metadata": {
      "needs_background": "light"
     },
     "output_type": "display_data"
    }
   ],
   "source": [
    "plt.figure(figsize=(10, 6))\n",
    "sns.countplot(x='AvSigVersion_extracted',\n",
    "            hue='HasDetections',\n",
    "            data=clean_df,\n",
    "            order = clean_df['AvSigVersion_extracted'].value_counts().index[:15],\n",
    "            color='blue',\n",
    "            edgecolor=sns.color_palette('dark', 1),\n",
    "            alpha=0.8)\n",
    "plt.legend(loc=1, title='HasDetections')\n",
    "plt.xticks(rotation = 45)\n",
    "plt.tight_layout()"
   ]
  },
  {
   "cell_type": "code",
   "execution_count": 107,
   "id": "33966c4c",
   "metadata": {},
   "outputs": [
    {
     "data": {
      "text/plain": [
       "CategoricalDtype(categories=['0', '155', '167', '169', '177', '187', '189', '193', '195',\n",
       "                  '197', '199', '2&#x17;3', '201', '203', '205', '207', '209',\n",
       "                  '211', '213', '215', '217', '219', '221', '223', '225',\n",
       "                  '227', '229', '231', '233', '235', '237', '239', '241',\n",
       "                  '243', '245', '247', '249', '251', '253', '255', '257',\n",
       "                  '259', '261', '263', '265', '267', '269', '271', '273',\n",
       "                  '275', '277'],\n",
       ", ordered=False)"
      ]
     },
     "execution_count": 107,
     "metadata": {},
     "output_type": "execute_result"
    }
   ],
   "source": [
    "clean_df['AvSigVersion_extracted'].dtype"
   ]
  },
  {
   "cell_type": "code",
   "execution_count": 108,
   "id": "12d0f44b",
   "metadata": {},
   "outputs": [
    {
     "name": "stderr",
     "output_type": "stream",
     "text": [
      "<ipython-input-108-e7dd5aa7d65b>:1: SettingWithCopyWarning: \n",
      "A value is trying to be set on a copy of a slice from a DataFrame.\n",
      "Try using .loc[row_indexer,col_indexer] = value instead\n",
      "\n",
      "See the caveats in the documentation: https://pandas.pydata.org/pandas-docs/stable/user_guide/indexing.html#returning-a-view-versus-a-copy\n",
      "  clean_df['AvSigVersion_extracted'] = clean_df['AvSigVersion_extracted'].astype('category')\n",
      "C:\\Users\\marco\\anaconda3\\envs\\capstone2env\\lib\\site-packages\\pandas\\core\\indexing.py:1720: SettingWithCopyWarning: \n",
      "A value is trying to be set on a copy of a slice from a DataFrame.\n",
      "Try using .loc[row_indexer,col_indexer] = value instead\n",
      "\n",
      "See the caveats in the documentation: https://pandas.pydata.org/pandas-docs/stable/user_guide/indexing.html#returning-a-view-versus-a-copy\n",
      "  self._setitem_single_column(loc, value, pi)\n",
      "C:\\Users\\marco\\anaconda3\\envs\\capstone2env\\lib\\site-packages\\pandas\\core\\arrays\\categorical.py:2487: FutureWarning: The `inplace` parameter in pandas.Categorical.remove_unused_categories is deprecated and will be removed in a future version.\n",
      "  res = method(*args, **kwargs)\n",
      "C:\\Users\\marco\\anaconda3\\envs\\capstone2env\\lib\\site-packages\\pandas\\core\\frame.py:4441: SettingWithCopyWarning: \n",
      "A value is trying to be set on a copy of a slice from a DataFrame\n",
      "\n",
      "See the caveats in the documentation: https://pandas.pydata.org/pandas-docs/stable/user_guide/indexing.html#returning-a-view-versus-a-copy\n",
      "  return super().rename(\n"
     ]
    },
    {
     "data": {
      "text/plain": [
       "275      0.434123\n",
       "273      0.417318\n",
       "Other    0.148559\n",
       "Name: AvSigVersion_encoded, dtype: float64"
      ]
     },
     "execution_count": 108,
     "metadata": {},
     "output_type": "execute_result"
    }
   ],
   "source": [
    "clean_df['AvSigVersion_extracted'] = clean_df['AvSigVersion_extracted'].astype('category')\n",
    "clean_df['AvSigVersion_extracted'].cat.add_categories('Other', inplace=True)\n",
    "clean_df.loc[(clean_df['AvSigVersion_extracted'] != '275') & \n",
    "             (clean_df['AvSigVersion_extracted'] != '273'),\n",
    "             'AvSigVersion_extracted'] = 'Other'\n",
    "clean_df['AvSigVersion_extracted'].cat.remove_unused_categories(inplace=True)\n",
    "clean_df.rename(columns={'AvSigVersion_extracted':'AvSigVersion_encoded'}, inplace=True)\n",
    "clean_df['AvSigVersion_encoded'].value_counts(normalize=True)"
   ]
  },
  {
   "cell_type": "markdown",
   "id": "c72db5bf",
   "metadata": {},
   "source": [
    "**AppVersion_extracted**"
   ]
  },
  {
   "cell_type": "code",
   "execution_count": 109,
   "id": "c7b976f8",
   "metadata": {
    "scrolled": true
   },
   "outputs": [
    {
     "data": {
      "text/html": [
       "<div>\n",
       "<style scoped>\n",
       "    .dataframe tbody tr th:only-of-type {\n",
       "        vertical-align: middle;\n",
       "    }\n",
       "\n",
       "    .dataframe tbody tr th {\n",
       "        vertical-align: top;\n",
       "    }\n",
       "\n",
       "    .dataframe thead th {\n",
       "        text-align: right;\n",
       "    }\n",
       "</style>\n",
       "<table border=\"1\" class=\"dataframe\">\n",
       "  <thead>\n",
       "    <tr style=\"text-align: right;\">\n",
       "      <th></th>\n",
       "      <th>Count</th>\n",
       "      <th>%</th>\n",
       "    </tr>\n",
       "  </thead>\n",
       "  <tbody>\n",
       "    <tr>\n",
       "      <th>18</th>\n",
       "      <td>5596116</td>\n",
       "      <td>66.657400</td>\n",
       "    </tr>\n",
       "    <tr>\n",
       "      <th>12</th>\n",
       "      <td>530454</td>\n",
       "      <td>6.318433</td>\n",
       "    </tr>\n",
       "    <tr>\n",
       "      <th>13</th>\n",
       "      <td>482944</td>\n",
       "      <td>5.752524</td>\n",
       "    </tr>\n",
       "    <tr>\n",
       "      <th>10</th>\n",
       "      <td>444870</td>\n",
       "      <td>5.299010</td>\n",
       "    </tr>\n",
       "    <tr>\n",
       "      <th>9</th>\n",
       "      <td>407054</td>\n",
       "      <td>4.848570</td>\n",
       "    </tr>\n",
       "    <tr>\n",
       "      <th>8</th>\n",
       "      <td>269650</td>\n",
       "      <td>3.211901</td>\n",
       "    </tr>\n",
       "    <tr>\n",
       "      <th>14</th>\n",
       "      <td>237892</td>\n",
       "      <td>2.833619</td>\n",
       "    </tr>\n",
       "    <tr>\n",
       "      <th>16</th>\n",
       "      <td>224987</td>\n",
       "      <td>2.679903</td>\n",
       "    </tr>\n",
       "    <tr>\n",
       "      <th>11</th>\n",
       "      <td>196540</td>\n",
       "      <td>2.341060</td>\n",
       "    </tr>\n",
       "    <tr>\n",
       "      <th>5</th>\n",
       "      <td>2205</td>\n",
       "      <td>0.026265</td>\n",
       "    </tr>\n",
       "    <tr>\n",
       "      <th>6</th>\n",
       "      <td>812</td>\n",
       "      <td>0.009672</td>\n",
       "    </tr>\n",
       "    <tr>\n",
       "      <th>7</th>\n",
       "      <td>667</td>\n",
       "      <td>0.007945</td>\n",
       "    </tr>\n",
       "    <tr>\n",
       "      <th>4</th>\n",
       "      <td>606</td>\n",
       "      <td>0.007218</td>\n",
       "    </tr>\n",
       "    <tr>\n",
       "      <th>17</th>\n",
       "      <td>449</td>\n",
       "      <td>0.005348</td>\n",
       "    </tr>\n",
       "    <tr>\n",
       "      <th>15</th>\n",
       "      <td>95</td>\n",
       "      <td>0.001132</td>\n",
       "    </tr>\n",
       "  </tbody>\n",
       "</table>\n",
       "</div>"
      ],
      "text/plain": [
       "      Count          %\n",
       "18  5596116  66.657400\n",
       "12   530454   6.318433\n",
       "13   482944   5.752524\n",
       "10   444870   5.299010\n",
       "9    407054   4.848570\n",
       "8    269650   3.211901\n",
       "14   237892   2.833619\n",
       "16   224987   2.679903\n",
       "11   196540   2.341060\n",
       "5      2205   0.026265\n",
       "6       812   0.009672\n",
       "7       667   0.007945\n",
       "4       606   0.007218\n",
       "17      449   0.005348\n",
       "15       95   0.001132"
      ]
     },
     "execution_count": 109,
     "metadata": {},
     "output_type": "execute_result"
    }
   ],
   "source": [
    "app_ver = pd.concat([clean_df['AppVersion_extracted'].value_counts(),\n",
    "                        clean_df['AppVersion_extracted'].value_counts(normalize=True)*100], \n",
    "                        axis=1)\n",
    "app_ver.columns=['Count', '%']\n",
    "app_ver.head(30)"
   ]
  },
  {
   "cell_type": "code",
   "execution_count": 110,
   "id": "89c2924a",
   "metadata": {
    "scrolled": true
   },
   "outputs": [
    {
     "data": {
      "image/png": "[encoded data removed]",
      "text/plain": [
       "<Figure size 720x432 with 1 Axes>"
      ]
     },
     "metadata": {
      "needs_background": "light"
     },
     "output_type": "display_data"
    }
   ],
   "source": [
    "plt.figure(figsize=(10, 6))\n",
    "sns.countplot(x='AppVersion_extracted',\n",
    "            hue='HasDetections',\n",
    "            data=clean_df,\n",
    "            order = clean_df['AppVersion_extracted'].value_counts().index[:15],\n",
    "            color='blue',\n",
    "            edgecolor=sns.color_palette('dark', 1),\n",
    "            alpha=0.8)\n",
    "plt.legend(loc=1, title='HasDetections')\n",
    "plt.tight_layout()"
   ]
  },
  {
   "cell_type": "code",
   "execution_count": 111,
   "id": "ac55daa3",
   "metadata": {},
   "outputs": [
    {
     "data": {
      "text/plain": [
       "CategoricalDtype(categories=['10', '11', '12', '13', '14', '15', '16', '17', '18', '4',\n",
       "                  '5', '6', '7', '8', '9'],\n",
       ", ordered=False)"
      ]
     },
     "execution_count": 111,
     "metadata": {},
     "output_type": "execute_result"
    }
   ],
   "source": [
    "clean_df['AppVersion_extracted'].dtype"
   ]
  },
  {
   "cell_type": "code",
   "execution_count": 112,
   "id": "f091529e",
   "metadata": {
    "scrolled": true
   },
   "outputs": [
    {
     "name": "stderr",
     "output_type": "stream",
     "text": [
      "C:\\Users\\marco\\anaconda3\\envs\\capstone2env\\lib\\site-packages\\pandas\\core\\indexing.py:1720: SettingWithCopyWarning: \n",
      "A value is trying to be set on a copy of a slice from a DataFrame.\n",
      "Try using .loc[row_indexer,col_indexer] = value instead\n",
      "\n",
      "See the caveats in the documentation: https://pandas.pydata.org/pandas-docs/stable/user_guide/indexing.html#returning-a-view-versus-a-copy\n",
      "  self._setitem_single_column(loc, value, pi)\n",
      "C:\\Users\\marco\\anaconda3\\envs\\capstone2env\\lib\\site-packages\\pandas\\core\\arrays\\categorical.py:2487: FutureWarning: The `inplace` parameter in pandas.Categorical.remove_unused_categories is deprecated and will be removed in a future version.\n",
      "  res = method(*args, **kwargs)\n",
      "C:\\Users\\marco\\anaconda3\\envs\\capstone2env\\lib\\site-packages\\pandas\\core\\frame.py:4441: SettingWithCopyWarning: \n",
      "A value is trying to be set on a copy of a slice from a DataFrame\n",
      "\n",
      "See the caveats in the documentation: https://pandas.pydata.org/pandas-docs/stable/user_guide/indexing.html#returning-a-view-versus-a-copy\n",
      "  return super().rename(\n"
     ]
    },
    {
     "data": {
      "text/plain": [
       "18       0.666574\n",
       "12       0.063184\n",
       "13       0.057525\n",
       "10       0.052990\n",
       "9        0.048486\n",
       "8        0.032119\n",
       "14       0.028336\n",
       "16       0.026799\n",
       "11       0.023411\n",
       "Other    0.000576\n",
       "Name: AppVersion_encoded, dtype: float64"
      ]
     },
     "execution_count": 112,
     "metadata": {},
     "output_type": "execute_result"
    }
   ],
   "source": [
    "clean_df['AppVersion_extracted'].cat.add_categories('Other', inplace=True)\n",
    "clean_df.loc[(clean_df['AppVersion_extracted'] != '18') &\n",
    "             (clean_df['AppVersion_extracted'] != '12') &\n",
    "             (clean_df['AppVersion_extracted'] != '13') &\n",
    "             (clean_df['AppVersion_extracted'] != '10') &\n",
    "             (clean_df['AppVersion_extracted'] != '9') &\n",
    "             (clean_df['AppVersion_extracted'] != '8') &\n",
    "             (clean_df['AppVersion_extracted'] != '14') &\n",
    "             (clean_df['AppVersion_extracted'] != '16') &\n",
    "             (clean_df['AppVersion_extracted'] != '11'),\n",
    "             'AppVersion_extracted'] = 'Other'\n",
    "clean_df['AppVersion_extracted'].cat.remove_unused_categories(inplace=True)\n",
    "clean_df.rename(columns={'AppVersion_extracted':'AppVersion_encoded'}, inplace=True)\n",
    "clean_df['AppVersion_encoded'].value_counts(normalize=True)"
   ]
  },
  {
   "cell_type": "markdown",
   "id": "811882f9",
   "metadata": {},
   "source": [
    "**EngineVersion_extracted**"
   ]
  },
  {
   "cell_type": "code",
   "execution_count": 113,
   "id": "c6770d72",
   "metadata": {},
   "outputs": [
    {
     "data": {
      "text/html": [
       "<div>\n",
       "<style scoped>\n",
       "    .dataframe tbody tr th:only-of-type {\n",
       "        vertical-align: middle;\n",
       "    }\n",
       "\n",
       "    .dataframe tbody tr th {\n",
       "        vertical-align: top;\n",
       "    }\n",
       "\n",
       "    .dataframe thead th {\n",
       "        text-align: right;\n",
       "    }\n",
       "</style>\n",
       "<table border=\"1\" class=\"dataframe\">\n",
       "  <thead>\n",
       "    <tr style=\"text-align: right;\">\n",
       "      <th></th>\n",
       "      <th>Count</th>\n",
       "      <th>%</th>\n",
       "    </tr>\n",
       "  </thead>\n",
       "  <tbody>\n",
       "    <tr>\n",
       "      <th>15200</th>\n",
       "      <td>3594108</td>\n",
       "      <td>42.810745</td>\n",
       "    </tr>\n",
       "    <tr>\n",
       "      <th>15100</th>\n",
       "      <td>3459372</td>\n",
       "      <td>41.205855</td>\n",
       "    </tr>\n",
       "    <tr>\n",
       "      <th>15000</th>\n",
       "      <td>259252</td>\n",
       "      <td>3.088046</td>\n",
       "    </tr>\n",
       "    <tr>\n",
       "      <th>14901</th>\n",
       "      <td>207487</td>\n",
       "      <td>2.471454</td>\n",
       "    </tr>\n",
       "    <tr>\n",
       "      <th>15300</th>\n",
       "      <td>173486</td>\n",
       "      <td>2.066456</td>\n",
       "    </tr>\n",
       "    <tr>\n",
       "      <th>14600</th>\n",
       "      <td>150874</td>\n",
       "      <td>1.797116</td>\n",
       "    </tr>\n",
       "    <tr>\n",
       "      <th>14800</th>\n",
       "      <td>133541</td>\n",
       "      <td>1.590656</td>\n",
       "    </tr>\n",
       "    <tr>\n",
       "      <th>14104</th>\n",
       "      <td>89155</td>\n",
       "      <td>1.061958</td>\n",
       "    </tr>\n",
       "    <tr>\n",
       "      <th>13504</th>\n",
       "      <td>67757</td>\n",
       "      <td>0.807079</td>\n",
       "    </tr>\n",
       "    <tr>\n",
       "      <th>14700</th>\n",
       "      <td>47909</td>\n",
       "      <td>0.570662</td>\n",
       "    </tr>\n",
       "    <tr>\n",
       "      <th>14500</th>\n",
       "      <td>44948</td>\n",
       "      <td>0.535392</td>\n",
       "    </tr>\n",
       "    <tr>\n",
       "      <th>14405</th>\n",
       "      <td>35395</td>\n",
       "      <td>0.421603</td>\n",
       "    </tr>\n",
       "    <tr>\n",
       "      <th>14306</th>\n",
       "      <td>23455</td>\n",
       "      <td>0.279381</td>\n",
       "    </tr>\n",
       "    <tr>\n",
       "      <th>14202</th>\n",
       "      <td>15081</td>\n",
       "      <td>0.179635</td>\n",
       "    </tr>\n",
       "    <tr>\n",
       "      <th>14003</th>\n",
       "      <td>13930</td>\n",
       "      <td>0.165925</td>\n",
       "    </tr>\n",
       "    <tr>\n",
       "      <th>13903</th>\n",
       "      <td>9397</td>\n",
       "      <td>0.111931</td>\n",
       "    </tr>\n",
       "    <tr>\n",
       "      <th>13804</th>\n",
       "      <td>9171</td>\n",
       "      <td>0.109239</td>\n",
       "    </tr>\n",
       "    <tr>\n",
       "      <th>13303</th>\n",
       "      <td>9076</td>\n",
       "      <td>0.108108</td>\n",
       "    </tr>\n",
       "    <tr>\n",
       "      <th>13407</th>\n",
       "      <td>8597</td>\n",
       "      <td>0.102402</td>\n",
       "    </tr>\n",
       "    <tr>\n",
       "      <th>13601</th>\n",
       "      <td>6997</td>\n",
       "      <td>0.083344</td>\n",
       "    </tr>\n",
       "    <tr>\n",
       "      <th>12902</th>\n",
       "      <td>5254</td>\n",
       "      <td>0.062582</td>\n",
       "    </tr>\n",
       "    <tr>\n",
       "      <th>14305</th>\n",
       "      <td>4981</td>\n",
       "      <td>0.059331</td>\n",
       "    </tr>\n",
       "    <tr>\n",
       "      <th>13701</th>\n",
       "      <td>4863</td>\n",
       "      <td>0.057925</td>\n",
       "    </tr>\n",
       "    <tr>\n",
       "      <th>13704</th>\n",
       "      <td>4784</td>\n",
       "      <td>0.056984</td>\n",
       "    </tr>\n",
       "    <tr>\n",
       "      <th>13202</th>\n",
       "      <td>4562</td>\n",
       "      <td>0.054340</td>\n",
       "    </tr>\n",
       "    <tr>\n",
       "      <th>13103</th>\n",
       "      <td>4336</td>\n",
       "      <td>0.051648</td>\n",
       "    </tr>\n",
       "    <tr>\n",
       "      <th>13000</th>\n",
       "      <td>3996</td>\n",
       "      <td>0.047598</td>\n",
       "    </tr>\n",
       "    <tr>\n",
       "      <th>12805</th>\n",
       "      <td>2359</td>\n",
       "      <td>0.028099</td>\n",
       "    </tr>\n",
       "    <tr>\n",
       "      <th>14303</th>\n",
       "      <td>255</td>\n",
       "      <td>0.003037</td>\n",
       "    </tr>\n",
       "    <tr>\n",
       "      <th>14201</th>\n",
       "      <td>213</td>\n",
       "      <td>0.002537</td>\n",
       "    </tr>\n",
       "  </tbody>\n",
       "</table>\n",
       "</div>"
      ],
      "text/plain": [
       "         Count          %\n",
       "15200  3594108  42.810745\n",
       "15100  3459372  41.205855\n",
       "15000   259252   3.088046\n",
       "14901   207487   2.471454\n",
       "15300   173486   2.066456\n",
       "14600   150874   1.797116\n",
       "14800   133541   1.590656\n",
       "14104    89155   1.061958\n",
       "13504    67757   0.807079\n",
       "14700    47909   0.570662\n",
       "14500    44948   0.535392\n",
       "14405    35395   0.421603\n",
       "14306    23455   0.279381\n",
       "14202    15081   0.179635\n",
       "14003    13930   0.165925\n",
       "13903     9397   0.111931\n",
       "13804     9171   0.109239\n",
       "13303     9076   0.108108\n",
       "13407     8597   0.102402\n",
       "13601     6997   0.083344\n",
       "12902     5254   0.062582\n",
       "14305     4981   0.059331\n",
       "13701     4863   0.057925\n",
       "13704     4784   0.056984\n",
       "13202     4562   0.054340\n",
       "13103     4336   0.051648\n",
       "13000     3996   0.047598\n",
       "12805     2359   0.028099\n",
       "14303      255   0.003037\n",
       "14201      213   0.002537"
      ]
     },
     "execution_count": 113,
     "metadata": {},
     "output_type": "execute_result"
    }
   ],
   "source": [
    "eng_ver = pd.concat([clean_df['EngineVersion_extracted'].value_counts(),\n",
    "                        clean_df['EngineVersion_extracted'].value_counts(normalize=True)*100], \n",
    "                        axis=1)\n",
    "eng_ver.columns=['Count', '%']\n",
    "eng_ver.head(30)"
   ]
  },
  {
   "cell_type": "code",
   "execution_count": 114,
   "id": "8884809f",
   "metadata": {},
   "outputs": [
    {
     "data": {
      "image/png": "[encoded data removed]",
      "text/plain": [
       "<Figure size 720x432 with 1 Axes>"
      ]
     },
     "metadata": {
      "needs_background": "light"
     },
     "output_type": "display_data"
    }
   ],
   "source": [
    "plt.figure(figsize=(10, 6))\n",
    "sns.countplot(x='EngineVersion_extracted',\n",
    "            hue='HasDetections',\n",
    "            data=clean_df,\n",
    "            order = clean_df['EngineVersion_extracted'].value_counts().index[:15],\n",
    "            color='blue',\n",
    "            edgecolor=sns.color_palette('dark', 1),\n",
    "            alpha=0.8)\n",
    "plt.legend(loc=1, title='HasDetections')\n",
    "plt.xticks(rotation = 45)\n",
    "plt.tight_layout()"
   ]
  },
  {
   "cell_type": "code",
   "execution_count": 115,
   "id": "2f8b24d0",
   "metadata": {},
   "outputs": [
    {
     "data": {
      "text/plain": [
       "CategoricalDtype(categories=['10302', '10401', '10701', '11104', '11202', '11400',\n",
       "                  '11502', '11602', '11701', '11804', '11903', '12002',\n",
       "                  '12101', '12205', '12300', '12400', '12505', '12603',\n",
       "                  '12706', '12802', '12804', '12805', '12902', '13000',\n",
       "                  '13102', '13103', '13202', '13301', '13303', '13406',\n",
       "                  '13407', '13503', '13504', '13601', '13701', '13704',\n",
       "                  '13802', '13803', '13804', '13902', '13903', '14001',\n",
       "                  '14002', '14003', '14102', '14103', '14104', '14201',\n",
       "                  '14202', '14303', '14305', '14306', '14405', '14500',\n",
       "                  '14600', '14700', '14800', '14901', '15000', '15100',\n",
       "                  '15200', '15300', '9700'],\n",
       ", ordered=False)"
      ]
     },
     "execution_count": 115,
     "metadata": {},
     "output_type": "execute_result"
    }
   ],
   "source": [
    "clean_df['EngineVersion_extracted'].dtype"
   ]
  },
  {
   "cell_type": "code",
   "execution_count": 116,
   "id": "c369ea80",
   "metadata": {},
   "outputs": [
    {
     "name": "stderr",
     "output_type": "stream",
     "text": [
      "C:\\Users\\marco\\anaconda3\\envs\\capstone2env\\lib\\site-packages\\pandas\\core\\indexing.py:1720: SettingWithCopyWarning: \n",
      "A value is trying to be set on a copy of a slice from a DataFrame.\n",
      "Try using .loc[row_indexer,col_indexer] = value instead\n",
      "\n",
      "See the caveats in the documentation: https://pandas.pydata.org/pandas-docs/stable/user_guide/indexing.html#returning-a-view-versus-a-copy\n",
      "  self._setitem_single_column(loc, value, pi)\n",
      "C:\\Users\\marco\\anaconda3\\envs\\capstone2env\\lib\\site-packages\\pandas\\core\\arrays\\categorical.py:2487: FutureWarning: The `inplace` parameter in pandas.Categorical.remove_unused_categories is deprecated and will be removed in a future version.\n",
      "  res = method(*args, **kwargs)\n",
      "C:\\Users\\marco\\anaconda3\\envs\\capstone2env\\lib\\site-packages\\pandas\\core\\frame.py:4441: SettingWithCopyWarning: \n",
      "A value is trying to be set on a copy of a slice from a DataFrame\n",
      "\n",
      "See the caveats in the documentation: https://pandas.pydata.org/pandas-docs/stable/user_guide/indexing.html#returning-a-view-versus-a-copy\n",
      "  return super().rename(\n"
     ]
    },
    {
     "data": {
      "text/plain": [
       "15200    0.428107\n",
       "15100    0.412059\n",
       "Other    0.031006\n",
       "15000    0.030880\n",
       "14901    0.024715\n",
       "15300    0.020665\n",
       "14600    0.017971\n",
       "14800    0.015907\n",
       "14104    0.010620\n",
       "13504    0.008071\n",
       "Name: EngineVersion_encoded, dtype: float64"
      ]
     },
     "execution_count": 116,
     "metadata": {},
     "output_type": "execute_result"
    }
   ],
   "source": [
    "clean_df['EngineVersion_extracted'].cat.add_categories('Other', inplace=True)\n",
    "clean_df.loc[(clean_df['EngineVersion_extracted'] != '15200') &\n",
    "             (clean_df['EngineVersion_extracted'] != '15100') &\n",
    "             (clean_df['EngineVersion_extracted'] != '15000') &\n",
    "             (clean_df['EngineVersion_extracted'] != '14901') &\n",
    "             (clean_df['EngineVersion_extracted'] != '15300') &\n",
    "             (clean_df['EngineVersion_extracted'] != '14600') &\n",
    "             (clean_df['EngineVersion_extracted'] != '14800') &\n",
    "             (clean_df['EngineVersion_extracted'] != '14104') &\n",
    "             (clean_df['EngineVersion_extracted'] != '13504'),\n",
    "             'EngineVersion_extracted'] = 'Other'\n",
    "clean_df['EngineVersion_extracted'].cat.remove_unused_categories(inplace=True)\n",
    "clean_df.rename(columns={'EngineVersion_extracted':'EngineVersion_encoded'}, inplace=True)\n",
    "clean_df['EngineVersion_encoded'].value_counts(normalize=True)"
   ]
  },
  {
   "cell_type": "markdown",
   "id": "1f7d0064",
   "metadata": {},
   "source": [
    "**'Census_OSBranch_release_extracted'**"
   ]
  },
  {
   "cell_type": "code",
   "execution_count": 117,
   "id": "8d59d9f1",
   "metadata": {},
   "outputs": [
    {
     "data": {
      "text/html": [
       "<div>\n",
       "<style scoped>\n",
       "    .dataframe tbody tr th:only-of-type {\n",
       "        vertical-align: middle;\n",
       "    }\n",
       "\n",
       "    .dataframe tbody tr th {\n",
       "        vertical-align: top;\n",
       "    }\n",
       "\n",
       "    .dataframe thead th {\n",
       "        text-align: right;\n",
       "    }\n",
       "</style>\n",
       "<table border=\"1\" class=\"dataframe\">\n",
       "  <thead>\n",
       "    <tr style=\"text-align: right;\">\n",
       "      <th></th>\n",
       "      <th>Count</th>\n",
       "      <th>%</th>\n",
       "    </tr>\n",
       "  </thead>\n",
       "  <tbody>\n",
       "    <tr>\n",
       "      <th>rs4_release</th>\n",
       "      <td>3586669</td>\n",
       "      <td>42.722243</td>\n",
       "    </tr>\n",
       "    <tr>\n",
       "      <th>rs3_release_svc_escrow</th>\n",
       "      <td>1197560</td>\n",
       "      <td>14.264614</td>\n",
       "    </tr>\n",
       "    <tr>\n",
       "      <th>rs3_release</th>\n",
       "      <td>1141444</td>\n",
       "      <td>13.596194</td>\n",
       "    </tr>\n",
       "    <tr>\n",
       "      <th>rs2_release</th>\n",
       "      <td>748195</td>\n",
       "      <td>8.912049</td>\n",
       "    </tr>\n",
       "    <tr>\n",
       "      <th>rs1_release</th>\n",
       "      <td>518263</td>\n",
       "      <td>6.173237</td>\n",
       "    </tr>\n",
       "    <tr>\n",
       "      <th>th2_release_sec</th>\n",
       "      <td>273155</td>\n",
       "      <td>3.253658</td>\n",
       "    </tr>\n",
       "    <tr>\n",
       "      <th>th1</th>\n",
       "      <td>246384</td>\n",
       "      <td>2.934778</td>\n",
       "    </tr>\n",
       "    <tr>\n",
       "      <th>winblue_ltsb_escrow</th>\n",
       "      <td>132992</td>\n",
       "      <td>1.584121</td>\n",
       "    </tr>\n",
       "    <tr>\n",
       "      <th>th2_release</th>\n",
       "      <td>124050</td>\n",
       "      <td>1.477609</td>\n",
       "    </tr>\n",
       "    <tr>\n",
       "      <th>rs1_release_inmarket</th>\n",
       "      <td>103812</td>\n",
       "      <td>1.236546</td>\n",
       "    </tr>\n",
       "    <tr>\n",
       "      <th>winblue_ltsb</th>\n",
       "      <td>54459</td>\n",
       "      <td>0.648683</td>\n",
       "    </tr>\n",
       "    <tr>\n",
       "      <th>win7sp1_ldr</th>\n",
       "      <td>49781</td>\n",
       "      <td>0.592961</td>\n",
       "    </tr>\n",
       "    <tr>\n",
       "      <th>rs3_release_svc</th>\n",
       "      <td>45964</td>\n",
       "      <td>0.547496</td>\n",
       "    </tr>\n",
       "    <tr>\n",
       "      <th>rs1_release_1</th>\n",
       "      <td>40158</td>\n",
       "      <td>0.478338</td>\n",
       "    </tr>\n",
       "    <tr>\n",
       "      <th>win7sp1_ldr_escrow</th>\n",
       "      <td>38860</td>\n",
       "      <td>0.462877</td>\n",
       "    </tr>\n",
       "    <tr>\n",
       "      <th>rs1_release_sec</th>\n",
       "      <td>36231</td>\n",
       "      <td>0.431562</td>\n",
       "    </tr>\n",
       "    <tr>\n",
       "      <th>th1_st1</th>\n",
       "      <td>17337</td>\n",
       "      <td>0.206508</td>\n",
       "    </tr>\n",
       "    <tr>\n",
       "      <th>rs5_release</th>\n",
       "      <td>12587</td>\n",
       "      <td>0.149929</td>\n",
       "    </tr>\n",
       "    <tr>\n",
       "      <th>rs3_release_svc_escrow_im</th>\n",
       "      <td>5981</td>\n",
       "      <td>0.071242</td>\n",
       "    </tr>\n",
       "    <tr>\n",
       "      <th>rs1_release_inmarket_aim</th>\n",
       "      <td>5761</td>\n",
       "      <td>0.068622</td>\n",
       "    </tr>\n",
       "    <tr>\n",
       "      <th>th2_release_inmarket</th>\n",
       "      <td>4495</td>\n",
       "      <td>0.053542</td>\n",
       "    </tr>\n",
       "    <tr>\n",
       "      <th>rs_prerelease</th>\n",
       "      <td>2823</td>\n",
       "      <td>0.033626</td>\n",
       "    </tr>\n",
       "    <tr>\n",
       "      <th>rs_prerelease_flt</th>\n",
       "      <td>2476</td>\n",
       "      <td>0.029493</td>\n",
       "    </tr>\n",
       "    <tr>\n",
       "      <th>win7sp1_gdr</th>\n",
       "      <td>2277</td>\n",
       "      <td>0.027122</td>\n",
       "    </tr>\n",
       "    <tr>\n",
       "      <th>winblue_gdr</th>\n",
       "      <td>840</td>\n",
       "      <td>0.010006</td>\n",
       "    </tr>\n",
       "    <tr>\n",
       "      <th>th1_escrow</th>\n",
       "      <td>486</td>\n",
       "      <td>0.005789</td>\n",
       "    </tr>\n",
       "    <tr>\n",
       "      <th>win7_gdr</th>\n",
       "      <td>413</td>\n",
       "      <td>0.004919</td>\n",
       "    </tr>\n",
       "    <tr>\n",
       "      <th>winblue_r4</th>\n",
       "      <td>352</td>\n",
       "      <td>0.004193</td>\n",
       "    </tr>\n",
       "    <tr>\n",
       "      <th>rs1_release_inmarket_rim</th>\n",
       "      <td>272</td>\n",
       "      <td>0.003240</td>\n",
       "    </tr>\n",
       "    <tr>\n",
       "      <th>rs1_release_d</th>\n",
       "      <td>210</td>\n",
       "      <td>0.002501</td>\n",
       "    </tr>\n",
       "  </tbody>\n",
       "</table>\n",
       "</div>"
      ],
      "text/plain": [
       "                             Count          %\n",
       "rs4_release                3586669  42.722243\n",
       "rs3_release_svc_escrow     1197560  14.264614\n",
       "rs3_release                1141444  13.596194\n",
       "rs2_release                 748195   8.912049\n",
       "rs1_release                 518263   6.173237\n",
       "th2_release_sec             273155   3.253658\n",
       "th1                         246384   2.934778\n",
       "winblue_ltsb_escrow         132992   1.584121\n",
       "th2_release                 124050   1.477609\n",
       "rs1_release_inmarket        103812   1.236546\n",
       "winblue_ltsb                 54459   0.648683\n",
       "win7sp1_ldr                  49781   0.592961\n",
       "rs3_release_svc              45964   0.547496\n",
       "rs1_release_1                40158   0.478338\n",
       "win7sp1_ldr_escrow           38860   0.462877\n",
       "rs1_release_sec              36231   0.431562\n",
       "th1_st1                      17337   0.206508\n",
       "rs5_release                  12587   0.149929\n",
       "rs3_release_svc_escrow_im     5981   0.071242\n",
       "rs1_release_inmarket_aim      5761   0.068622\n",
       "th2_release_inmarket          4495   0.053542\n",
       "rs_prerelease                 2823   0.033626\n",
       "rs_prerelease_flt             2476   0.029493\n",
       "win7sp1_gdr                   2277   0.027122\n",
       "winblue_gdr                    840   0.010006\n",
       "th1_escrow                     486   0.005789\n",
       "win7_gdr                       413   0.004919\n",
       "winblue_r4                     352   0.004193\n",
       "rs1_release_inmarket_rim       272   0.003240\n",
       "rs1_release_d                  210   0.002501"
      ]
     },
     "execution_count": 117,
     "metadata": {},
     "output_type": "execute_result"
    }
   ],
   "source": [
    "census_os_release = pd.concat([clean_df['Census_OSBranch_release_extracted'].value_counts(),\n",
    "                               clean_df['Census_OSBranch_release_extracted'].value_counts(normalize=True)*100],\n",
    "                               axis=1)\n",
    "census_os_release.columns=['Count', '%']\n",
    "census_os_release.head(30)"
   ]
  },
  {
   "cell_type": "code",
   "execution_count": 118,
   "id": "bf80668f",
   "metadata": {},
   "outputs": [
    {
     "name": "stderr",
     "output_type": "stream",
     "text": [
      "<ipython-input-118-6e6645e0377f>:1: SettingWithCopyWarning: \n",
      "A value is trying to be set on a copy of a slice from a DataFrame.\n",
      "Try using .loc[row_indexer,col_indexer] = value instead\n",
      "\n",
      "See the caveats in the documentation: https://pandas.pydata.org/pandas-docs/stable/user_guide/indexing.html#returning-a-view-versus-a-copy\n",
      "  clean_df['Census_OSBranch_release_extracted'] = clean_df['Census_OSBranch_release_extracted'].astype('object')\n",
      "C:\\Users\\marco\\anaconda3\\envs\\capstone2env\\lib\\site-packages\\pandas\\core\\indexing.py:1720: SettingWithCopyWarning: \n",
      "A value is trying to be set on a copy of a slice from a DataFrame.\n",
      "Try using .loc[row_indexer,col_indexer] = value instead\n",
      "\n",
      "See the caveats in the documentation: https://pandas.pydata.org/pandas-docs/stable/user_guide/indexing.html#returning-a-view-versus-a-copy\n",
      "  self._setitem_single_column(loc, value, pi)\n"
     ]
    },
    {
     "data": {
      "text/plain": [
       "rs4_release                  4.272224e-01\n",
       "rs3_release                  2.847956e-01\n",
       "rs2_release                  8.912049e-02\n",
       "rs1_release                  8.394046e-02\n",
       "th                           7.931883e-02\n",
       "win                          3.346567e-02\n",
       "rs5_release                  1.504648e-03\n",
       "rs_prerelease                6.311850e-04\n",
       "rs_onecore_stack_per1        1.191140e-07\n",
       "rs_onecore_base_cobalt       1.191140e-07\n",
       "rs_xbox                      1.191140e-07\n",
       "rs_shell                     1.191140e-07\n",
       "rs6_prerelease               1.191140e-07\n",
       "rs_onecore_sigma_grfx_dev    1.191140e-07\n",
       "Name: Census_OSBranch_release_extracted, dtype: float64"
      ]
     },
     "execution_count": 118,
     "metadata": {},
     "output_type": "execute_result"
    }
   ],
   "source": [
    "clean_df['Census_OSBranch_release_extracted'] = clean_df['Census_OSBranch_release_extracted'].astype('object')\n",
    "clean_df.loc[clean_df['Census_OSBranch_release_extracted'].str.contains('rs1', na=False, regex=False), 'Census_OSBranch_release_extracted'] = 'rs1_release'\n",
    "clean_df.loc[clean_df['Census_OSBranch_release_extracted'].str.contains('rs2', na=False, regex=False), 'Census_OSBranch_release_extracted'] = 'rs2_release'\n",
    "clean_df.loc[clean_df['Census_OSBranch_release_extracted'].str.contains('rs3', na=False, regex=False), 'Census_OSBranch_release_extracted'] = 'rs3_release'\n",
    "clean_df.loc[clean_df['Census_OSBranch_release_extracted'].str.contains('rs4', na=False, regex=False), 'Census_OSBranch_release_extracted'] = 'rs4_release'\n",
    "clean_df.loc[clean_df['Census_OSBranch_release_extracted'].str.contains('rs5', na=False, regex=False), 'Census_OSBranch_release_extracted'] = 'rs5_release'\n",
    "clean_df.loc[clean_df['Census_OSBranch_release_extracted'].str.contains('win', na=False, regex=False), 'Census_OSBranch_release_extracted'] = 'win'\n",
    "clean_df.loc[clean_df['Census_OSBranch_release_extracted'].str.contains('th2', na=False, regex=False), 'Census_OSBranch_release_extracted'] = 'th'\n",
    "clean_df.loc[clean_df['Census_OSBranch_release_extracted'].str.contains('th1', na=False, regex=False), 'Census_OSBranch_release_extracted'] = 'th'\n",
    "clean_df.loc[clean_df['Census_OSBranch_release_extracted'].str.contains('rs_pre', na=False, regex=False), 'Census_OSBranch_release_extracted'] = 'rs_prerelease'\n",
    "\n",
    "clean_df['Census_OSBranch_release_extracted'].value_counts(normalize=True)"
   ]
  },
  {
   "cell_type": "code",
   "execution_count": 120,
   "id": "31777c60",
   "metadata": {
    "scrolled": true
   },
   "outputs": [
    {
     "name": "stderr",
     "output_type": "stream",
     "text": [
      "C:\\Users\\marco\\anaconda3\\envs\\capstone2env\\lib\\site-packages\\pandas\\core\\frame.py:4441: SettingWithCopyWarning: \n",
      "A value is trying to be set on a copy of a slice from a DataFrame\n",
      "\n",
      "See the caveats in the documentation: https://pandas.pydata.org/pandas-docs/stable/user_guide/indexing.html#returning-a-view-versus-a-copy\n",
      "  return super().rename(\n",
      "<ipython-input-120-0ca451e48ca6>:10: SettingWithCopyWarning: \n",
      "A value is trying to be set on a copy of a slice from a DataFrame.\n",
      "Try using .loc[row_indexer,col_indexer] = value instead\n",
      "\n",
      "See the caveats in the documentation: https://pandas.pydata.org/pandas-docs/stable/user_guide/indexing.html#returning-a-view-versus-a-copy\n",
      "  clean_df['Census_OSBranch_release_encoded'] = clean_df['Census_OSBranch_release_encoded'].astype('category')\n"
     ]
    },
    {
     "data": {
      "text/plain": [
       "rs4_release    0.427221\n",
       "rs3_release    0.284795\n",
       "rs2_release    0.089120\n",
       "rs1_release    0.083940\n",
       "th             0.079319\n",
       "Other          0.035605\n",
       "Name: Census_OSBranch_release_encoded, dtype: float64"
      ]
     },
     "execution_count": 120,
     "metadata": {},
     "output_type": "execute_result"
    }
   ],
   "source": [
    "other_os_branch = ~clean_df['Census_OSBranch_release_extracted'].isin(['rs4_release',\n",
    "                                                                       'rs3_release',\n",
    "                                                                       'rs2_release',\n",
    "                                                                       'rs1_release',\n",
    "                                                                       'th'\n",
    "                                                                       ])\n",
    "clean_df.loc[other_os_branch, 'Census_OSBranch_release_extracted'] = 'Other'\n",
    "clean_df.rename(columns={'Census_OSBranch_release_extracted':'Census_OSBranch_release_encoded'}, inplace=True)\n",
    "\n",
    "clean_df['Census_OSBranch_release_encoded'] = clean_df['Census_OSBranch_release_encoded'].astype('category')\n",
    "clean_df['Census_OSBranch_release_encoded'].value_counts(normalize=True)"
   ]
  },
  {
   "cell_type": "code",
   "execution_count": 121,
   "id": "95a2b4b6",
   "metadata": {},
   "outputs": [
    {
     "data": {
      "text/plain": [
       "CategoricalDtype(categories=['Other', 'rs1_release', 'rs2_release', 'rs3_release',\n",
       "                  'rs4_release', 'th'],\n",
       ", ordered=False)"
      ]
     },
     "execution_count": 121,
     "metadata": {},
     "output_type": "execute_result"
    }
   ],
   "source": [
    "clean_df['Census_OSBranch_release_encoded'].dtype"
   ]
  },
  {
   "cell_type": "markdown",
   "id": "6dcfc107",
   "metadata": {},
   "source": [
    "**Relationship with target variable**"
   ]
  },
  {
   "cell_type": "code",
   "execution_count": 128,
   "id": "12c1c31f",
   "metadata": {},
   "outputs": [
    {
     "data": {
      "text/plain": [
       "(33, 17, 15, 7)"
      ]
     },
     "execution_count": 128,
     "metadata": {},
     "output_type": "execute_result"
    }
   ],
   "source": [
    "target_enc_col = mean_encoding_list\n",
    "cat_col = [col for col in clean_df.select_dtypes('category').columns.tolist() \n",
    "           if col not in target_enc_col]\n",
    "binary_col = clean_df.select_dtypes('Int64').columns.tolist()\n",
    "num_col = [col for col in clean_df.columns \n",
    "           if col not in cat_col\n",
    "           if col not in target_enc_col\n",
    "           if col not in binary_col]\n",
    "\n",
    "len(cat_col), len(target_enc_col), len(binary_col), len(num_col) "
   ]
  },
  {
   "cell_type": "code",
   "execution_count": 129,
   "id": "35514ac5",
   "metadata": {},
   "outputs": [
    {
     "data": {
      "text/plain": [
       "72"
      ]
     },
     "execution_count": 129,
     "metadata": {},
     "output_type": "execute_result"
    }
   ],
   "source": [
    "len(cat_col) + len(target_enc_col) + len(binary_col) + len(num_col)"
   ]
  },
  {
   "cell_type": "markdown",
   "id": "bd27c313",
   "metadata": {},
   "source": [
    "le = preprocessing.LabelEncoder()\n",
    "chi2_df = clean_df[cat_col + ['HasDetections']].astype('str').dropna().copy()\n",
    "chi2s = []\n",
    "pvals = []\n",
    "chi2s_cont = []\n",
    "pvals_cont = []\n",
    "\n",
    "for col in chi2_df.columns:\n",
    "    chi2_df[col] = le.fit_transform(chi2_df[col])\n",
    "    chi2_stat, p_val = chi2(chi2_df[col].values.reshape(-1, 1), chi2_df['HasDetections'])\n",
    "    print(chi2_stat[0], p_val[0])\n",
    "    chi2s.append(chi2_stat[0])\n",
    "    pvals.append(p_val[0])\n",
    "    \n",
    "    contingency = pd.crosstab(chi2_df[col], chi2_df['HasDetections'])\n",
    "    chi2_cont, pval_cont, dof, exp = chi2_contingency(contingency)\n",
    "    chi2s_cont.append(chi2_cont)\n",
    "    pvals_cont.append(pval_cont)    \n",
    "    print(chi2, pval)\n",
    "    "
   ]
  },
  {
   "cell_type": "markdown",
   "id": "250eface",
   "metadata": {
    "scrolled": true
   },
   "source": [
    "chi2_results = pd.DataFrame({'Chi2':chi2s, 'p-value':pvals}, index=chi2_df.columns)\n",
    "chi2_results.drop('HasDetections').sort_values('Chi2', ascending=False)"
   ]
  },
  {
   "cell_type": "code",
   "execution_count": 131,
   "id": "64155cb3",
   "metadata": {},
   "outputs": [],
   "source": [
    "# use contingency as seen in the last row of this notebook"
   ]
  },
  {
   "cell_type": "markdown",
   "id": "68868625",
   "metadata": {},
   "source": [
    "chi2s_cont = []\n",
    "pvals_cont = []\n",
    "\n",
    "for col in chi2_df.columns:\n",
    "    contingency = pd.crosstab(clean_df[col], clean_df['HasDetections'])\n",
    "    chi2, pval, dof, exp = chi2_contingency(contingency)\n",
    "    chi2s_cont.append(chi2)\n",
    "    pvals_cont.append(pval)    "
   ]
  },
  {
   "cell_type": "markdown",
   "id": "c36a3665",
   "metadata": {},
   "source": [
    "chi2_cont_results = pd.DataFrame({'Chi2':chi2s_cont, 'p-value':pvals_cont}, index=chi2_df.columns)\n",
    "chi2_cont_results.drop('HasDetections').sort_values('Chi2', ascending=False)"
   ]
  },
  {
   "cell_type": "code",
   "execution_count": 135,
   "id": "1b535f00",
   "metadata": {},
   "outputs": [
    {
     "data": {
      "text/plain": [
       "['AVProductStatesIdentifier',\n",
       " 'CountryIdentifier',\n",
       " 'CityIdentifier',\n",
       " 'OrganizationIdentifier',\n",
       " 'GeoNameIdentifier',\n",
       " 'LocaleEnglishNameIdentifier',\n",
       " 'IeVerIdentifier',\n",
       " 'Census_OEMNameIdentifier',\n",
       " 'Census_OEMModelIdentifier',\n",
       " 'Census_ProcessorManufacturerIdentifier',\n",
       " 'Census_ProcessorModelIdentifier',\n",
       " 'Census_OSInstallLanguageIdentifier',\n",
       " 'Census_OSUILocaleIdentifier',\n",
       " 'Census_FirmwareManufacturerIdentifier',\n",
       " 'Census_FirmwareVersionIdentifier',\n",
       " 'Wdft_RegionIdentifier',\n",
       " 'Census_OSBuildRevision']"
      ]
     },
     "execution_count": 135,
     "metadata": {},
     "output_type": "execute_result"
    }
   ],
   "source": [
    "mean_encoding_list"
   ]
  },
  {
   "cell_type": "code",
   "execution_count": null,
   "id": "d1bcd89e",
   "metadata": {},
   "outputs": [],
   "source": []
  },
  {
   "cell_type": "code",
   "execution_count": null,
   "id": "c03cb536",
   "metadata": {},
   "outputs": [],
   "source": []
  },
  {
   "cell_type": "code",
   "execution_count": null,
   "id": "4bcde375",
   "metadata": {},
   "outputs": [],
   "source": []
  },
  {
   "cell_type": "code",
   "execution_count": null,
   "id": "245bfb25",
   "metadata": {},
   "outputs": [],
   "source": []
  },
  {
   "cell_type": "code",
   "execution_count": null,
   "id": "0d924d83",
   "metadata": {},
   "outputs": [],
   "source": []
  },
  {
   "cell_type": "markdown",
   "id": "4fdfd40d",
   "metadata": {},
   "source": [
    "## Summary"
   ]
  },
  {
   "cell_type": "code",
   "execution_count": 133,
   "id": "d58c6b81",
   "metadata": {},
   "outputs": [
    {
     "name": "stdout",
     "output_type": "stream",
     "text": [
      "<class 'pandas.core.frame.DataFrame'>\n",
      "Int64Index: 8395341 entries, 0 to 8921482\n",
      "Data columns (total 72 columns):\n",
      " #   Column                                             Dtype   \n",
      "---  ------                                             -----   \n",
      " 0   ProductName                                        category\n",
      " 1   RtpStateBitfield                                   category\n",
      " 2   IsSxsPassiveMode                                   Int64   \n",
      " 3   AVProductStatesIdentifier                          category\n",
      " 4   AVProductsInstalled                                category\n",
      " 5   AVProductsEnabled                                  category\n",
      " 6   HasTpm                                             Int64   \n",
      " 7   CountryIdentifier                                  category\n",
      " 8   CityIdentifier                                     category\n",
      " 9   OrganizationIdentifier                             category\n",
      " 10  GeoNameIdentifier                                  category\n",
      " 11  LocaleEnglishNameIdentifier                        category\n",
      " 12  Platform                                           category\n",
      " 13  Processor                                          category\n",
      " 14  OsBuild_encoded                                    category\n",
      " 15  OsSuite_encoded                                    category\n",
      " 16  OsPlatformSubRelease                               category\n",
      " 17  SkuEdition                                         category\n",
      " 18  AutoSampleOptIn                                    Int64   \n",
      " 19  SMode                                              Int64   \n",
      " 20  IeVerIdentifier                                    category\n",
      " 21  SmartScreen_encoded                                category\n",
      " 22  Firewall                                           Int64   \n",
      " 23  UacLuaenable_encoded                               category\n",
      " 24  Census_MDC2FormFactor_encoded                      category\n",
      " 25  Census_DeviceFamily                                category\n",
      " 26  Census_OEMNameIdentifier                           category\n",
      " 27  Census_OEMModelIdentifier                          category\n",
      " 28  Census_ProcessorCoreCount                          float32 \n",
      " 29  Census_ProcessorManufacturerIdentifier             category\n",
      " 30  Census_ProcessorModelIdentifier                    category\n",
      " 31  Census_PrimaryDiskTotalCapacity                    float32 \n",
      " 32  Census_PrimaryDiskTypeName                         category\n",
      " 33  Census_SystemVolumeTotalCapacity                   float32 \n",
      " 34  Census_HasOpticalDiskDrive                         Int64   \n",
      " 35  Census_TotalPhysicalRAM                            float32 \n",
      " 36  Census_ChassisTypeName_encoded                     category\n",
      " 37  Census_InternalPrimaryDiagonalDisplaySizeInInches  float32 \n",
      " 38  Census_InternalPrimaryDisplayResolutionHorizontal  float32 \n",
      " 39  Census_InternalPrimaryDisplayResolutionVertical    float32 \n",
      " 40  Census_PowerPlatformRoleName                       category\n",
      " 41  Census_InternalBatteryNumberOfCharges              category\n",
      " 42  Census_OSArchitecture                              category\n",
      " 43  Census_OSBuildRevision                             category\n",
      " 44  Census_OSEdition_encoded                           category\n",
      " 45  Census_OSSkuName_encoded                           category\n",
      " 46  Census_OSInstallTypeName                           category\n",
      " 47  Census_OSInstallLanguageIdentifier                 category\n",
      " 48  Census_OSUILocaleIdentifier                        category\n",
      " 49  Census_OSWUAutoUpdateOptionsName                   category\n",
      " 50  Census_IsPortableOperatingSystem                   Int64   \n",
      " 51  Census_GenuineStateName                            category\n",
      " 52  Census_ActivationChannel                           category\n",
      " 53  Census_IsFlightsDisabled                           Int64   \n",
      " 54  Census_FlightRing                                  category\n",
      " 55  Census_FirmwareManufacturerIdentifier              category\n",
      " 56  Census_FirmwareVersionIdentifier                   category\n",
      " 57  Census_IsSecureBootEnabled                         Int64   \n",
      " 58  Census_IsVirtualDevice                             Int64   \n",
      " 59  Census_IsTouchEnabled                              Int64   \n",
      " 60  Census_IsPenCapable                                Int64   \n",
      " 61  Census_IsAlwaysOnAlwaysConnectedCapable            Int64   \n",
      " 62  Wdft_IsGamer                                       Int64   \n",
      " 63  Wdft_RegionIdentifier                              category\n",
      " 64  HasDetections                                      Int64   \n",
      " 65  AvSigVersion_encoded                               category\n",
      " 66  AppVersion_encoded                                 category\n",
      " 67  EngineVersion_encoded                              category\n",
      " 68  OsVer_encoded                                      category\n",
      " 69  Census_OSBranch_release_encoded                    category\n",
      " 70  IsProtected_encoded                                category\n",
      " 71  RAM_bins                                           category\n",
      "dtypes: Int64(15), category(50), float32(7)\n",
      "memory usage: 1.9 GB\n"
     ]
    }
   ],
   "source": [
    "clean_df.info()"
   ]
  },
  {
   "cell_type": "code",
   "execution_count": 134,
   "id": "8fae8f1f",
   "metadata": {},
   "outputs": [],
   "source": [
    "clean_df.to_pickle('../data/interim/train_clean_roll_up.pickle')"
   ]
  },
  {
   "cell_type": "code",
   "execution_count": null,
   "id": "c7d5e9ea",
   "metadata": {},
   "outputs": [],
   "source": []
  }
 ],
 "metadata": {
  "kernelspec": {
   "display_name": "Python 3",
   "language": "python",
   "name": "python3"
  },
  "language_info": {
   "codemirror_mode": {
    "name": "ipython",
    "version": 3
   },
   "file_extension": ".py",
   "mimetype": "text/x-python",
   "name": "python",
   "nbconvert_exporter": "python",
   "pygments_lexer": "ipython3",
   "version": "3.9.2"
  }
 },
 "nbformat": 4,
 "nbformat_minor": 5
}
